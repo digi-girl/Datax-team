{
 "cells": [
  {
   "cell_type": "code",
   "execution_count": 101,
   "metadata": {
    "id": "X9r8ukQE0zOE"
   },
   "outputs": [],
   "source": [
    "# importer les packages\n",
    "import pandas as pd\n",
    "import numpy as np\n",
    "import matplotlib.pyplot as plt\n",
    "import seaborn as sns\n",
    "from sklearn.preprocessing import LabelEncoder\n",
    "from sklearn.model_selection import StratifiedShuffleSplit\n",
    "from sklearn.linear_model import LogisticRegression\n",
    "from sklearn.neighbors import KNeighborsClassifier\n",
    "from sklearn.tree import DecisionTreeClassifier\n",
    "from sklearn.metrics import accuracy_score\n",
    "import pickle\n",
    "import seaborn as sns\n",
    "import plotly.graph_objects as go\n",
    "import plotly.express as px\n",
    "import plotly.offline as py\n",
    "import gc\n",
    "import warnings\n",
    "warnings.filterwarnings(\"ignore\")"
   ]
  },
  {
   "cell_type": "code",
   "execution_count": 102,
   "metadata": {
    "id": "0YgsjRYTL2PI"
   },
   "outputs": [],
   "source": [
    "df1=pd.read_excel(\"working_hours_lost_covid.xlsx\",skiprows=5)"
   ]
  },
  {
   "cell_type": "code",
   "execution_count": 103,
   "metadata": {
    "colab": {
     "base_uri": "https://localhost:8080/",
     "height": 417
    },
    "id": "OjO98EwGMWrj",
    "outputId": "7952ef65-bb69-4707-834d-d7f7b389100d"
   },
   "outputs": [
    {
     "data": {
      "text/html": [
       "<div>\n",
       "<style scoped>\n",
       "    .dataframe tbody tr th:only-of-type {\n",
       "        vertical-align: middle;\n",
       "    }\n",
       "\n",
       "    .dataframe tbody tr th {\n",
       "        vertical-align: top;\n",
       "    }\n",
       "\n",
       "    .dataframe thead th {\n",
       "        text-align: right;\n",
       "    }\n",
       "</style>\n",
       "<table border=\"1\" class=\"dataframe\">\n",
       "  <thead>\n",
       "    <tr style=\"text-align: right;\">\n",
       "      <th></th>\n",
       "      <th>Reference area</th>\n",
       "      <th>Source</th>\n",
       "      <th>Time</th>\n",
       "      <th>Value</th>\n",
       "      <th>Unnamed: 4</th>\n",
       "    </tr>\n",
       "  </thead>\n",
       "  <tbody>\n",
       "    <tr>\n",
       "      <th>0</th>\n",
       "      <td>World</td>\n",
       "      <td>ILO - ILO Modelled Estimates</td>\n",
       "      <td>2020</td>\n",
       "      <td>8.9</td>\n",
       "      <td>NaN</td>\n",
       "    </tr>\n",
       "    <tr>\n",
       "      <th>1</th>\n",
       "      <td>World</td>\n",
       "      <td>ILO - ILO Modelled Estimates</td>\n",
       "      <td>2021</td>\n",
       "      <td>4.3</td>\n",
       "      <td>NaN</td>\n",
       "    </tr>\n",
       "    <tr>\n",
       "      <th>2</th>\n",
       "      <td>World: Low income</td>\n",
       "      <td>ILO - ILO Modelled Estimates</td>\n",
       "      <td>2020</td>\n",
       "      <td>6.7</td>\n",
       "      <td>NaN</td>\n",
       "    </tr>\n",
       "    <tr>\n",
       "      <th>3</th>\n",
       "      <td>World: Low income</td>\n",
       "      <td>ILO - ILO Modelled Estimates</td>\n",
       "      <td>2021</td>\n",
       "      <td>4.9</td>\n",
       "      <td>NaN</td>\n",
       "    </tr>\n",
       "    <tr>\n",
       "      <th>4</th>\n",
       "      <td>World: Lower-middle income</td>\n",
       "      <td>ILO - ILO Modelled Estimates</td>\n",
       "      <td>2020</td>\n",
       "      <td>11.8</td>\n",
       "      <td>NaN</td>\n",
       "    </tr>\n",
       "    <tr>\n",
       "      <th>...</th>\n",
       "      <td>...</td>\n",
       "      <td>...</td>\n",
       "      <td>...</td>\n",
       "      <td>...</td>\n",
       "      <td>...</td>\n",
       "    </tr>\n",
       "    <tr>\n",
       "      <th>561</th>\n",
       "      <td>Yemen</td>\n",
       "      <td>ILO - ILO Modelled Estimates</td>\n",
       "      <td>2021</td>\n",
       "      <td>2.9</td>\n",
       "      <td>NaN</td>\n",
       "    </tr>\n",
       "    <tr>\n",
       "      <th>562</th>\n",
       "      <td>Zambia</td>\n",
       "      <td>ILO - ILO Modelled Estimates</td>\n",
       "      <td>2020</td>\n",
       "      <td>3.4</td>\n",
       "      <td>NaN</td>\n",
       "    </tr>\n",
       "    <tr>\n",
       "      <th>563</th>\n",
       "      <td>Zambia</td>\n",
       "      <td>ILO - ILO Modelled Estimates</td>\n",
       "      <td>2021</td>\n",
       "      <td>4.9</td>\n",
       "      <td>NaN</td>\n",
       "    </tr>\n",
       "    <tr>\n",
       "      <th>564</th>\n",
       "      <td>Zimbabwe</td>\n",
       "      <td>ILO - ILO Modelled Estimates</td>\n",
       "      <td>2020</td>\n",
       "      <td>9.2</td>\n",
       "      <td>NaN</td>\n",
       "    </tr>\n",
       "    <tr>\n",
       "      <th>565</th>\n",
       "      <td>Zimbabwe</td>\n",
       "      <td>ILO - ILO Modelled Estimates</td>\n",
       "      <td>2021</td>\n",
       "      <td>6.3</td>\n",
       "      <td>NaN</td>\n",
       "    </tr>\n",
       "  </tbody>\n",
       "</table>\n",
       "<p>566 rows × 5 columns</p>\n",
       "</div>"
      ],
      "text/plain": [
       "                 Reference area                        Source  Time  Value  \\\n",
       "0                         World  ILO - ILO Modelled Estimates  2020    8.9   \n",
       "1                         World  ILO - ILO Modelled Estimates  2021    4.3   \n",
       "2             World: Low income  ILO - ILO Modelled Estimates  2020    6.7   \n",
       "3             World: Low income  ILO - ILO Modelled Estimates  2021    4.9   \n",
       "4    World: Lower-middle income  ILO - ILO Modelled Estimates  2020   11.8   \n",
       "..                          ...                           ...   ...    ...   \n",
       "561                       Yemen  ILO - ILO Modelled Estimates  2021    2.9   \n",
       "562                      Zambia  ILO - ILO Modelled Estimates  2020    3.4   \n",
       "563                      Zambia  ILO - ILO Modelled Estimates  2021    4.9   \n",
       "564                    Zimbabwe  ILO - ILO Modelled Estimates  2020    9.2   \n",
       "565                    Zimbabwe  ILO - ILO Modelled Estimates  2021    6.3   \n",
       "\n",
       "     Unnamed: 4  \n",
       "0           NaN  \n",
       "1           NaN  \n",
       "2           NaN  \n",
       "3           NaN  \n",
       "4           NaN  \n",
       "..          ...  \n",
       "561         NaN  \n",
       "562         NaN  \n",
       "563         NaN  \n",
       "564         NaN  \n",
       "565         NaN  \n",
       "\n",
       "[566 rows x 5 columns]"
      ]
     },
     "execution_count": 103,
     "metadata": {},
     "output_type": "execute_result"
    }
   ],
   "source": [
    "df1"
   ]
  },
  {
   "cell_type": "code",
   "execution_count": 104,
   "metadata": {
    "id": "s3816SgSMYsN"
   },
   "outputs": [],
   "source": [
    "df1=df1.drop(\"Unnamed: 4\",axis=1)"
   ]
  },
  {
   "cell_type": "code",
   "execution_count": 105,
   "metadata": {
    "colab": {
     "base_uri": "https://localhost:8080/"
    },
    "id": "et8cjuQYMhlJ",
    "outputId": "9de4e5e9-caaf-4cbd-958d-ead3de18c1f4"
   },
   "outputs": [
    {
     "data": {
      "text/plain": [
       "Reference area    0\n",
       "Source            0\n",
       "Time              0\n",
       "Value             0\n",
       "dtype: int64"
      ]
     },
     "execution_count": 105,
     "metadata": {},
     "output_type": "execute_result"
    }
   ],
   "source": [
    "df1.isnull().sum()"
   ]
  },
  {
   "cell_type": "code",
   "execution_count": 106,
   "metadata": {
    "id": "Y8RX9nYGMrGk"
   },
   "outputs": [],
   "source": [
    "num_features=df1.select_dtypes(include=['int64','float64']).columns\n",
    "cat_features=df1.select_dtypes(include='object').columns"
   ]
  },
  {
   "cell_type": "code",
   "execution_count": 107,
   "metadata": {
    "colab": {
     "base_uri": "https://localhost:8080/"
    },
    "id": "5L-jXCbiNAtz",
    "outputId": "de47e669-1b49-4ec7-cdf8-72eab0b5ffda"
   },
   "outputs": [
    {
     "data": {
      "text/plain": [
       "Index(['Reference area', 'Source'], dtype='object')"
      ]
     },
     "execution_count": 107,
     "metadata": {},
     "output_type": "execute_result"
    }
   ],
   "source": [
    "cat_features"
   ]
  },
  {
   "cell_type": "code",
   "execution_count": 108,
   "metadata": {
    "id": "7xnfib3bNB80"
   },
   "outputs": [],
   "source": [
    "df1=df1.drop(\"Source\",axis=1)"
   ]
  },
  {
   "cell_type": "raw",
   "metadata": {
    "colab": {
     "base_uri": "https://localhost:8080/",
     "height": 1000
    },
    "id": "w420KK_7NKsd",
    "outputId": "7a25c612-5a37-44f7-d0ba-b93ccdc31bd0"
   },
   "source": [
    "for country in df1['Reference area'].unique():\n",
    "     df1[df1['Reference area']==country].sort_values('Time').plot.line(x='Time',\n",
    "                                                              y='Value',\n",
    "                                                              title=country)"
   ]
  },
  {
   "cell_type": "code",
   "execution_count": 109,
   "metadata": {},
   "outputs": [
    {
     "data": {
      "application/vnd.plotly.v1+json": {
       "config": {
        "plotlyServerURL": "https://plot.ly"
       },
       "data": [
        {
         "alignmentgroup": "True",
         "customdata": [
          [
           "World"
          ],
          [
           "World"
          ]
         ],
         "hovertemplate": "Reference area=%{customdata[0]}<br>Time=%{x}<br>Value=%{y}<extra></extra>",
         "legendgroup": "World",
         "marker": {
          "color": "#636efa",
          "pattern": {
           "shape": ""
          }
         },
         "name": "World",
         "offsetgroup": "World",
         "orientation": "v",
         "showlegend": true,
         "textposition": "auto",
         "type": "bar",
         "x": [
          2020,
          2021
         ],
         "xaxis": "x",
         "y": [
          8.9,
          4.3
         ],
         "yaxis": "y"
        },
        {
         "alignmentgroup": "True",
         "customdata": [
          [
           "World: Low income"
          ],
          [
           "World: Low income"
          ]
         ],
         "hovertemplate": "Reference area=%{customdata[0]}<br>Time=%{x}<br>Value=%{y}<extra></extra>",
         "legendgroup": "World: Low income",
         "marker": {
          "color": "#EF553B",
          "pattern": {
           "shape": ""
          }
         },
         "name": "World: Low income",
         "offsetgroup": "World: Low income",
         "orientation": "v",
         "showlegend": true,
         "textposition": "auto",
         "type": "bar",
         "x": [
          2020,
          2021
         ],
         "xaxis": "x",
         "y": [
          6.7,
          4.9
         ],
         "yaxis": "y"
        },
        {
         "alignmentgroup": "True",
         "customdata": [
          [
           "World: Lower-middle income"
          ],
          [
           "World: Lower-middle income"
          ]
         ],
         "hovertemplate": "Reference area=%{customdata[0]}<br>Time=%{x}<br>Value=%{y}<extra></extra>",
         "legendgroup": "World: Lower-middle income",
         "marker": {
          "color": "#00cc96",
          "pattern": {
           "shape": ""
          }
         },
         "name": "World: Lower-middle income",
         "offsetgroup": "World: Lower-middle income",
         "orientation": "v",
         "showlegend": true,
         "textposition": "auto",
         "type": "bar",
         "x": [
          2020,
          2021
         ],
         "xaxis": "x",
         "y": [
          11.8,
          6.8
         ],
         "yaxis": "y"
        },
        {
         "alignmentgroup": "True",
         "customdata": [
          [
           "World: Upper-middle income"
          ],
          [
           "World: Upper-middle income"
          ]
         ],
         "hovertemplate": "Reference area=%{customdata[0]}<br>Time=%{x}<br>Value=%{y}<extra></extra>",
         "legendgroup": "World: Upper-middle income",
         "marker": {
          "color": "#ab63fa",
          "pattern": {
           "shape": ""
          }
         },
         "name": "World: Upper-middle income",
         "offsetgroup": "World: Upper-middle income",
         "orientation": "v",
         "showlegend": true,
         "textposition": "auto",
         "type": "bar",
         "x": [
          2020,
          2021
         ],
         "xaxis": "x",
         "y": [
          7.2,
          2.2
         ],
         "yaxis": "y"
        },
        {
         "alignmentgroup": "True",
         "customdata": [
          [
           "World: High income"
          ],
          [
           "World: High income"
          ]
         ],
         "hovertemplate": "Reference area=%{customdata[0]}<br>Time=%{x}<br>Value=%{y}<extra></extra>",
         "legendgroup": "World: High income",
         "marker": {
          "color": "#FFA15A",
          "pattern": {
           "shape": ""
          }
         },
         "name": "World: High income",
         "offsetgroup": "World: High income",
         "orientation": "v",
         "showlegend": true,
         "textposition": "auto",
         "type": "bar",
         "x": [
          2020,
          2021
         ],
         "xaxis": "x",
         "y": [
          7.9,
          3.9
         ],
         "yaxis": "y"
        },
        {
         "alignmentgroup": "True",
         "customdata": [
          [
           "Africa"
          ],
          [
           "Africa"
          ]
         ],
         "hovertemplate": "Reference area=%{customdata[0]}<br>Time=%{x}<br>Value=%{y}<extra></extra>",
         "legendgroup": "Africa",
         "marker": {
          "color": "#19d3f3",
          "pattern": {
           "shape": ""
          }
         },
         "name": "Africa",
         "offsetgroup": "Africa",
         "orientation": "v",
         "showlegend": true,
         "textposition": "auto",
         "type": "bar",
         "x": [
          2020,
          2021
         ],
         "xaxis": "x",
         "y": [
          7.7,
          5.2
         ],
         "yaxis": "y"
        },
        {
         "alignmentgroup": "True",
         "customdata": [
          [
           "Africa: Low income"
          ],
          [
           "Africa: Low income"
          ]
         ],
         "hovertemplate": "Reference area=%{customdata[0]}<br>Time=%{x}<br>Value=%{y}<extra></extra>",
         "legendgroup": "Africa: Low income",
         "marker": {
          "color": "#FF6692",
          "pattern": {
           "shape": ""
          }
         },
         "name": "Africa: Low income",
         "offsetgroup": "Africa: Low income",
         "orientation": "v",
         "showlegend": true,
         "textposition": "auto",
         "type": "bar",
         "x": [
          2020,
          2021
         ],
         "xaxis": "x",
         "y": [
          6.8,
          5.1
         ],
         "yaxis": "y"
        },
        {
         "alignmentgroup": "True",
         "customdata": [
          [
           "Africa: Lower-middle income"
          ],
          [
           "Africa: Lower-middle income"
          ]
         ],
         "hovertemplate": "Reference area=%{customdata[0]}<br>Time=%{x}<br>Value=%{y}<extra></extra>",
         "legendgroup": "Africa: Lower-middle income",
         "marker": {
          "color": "#B6E880",
          "pattern": {
           "shape": ""
          }
         },
         "name": "Africa: Lower-middle income",
         "offsetgroup": "Africa: Lower-middle income",
         "orientation": "v",
         "showlegend": true,
         "textposition": "auto",
         "type": "bar",
         "x": [
          2020,
          2021
         ],
         "xaxis": "x",
         "y": [
          7.8,
          5
         ],
         "yaxis": "y"
        },
        {
         "alignmentgroup": "True",
         "customdata": [
          [
           "Africa: Upper-middle income"
          ],
          [
           "Africa: Upper-middle income"
          ]
         ],
         "hovertemplate": "Reference area=%{customdata[0]}<br>Time=%{x}<br>Value=%{y}<extra></extra>",
         "legendgroup": "Africa: Upper-middle income",
         "marker": {
          "color": "#FF97FF",
          "pattern": {
           "shape": ""
          }
         },
         "name": "Africa: Upper-middle income",
         "offsetgroup": "Africa: Upper-middle income",
         "orientation": "v",
         "showlegend": true,
         "textposition": "auto",
         "type": "bar",
         "x": [
          2020,
          2021
         ],
         "xaxis": "x",
         "y": [
          12.9,
          9.3
         ],
         "yaxis": "y"
        },
        {
         "alignmentgroup": "True",
         "customdata": [
          [
           "Africa: High income"
          ],
          [
           "Africa: High income"
          ]
         ],
         "hovertemplate": "Reference area=%{customdata[0]}<br>Time=%{x}<br>Value=%{y}<extra></extra>",
         "legendgroup": "Africa: High income",
         "marker": {
          "color": "#FECB52",
          "pattern": {
           "shape": ""
          }
         },
         "name": "Africa: High income",
         "offsetgroup": "Africa: High income",
         "orientation": "v",
         "showlegend": true,
         "textposition": "auto",
         "type": "bar",
         "x": [
          2020,
          2021
         ],
         "xaxis": "x",
         "y": [
          7.4,
          7
         ],
         "yaxis": "y"
        },
        {
         "alignmentgroup": "True",
         "customdata": [
          [
           "Northern Africa"
          ],
          [
           "Northern Africa"
          ]
         ],
         "hovertemplate": "Reference area=%{customdata[0]}<br>Time=%{x}<br>Value=%{y}<extra></extra>",
         "legendgroup": "Northern Africa",
         "marker": {
          "color": "#636efa",
          "pattern": {
           "shape": ""
          }
         },
         "name": "Northern Africa",
         "offsetgroup": "Northern Africa",
         "orientation": "v",
         "showlegend": true,
         "textposition": "auto",
         "type": "bar",
         "x": [
          2020,
          2021
         ],
         "xaxis": "x",
         "y": [
          9.8,
          6.2
         ],
         "yaxis": "y"
        },
        {
         "alignmentgroup": "True",
         "customdata": [
          [
           "Northern Africa: Lower-middle income"
          ],
          [
           "Northern Africa: Lower-middle income"
          ]
         ],
         "hovertemplate": "Reference area=%{customdata[0]}<br>Time=%{x}<br>Value=%{y}<extra></extra>",
         "legendgroup": "Northern Africa: Lower-middle income",
         "marker": {
          "color": "#EF553B",
          "pattern": {
           "shape": ""
          }
         },
         "name": "Northern Africa: Lower-middle income",
         "offsetgroup": "Northern Africa: Lower-middle income",
         "orientation": "v",
         "showlegend": true,
         "textposition": "auto",
         "type": "bar",
         "x": [
          2020,
          2021
         ],
         "xaxis": "x",
         "y": [
          9.8,
          6.1
         ],
         "yaxis": "y"
        },
        {
         "alignmentgroup": "True",
         "customdata": [
          [
           "Northern Africa: Upper-middle income"
          ],
          [
           "Northern Africa: Upper-middle income"
          ]
         ],
         "hovertemplate": "Reference area=%{customdata[0]}<br>Time=%{x}<br>Value=%{y}<extra></extra>",
         "legendgroup": "Northern Africa: Upper-middle income",
         "marker": {
          "color": "#00cc96",
          "pattern": {
           "shape": ""
          }
         },
         "name": "Northern Africa: Upper-middle income",
         "offsetgroup": "Northern Africa: Upper-middle income",
         "orientation": "v",
         "showlegend": true,
         "textposition": "auto",
         "type": "bar",
         "x": [
          2020,
          2021
         ],
         "xaxis": "x",
         "y": [
          9.6,
          7
         ],
         "yaxis": "y"
        },
        {
         "alignmentgroup": "True",
         "customdata": [
          [
           "Sub-Saharan Africa"
          ],
          [
           "Sub-Saharan Africa"
          ]
         ],
         "hovertemplate": "Reference area=%{customdata[0]}<br>Time=%{x}<br>Value=%{y}<extra></extra>",
         "legendgroup": "Sub-Saharan Africa",
         "marker": {
          "color": "#ab63fa",
          "pattern": {
           "shape": ""
          }
         },
         "name": "Sub-Saharan Africa",
         "offsetgroup": "Sub-Saharan Africa",
         "orientation": "v",
         "showlegend": true,
         "textposition": "auto",
         "type": "bar",
         "x": [
          2020,
          2021
         ],
         "xaxis": "x",
         "y": [
          7.3,
          5.1
         ],
         "yaxis": "y"
        },
        {
         "alignmentgroup": "True",
         "customdata": [
          [
           "Sub-Saharan Africa: Low income"
          ],
          [
           "Sub-Saharan Africa: Low income"
          ]
         ],
         "hovertemplate": "Reference area=%{customdata[0]}<br>Time=%{x}<br>Value=%{y}<extra></extra>",
         "legendgroup": "Sub-Saharan Africa: Low income",
         "marker": {
          "color": "#FFA15A",
          "pattern": {
           "shape": ""
          }
         },
         "name": "Sub-Saharan Africa: Low income",
         "offsetgroup": "Sub-Saharan Africa: Low income",
         "orientation": "v",
         "showlegend": true,
         "textposition": "auto",
         "type": "bar",
         "x": [
          2020,
          2021
         ],
         "xaxis": "x",
         "y": [
          6.8,
          5.1
         ],
         "yaxis": "y"
        },
        {
         "alignmentgroup": "True",
         "customdata": [
          [
           "Sub-Saharan Africa: Lower-middle income"
          ],
          [
           "Sub-Saharan Africa: Lower-middle income"
          ]
         ],
         "hovertemplate": "Reference area=%{customdata[0]}<br>Time=%{x}<br>Value=%{y}<extra></extra>",
         "legendgroup": "Sub-Saharan Africa: Lower-middle income",
         "marker": {
          "color": "#19d3f3",
          "pattern": {
           "shape": ""
          }
         },
         "name": "Sub-Saharan Africa: Lower-middle income",
         "offsetgroup": "Sub-Saharan Africa: Lower-middle income",
         "orientation": "v",
         "showlegend": true,
         "textposition": "auto",
         "type": "bar",
         "x": [
          2020,
          2021
         ],
         "xaxis": "x",
         "y": [
          7.1,
          4.6
         ],
         "yaxis": "y"
        },
        {
         "alignmentgroup": "True",
         "customdata": [
          [
           "Sub-Saharan Africa: Upper-middle income"
          ],
          [
           "Sub-Saharan Africa: Upper-middle income"
          ]
         ],
         "hovertemplate": "Reference area=%{customdata[0]}<br>Time=%{x}<br>Value=%{y}<extra></extra>",
         "legendgroup": "Sub-Saharan Africa: Upper-middle income",
         "marker": {
          "color": "#FF6692",
          "pattern": {
           "shape": ""
          }
         },
         "name": "Sub-Saharan Africa: Upper-middle income",
         "offsetgroup": "Sub-Saharan Africa: Upper-middle income",
         "orientation": "v",
         "showlegend": true,
         "textposition": "auto",
         "type": "bar",
         "x": [
          2020,
          2021
         ],
         "xaxis": "x",
         "y": [
          13.1,
          9.5
         ],
         "yaxis": "y"
        },
        {
         "alignmentgroup": "True",
         "customdata": [
          [
           "Sub-Saharan Africa: High income"
          ],
          [
           "Sub-Saharan Africa: High income"
          ]
         ],
         "hovertemplate": "Reference area=%{customdata[0]}<br>Time=%{x}<br>Value=%{y}<extra></extra>",
         "legendgroup": "Sub-Saharan Africa: High income",
         "marker": {
          "color": "#B6E880",
          "pattern": {
           "shape": ""
          }
         },
         "name": "Sub-Saharan Africa: High income",
         "offsetgroup": "Sub-Saharan Africa: High income",
         "orientation": "v",
         "showlegend": true,
         "textposition": "auto",
         "type": "bar",
         "x": [
          2020,
          2021
         ],
         "xaxis": "x",
         "y": [
          7.4,
          7
         ],
         "yaxis": "y"
        },
        {
         "alignmentgroup": "True",
         "customdata": [
          [
           "Central Africa"
          ],
          [
           "Central Africa"
          ]
         ],
         "hovertemplate": "Reference area=%{customdata[0]}<br>Time=%{x}<br>Value=%{y}<extra></extra>",
         "legendgroup": "Central Africa",
         "marker": {
          "color": "#FF97FF",
          "pattern": {
           "shape": ""
          }
         },
         "name": "Central Africa",
         "offsetgroup": "Central Africa",
         "orientation": "v",
         "showlegend": true,
         "textposition": "auto",
         "type": "bar",
         "x": [
          2020,
          2021
         ],
         "xaxis": "x",
         "y": [
          6.8,
          4.5
         ],
         "yaxis": "y"
        },
        {
         "alignmentgroup": "True",
         "customdata": [
          [
           "Eastern Africa"
          ],
          [
           "Eastern Africa"
          ]
         ],
         "hovertemplate": "Reference area=%{customdata[0]}<br>Time=%{x}<br>Value=%{y}<extra></extra>",
         "legendgroup": "Eastern Africa",
         "marker": {
          "color": "#FECB52",
          "pattern": {
           "shape": ""
          }
         },
         "name": "Eastern Africa",
         "offsetgroup": "Eastern Africa",
         "orientation": "v",
         "showlegend": true,
         "textposition": "auto",
         "type": "bar",
         "x": [
          2020,
          2021
         ],
         "xaxis": "x",
         "y": [
          7.2,
          5.1
         ],
         "yaxis": "y"
        },
        {
         "alignmentgroup": "True",
         "customdata": [
          [
           "Southern Africa"
          ],
          [
           "Southern Africa"
          ]
         ],
         "hovertemplate": "Reference area=%{customdata[0]}<br>Time=%{x}<br>Value=%{y}<extra></extra>",
         "legendgroup": "Southern Africa",
         "marker": {
          "color": "#636efa",
          "pattern": {
           "shape": ""
          }
         },
         "name": "Southern Africa",
         "offsetgroup": "Southern Africa",
         "orientation": "v",
         "showlegend": true,
         "textposition": "auto",
         "type": "bar",
         "x": [
          2020,
          2021
         ],
         "xaxis": "x",
         "y": [
          13.2,
          9.6
         ],
         "yaxis": "y"
        },
        {
         "alignmentgroup": "True",
         "customdata": [
          [
           "Western Africa"
          ],
          [
           "Western Africa"
          ]
         ],
         "hovertemplate": "Reference area=%{customdata[0]}<br>Time=%{x}<br>Value=%{y}<extra></extra>",
         "legendgroup": "Western Africa",
         "marker": {
          "color": "#EF553B",
          "pattern": {
           "shape": ""
          }
         },
         "name": "Western Africa",
         "offsetgroup": "Western Africa",
         "orientation": "v",
         "showlegend": true,
         "textposition": "auto",
         "type": "bar",
         "x": [
          2020,
          2021
         ],
         "xaxis": "x",
         "y": [
          6.8,
          4.6
         ],
         "yaxis": "y"
        },
        {
         "alignmentgroup": "True",
         "customdata": [
          [
           "Americas"
          ],
          [
           "Americas"
          ]
         ],
         "hovertemplate": "Reference area=%{customdata[0]}<br>Time=%{x}<br>Value=%{y}<extra></extra>",
         "legendgroup": "Americas",
         "marker": {
          "color": "#00cc96",
          "pattern": {
           "shape": ""
          }
         },
         "name": "Americas",
         "offsetgroup": "Americas",
         "orientation": "v",
         "showlegend": true,
         "textposition": "auto",
         "type": "bar",
         "x": [
          2020,
          2021
         ],
         "xaxis": "x",
         "y": [
          14.1,
          5.5
         ],
         "yaxis": "y"
        },
        {
         "alignmentgroup": "True",
         "customdata": [
          [
           "Americas: Low income"
          ],
          [
           "Americas: Low income"
          ]
         ],
         "hovertemplate": "Reference area=%{customdata[0]}<br>Time=%{x}<br>Value=%{y}<extra></extra>",
         "legendgroup": "Americas: Low income",
         "marker": {
          "color": "#ab63fa",
          "pattern": {
           "shape": ""
          }
         },
         "name": "Americas: Low income",
         "offsetgroup": "Americas: Low income",
         "orientation": "v",
         "showlegend": true,
         "textposition": "auto",
         "type": "bar",
         "x": [
          2020,
          2021
         ],
         "xaxis": "x",
         "y": [
          7.8,
          6.3
         ],
         "yaxis": "y"
        },
        {
         "alignmentgroup": "True",
         "customdata": [
          [
           "Americas: Lower-middle income"
          ],
          [
           "Americas: Lower-middle income"
          ]
         ],
         "hovertemplate": "Reference area=%{customdata[0]}<br>Time=%{x}<br>Value=%{y}<extra></extra>",
         "legendgroup": "Americas: Lower-middle income",
         "marker": {
          "color": "#FFA15A",
          "pattern": {
           "shape": ""
          }
         },
         "name": "Americas: Lower-middle income",
         "offsetgroup": "Americas: Lower-middle income",
         "orientation": "v",
         "showlegend": true,
         "textposition": "auto",
         "type": "bar",
         "x": [
          2020,
          2021
         ],
         "xaxis": "x",
         "y": [
          15,
          2.9
         ],
         "yaxis": "y"
        },
        {
         "alignmentgroup": "True",
         "customdata": [
          [
           "Americas: Upper-middle income"
          ],
          [
           "Americas: Upper-middle income"
          ]
         ],
         "hovertemplate": "Reference area=%{customdata[0]}<br>Time=%{x}<br>Value=%{y}<extra></extra>",
         "legendgroup": "Americas: Upper-middle income",
         "marker": {
          "color": "#19d3f3",
          "pattern": {
           "shape": ""
          }
         },
         "name": "Americas: Upper-middle income",
         "offsetgroup": "Americas: Upper-middle income",
         "orientation": "v",
         "showlegend": true,
         "textposition": "auto",
         "type": "bar",
         "x": [
          2020,
          2021
         ],
         "xaxis": "x",
         "y": [
          17.1,
          6.3
         ],
         "yaxis": "y"
        },
        {
         "alignmentgroup": "True",
         "customdata": [
          [
           "Americas: High income"
          ],
          [
           "Americas: High income"
          ]
         ],
         "hovertemplate": "Reference area=%{customdata[0]}<br>Time=%{x}<br>Value=%{y}<extra></extra>",
         "legendgroup": "Americas: High income",
         "marker": {
          "color": "#FF6692",
          "pattern": {
           "shape": ""
          }
         },
         "name": "Americas: High income",
         "offsetgroup": "Americas: High income",
         "orientation": "v",
         "showlegend": true,
         "textposition": "auto",
         "type": "bar",
         "x": [
          2020,
          2021
         ],
         "xaxis": "x",
         "y": [
          9.9,
          4.7
         ],
         "yaxis": "y"
        },
        {
         "alignmentgroup": "True",
         "customdata": [
          [
           "Latin America and the Caribbean"
          ],
          [
           "Latin America and the Caribbean"
          ]
         ],
         "hovertemplate": "Reference area=%{customdata[0]}<br>Time=%{x}<br>Value=%{y}<extra></extra>",
         "legendgroup": "Latin America and the Caribbean",
         "marker": {
          "color": "#B6E880",
          "pattern": {
           "shape": ""
          }
         },
         "name": "Latin America and the Caribbean",
         "offsetgroup": "Latin America and the Caribbean",
         "orientation": "v",
         "showlegend": true,
         "textposition": "auto",
         "type": "bar",
         "x": [
          2020,
          2021
         ],
         "xaxis": "x",
         "y": [
          16.7,
          6
         ],
         "yaxis": "y"
        },
        {
         "alignmentgroup": "True",
         "customdata": [
          [
           "Latin America and the Caribbean: Low income"
          ],
          [
           "Latin America and the Caribbean: Low income"
          ]
         ],
         "hovertemplate": "Reference area=%{customdata[0]}<br>Time=%{x}<br>Value=%{y}<extra></extra>",
         "legendgroup": "Latin America and the Caribbean: Low income",
         "marker": {
          "color": "#FF97FF",
          "pattern": {
           "shape": ""
          }
         },
         "name": "Latin America and the Caribbean: Low income",
         "offsetgroup": "Latin America and the Caribbean: Low income",
         "orientation": "v",
         "showlegend": true,
         "textposition": "auto",
         "type": "bar",
         "x": [
          2020,
          2021
         ],
         "xaxis": "x",
         "y": [
          7.8,
          6.3
         ],
         "yaxis": "y"
        },
        {
         "alignmentgroup": "True",
         "customdata": [
          [
           "Latin America and the Caribbean: Lower-middle income"
          ],
          [
           "Latin America and the Caribbean: Lower-middle income"
          ]
         ],
         "hovertemplate": "Reference area=%{customdata[0]}<br>Time=%{x}<br>Value=%{y}<extra></extra>",
         "legendgroup": "Latin America and the Caribbean: Lower-middle income",
         "marker": {
          "color": "#FECB52",
          "pattern": {
           "shape": ""
          }
         },
         "name": "Latin America and the Caribbean: Lower-middle income",
         "offsetgroup": "Latin America and the Caribbean: Lower-middle income",
         "orientation": "v",
         "showlegend": true,
         "textposition": "auto",
         "type": "bar",
         "x": [
          2020,
          2021
         ],
         "xaxis": "x",
         "y": [
          15,
          2.9
         ],
         "yaxis": "y"
        },
        {
         "alignmentgroup": "True",
         "customdata": [
          [
           "Latin America and the Caribbean: Upper-middle income"
          ],
          [
           "Latin America and the Caribbean: Upper-middle income"
          ]
         ],
         "hovertemplate": "Reference area=%{customdata[0]}<br>Time=%{x}<br>Value=%{y}<extra></extra>",
         "legendgroup": "Latin America and the Caribbean: Upper-middle income",
         "marker": {
          "color": "#636efa",
          "pattern": {
           "shape": ""
          }
         },
         "name": "Latin America and the Caribbean: Upper-middle income",
         "offsetgroup": "Latin America and the Caribbean: Upper-middle income",
         "orientation": "v",
         "showlegend": true,
         "textposition": "auto",
         "type": "bar",
         "x": [
          2020,
          2021
         ],
         "xaxis": "x",
         "y": [
          17.1,
          6.3
         ],
         "yaxis": "y"
        },
        {
         "alignmentgroup": "True",
         "customdata": [
          [
           "Latin America and the Caribbean: High income"
          ],
          [
           "Latin America and the Caribbean: High income"
          ]
         ],
         "hovertemplate": "Reference area=%{customdata[0]}<br>Time=%{x}<br>Value=%{y}<extra></extra>",
         "legendgroup": "Latin America and the Caribbean: High income",
         "marker": {
          "color": "#EF553B",
          "pattern": {
           "shape": ""
          }
         },
         "name": "Latin America and the Caribbean: High income",
         "offsetgroup": "Latin America and the Caribbean: High income",
         "orientation": "v",
         "showlegend": true,
         "textposition": "auto",
         "type": "bar",
         "x": [
          2020,
          2021
         ],
         "xaxis": "x",
         "y": [
          14.8,
          5
         ],
         "yaxis": "y"
        },
        {
         "alignmentgroup": "True",
         "customdata": [
          [
           "Caribbean"
          ],
          [
           "Caribbean"
          ]
         ],
         "hovertemplate": "Reference area=%{customdata[0]}<br>Time=%{x}<br>Value=%{y}<extra></extra>",
         "legendgroup": "Caribbean",
         "marker": {
          "color": "#00cc96",
          "pattern": {
           "shape": ""
          }
         },
         "name": "Caribbean",
         "offsetgroup": "Caribbean",
         "orientation": "v",
         "showlegend": true,
         "textposition": "auto",
         "type": "bar",
         "x": [
          2020,
          2021
         ],
         "xaxis": "x",
         "y": [
          11.1,
          6.4
         ],
         "yaxis": "y"
        },
        {
         "alignmentgroup": "True",
         "customdata": [
          [
           "Central America"
          ],
          [
           "Central America"
          ]
         ],
         "hovertemplate": "Reference area=%{customdata[0]}<br>Time=%{x}<br>Value=%{y}<extra></extra>",
         "legendgroup": "Central America",
         "marker": {
          "color": "#ab63fa",
          "pattern": {
           "shape": ""
          }
         },
         "name": "Central America",
         "offsetgroup": "Central America",
         "orientation": "v",
         "showlegend": true,
         "textposition": "auto",
         "type": "bar",
         "x": [
          2020,
          2021
         ],
         "xaxis": "x",
         "y": [
          15.3,
          5.2
         ],
         "yaxis": "y"
        },
        {
         "alignmentgroup": "True",
         "customdata": [
          [
           "South America"
          ],
          [
           "South America"
          ]
         ],
         "hovertemplate": "Reference area=%{customdata[0]}<br>Time=%{x}<br>Value=%{y}<extra></extra>",
         "legendgroup": "South America",
         "marker": {
          "color": "#FFA15A",
          "pattern": {
           "shape": ""
          }
         },
         "name": "South America",
         "offsetgroup": "South America",
         "orientation": "v",
         "showlegend": true,
         "textposition": "auto",
         "type": "bar",
         "x": [
          2020,
          2021
         ],
         "xaxis": "x",
         "y": [
          17.8,
          6.3
         ],
         "yaxis": "y"
        },
        {
         "alignmentgroup": "True",
         "customdata": [
          [
           "Northern America"
          ],
          [
           "Northern America"
          ]
         ],
         "hovertemplate": "Reference area=%{customdata[0]}<br>Time=%{x}<br>Value=%{y}<extra></extra>",
         "legendgroup": "Northern America",
         "marker": {
          "color": "#19d3f3",
          "pattern": {
           "shape": ""
          }
         },
         "name": "Northern America",
         "offsetgroup": "Northern America",
         "orientation": "v",
         "showlegend": true,
         "textposition": "auto",
         "type": "bar",
         "x": [
          2020,
          2021
         ],
         "xaxis": "x",
         "y": [
          9.6,
          4.6
         ],
         "yaxis": "y"
        },
        {
         "alignmentgroup": "True",
         "customdata": [
          [
           "Northern America: High income"
          ],
          [
           "Northern America: High income"
          ]
         ],
         "hovertemplate": "Reference area=%{customdata[0]}<br>Time=%{x}<br>Value=%{y}<extra></extra>",
         "legendgroup": "Northern America: High income",
         "marker": {
          "color": "#FF6692",
          "pattern": {
           "shape": ""
          }
         },
         "name": "Northern America: High income",
         "offsetgroup": "Northern America: High income",
         "orientation": "v",
         "showlegend": true,
         "textposition": "auto",
         "type": "bar",
         "x": [
          2020,
          2021
         ],
         "xaxis": "x",
         "y": [
          9.6,
          4.6
         ],
         "yaxis": "y"
        },
        {
         "alignmentgroup": "True",
         "customdata": [
          [
           "Arab States"
          ],
          [
           "Arab States"
          ]
         ],
         "hovertemplate": "Reference area=%{customdata[0]}<br>Time=%{x}<br>Value=%{y}<extra></extra>",
         "legendgroup": "Arab States",
         "marker": {
          "color": "#B6E880",
          "pattern": {
           "shape": ""
          }
         },
         "name": "Arab States",
         "offsetgroup": "Arab States",
         "orientation": "v",
         "showlegend": true,
         "textposition": "auto",
         "type": "bar",
         "x": [
          2020,
          2021
         ],
         "xaxis": "x",
         "y": [
          9,
          6.2
         ],
         "yaxis": "y"
        },
        {
         "alignmentgroup": "True",
         "customdata": [
          [
           "Arab States: Low income"
          ],
          [
           "Arab States: Low income"
          ]
         ],
         "hovertemplate": "Reference area=%{customdata[0]}<br>Time=%{x}<br>Value=%{y}<extra></extra>",
         "legendgroup": "Arab States: Low income",
         "marker": {
          "color": "#FF97FF",
          "pattern": {
           "shape": ""
          }
         },
         "name": "Arab States: Low income",
         "offsetgroup": "Arab States: Low income",
         "orientation": "v",
         "showlegend": true,
         "textposition": "auto",
         "type": "bar",
         "x": [
          2020,
          2021
         ],
         "xaxis": "x",
         "y": [
          4.6,
          4
         ],
         "yaxis": "y"
        },
        {
         "alignmentgroup": "True",
         "customdata": [
          [
           "Arab States: Lower-middle income"
          ],
          [
           "Arab States: Lower-middle income"
          ]
         ],
         "hovertemplate": "Reference area=%{customdata[0]}<br>Time=%{x}<br>Value=%{y}<extra></extra>",
         "legendgroup": "Arab States: Lower-middle income",
         "marker": {
          "color": "#FECB52",
          "pattern": {
           "shape": ""
          }
         },
         "name": "Arab States: Lower-middle income",
         "offsetgroup": "Arab States: Lower-middle income",
         "orientation": "v",
         "showlegend": true,
         "textposition": "auto",
         "type": "bar",
         "x": [
          2020,
          2021
         ],
         "xaxis": "x",
         "y": [
          16,
          11.9
         ],
         "yaxis": "y"
        },
        {
         "alignmentgroup": "True",
         "customdata": [
          [
           "Arab States: Upper-middle income"
          ],
          [
           "Arab States: Upper-middle income"
          ]
         ],
         "hovertemplate": "Reference area=%{customdata[0]}<br>Time=%{x}<br>Value=%{y}<extra></extra>",
         "legendgroup": "Arab States: Upper-middle income",
         "marker": {
          "color": "#636efa",
          "pattern": {
           "shape": ""
          }
         },
         "name": "Arab States: Upper-middle income",
         "offsetgroup": "Arab States: Upper-middle income",
         "orientation": "v",
         "showlegend": true,
         "textposition": "auto",
         "type": "bar",
         "x": [
          2020,
          2021
         ],
         "xaxis": "x",
         "y": [
          10.8,
          7.7
         ],
         "yaxis": "y"
        },
        {
         "alignmentgroup": "True",
         "customdata": [
          [
           "Arab States: High income"
          ],
          [
           "Arab States: High income"
          ]
         ],
         "hovertemplate": "Reference area=%{customdata[0]}<br>Time=%{x}<br>Value=%{y}<extra></extra>",
         "legendgroup": "Arab States: High income",
         "marker": {
          "color": "#EF553B",
          "pattern": {
           "shape": ""
          }
         },
         "name": "Arab States: High income",
         "offsetgroup": "Arab States: High income",
         "orientation": "v",
         "showlegend": true,
         "textposition": "auto",
         "type": "bar",
         "x": [
          2020,
          2021
         ],
         "xaxis": "x",
         "y": [
          9.5,
          6.1
         ],
         "yaxis": "y"
        },
        {
         "alignmentgroup": "True",
         "customdata": [
          [
           "Asia and the Pacific"
          ],
          [
           "Asia and the Pacific"
          ]
         ],
         "hovertemplate": "Reference area=%{customdata[0]}<br>Time=%{x}<br>Value=%{y}<extra></extra>",
         "legendgroup": "Asia and the Pacific",
         "marker": {
          "color": "#00cc96",
          "pattern": {
           "shape": ""
          }
         },
         "name": "Asia and the Pacific",
         "offsetgroup": "Asia and the Pacific",
         "orientation": "v",
         "showlegend": true,
         "textposition": "auto",
         "type": "bar",
         "x": [
          2020,
          2021
         ],
         "xaxis": "x",
         "y": [
          8.2,
          4
         ],
         "yaxis": "y"
        },
        {
         "alignmentgroup": "True",
         "customdata": [
          [
           "Asia and the Pacific: Low income"
          ],
          [
           "Asia and the Pacific: Low income"
          ]
         ],
         "hovertemplate": "Reference area=%{customdata[0]}<br>Time=%{x}<br>Value=%{y}<extra></extra>",
         "legendgroup": "Asia and the Pacific: Low income",
         "marker": {
          "color": "#ab63fa",
          "pattern": {
           "shape": ""
          }
         },
         "name": "Asia and the Pacific: Low income",
         "offsetgroup": "Asia and the Pacific: Low income",
         "orientation": "v",
         "showlegend": true,
         "textposition": "auto",
         "type": "bar",
         "x": [
          2020,
          2021
         ],
         "xaxis": "x",
         "y": [
          6.4,
          4.8
         ],
         "yaxis": "y"
        },
        {
         "alignmentgroup": "True",
         "customdata": [
          [
           "Asia and the Pacific: Lower-middle income"
          ],
          [
           "Asia and the Pacific: Lower-middle income"
          ]
         ],
         "hovertemplate": "Reference area=%{customdata[0]}<br>Time=%{x}<br>Value=%{y}<extra></extra>",
         "legendgroup": "Asia and the Pacific: Lower-middle income",
         "marker": {
          "color": "#FFA15A",
          "pattern": {
           "shape": ""
          }
         },
         "name": "Asia and the Pacific: Lower-middle income",
         "offsetgroup": "Asia and the Pacific: Lower-middle income",
         "orientation": "v",
         "showlegend": true,
         "textposition": "auto",
         "type": "bar",
         "x": [
          2020,
          2021
         ],
         "xaxis": "x",
         "y": [
          13,
          7.4
         ],
         "yaxis": "y"
        },
        {
         "alignmentgroup": "True",
         "customdata": [
          [
           "Asia and the Pacific: Upper-middle income"
          ],
          [
           "Asia and the Pacific: Upper-middle income"
          ]
         ],
         "hovertemplate": "Reference area=%{customdata[0]}<br>Time=%{x}<br>Value=%{y}<extra></extra>",
         "legendgroup": "Asia and the Pacific: Upper-middle income",
         "marker": {
          "color": "#19d3f3",
          "pattern": {
           "shape": ""
          }
         },
         "name": "Asia and the Pacific: Upper-middle income",
         "offsetgroup": "Asia and the Pacific: Upper-middle income",
         "orientation": "v",
         "showlegend": true,
         "textposition": "auto",
         "type": "bar",
         "x": [
          2020,
          2021
         ],
         "xaxis": "x",
         "y": [
          4.5,
          1
         ],
         "yaxis": "y"
        },
        {
         "alignmentgroup": "True",
         "customdata": [
          [
           "Asia and the Pacific: High income"
          ],
          [
           "Asia and the Pacific: High income"
          ]
         ],
         "hovertemplate": "Reference area=%{customdata[0]}<br>Time=%{x}<br>Value=%{y}<extra></extra>",
         "legendgroup": "Asia and the Pacific: High income",
         "marker": {
          "color": "#FF6692",
          "pattern": {
           "shape": ""
          }
         },
         "name": "Asia and the Pacific: High income",
         "offsetgroup": "Asia and the Pacific: High income",
         "orientation": "v",
         "showlegend": true,
         "textposition": "auto",
         "type": "bar",
         "x": [
          2020,
          2021
         ],
         "xaxis": "x",
         "y": [
          4.5,
          4.1
         ],
         "yaxis": "y"
        },
        {
         "alignmentgroup": "True",
         "customdata": [
          [
           "Eastern Asia"
          ],
          [
           "Eastern Asia"
          ]
         ],
         "hovertemplate": "Reference area=%{customdata[0]}<br>Time=%{x}<br>Value=%{y}<extra></extra>",
         "legendgroup": "Eastern Asia",
         "marker": {
          "color": "#B6E880",
          "pattern": {
           "shape": ""
          }
         },
         "name": "Eastern Asia",
         "offsetgroup": "Eastern Asia",
         "orientation": "v",
         "showlegend": true,
         "textposition": "auto",
         "type": "bar",
         "x": [
          2020,
          2021
         ],
         "xaxis": "x",
         "y": [
          4.2,
          0.2
         ],
         "yaxis": "y"
        },
        {
         "alignmentgroup": "True",
         "customdata": [
          [
           "Eastern Asia: Low income"
          ],
          [
           "Eastern Asia: Low income"
          ]
         ],
         "hovertemplate": "Reference area=%{customdata[0]}<br>Time=%{x}<br>Value=%{y}<extra></extra>",
         "legendgroup": "Eastern Asia: Low income",
         "marker": {
          "color": "#FF97FF",
          "pattern": {
           "shape": ""
          }
         },
         "name": "Eastern Asia: Low income",
         "offsetgroup": "Eastern Asia: Low income",
         "orientation": "v",
         "showlegend": true,
         "textposition": "auto",
         "type": "bar",
         "x": [
          2020,
          2021
         ],
         "xaxis": "x",
         "y": [
          5.8,
          5.4
         ],
         "yaxis": "y"
        },
        {
         "alignmentgroup": "True",
         "customdata": [
          [
           "Eastern Asia: Lower-middle income"
          ],
          [
           "Eastern Asia: Lower-middle income"
          ]
         ],
         "hovertemplate": "Reference area=%{customdata[0]}<br>Time=%{x}<br>Value=%{y}<extra></extra>",
         "legendgroup": "Eastern Asia: Lower-middle income",
         "marker": {
          "color": "#FECB52",
          "pattern": {
           "shape": ""
          }
         },
         "name": "Eastern Asia: Lower-middle income",
         "offsetgroup": "Eastern Asia: Lower-middle income",
         "orientation": "v",
         "showlegend": true,
         "textposition": "auto",
         "type": "bar",
         "x": [
          2020,
          2021
         ],
         "xaxis": "x",
         "y": [
          10.3,
          15.7
         ],
         "yaxis": "y"
        },
        {
         "alignmentgroup": "True",
         "customdata": [
          [
           "Eastern Asia: Upper-middle income"
          ],
          [
           "Eastern Asia: Upper-middle income"
          ]
         ],
         "hovertemplate": "Reference area=%{customdata[0]}<br>Time=%{x}<br>Value=%{y}<extra></extra>",
         "legendgroup": "Eastern Asia: Upper-middle income",
         "marker": {
          "color": "#636efa",
          "pattern": {
           "shape": ""
          }
         },
         "name": "Eastern Asia: Upper-middle income",
         "offsetgroup": "Eastern Asia: Upper-middle income",
         "orientation": "v",
         "showlegend": true,
         "textposition": "auto",
         "type": "bar",
         "x": [
          2020,
          2021
         ],
         "xaxis": "x",
         "y": [
          4.1,
          -0.4
         ],
         "yaxis": "y"
        },
        {
         "alignmentgroup": "True",
         "customdata": [
          [
           "Eastern Asia: High income"
          ],
          [
           "Eastern Asia: High income"
          ]
         ],
         "hovertemplate": "Reference area=%{customdata[0]}<br>Time=%{x}<br>Value=%{y}<extra></extra>",
         "legendgroup": "Eastern Asia: High income",
         "marker": {
          "color": "#EF553B",
          "pattern": {
           "shape": ""
          }
         },
         "name": "Eastern Asia: High income",
         "offsetgroup": "Eastern Asia: High income",
         "orientation": "v",
         "showlegend": true,
         "textposition": "auto",
         "type": "bar",
         "x": [
          2020,
          2021
         ],
         "xaxis": "x",
         "y": [
          4.6,
          4.5
         ],
         "yaxis": "y"
        },
        {
         "alignmentgroup": "True",
         "customdata": [
          [
           "South-Eastern Asia and the Pacific"
          ],
          [
           "South-Eastern Asia and the Pacific"
          ]
         ],
         "hovertemplate": "Reference area=%{customdata[0]}<br>Time=%{x}<br>Value=%{y}<extra></extra>",
         "legendgroup": "South-Eastern Asia and the Pacific",
         "marker": {
          "color": "#00cc96",
          "pattern": {
           "shape": ""
          }
         },
         "name": "South-Eastern Asia and the Pacific",
         "offsetgroup": "South-Eastern Asia and the Pacific",
         "orientation": "v",
         "showlegend": true,
         "textposition": "auto",
         "type": "bar",
         "x": [
          2020,
          2021
         ],
         "xaxis": "x",
         "y": [
          7.7,
          7
         ],
         "yaxis": "y"
        },
        {
         "alignmentgroup": "True",
         "customdata": [
          [
           "South-Eastern Asia and the Pacific: Lower-middle income"
          ],
          [
           "South-Eastern Asia and the Pacific: Lower-middle income"
          ]
         ],
         "hovertemplate": "Reference area=%{customdata[0]}<br>Time=%{x}<br>Value=%{y}<extra></extra>",
         "legendgroup": "South-Eastern Asia and the Pacific: Lower-middle income",
         "marker": {
          "color": "#ab63fa",
          "pattern": {
           "shape": ""
          }
         },
         "name": "South-Eastern Asia and the Pacific: Lower-middle income",
         "offsetgroup": "South-Eastern Asia and the Pacific: Lower-middle income",
         "orientation": "v",
         "showlegend": true,
         "textposition": "auto",
         "type": "bar",
         "x": [
          2020,
          2021
         ],
         "xaxis": "x",
         "y": [
          9.7,
          8.5
         ],
         "yaxis": "y"
        },
        {
         "alignmentgroup": "True",
         "customdata": [
          [
           "South-Eastern Asia and the Pacific: Upper-middle income"
          ],
          [
           "South-Eastern Asia and the Pacific: Upper-middle income"
          ]
         ],
         "hovertemplate": "Reference area=%{customdata[0]}<br>Time=%{x}<br>Value=%{y}<extra></extra>",
         "legendgroup": "South-Eastern Asia and the Pacific: Upper-middle income",
         "marker": {
          "color": "#FFA15A",
          "pattern": {
           "shape": ""
          }
         },
         "name": "South-Eastern Asia and the Pacific: Upper-middle income",
         "offsetgroup": "South-Eastern Asia and the Pacific: Upper-middle income",
         "orientation": "v",
         "showlegend": true,
         "textposition": "auto",
         "type": "bar",
         "x": [
          2020,
          2021
         ],
         "xaxis": "x",
         "y": [
          6.5,
          6.3
         ],
         "yaxis": "y"
        },
        {
         "alignmentgroup": "True",
         "customdata": [
          [
           "South-Eastern Asia and the Pacific: High income"
          ],
          [
           "South-Eastern Asia and the Pacific: High income"
          ]
         ],
         "hovertemplate": "Reference area=%{customdata[0]}<br>Time=%{x}<br>Value=%{y}<extra></extra>",
         "legendgroup": "South-Eastern Asia and the Pacific: High income",
         "marker": {
          "color": "#19d3f3",
          "pattern": {
           "shape": ""
          }
         },
         "name": "South-Eastern Asia and the Pacific: High income",
         "offsetgroup": "South-Eastern Asia and the Pacific: High income",
         "orientation": "v",
         "showlegend": true,
         "textposition": "auto",
         "type": "bar",
         "x": [
          2020,
          2021
         ],
         "xaxis": "x",
         "y": [
          3.8,
          3.4
         ],
         "yaxis": "y"
        },
        {
         "alignmentgroup": "True",
         "customdata": [
          [
           "South-Eastern Asia"
          ],
          [
           "South-Eastern Asia"
          ]
         ],
         "hovertemplate": "Reference area=%{customdata[0]}<br>Time=%{x}<br>Value=%{y}<extra></extra>",
         "legendgroup": "South-Eastern Asia",
         "marker": {
          "color": "#FF6692",
          "pattern": {
           "shape": ""
          }
         },
         "name": "South-Eastern Asia",
         "offsetgroup": "South-Eastern Asia",
         "orientation": "v",
         "showlegend": true,
         "textposition": "auto",
         "type": "bar",
         "x": [
          2020,
          2021
         ],
         "xaxis": "x",
         "y": [
          7.9,
          7.3
         ],
         "yaxis": "y"
        },
        {
         "alignmentgroup": "True",
         "customdata": [
          [
           "Pacific Islands"
          ],
          [
           "Pacific Islands"
          ]
         ],
         "hovertemplate": "Reference area=%{customdata[0]}<br>Time=%{x}<br>Value=%{y}<extra></extra>",
         "legendgroup": "Pacific Islands",
         "marker": {
          "color": "#B6E880",
          "pattern": {
           "shape": ""
          }
         },
         "name": "Pacific Islands",
         "offsetgroup": "Pacific Islands",
         "orientation": "v",
         "showlegend": true,
         "textposition": "auto",
         "type": "bar",
         "x": [
          2020,
          2021
         ],
         "xaxis": "x",
         "y": [
          3.6,
          2.2
         ],
         "yaxis": "y"
        },
        {
         "alignmentgroup": "True",
         "customdata": [
          [
           "Southern Asia"
          ],
          [
           "Southern Asia"
          ]
         ],
         "hovertemplate": "Reference area=%{customdata[0]}<br>Time=%{x}<br>Value=%{y}<extra></extra>",
         "legendgroup": "Southern Asia",
         "marker": {
          "color": "#FF97FF",
          "pattern": {
           "shape": ""
          }
         },
         "name": "Southern Asia",
         "offsetgroup": "Southern Asia",
         "orientation": "v",
         "showlegend": true,
         "textposition": "auto",
         "type": "bar",
         "x": [
          2020,
          2021
         ],
         "xaxis": "x",
         "y": [
          13.3,
          7.2
         ],
         "yaxis": "y"
        },
        {
         "alignmentgroup": "True",
         "customdata": [
          [
           "Southern Asia: Low income"
          ],
          [
           "Southern Asia: Low income"
          ]
         ],
         "hovertemplate": "Reference area=%{customdata[0]}<br>Time=%{x}<br>Value=%{y}<extra></extra>",
         "legendgroup": "Southern Asia: Low income",
         "marker": {
          "color": "#FECB52",
          "pattern": {
           "shape": ""
          }
         },
         "name": "Southern Asia: Low income",
         "offsetgroup": "Southern Asia: Low income",
         "orientation": "v",
         "showlegend": true,
         "textposition": "auto",
         "type": "bar",
         "x": [
          2020,
          2021
         ],
         "xaxis": "x",
         "y": [
          7.4,
          4
         ],
         "yaxis": "y"
        },
        {
         "alignmentgroup": "True",
         "customdata": [
          [
           "Southern Asia: Lower-middle income"
          ],
          [
           "Southern Asia: Lower-middle income"
          ]
         ],
         "hovertemplate": "Reference area=%{customdata[0]}<br>Time=%{x}<br>Value=%{y}<extra></extra>",
         "legendgroup": "Southern Asia: Lower-middle income",
         "marker": {
          "color": "#636efa",
          "pattern": {
           "shape": ""
          }
         },
         "name": "Southern Asia: Lower-middle income",
         "offsetgroup": "Southern Asia: Lower-middle income",
         "orientation": "v",
         "showlegend": true,
         "textposition": "auto",
         "type": "bar",
         "x": [
          2020,
          2021
         ],
         "xaxis": "x",
         "y": [
          13.6,
          7.2
         ],
         "yaxis": "y"
        },
        {
         "alignmentgroup": "True",
         "customdata": [
          [
           "Southern Asia: Upper-middle income"
          ],
          [
           "Southern Asia: Upper-middle income"
          ]
         ],
         "hovertemplate": "Reference area=%{customdata[0]}<br>Time=%{x}<br>Value=%{y}<extra></extra>",
         "legendgroup": "Southern Asia: Upper-middle income",
         "marker": {
          "color": "#EF553B",
          "pattern": {
           "shape": ""
          }
         },
         "name": "Southern Asia: Upper-middle income",
         "offsetgroup": "Southern Asia: Upper-middle income",
         "orientation": "v",
         "showlegend": true,
         "textposition": "auto",
         "type": "bar",
         "x": [
          2020,
          2021
         ],
         "xaxis": "x",
         "y": [
          5.3,
          8.3
         ],
         "yaxis": "y"
        },
        {
         "alignmentgroup": "True",
         "customdata": [
          [
           "Europe and Central Asia"
          ],
          [
           "Europe and Central Asia"
          ]
         ],
         "hovertemplate": "Reference area=%{customdata[0]}<br>Time=%{x}<br>Value=%{y}<extra></extra>",
         "legendgroup": "Europe and Central Asia",
         "marker": {
          "color": "#00cc96",
          "pattern": {
           "shape": ""
          }
         },
         "name": "Europe and Central Asia",
         "offsetgroup": "Europe and Central Asia",
         "orientation": "v",
         "showlegend": true,
         "textposition": "auto",
         "type": "bar",
         "x": [
          2020,
          2021
         ],
         "xaxis": "x",
         "y": [
          8.1,
          3.1
         ],
         "yaxis": "y"
        },
        {
         "alignmentgroup": "True",
         "customdata": [
          [
           "Europe and Central Asia: Low income"
          ],
          [
           "Europe and Central Asia: Low income"
          ]
         ],
         "hovertemplate": "Reference area=%{customdata[0]}<br>Time=%{x}<br>Value=%{y}<extra></extra>",
         "legendgroup": "Europe and Central Asia: Low income",
         "marker": {
          "color": "#ab63fa",
          "pattern": {
           "shape": ""
          }
         },
         "name": "Europe and Central Asia: Low income",
         "offsetgroup": "Europe and Central Asia: Low income",
         "orientation": "v",
         "showlegend": true,
         "textposition": "auto",
         "type": "bar",
         "x": [
          2020,
          2021
         ],
         "xaxis": "x",
         "y": [
          4.3,
          5.5
         ],
         "yaxis": "y"
        },
        {
         "alignmentgroup": "True",
         "customdata": [
          [
           "Europe and Central Asia: Lower-middle income"
          ],
          [
           "Europe and Central Asia: Lower-middle income"
          ]
         ],
         "hovertemplate": "Reference area=%{customdata[0]}<br>Time=%{x}<br>Value=%{y}<extra></extra>",
         "legendgroup": "Europe and Central Asia: Lower-middle income",
         "marker": {
          "color": "#FFA15A",
          "pattern": {
           "shape": ""
          }
         },
         "name": "Europe and Central Asia: Lower-middle income",
         "offsetgroup": "Europe and Central Asia: Lower-middle income",
         "orientation": "v",
         "showlegend": true,
         "textposition": "auto",
         "type": "bar",
         "x": [
          2020,
          2021
         ],
         "xaxis": "x",
         "y": [
          8.7,
          6.9
         ],
         "yaxis": "y"
        },
        {
         "alignmentgroup": "True",
         "customdata": [
          [
           "Europe and Central Asia: Upper-middle income"
          ],
          [
           "Europe and Central Asia: Upper-middle income"
          ]
         ],
         "hovertemplate": "Reference area=%{customdata[0]}<br>Time=%{x}<br>Value=%{y}<extra></extra>",
         "legendgroup": "Europe and Central Asia: Upper-middle income",
         "marker": {
          "color": "#19d3f3",
          "pattern": {
           "shape": ""
          }
         },
         "name": "Europe and Central Asia: Upper-middle income",
         "offsetgroup": "Europe and Central Asia: Upper-middle income",
         "orientation": "v",
         "showlegend": true,
         "textposition": "auto",
         "type": "bar",
         "x": [
          2020,
          2021
         ],
         "xaxis": "x",
         "y": [
          8.6,
          2.5
         ],
         "yaxis": "y"
        },
        {
         "alignmentgroup": "True",
         "customdata": [
          [
           "Europe and Central Asia: High income"
          ],
          [
           "Europe and Central Asia: High income"
          ]
         ],
         "hovertemplate": "Reference area=%{customdata[0]}<br>Time=%{x}<br>Value=%{y}<extra></extra>",
         "legendgroup": "Europe and Central Asia: High income",
         "marker": {
          "color": "#FF6692",
          "pattern": {
           "shape": ""
          }
         },
         "name": "Europe and Central Asia: High income",
         "offsetgroup": "Europe and Central Asia: High income",
         "orientation": "v",
         "showlegend": true,
         "textposition": "auto",
         "type": "bar",
         "x": [
          2020,
          2021
         ],
         "xaxis": "x",
         "y": [
          7.8,
          2.9
         ],
         "yaxis": "y"
        },
        {
         "alignmentgroup": "True",
         "customdata": [
          [
           "Northern, Southern and Western Europe"
          ],
          [
           "Northern, Southern and Western Europe"
          ]
         ],
         "hovertemplate": "Reference area=%{customdata[0]}<br>Time=%{x}<br>Value=%{y}<extra></extra>",
         "legendgroup": "Northern, Southern and Western Europe",
         "marker": {
          "color": "#B6E880",
          "pattern": {
           "shape": ""
          }
         },
         "name": "Northern, Southern and Western Europe",
         "offsetgroup": "Northern, Southern and Western Europe",
         "orientation": "v",
         "showlegend": true,
         "textposition": "auto",
         "type": "bar",
         "x": [
          2020,
          2021
         ],
         "xaxis": "x",
         "y": [
          8.4,
          3.3
         ],
         "yaxis": "y"
        },
        {
         "alignmentgroup": "True",
         "customdata": [
          [
           "Northern, Southern and Western Europe: Upper-middle income"
          ],
          [
           "Northern, Southern and Western Europe: Upper-middle income"
          ]
         ],
         "hovertemplate": "Reference area=%{customdata[0]}<br>Time=%{x}<br>Value=%{y}<extra></extra>",
         "legendgroup": "Northern, Southern and Western Europe: Upper-middle income",
         "marker": {
          "color": "#FF97FF",
          "pattern": {
           "shape": ""
          }
         },
         "name": "Northern, Southern and Western Europe: Upper-middle income",
         "offsetgroup": "Northern, Southern and Western Europe: Upper-middle income",
         "orientation": "v",
         "showlegend": true,
         "textposition": "auto",
         "type": "bar",
         "x": [
          2020,
          2021
         ],
         "xaxis": "x",
         "y": [
          6.8,
          1.1
         ],
         "yaxis": "y"
        },
        {
         "alignmentgroup": "True",
         "customdata": [
          [
           "Northern, Southern and Western Europe: High income"
          ],
          [
           "Northern, Southern and Western Europe: High income"
          ]
         ],
         "hovertemplate": "Reference area=%{customdata[0]}<br>Time=%{x}<br>Value=%{y}<extra></extra>",
         "legendgroup": "Northern, Southern and Western Europe: High income",
         "marker": {
          "color": "#FECB52",
          "pattern": {
           "shape": ""
          }
         },
         "name": "Northern, Southern and Western Europe: High income",
         "offsetgroup": "Northern, Southern and Western Europe: High income",
         "orientation": "v",
         "showlegend": true,
         "textposition": "auto",
         "type": "bar",
         "x": [
          2020,
          2021
         ],
         "xaxis": "x",
         "y": [
          8.5,
          3.4
         ],
         "yaxis": "y"
        },
        {
         "alignmentgroup": "True",
         "customdata": [
          [
           "Northern Europe"
          ],
          [
           "Northern Europe"
          ]
         ],
         "hovertemplate": "Reference area=%{customdata[0]}<br>Time=%{x}<br>Value=%{y}<extra></extra>",
         "legendgroup": "Northern Europe",
         "marker": {
          "color": "#636efa",
          "pattern": {
           "shape": ""
          }
         },
         "name": "Northern Europe",
         "offsetgroup": "Northern Europe",
         "orientation": "v",
         "showlegend": true,
         "textposition": "auto",
         "type": "bar",
         "x": [
          2020,
          2021
         ],
         "xaxis": "x",
         "y": [
          8.9,
          3.7
         ],
         "yaxis": "y"
        },
        {
         "alignmentgroup": "True",
         "customdata": [
          [
           "Southern Europe"
          ],
          [
           "Southern Europe"
          ]
         ],
         "hovertemplate": "Reference area=%{customdata[0]}<br>Time=%{x}<br>Value=%{y}<extra></extra>",
         "legendgroup": "Southern Europe",
         "marker": {
          "color": "#EF553B",
          "pattern": {
           "shape": ""
          }
         },
         "name": "Southern Europe",
         "offsetgroup": "Southern Europe",
         "orientation": "v",
         "showlegend": true,
         "textposition": "auto",
         "type": "bar",
         "x": [
          2020,
          2021
         ],
         "xaxis": "x",
         "y": [
          11.3,
          3.7
         ],
         "yaxis": "y"
        },
        {
         "alignmentgroup": "True",
         "customdata": [
          [
           "Western Europe"
          ],
          [
           "Western Europe"
          ]
         ],
         "hovertemplate": "Reference area=%{customdata[0]}<br>Time=%{x}<br>Value=%{y}<extra></extra>",
         "legendgroup": "Western Europe",
         "marker": {
          "color": "#00cc96",
          "pattern": {
           "shape": ""
          }
         },
         "name": "Western Europe",
         "offsetgroup": "Western Europe",
         "orientation": "v",
         "showlegend": true,
         "textposition": "auto",
         "type": "bar",
         "x": [
          2020,
          2021
         ],
         "xaxis": "x",
         "y": [
          6.1,
          2.9
         ],
         "yaxis": "y"
        },
        {
         "alignmentgroup": "True",
         "customdata": [
          [
           "Eastern Europe"
          ],
          [
           "Eastern Europe"
          ]
         ],
         "hovertemplate": "Reference area=%{customdata[0]}<br>Time=%{x}<br>Value=%{y}<extra></extra>",
         "legendgroup": "Eastern Europe",
         "marker": {
          "color": "#ab63fa",
          "pattern": {
           "shape": ""
          }
         },
         "name": "Eastern Europe",
         "offsetgroup": "Eastern Europe",
         "orientation": "v",
         "showlegend": true,
         "textposition": "auto",
         "type": "bar",
         "x": [
          2020,
          2021
         ],
         "xaxis": "x",
         "y": [
          5.8,
          2
         ],
         "yaxis": "y"
        },
        {
         "alignmentgroup": "True",
         "customdata": [
          [
           "Eastern Europe: Lower-middle income"
          ],
          [
           "Eastern Europe: Lower-middle income"
          ]
         ],
         "hovertemplate": "Reference area=%{customdata[0]}<br>Time=%{x}<br>Value=%{y}<extra></extra>",
         "legendgroup": "Eastern Europe: Lower-middle income",
         "marker": {
          "color": "#FFA15A",
          "pattern": {
           "shape": ""
          }
         },
         "name": "Eastern Europe: Lower-middle income",
         "offsetgroup": "Eastern Europe: Lower-middle income",
         "orientation": "v",
         "showlegend": true,
         "textposition": "auto",
         "type": "bar",
         "x": [
          2020,
          2021
         ],
         "xaxis": "x",
         "y": [
          8.5,
          7.1
         ],
         "yaxis": "y"
        },
        {
         "alignmentgroup": "True",
         "customdata": [
          [
           "Eastern Europe: Upper-middle income"
          ],
          [
           "Eastern Europe: Upper-middle income"
          ]
         ],
         "hovertemplate": "Reference area=%{customdata[0]}<br>Time=%{x}<br>Value=%{y}<extra></extra>",
         "legendgroup": "Eastern Europe: Upper-middle income",
         "marker": {
          "color": "#19d3f3",
          "pattern": {
           "shape": ""
          }
         },
         "name": "Eastern Europe: Upper-middle income",
         "offsetgroup": "Eastern Europe: Upper-middle income",
         "orientation": "v",
         "showlegend": true,
         "textposition": "auto",
         "type": "bar",
         "x": [
          2020,
          2021
         ],
         "xaxis": "x",
         "y": [
          5.8,
          1.4
         ],
         "yaxis": "y"
        },
        {
         "alignmentgroup": "True",
         "customdata": [
          [
           "Eastern Europe: High income"
          ],
          [
           "Eastern Europe: High income"
          ]
         ],
         "hovertemplate": "Reference area=%{customdata[0]}<br>Time=%{x}<br>Value=%{y}<extra></extra>",
         "legendgroup": "Eastern Europe: High income",
         "marker": {
          "color": "#FF6692",
          "pattern": {
           "shape": ""
          }
         },
         "name": "Eastern Europe: High income",
         "offsetgroup": "Eastern Europe: High income",
         "orientation": "v",
         "showlegend": true,
         "textposition": "auto",
         "type": "bar",
         "x": [
          2020,
          2021
         ],
         "xaxis": "x",
         "y": [
          4.5,
          0.4
         ],
         "yaxis": "y"
        },
        {
         "alignmentgroup": "True",
         "customdata": [
          [
           "Central and Western Asia"
          ],
          [
           "Central and Western Asia"
          ]
         ],
         "hovertemplate": "Reference area=%{customdata[0]}<br>Time=%{x}<br>Value=%{y}<extra></extra>",
         "legendgroup": "Central and Western Asia",
         "marker": {
          "color": "#B6E880",
          "pattern": {
           "shape": ""
          }
         },
         "name": "Central and Western Asia",
         "offsetgroup": "Central and Western Asia",
         "orientation": "v",
         "showlegend": true,
         "textposition": "auto",
         "type": "bar",
         "x": [
          2020,
          2021
         ],
         "xaxis": "x",
         "y": [
          11.6,
          4.7
         ],
         "yaxis": "y"
        },
        {
         "alignmentgroup": "True",
         "customdata": [
          [
           "Central and Western Asia: Low income"
          ],
          [
           "Central and Western Asia: Low income"
          ]
         ],
         "hovertemplate": "Reference area=%{customdata[0]}<br>Time=%{x}<br>Value=%{y}<extra></extra>",
         "legendgroup": "Central and Western Asia: Low income",
         "marker": {
          "color": "#FF97FF",
          "pattern": {
           "shape": ""
          }
         },
         "name": "Central and Western Asia: Low income",
         "offsetgroup": "Central and Western Asia: Low income",
         "orientation": "v",
         "showlegend": true,
         "textposition": "auto",
         "type": "bar",
         "x": [
          2020,
          2021
         ],
         "xaxis": "x",
         "y": [
          4.3,
          5.5
         ],
         "yaxis": "y"
        },
        {
         "alignmentgroup": "True",
         "customdata": [
          [
           "Central and Western Asia: Lower-middle income"
          ],
          [
           "Central and Western Asia: Lower-middle income"
          ]
         ],
         "hovertemplate": "Reference area=%{customdata[0]}<br>Time=%{x}<br>Value=%{y}<extra></extra>",
         "legendgroup": "Central and Western Asia: Lower-middle income",
         "marker": {
          "color": "#FECB52",
          "pattern": {
           "shape": ""
          }
         },
         "name": "Central and Western Asia: Lower-middle income",
         "offsetgroup": "Central and Western Asia: Lower-middle income",
         "orientation": "v",
         "showlegend": true,
         "textposition": "auto",
         "type": "bar",
         "x": [
          2020,
          2021
         ],
         "xaxis": "x",
         "y": [
          8.9,
          6.6
         ],
         "yaxis": "y"
        },
        {
         "alignmentgroup": "True",
         "customdata": [
          [
           "Central and Western Asia: Upper-middle income"
          ],
          [
           "Central and Western Asia: Upper-middle income"
          ]
         ],
         "hovertemplate": "Reference area=%{customdata[0]}<br>Time=%{x}<br>Value=%{y}<extra></extra>",
         "legendgroup": "Central and Western Asia: Upper-middle income",
         "marker": {
          "color": "#636efa",
          "pattern": {
           "shape": ""
          }
         },
         "name": "Central and Western Asia: Upper-middle income",
         "offsetgroup": "Central and Western Asia: Upper-middle income",
         "orientation": "v",
         "showlegend": true,
         "textposition": "auto",
         "type": "bar",
         "x": [
          2020,
          2021
         ],
         "xaxis": "x",
         "y": [
          13,
          4.2
         ],
         "yaxis": "y"
        },
        {
         "alignmentgroup": "True",
         "customdata": [
          [
           "Central and Western Asia: High income"
          ],
          [
           "Central and Western Asia: High income"
          ]
         ],
         "hovertemplate": "Reference area=%{customdata[0]}<br>Time=%{x}<br>Value=%{y}<extra></extra>",
         "legendgroup": "Central and Western Asia: High income",
         "marker": {
          "color": "#EF553B",
          "pattern": {
           "shape": ""
          }
         },
         "name": "Central and Western Asia: High income",
         "offsetgroup": "Central and Western Asia: High income",
         "orientation": "v",
         "showlegend": true,
         "textposition": "auto",
         "type": "bar",
         "x": [
          2020,
          2021
         ],
         "xaxis": "x",
         "y": [
          8.2,
          1.9
         ],
         "yaxis": "y"
        },
        {
         "alignmentgroup": "True",
         "customdata": [
          [
           "Central Asia"
          ],
          [
           "Central Asia"
          ]
         ],
         "hovertemplate": "Reference area=%{customdata[0]}<br>Time=%{x}<br>Value=%{y}<extra></extra>",
         "legendgroup": "Central Asia",
         "marker": {
          "color": "#00cc96",
          "pattern": {
           "shape": ""
          }
         },
         "name": "Central Asia",
         "offsetgroup": "Central Asia",
         "orientation": "v",
         "showlegend": true,
         "textposition": "auto",
         "type": "bar",
         "x": [
          2020,
          2021
         ],
         "xaxis": "x",
         "y": [
          8.7,
          6
         ],
         "yaxis": "y"
        },
        {
         "alignmentgroup": "True",
         "customdata": [
          [
           "Western Asia"
          ],
          [
           "Western Asia"
          ]
         ],
         "hovertemplate": "Reference area=%{customdata[0]}<br>Time=%{x}<br>Value=%{y}<extra></extra>",
         "legendgroup": "Western Asia",
         "marker": {
          "color": "#ab63fa",
          "pattern": {
           "shape": ""
          }
         },
         "name": "Western Asia",
         "offsetgroup": "Western Asia",
         "orientation": "v",
         "showlegend": true,
         "textposition": "auto",
         "type": "bar",
         "x": [
          2020,
          2021
         ],
         "xaxis": "x",
         "y": [
          13.5,
          3.7
         ],
         "yaxis": "y"
        },
        {
         "alignmentgroup": "True",
         "customdata": [
          [
           "ASEAN"
          ],
          [
           "ASEAN"
          ]
         ],
         "hovertemplate": "Reference area=%{customdata[0]}<br>Time=%{x}<br>Value=%{y}<extra></extra>",
         "legendgroup": "ASEAN",
         "marker": {
          "color": "#FFA15A",
          "pattern": {
           "shape": ""
          }
         },
         "name": "ASEAN",
         "offsetgroup": "ASEAN",
         "orientation": "v",
         "showlegend": true,
         "textposition": "auto",
         "type": "bar",
         "x": [
          2020,
          2021
         ],
         "xaxis": "x",
         "y": [
          7.9,
          7.3
         ],
         "yaxis": "y"
        },
        {
         "alignmentgroup": "True",
         "customdata": [
          [
           "BRICS"
          ],
          [
           "BRICS"
          ]
         ],
         "hovertemplate": "Reference area=%{customdata[0]}<br>Time=%{x}<br>Value=%{y}<extra></extra>",
         "legendgroup": "BRICS",
         "marker": {
          "color": "#19d3f3",
          "pattern": {
           "shape": ""
          }
         },
         "name": "BRICS",
         "offsetgroup": "BRICS",
         "orientation": "v",
         "showlegend": true,
         "textposition": "auto",
         "type": "bar",
         "x": [
          2020,
          2021
         ],
         "xaxis": "x",
         "y": [
          8.6,
          2.9
         ],
         "yaxis": "y"
        },
        {
         "alignmentgroup": "True",
         "customdata": [
          [
           "European Union 28"
          ],
          [
           "European Union 28"
          ]
         ],
         "hovertemplate": "Reference area=%{customdata[0]}<br>Time=%{x}<br>Value=%{y}<extra></extra>",
         "legendgroup": "European Union 28",
         "marker": {
          "color": "#FF6692",
          "pattern": {
           "shape": ""
          }
         },
         "name": "European Union 28",
         "offsetgroup": "European Union 28",
         "orientation": "v",
         "showlegend": true,
         "textposition": "auto",
         "type": "bar",
         "x": [
          2020,
          2021
         ],
         "xaxis": "x",
         "y": [
          7.9,
          3
         ],
         "yaxis": "y"
        },
        {
         "alignmentgroup": "True",
         "customdata": [
          [
           "European Union 27"
          ],
          [
           "European Union 27"
          ]
         ],
         "hovertemplate": "Reference area=%{customdata[0]}<br>Time=%{x}<br>Value=%{y}<extra></extra>",
         "legendgroup": "European Union 27",
         "marker": {
          "color": "#B6E880",
          "pattern": {
           "shape": ""
          }
         },
         "name": "European Union 27",
         "offsetgroup": "European Union 27",
         "orientation": "v",
         "showlegend": true,
         "textposition": "auto",
         "type": "bar",
         "x": [
          2020,
          2021
         ],
         "xaxis": "x",
         "y": [
          7.4,
          2.7
         ],
         "yaxis": "y"
        },
        {
         "alignmentgroup": "True",
         "customdata": [
          [
           "G20"
          ],
          [
           "G20"
          ]
         ],
         "hovertemplate": "Reference area=%{customdata[0]}<br>Time=%{x}<br>Value=%{y}<extra></extra>",
         "legendgroup": "G20",
         "marker": {
          "color": "#FF97FF",
          "pattern": {
           "shape": ""
          }
         },
         "name": "G20",
         "offsetgroup": "G20",
         "orientation": "v",
         "showlegend": true,
         "textposition": "auto",
         "type": "bar",
         "x": [
          2020,
          2021
         ],
         "xaxis": "x",
         "y": [
          8.7,
          3.4
         ],
         "yaxis": "y"
        },
        {
         "alignmentgroup": "True",
         "customdata": [
          [
           "World excluding BRICS"
          ],
          [
           "World excluding BRICS"
          ]
         ],
         "hovertemplate": "Reference area=%{customdata[0]}<br>Time=%{x}<br>Value=%{y}<extra></extra>",
         "legendgroup": "World excluding BRICS",
         "marker": {
          "color": "#FECB52",
          "pattern": {
           "shape": ""
          }
         },
         "name": "World excluding BRICS",
         "offsetgroup": "World excluding BRICS",
         "orientation": "v",
         "showlegend": true,
         "textposition": "auto",
         "type": "bar",
         "x": [
          2020,
          2021
         ],
         "xaxis": "x",
         "y": [
          9.1,
          5.5
         ],
         "yaxis": "y"
        },
        {
         "alignmentgroup": "True",
         "customdata": [
          [
           "G7"
          ],
          [
           "G7"
          ]
         ],
         "hovertemplate": "Reference area=%{customdata[0]}<br>Time=%{x}<br>Value=%{y}<extra></extra>",
         "legendgroup": "G7",
         "marker": {
          "color": "#636efa",
          "pattern": {
           "shape": ""
          }
         },
         "name": "G7",
         "offsetgroup": "G7",
         "orientation": "v",
         "showlegend": true,
         "textposition": "auto",
         "type": "bar",
         "x": [
          2020,
          2021
         ],
         "xaxis": "x",
         "y": [
          8.4,
          4.5
         ],
         "yaxis": "y"
        },
        {
         "alignmentgroup": "True",
         "customdata": [
          [
           "MENA"
          ],
          [
           "MENA"
          ]
         ],
         "hovertemplate": "Reference area=%{customdata[0]}<br>Time=%{x}<br>Value=%{y}<extra></extra>",
         "legendgroup": "MENA",
         "marker": {
          "color": "#EF553B",
          "pattern": {
           "shape": ""
          }
         },
         "name": "MENA",
         "offsetgroup": "MENA",
         "orientation": "v",
         "showlegend": true,
         "textposition": "auto",
         "type": "bar",
         "x": [
          2020,
          2021
         ],
         "xaxis": "x",
         "y": [
          8.6,
          6.5
         ],
         "yaxis": "y"
        },
        {
         "alignmentgroup": "True",
         "customdata": [
          [
           "Arab League"
          ],
          [
           "Arab League"
          ]
         ],
         "hovertemplate": "Reference area=%{customdata[0]}<br>Time=%{x}<br>Value=%{y}<extra></extra>",
         "legendgroup": "Arab League",
         "marker": {
          "color": "#00cc96",
          "pattern": {
           "shape": ""
          }
         },
         "name": "Arab League",
         "offsetgroup": "Arab League",
         "orientation": "v",
         "showlegend": true,
         "textposition": "auto",
         "type": "bar",
         "x": [
          2020,
          2021
         ],
         "xaxis": "x",
         "y": [
          9.3,
          6.1
         ],
         "yaxis": "y"
        },
        {
         "alignmentgroup": "True",
         "customdata": [
          [
           "CARICOM"
          ],
          [
           "CARICOM"
          ]
         ],
         "hovertemplate": "Reference area=%{customdata[0]}<br>Time=%{x}<br>Value=%{y}<extra></extra>",
         "legendgroup": "CARICOM",
         "marker": {
          "color": "#ab63fa",
          "pattern": {
           "shape": ""
          }
         },
         "name": "CARICOM",
         "offsetgroup": "CARICOM",
         "orientation": "v",
         "showlegend": true,
         "textposition": "auto",
         "type": "bar",
         "x": [
          2020,
          2021
         ],
         "xaxis": "x",
         "y": [
          11,
          7.2
         ],
         "yaxis": "y"
        },
        {
         "alignmentgroup": "True",
         "customdata": [
          [
           "Afghanistan"
          ],
          [
           "Afghanistan"
          ]
         ],
         "hovertemplate": "Reference area=%{customdata[0]}<br>Time=%{x}<br>Value=%{y}<extra></extra>",
         "legendgroup": "Afghanistan",
         "marker": {
          "color": "#FFA15A",
          "pattern": {
           "shape": ""
          }
         },
         "name": "Afghanistan",
         "offsetgroup": "Afghanistan",
         "orientation": "v",
         "showlegend": true,
         "textposition": "auto",
         "type": "bar",
         "x": [
          2020,
          2021
         ],
         "xaxis": "x",
         "y": [
          7.4,
          4
         ],
         "yaxis": "y"
        },
        {
         "alignmentgroup": "True",
         "customdata": [
          [
           "Albania"
          ],
          [
           "Albania"
          ]
         ],
         "hovertemplate": "Reference area=%{customdata[0]}<br>Time=%{x}<br>Value=%{y}<extra></extra>",
         "legendgroup": "Albania",
         "marker": {
          "color": "#19d3f3",
          "pattern": {
           "shape": ""
          }
         },
         "name": "Albania",
         "offsetgroup": "Albania",
         "orientation": "v",
         "showlegend": true,
         "textposition": "auto",
         "type": "bar",
         "x": [
          2020,
          2021
         ],
         "xaxis": "x",
         "y": [
          9.1,
          3.5
         ],
         "yaxis": "y"
        },
        {
         "alignmentgroup": "True",
         "customdata": [
          [
           "Algeria"
          ],
          [
           "Algeria"
          ]
         ],
         "hovertemplate": "Reference area=%{customdata[0]}<br>Time=%{x}<br>Value=%{y}<extra></extra>",
         "legendgroup": "Algeria",
         "marker": {
          "color": "#FF6692",
          "pattern": {
           "shape": ""
          }
         },
         "name": "Algeria",
         "offsetgroup": "Algeria",
         "orientation": "v",
         "showlegend": true,
         "textposition": "auto",
         "type": "bar",
         "x": [
          2020,
          2021
         ],
         "xaxis": "x",
         "y": [
          9.7,
          7.4
         ],
         "yaxis": "y"
        },
        {
         "alignmentgroup": "True",
         "customdata": [
          [
           "Angola"
          ],
          [
           "Angola"
          ]
         ],
         "hovertemplate": "Reference area=%{customdata[0]}<br>Time=%{x}<br>Value=%{y}<extra></extra>",
         "legendgroup": "Angola",
         "marker": {
          "color": "#B6E880",
          "pattern": {
           "shape": ""
          }
         },
         "name": "Angola",
         "offsetgroup": "Angola",
         "orientation": "v",
         "showlegend": true,
         "textposition": "auto",
         "type": "bar",
         "x": [
          2020,
          2021
         ],
         "xaxis": "x",
         "y": [
          8.7,
          5.7
         ],
         "yaxis": "y"
        },
        {
         "alignmentgroup": "True",
         "customdata": [
          [
           "Argentina"
          ],
          [
           "Argentina"
          ]
         ],
         "hovertemplate": "Reference area=%{customdata[0]}<br>Time=%{x}<br>Value=%{y}<extra></extra>",
         "legendgroup": "Argentina",
         "marker": {
          "color": "#FF97FF",
          "pattern": {
           "shape": ""
          }
         },
         "name": "Argentina",
         "offsetgroup": "Argentina",
         "orientation": "v",
         "showlegend": true,
         "textposition": "auto",
         "type": "bar",
         "x": [
          2020,
          2021
         ],
         "xaxis": "x",
         "y": [
          21.9,
          8.9
         ],
         "yaxis": "y"
        },
        {
         "alignmentgroup": "True",
         "customdata": [
          [
           "Armenia"
          ],
          [
           "Armenia"
          ]
         ],
         "hovertemplate": "Reference area=%{customdata[0]}<br>Time=%{x}<br>Value=%{y}<extra></extra>",
         "legendgroup": "Armenia",
         "marker": {
          "color": "#FECB52",
          "pattern": {
           "shape": ""
          }
         },
         "name": "Armenia",
         "offsetgroup": "Armenia",
         "orientation": "v",
         "showlegend": true,
         "textposition": "auto",
         "type": "bar",
         "x": [
          2020,
          2021
         ],
         "xaxis": "x",
         "y": [
          14.9,
          3.5
         ],
         "yaxis": "y"
        },
        {
         "alignmentgroup": "True",
         "customdata": [
          [
           "Australia"
          ],
          [
           "Australia"
          ]
         ],
         "hovertemplate": "Reference area=%{customdata[0]}<br>Time=%{x}<br>Value=%{y}<extra></extra>",
         "legendgroup": "Australia",
         "marker": {
          "color": "#636efa",
          "pattern": {
           "shape": ""
          }
         },
         "name": "Australia",
         "offsetgroup": "Australia",
         "orientation": "v",
         "showlegend": true,
         "textposition": "auto",
         "type": "bar",
         "x": [
          2020,
          2021
         ],
         "xaxis": "x",
         "y": [
          4.6,
          1.6
         ],
         "yaxis": "y"
        },
        {
         "alignmentgroup": "True",
         "customdata": [
          [
           "Austria"
          ],
          [
           "Austria"
          ]
         ],
         "hovertemplate": "Reference area=%{customdata[0]}<br>Time=%{x}<br>Value=%{y}<extra></extra>",
         "legendgroup": "Austria",
         "marker": {
          "color": "#EF553B",
          "pattern": {
           "shape": ""
          }
         },
         "name": "Austria",
         "offsetgroup": "Austria",
         "orientation": "v",
         "showlegend": true,
         "textposition": "auto",
         "type": "bar",
         "x": [
          2020,
          2021
         ],
         "xaxis": "x",
         "y": [
          12.3,
          7.7
         ],
         "yaxis": "y"
        },
        {
         "alignmentgroup": "True",
         "customdata": [
          [
           "Azerbaijan"
          ],
          [
           "Azerbaijan"
          ]
         ],
         "hovertemplate": "Reference area=%{customdata[0]}<br>Time=%{x}<br>Value=%{y}<extra></extra>",
         "legendgroup": "Azerbaijan",
         "marker": {
          "color": "#00cc96",
          "pattern": {
           "shape": ""
          }
         },
         "name": "Azerbaijan",
         "offsetgroup": "Azerbaijan",
         "orientation": "v",
         "showlegend": true,
         "textposition": "auto",
         "type": "bar",
         "x": [
          2020,
          2021
         ],
         "xaxis": "x",
         "y": [
          12,
          4.6
         ],
         "yaxis": "y"
        },
        {
         "alignmentgroup": "True",
         "customdata": [
          [
           "Bahamas"
          ],
          [
           "Bahamas"
          ]
         ],
         "hovertemplate": "Reference area=%{customdata[0]}<br>Time=%{x}<br>Value=%{y}<extra></extra>",
         "legendgroup": "Bahamas",
         "marker": {
          "color": "#ab63fa",
          "pattern": {
           "shape": ""
          }
         },
         "name": "Bahamas",
         "offsetgroup": "Bahamas",
         "orientation": "v",
         "showlegend": true,
         "textposition": "auto",
         "type": "bar",
         "x": [
          2020,
          2021
         ],
         "xaxis": "x",
         "y": [
          15.6,
          4.3
         ],
         "yaxis": "y"
        },
        {
         "alignmentgroup": "True",
         "customdata": [
          [
           "Bahrain"
          ],
          [
           "Bahrain"
          ]
         ],
         "hovertemplate": "Reference area=%{customdata[0]}<br>Time=%{x}<br>Value=%{y}<extra></extra>",
         "legendgroup": "Bahrain",
         "marker": {
          "color": "#FFA15A",
          "pattern": {
           "shape": ""
          }
         },
         "name": "Bahrain",
         "offsetgroup": "Bahrain",
         "orientation": "v",
         "showlegend": true,
         "textposition": "auto",
         "type": "bar",
         "x": [
          2020,
          2021
         ],
         "xaxis": "x",
         "y": [
          8.9,
          7.1
         ],
         "yaxis": "y"
        },
        {
         "alignmentgroup": "True",
         "customdata": [
          [
           "Bangladesh"
          ],
          [
           "Bangladesh"
          ]
         ],
         "hovertemplate": "Reference area=%{customdata[0]}<br>Time=%{x}<br>Value=%{y}<extra></extra>",
         "legendgroup": "Bangladesh",
         "marker": {
          "color": "#19d3f3",
          "pattern": {
           "shape": ""
          }
         },
         "name": "Bangladesh",
         "offsetgroup": "Bangladesh",
         "orientation": "v",
         "showlegend": true,
         "textposition": "auto",
         "type": "bar",
         "x": [
          2020,
          2021
         ],
         "xaxis": "x",
         "y": [
          11.9,
          7.4
         ],
         "yaxis": "y"
        },
        {
         "alignmentgroup": "True",
         "customdata": [
          [
           "Barbados"
          ],
          [
           "Barbados"
          ]
         ],
         "hovertemplate": "Reference area=%{customdata[0]}<br>Time=%{x}<br>Value=%{y}<extra></extra>",
         "legendgroup": "Barbados",
         "marker": {
          "color": "#FF6692",
          "pattern": {
           "shape": ""
          }
         },
         "name": "Barbados",
         "offsetgroup": "Barbados",
         "orientation": "v",
         "showlegend": true,
         "textposition": "auto",
         "type": "bar",
         "x": [
          2020,
          2021
         ],
         "xaxis": "x",
         "y": [
          10.4,
          4.1
         ],
         "yaxis": "y"
        },
        {
         "alignmentgroup": "True",
         "customdata": [
          [
           "Belarus"
          ],
          [
           "Belarus"
          ]
         ],
         "hovertemplate": "Reference area=%{customdata[0]}<br>Time=%{x}<br>Value=%{y}<extra></extra>",
         "legendgroup": "Belarus",
         "marker": {
          "color": "#B6E880",
          "pattern": {
           "shape": ""
          }
         },
         "name": "Belarus",
         "offsetgroup": "Belarus",
         "orientation": "v",
         "showlegend": true,
         "textposition": "auto",
         "type": "bar",
         "x": [
          2020,
          2021
         ],
         "xaxis": "x",
         "y": [
          2.5,
          3.2
         ],
         "yaxis": "y"
        },
        {
         "alignmentgroup": "True",
         "customdata": [
          [
           "Belgium"
          ],
          [
           "Belgium"
          ]
         ],
         "hovertemplate": "Reference area=%{customdata[0]}<br>Time=%{x}<br>Value=%{y}<extra></extra>",
         "legendgroup": "Belgium",
         "marker": {
          "color": "#FF97FF",
          "pattern": {
           "shape": ""
          }
         },
         "name": "Belgium",
         "offsetgroup": "Belgium",
         "orientation": "v",
         "showlegend": true,
         "textposition": "auto",
         "type": "bar",
         "x": [
          2020,
          2021
         ],
         "xaxis": "x",
         "y": [
          7.6,
          1.5
         ],
         "yaxis": "y"
        },
        {
         "alignmentgroup": "True",
         "customdata": [
          [
           "Belize"
          ],
          [
           "Belize"
          ]
         ],
         "hovertemplate": "Reference area=%{customdata[0]}<br>Time=%{x}<br>Value=%{y}<extra></extra>",
         "legendgroup": "Belize",
         "marker": {
          "color": "#FECB52",
          "pattern": {
           "shape": ""
          }
         },
         "name": "Belize",
         "offsetgroup": "Belize",
         "orientation": "v",
         "showlegend": true,
         "textposition": "auto",
         "type": "bar",
         "x": [
          2020,
          2021
         ],
         "xaxis": "x",
         "y": [
          10.6,
          7.4
         ],
         "yaxis": "y"
        },
        {
         "alignmentgroup": "True",
         "customdata": [
          [
           "Benin"
          ],
          [
           "Benin"
          ]
         ],
         "hovertemplate": "Reference area=%{customdata[0]}<br>Time=%{x}<br>Value=%{y}<extra></extra>",
         "legendgroup": "Benin",
         "marker": {
          "color": "#636efa",
          "pattern": {
           "shape": ""
          }
         },
         "name": "Benin",
         "offsetgroup": "Benin",
         "orientation": "v",
         "showlegend": true,
         "textposition": "auto",
         "type": "bar",
         "x": [
          2020,
          2021
         ],
         "xaxis": "x",
         "y": [
          3.9,
          4.1
         ],
         "yaxis": "y"
        },
        {
         "alignmentgroup": "True",
         "customdata": [
          [
           "Bhutan"
          ],
          [
           "Bhutan"
          ]
         ],
         "hovertemplate": "Reference area=%{customdata[0]}<br>Time=%{x}<br>Value=%{y}<extra></extra>",
         "legendgroup": "Bhutan",
         "marker": {
          "color": "#EF553B",
          "pattern": {
           "shape": ""
          }
         },
         "name": "Bhutan",
         "offsetgroup": "Bhutan",
         "orientation": "v",
         "showlegend": true,
         "textposition": "auto",
         "type": "bar",
         "x": [
          2020,
          2021
         ],
         "xaxis": "x",
         "y": [
          11,
          7.7
         ],
         "yaxis": "y"
        },
        {
         "alignmentgroup": "True",
         "customdata": [
          [
           "Bolivia"
          ],
          [
           "Bolivia"
          ]
         ],
         "hovertemplate": "Reference area=%{customdata[0]}<br>Time=%{x}<br>Value=%{y}<extra></extra>",
         "legendgroup": "Bolivia",
         "marker": {
          "color": "#00cc96",
          "pattern": {
           "shape": ""
          }
         },
         "name": "Bolivia",
         "offsetgroup": "Bolivia",
         "orientation": "v",
         "showlegend": true,
         "textposition": "auto",
         "type": "bar",
         "x": [
          2020,
          2021
         ],
         "xaxis": "x",
         "y": [
          14.2,
          -0.9
         ],
         "yaxis": "y"
        },
        {
         "alignmentgroup": "True",
         "customdata": [
          [
           "Bosnia and Herzegovina"
          ],
          [
           "Bosnia and Herzegovina"
          ]
         ],
         "hovertemplate": "Reference area=%{customdata[0]}<br>Time=%{x}<br>Value=%{y}<extra></extra>",
         "legendgroup": "Bosnia and Herzegovina",
         "marker": {
          "color": "#ab63fa",
          "pattern": {
           "shape": ""
          }
         },
         "name": "Bosnia and Herzegovina",
         "offsetgroup": "Bosnia and Herzegovina",
         "orientation": "v",
         "showlegend": true,
         "textposition": "auto",
         "type": "bar",
         "x": [
          2020,
          2021
         ],
         "xaxis": "x",
         "y": [
          7.4,
          3.3
         ],
         "yaxis": "y"
        },
        {
         "alignmentgroup": "True",
         "customdata": [
          [
           "Botswana"
          ],
          [
           "Botswana"
          ]
         ],
         "hovertemplate": "Reference area=%{customdata[0]}<br>Time=%{x}<br>Value=%{y}<extra></extra>",
         "legendgroup": "Botswana",
         "marker": {
          "color": "#FFA15A",
          "pattern": {
           "shape": ""
          }
         },
         "name": "Botswana",
         "offsetgroup": "Botswana",
         "orientation": "v",
         "showlegend": true,
         "textposition": "auto",
         "type": "bar",
         "x": [
          2020,
          2021
         ],
         "xaxis": "x",
         "y": [
          6.5,
          7.3
         ],
         "yaxis": "y"
        },
        {
         "alignmentgroup": "True",
         "customdata": [
          [
           "Brazil"
          ],
          [
           "Brazil"
          ]
         ],
         "hovertemplate": "Reference area=%{customdata[0]}<br>Time=%{x}<br>Value=%{y}<extra></extra>",
         "legendgroup": "Brazil",
         "marker": {
          "color": "#19d3f3",
          "pattern": {
           "shape": ""
          }
         },
         "name": "Brazil",
         "offsetgroup": "Brazil",
         "orientation": "v",
         "showlegend": true,
         "textposition": "auto",
         "type": "bar",
         "x": [
          2020,
          2021
         ],
         "xaxis": "x",
         "y": [
          15.7,
          5.6
         ],
         "yaxis": "y"
        },
        {
         "alignmentgroup": "True",
         "customdata": [
          [
           "Brunei Darussalam"
          ],
          [
           "Brunei Darussalam"
          ]
         ],
         "hovertemplate": "Reference area=%{customdata[0]}<br>Time=%{x}<br>Value=%{y}<extra></extra>",
         "legendgroup": "Brunei Darussalam",
         "marker": {
          "color": "#FF6692",
          "pattern": {
           "shape": ""
          }
         },
         "name": "Brunei Darussalam",
         "offsetgroup": "Brunei Darussalam",
         "orientation": "v",
         "showlegend": true,
         "textposition": "auto",
         "type": "bar",
         "x": [
          2020,
          2021
         ],
         "xaxis": "x",
         "y": [
          5,
          3.1
         ],
         "yaxis": "y"
        },
        {
         "alignmentgroup": "True",
         "customdata": [
          [
           "Bulgaria"
          ],
          [
           "Bulgaria"
          ]
         ],
         "hovertemplate": "Reference area=%{customdata[0]}<br>Time=%{x}<br>Value=%{y}<extra></extra>",
         "legendgroup": "Bulgaria",
         "marker": {
          "color": "#B6E880",
          "pattern": {
           "shape": ""
          }
         },
         "name": "Bulgaria",
         "offsetgroup": "Bulgaria",
         "orientation": "v",
         "showlegend": true,
         "textposition": "auto",
         "type": "bar",
         "x": [
          2020,
          2021
         ],
         "xaxis": "x",
         "y": [
          4.9,
          0.2
         ],
         "yaxis": "y"
        },
        {
         "alignmentgroup": "True",
         "customdata": [
          [
           "Burkina Faso"
          ],
          [
           "Burkina Faso"
          ]
         ],
         "hovertemplate": "Reference area=%{customdata[0]}<br>Time=%{x}<br>Value=%{y}<extra></extra>",
         "legendgroup": "Burkina Faso",
         "marker": {
          "color": "#FF97FF",
          "pattern": {
           "shape": ""
          }
         },
         "name": "Burkina Faso",
         "offsetgroup": "Burkina Faso",
         "orientation": "v",
         "showlegend": true,
         "textposition": "auto",
         "type": "bar",
         "x": [
          2020,
          2021
         ],
         "xaxis": "x",
         "y": [
          3.7,
          1.4
         ],
         "yaxis": "y"
        },
        {
         "alignmentgroup": "True",
         "customdata": [
          [
           "Burundi"
          ],
          [
           "Burundi"
          ]
         ],
         "hovertemplate": "Reference area=%{customdata[0]}<br>Time=%{x}<br>Value=%{y}<extra></extra>",
         "legendgroup": "Burundi",
         "marker": {
          "color": "#FECB52",
          "pattern": {
           "shape": ""
          }
         },
         "name": "Burundi",
         "offsetgroup": "Burundi",
         "orientation": "v",
         "showlegend": true,
         "textposition": "auto",
         "type": "bar",
         "x": [
          2020,
          2021
         ],
         "xaxis": "x",
         "y": [
          0.5,
          0.8
         ],
         "yaxis": "y"
        },
        {
         "alignmentgroup": "True",
         "customdata": [
          [
           "Cambodia"
          ],
          [
           "Cambodia"
          ]
         ],
         "hovertemplate": "Reference area=%{customdata[0]}<br>Time=%{x}<br>Value=%{y}<extra></extra>",
         "legendgroup": "Cambodia",
         "marker": {
          "color": "#636efa",
          "pattern": {
           "shape": ""
          }
         },
         "name": "Cambodia",
         "offsetgroup": "Cambodia",
         "orientation": "v",
         "showlegend": true,
         "textposition": "auto",
         "type": "bar",
         "x": [
          2020,
          2021
         ],
         "xaxis": "x",
         "y": [
          5.2,
          8
         ],
         "yaxis": "y"
        },
        {
         "alignmentgroup": "True",
         "customdata": [
          [
           "Cameroon"
          ],
          [
           "Cameroon"
          ]
         ],
         "hovertemplate": "Reference area=%{customdata[0]}<br>Time=%{x}<br>Value=%{y}<extra></extra>",
         "legendgroup": "Cameroon",
         "marker": {
          "color": "#EF553B",
          "pattern": {
           "shape": ""
          }
         },
         "name": "Cameroon",
         "offsetgroup": "Cameroon",
         "orientation": "v",
         "showlegend": true,
         "textposition": "auto",
         "type": "bar",
         "x": [
          2020,
          2021
         ],
         "xaxis": "x",
         "y": [
          4.9,
          3.3
         ],
         "yaxis": "y"
        },
        {
         "alignmentgroup": "True",
         "customdata": [
          [
           "Canada"
          ],
          [
           "Canada"
          ]
         ],
         "hovertemplate": "Reference area=%{customdata[0]}<br>Time=%{x}<br>Value=%{y}<extra></extra>",
         "legendgroup": "Canada",
         "marker": {
          "color": "#00cc96",
          "pattern": {
           "shape": ""
          }
         },
         "name": "Canada",
         "offsetgroup": "Canada",
         "orientation": "v",
         "showlegend": true,
         "textposition": "auto",
         "type": "bar",
         "x": [
          2020,
          2021
         ],
         "xaxis": "x",
         "y": [
          9.5,
          1.7
         ],
         "yaxis": "y"
        },
        {
         "alignmentgroup": "True",
         "customdata": [
          [
           "Cape Verde"
          ],
          [
           "Cape Verde"
          ]
         ],
         "hovertemplate": "Reference area=%{customdata[0]}<br>Time=%{x}<br>Value=%{y}<extra></extra>",
         "legendgroup": "Cape Verde",
         "marker": {
          "color": "#ab63fa",
          "pattern": {
           "shape": ""
          }
         },
         "name": "Cape Verde",
         "offsetgroup": "Cape Verde",
         "orientation": "v",
         "showlegend": true,
         "textposition": "auto",
         "type": "bar",
         "x": [
          2020,
          2021
         ],
         "xaxis": "x",
         "y": [
          12.2,
          7.9
         ],
         "yaxis": "y"
        },
        {
         "alignmentgroup": "True",
         "customdata": [
          [
           "Central African Republic"
          ],
          [
           "Central African Republic"
          ]
         ],
         "hovertemplate": "Reference area=%{customdata[0]}<br>Time=%{x}<br>Value=%{y}<extra></extra>",
         "legendgroup": "Central African Republic",
         "marker": {
          "color": "#FFA15A",
          "pattern": {
           "shape": ""
          }
         },
         "name": "Central African Republic",
         "offsetgroup": "Central African Republic",
         "orientation": "v",
         "showlegend": true,
         "textposition": "auto",
         "type": "bar",
         "x": [
          2020,
          2021
         ],
         "xaxis": "x",
         "y": [
          5,
          0.8
         ],
         "yaxis": "y"
        },
        {
         "alignmentgroup": "True",
         "customdata": [
          [
           "Chad"
          ],
          [
           "Chad"
          ]
         ],
         "hovertemplate": "Reference area=%{customdata[0]}<br>Time=%{x}<br>Value=%{y}<extra></extra>",
         "legendgroup": "Chad",
         "marker": {
          "color": "#19d3f3",
          "pattern": {
           "shape": ""
          }
         },
         "name": "Chad",
         "offsetgroup": "Chad",
         "orientation": "v",
         "showlegend": true,
         "textposition": "auto",
         "type": "bar",
         "x": [
          2020,
          2021
         ],
         "xaxis": "x",
         "y": [
          7.2,
          2.5
         ],
         "yaxis": "y"
        },
        {
         "alignmentgroup": "True",
         "customdata": [
          [
           "Channel Islands"
          ],
          [
           "Channel Islands"
          ]
         ],
         "hovertemplate": "Reference area=%{customdata[0]}<br>Time=%{x}<br>Value=%{y}<extra></extra>",
         "legendgroup": "Channel Islands",
         "marker": {
          "color": "#FF6692",
          "pattern": {
           "shape": ""
          }
         },
         "name": "Channel Islands",
         "offsetgroup": "Channel Islands",
         "orientation": "v",
         "showlegend": true,
         "textposition": "auto",
         "type": "bar",
         "x": [
          2020,
          2021
         ],
         "xaxis": "x",
         "y": [
          6.1,
          2.8
         ],
         "yaxis": "y"
        },
        {
         "alignmentgroup": "True",
         "customdata": [
          [
           "Chile"
          ],
          [
           "Chile"
          ]
         ],
         "hovertemplate": "Reference area=%{customdata[0]}<br>Time=%{x}<br>Value=%{y}<extra></extra>",
         "legendgroup": "Chile",
         "marker": {
          "color": "#B6E880",
          "pattern": {
           "shape": ""
          }
         },
         "name": "Chile",
         "offsetgroup": "Chile",
         "orientation": "v",
         "showlegend": true,
         "textposition": "auto",
         "type": "bar",
         "x": [
          2020,
          2021
         ],
         "xaxis": "x",
         "y": [
          14.6,
          5.2
         ],
         "yaxis": "y"
        },
        {
         "alignmentgroup": "True",
         "customdata": [
          [
           "China"
          ],
          [
           "China"
          ]
         ],
         "hovertemplate": "Reference area=%{customdata[0]}<br>Time=%{x}<br>Value=%{y}<extra></extra>",
         "legendgroup": "China",
         "marker": {
          "color": "#FF97FF",
          "pattern": {
           "shape": ""
          }
         },
         "name": "China",
         "offsetgroup": "China",
         "orientation": "v",
         "showlegend": true,
         "textposition": "auto",
         "type": "bar",
         "x": [
          2020,
          2021
         ],
         "xaxis": "x",
         "y": [
          4.1,
          -0.4
         ],
         "yaxis": "y"
        },
        {
         "alignmentgroup": "True",
         "customdata": [
          [
           "Colombia"
          ],
          [
           "Colombia"
          ]
         ],
         "hovertemplate": "Reference area=%{customdata[0]}<br>Time=%{x}<br>Value=%{y}<extra></extra>",
         "legendgroup": "Colombia",
         "marker": {
          "color": "#FECB52",
          "pattern": {
           "shape": ""
          }
         },
         "name": "Colombia",
         "offsetgroup": "Colombia",
         "orientation": "v",
         "showlegend": true,
         "textposition": "auto",
         "type": "bar",
         "x": [
          2020,
          2021
         ],
         "xaxis": "x",
         "y": [
          19.2,
          6
         ],
         "yaxis": "y"
        },
        {
         "alignmentgroup": "True",
         "customdata": [
          [
           "Comoros"
          ],
          [
           "Comoros"
          ]
         ],
         "hovertemplate": "Reference area=%{customdata[0]}<br>Time=%{x}<br>Value=%{y}<extra></extra>",
         "legendgroup": "Comoros",
         "marker": {
          "color": "#636efa",
          "pattern": {
           "shape": ""
          }
         },
         "name": "Comoros",
         "offsetgroup": "Comoros",
         "orientation": "v",
         "showlegend": true,
         "textposition": "auto",
         "type": "bar",
         "x": [
          2020,
          2021
         ],
         "xaxis": "x",
         "y": [
          7.2,
          5.7
         ],
         "yaxis": "y"
        },
        {
         "alignmentgroup": "True",
         "customdata": [
          [
           "Congo"
          ],
          [
           "Congo"
          ]
         ],
         "hovertemplate": "Reference area=%{customdata[0]}<br>Time=%{x}<br>Value=%{y}<extra></extra>",
         "legendgroup": "Congo",
         "marker": {
          "color": "#EF553B",
          "pattern": {
           "shape": ""
          }
         },
         "name": "Congo",
         "offsetgroup": "Congo",
         "orientation": "v",
         "showlegend": true,
         "textposition": "auto",
         "type": "bar",
         "x": [
          2020,
          2021
         ],
         "xaxis": "x",
         "y": [
          8.9,
          6.4
         ],
         "yaxis": "y"
        },
        {
         "alignmentgroup": "True",
         "customdata": [
          [
           "Congo, Democratic Republic of the"
          ],
          [
           "Congo, Democratic Republic of the"
          ]
         ],
         "hovertemplate": "Reference area=%{customdata[0]}<br>Time=%{x}<br>Value=%{y}<extra></extra>",
         "legendgroup": "Congo, Democratic Republic of the",
         "marker": {
          "color": "#00cc96",
          "pattern": {
           "shape": ""
          }
         },
         "name": "Congo, Democratic Republic of the",
         "offsetgroup": "Congo, Democratic Republic of the",
         "orientation": "v",
         "showlegend": true,
         "textposition": "auto",
         "type": "bar",
         "x": [
          2020,
          2021
         ],
         "xaxis": "x",
         "y": [
          6.5,
          4.9
         ],
         "yaxis": "y"
        },
        {
         "alignmentgroup": "True",
         "customdata": [
          [
           "Costa Rica"
          ],
          [
           "Costa Rica"
          ]
         ],
         "hovertemplate": "Reference area=%{customdata[0]}<br>Time=%{x}<br>Value=%{y}<extra></extra>",
         "legendgroup": "Costa Rica",
         "marker": {
          "color": "#ab63fa",
          "pattern": {
           "shape": ""
          }
         },
         "name": "Costa Rica",
         "offsetgroup": "Costa Rica",
         "orientation": "v",
         "showlegend": true,
         "textposition": "auto",
         "type": "bar",
         "x": [
          2020,
          2021
         ],
         "xaxis": "x",
         "y": [
          18.7,
          11.6
         ],
         "yaxis": "y"
        },
        {
         "alignmentgroup": "True",
         "customdata": [
          [
           "Croatia"
          ],
          [
           "Croatia"
          ]
         ],
         "hovertemplate": "Reference area=%{customdata[0]}<br>Time=%{x}<br>Value=%{y}<extra></extra>",
         "legendgroup": "Croatia",
         "marker": {
          "color": "#FFA15A",
          "pattern": {
           "shape": ""
          }
         },
         "name": "Croatia",
         "offsetgroup": "Croatia",
         "orientation": "v",
         "showlegend": true,
         "textposition": "auto",
         "type": "bar",
         "x": [
          2020,
          2021
         ],
         "xaxis": "x",
         "y": [
          6.1,
          -0.1
         ],
         "yaxis": "y"
        },
        {
         "alignmentgroup": "True",
         "customdata": [
          [
           "Cuba"
          ],
          [
           "Cuba"
          ]
         ],
         "hovertemplate": "Reference area=%{customdata[0]}<br>Time=%{x}<br>Value=%{y}<extra></extra>",
         "legendgroup": "Cuba",
         "marker": {
          "color": "#19d3f3",
          "pattern": {
           "shape": ""
          }
         },
         "name": "Cuba",
         "offsetgroup": "Cuba",
         "orientation": "v",
         "showlegend": true,
         "textposition": "auto",
         "type": "bar",
         "x": [
          2020,
          2021
         ],
         "xaxis": "x",
         "y": [
          10.9,
          5
         ],
         "yaxis": "y"
        },
        {
         "alignmentgroup": "True",
         "customdata": [
          [
           "Cyprus"
          ],
          [
           "Cyprus"
          ]
         ],
         "hovertemplate": "Reference area=%{customdata[0]}<br>Time=%{x}<br>Value=%{y}<extra></extra>",
         "legendgroup": "Cyprus",
         "marker": {
          "color": "#FF6692",
          "pattern": {
           "shape": ""
          }
         },
         "name": "Cyprus",
         "offsetgroup": "Cyprus",
         "orientation": "v",
         "showlegend": true,
         "textposition": "auto",
         "type": "bar",
         "x": [
          2020,
          2021
         ],
         "xaxis": "x",
         "y": [
          11.1,
          1.1
         ],
         "yaxis": "y"
        },
        {
         "alignmentgroup": "True",
         "customdata": [
          [
           "Czechia"
          ],
          [
           "Czechia"
          ]
         ],
         "hovertemplate": "Reference area=%{customdata[0]}<br>Time=%{x}<br>Value=%{y}<extra></extra>",
         "legendgroup": "Czechia",
         "marker": {
          "color": "#B6E880",
          "pattern": {
           "shape": ""
          }
         },
         "name": "Czechia",
         "offsetgroup": "Czechia",
         "orientation": "v",
         "showlegend": true,
         "textposition": "auto",
         "type": "bar",
         "x": [
          2020,
          2021
         ],
         "xaxis": "x",
         "y": [
          6.3,
          1.7
         ],
         "yaxis": "y"
        },
        {
         "alignmentgroup": "True",
         "customdata": [
          [
           "Côte d'Ivoire"
          ],
          [
           "Côte d'Ivoire"
          ]
         ],
         "hovertemplate": "Reference area=%{customdata[0]}<br>Time=%{x}<br>Value=%{y}<extra></extra>",
         "legendgroup": "Côte d'Ivoire",
         "marker": {
          "color": "#FF97FF",
          "pattern": {
           "shape": ""
          }
         },
         "name": "Côte d'Ivoire",
         "offsetgroup": "Côte d'Ivoire",
         "orientation": "v",
         "showlegend": true,
         "textposition": "auto",
         "type": "bar",
         "x": [
          2020,
          2021
         ],
         "xaxis": "x",
         "y": [
          4.9,
          1.7
         ],
         "yaxis": "y"
        },
        {
         "alignmentgroup": "True",
         "customdata": [
          [
           "Denmark"
          ],
          [
           "Denmark"
          ]
         ],
         "hovertemplate": "Reference area=%{customdata[0]}<br>Time=%{x}<br>Value=%{y}<extra></extra>",
         "legendgroup": "Denmark",
         "marker": {
          "color": "#FECB52",
          "pattern": {
           "shape": ""
          }
         },
         "name": "Denmark",
         "offsetgroup": "Denmark",
         "orientation": "v",
         "showlegend": true,
         "textposition": "auto",
         "type": "bar",
         "x": [
          2020,
          2021
         ],
         "xaxis": "x",
         "y": [
          5.3,
          0.5
         ],
         "yaxis": "y"
        },
        {
         "alignmentgroup": "True",
         "customdata": [
          [
           "Djibouti"
          ],
          [
           "Djibouti"
          ]
         ],
         "hovertemplate": "Reference area=%{customdata[0]}<br>Time=%{x}<br>Value=%{y}<extra></extra>",
         "legendgroup": "Djibouti",
         "marker": {
          "color": "#636efa",
          "pattern": {
           "shape": ""
          }
         },
         "name": "Djibouti",
         "offsetgroup": "Djibouti",
         "orientation": "v",
         "showlegend": true,
         "textposition": "auto",
         "type": "bar",
         "x": [
          2020,
          2021
         ],
         "xaxis": "x",
         "y": [
          6.9,
          6.3
         ],
         "yaxis": "y"
        },
        {
         "alignmentgroup": "True",
         "customdata": [
          [
           "Dominican Republic"
          ],
          [
           "Dominican Republic"
          ]
         ],
         "hovertemplate": "Reference area=%{customdata[0]}<br>Time=%{x}<br>Value=%{y}<extra></extra>",
         "legendgroup": "Dominican Republic",
         "marker": {
          "color": "#EF553B",
          "pattern": {
           "shape": ""
          }
         },
         "name": "Dominican Republic",
         "offsetgroup": "Dominican Republic",
         "orientation": "v",
         "showlegend": true,
         "textposition": "auto",
         "type": "bar",
         "x": [
          2020,
          2021
         ],
         "xaxis": "x",
         "y": [
          14.7,
          7.8
         ],
         "yaxis": "y"
        },
        {
         "alignmentgroup": "True",
         "customdata": [
          [
           "Ecuador"
          ],
          [
           "Ecuador"
          ]
         ],
         "hovertemplate": "Reference area=%{customdata[0]}<br>Time=%{x}<br>Value=%{y}<extra></extra>",
         "legendgroup": "Ecuador",
         "marker": {
          "color": "#00cc96",
          "pattern": {
           "shape": ""
          }
         },
         "name": "Ecuador",
         "offsetgroup": "Ecuador",
         "orientation": "v",
         "showlegend": true,
         "textposition": "auto",
         "type": "bar",
         "x": [
          2020,
          2021
         ],
         "xaxis": "x",
         "y": [
          17.6,
          4
         ],
         "yaxis": "y"
        },
        {
         "alignmentgroup": "True",
         "customdata": [
          [
           "Egypt"
          ],
          [
           "Egypt"
          ]
         ],
         "hovertemplate": "Reference area=%{customdata[0]}<br>Time=%{x}<br>Value=%{y}<extra></extra>",
         "legendgroup": "Egypt",
         "marker": {
          "color": "#ab63fa",
          "pattern": {
           "shape": ""
          }
         },
         "name": "Egypt",
         "offsetgroup": "Egypt",
         "orientation": "v",
         "showlegend": true,
         "textposition": "auto",
         "type": "bar",
         "x": [
          2020,
          2021
         ],
         "xaxis": "x",
         "y": [
          9.4,
          5.9
         ],
         "yaxis": "y"
        },
        {
         "alignmentgroup": "True",
         "customdata": [
          [
           "El Salvador"
          ],
          [
           "El Salvador"
          ]
         ],
         "hovertemplate": "Reference area=%{customdata[0]}<br>Time=%{x}<br>Value=%{y}<extra></extra>",
         "legendgroup": "El Salvador",
         "marker": {
          "color": "#FFA15A",
          "pattern": {
           "shape": ""
          }
         },
         "name": "El Salvador",
         "offsetgroup": "El Salvador",
         "orientation": "v",
         "showlegend": true,
         "textposition": "auto",
         "type": "bar",
         "x": [
          2020,
          2021
         ],
         "xaxis": "x",
         "y": [
          18.8,
          4.1
         ],
         "yaxis": "y"
        },
        {
         "alignmentgroup": "True",
         "customdata": [
          [
           "Equatorial Guinea"
          ],
          [
           "Equatorial Guinea"
          ]
         ],
         "hovertemplate": "Reference area=%{customdata[0]}<br>Time=%{x}<br>Value=%{y}<extra></extra>",
         "legendgroup": "Equatorial Guinea",
         "marker": {
          "color": "#19d3f3",
          "pattern": {
           "shape": ""
          }
         },
         "name": "Equatorial Guinea",
         "offsetgroup": "Equatorial Guinea",
         "orientation": "v",
         "showlegend": true,
         "textposition": "auto",
         "type": "bar",
         "x": [
          2020,
          2021
         ],
         "xaxis": "x",
         "y": [
          9,
          4.5
         ],
         "yaxis": "y"
        },
        {
         "alignmentgroup": "True",
         "customdata": [
          [
           "Eritrea"
          ],
          [
           "Eritrea"
          ]
         ],
         "hovertemplate": "Reference area=%{customdata[0]}<br>Time=%{x}<br>Value=%{y}<extra></extra>",
         "legendgroup": "Eritrea",
         "marker": {
          "color": "#FF6692",
          "pattern": {
           "shape": ""
          }
         },
         "name": "Eritrea",
         "offsetgroup": "Eritrea",
         "orientation": "v",
         "showlegend": true,
         "textposition": "auto",
         "type": "bar",
         "x": [
          2020,
          2021
         ],
         "xaxis": "x",
         "y": [
          12.3,
          8
         ],
         "yaxis": "y"
        },
        {
         "alignmentgroup": "True",
         "customdata": [
          [
           "Estonia"
          ],
          [
           "Estonia"
          ]
         ],
         "hovertemplate": "Reference area=%{customdata[0]}<br>Time=%{x}<br>Value=%{y}<extra></extra>",
         "legendgroup": "Estonia",
         "marker": {
          "color": "#B6E880",
          "pattern": {
           "shape": ""
          }
         },
         "name": "Estonia",
         "offsetgroup": "Estonia",
         "orientation": "v",
         "showlegend": true,
         "textposition": "auto",
         "type": "bar",
         "x": [
          2020,
          2021
         ],
         "xaxis": "x",
         "y": [
          5.7,
          7.1
         ],
         "yaxis": "y"
        },
        {
         "alignmentgroup": "True",
         "customdata": [
          [
           "Eswatini"
          ],
          [
           "Eswatini"
          ]
         ],
         "hovertemplate": "Reference area=%{customdata[0]}<br>Time=%{x}<br>Value=%{y}<extra></extra>",
         "legendgroup": "Eswatini",
         "marker": {
          "color": "#FF97FF",
          "pattern": {
           "shape": ""
          }
         },
         "name": "Eswatini",
         "offsetgroup": "Eswatini",
         "orientation": "v",
         "showlegend": true,
         "textposition": "auto",
         "type": "bar",
         "x": [
          2020,
          2021
         ],
         "xaxis": "x",
         "y": [
          9.7,
          7.7
         ],
         "yaxis": "y"
        },
        {
         "alignmentgroup": "True",
         "customdata": [
          [
           "Ethiopia"
          ],
          [
           "Ethiopia"
          ]
         ],
         "hovertemplate": "Reference area=%{customdata[0]}<br>Time=%{x}<br>Value=%{y}<extra></extra>",
         "legendgroup": "Ethiopia",
         "marker": {
          "color": "#FECB52",
          "pattern": {
           "shape": ""
          }
         },
         "name": "Ethiopia",
         "offsetgroup": "Ethiopia",
         "orientation": "v",
         "showlegend": true,
         "textposition": "auto",
         "type": "bar",
         "x": [
          2020,
          2021
         ],
         "xaxis": "x",
         "y": [
          8.5,
          5.6
         ],
         "yaxis": "y"
        },
        {
         "alignmentgroup": "True",
         "customdata": [
          [
           "Fiji"
          ],
          [
           "Fiji"
          ]
         ],
         "hovertemplate": "Reference area=%{customdata[0]}<br>Time=%{x}<br>Value=%{y}<extra></extra>",
         "legendgroup": "Fiji",
         "marker": {
          "color": "#636efa",
          "pattern": {
           "shape": ""
          }
         },
         "name": "Fiji",
         "offsetgroup": "Fiji",
         "orientation": "v",
         "showlegend": true,
         "textposition": "auto",
         "type": "bar",
         "x": [
          2020,
          2021
         ],
         "xaxis": "x",
         "y": [
          6.6,
          7.7
         ],
         "yaxis": "y"
        },
        {
         "alignmentgroup": "True",
         "customdata": [
          [
           "Finland"
          ],
          [
           "Finland"
          ]
         ],
         "hovertemplate": "Reference area=%{customdata[0]}<br>Time=%{x}<br>Value=%{y}<extra></extra>",
         "legendgroup": "Finland",
         "marker": {
          "color": "#EF553B",
          "pattern": {
           "shape": ""
          }
         },
         "name": "Finland",
         "offsetgroup": "Finland",
         "orientation": "v",
         "showlegend": true,
         "textposition": "auto",
         "type": "bar",
         "x": [
          2020,
          2021
         ],
         "xaxis": "x",
         "y": [
          2.4,
          0.7
         ],
         "yaxis": "y"
        },
        {
         "alignmentgroup": "True",
         "customdata": [
          [
           "France"
          ],
          [
           "France"
          ]
         ],
         "hovertemplate": "Reference area=%{customdata[0]}<br>Time=%{x}<br>Value=%{y}<extra></extra>",
         "legendgroup": "France",
         "marker": {
          "color": "#00cc96",
          "pattern": {
           "shape": ""
          }
         },
         "name": "France",
         "offsetgroup": "France",
         "orientation": "v",
         "showlegend": true,
         "textposition": "auto",
         "type": "bar",
         "x": [
          2020,
          2021
         ],
         "xaxis": "x",
         "y": [
          7.2,
          0.7
         ],
         "yaxis": "y"
        },
        {
         "alignmentgroup": "True",
         "customdata": [
          [
           "French Polynesia"
          ],
          [
           "French Polynesia"
          ]
         ],
         "hovertemplate": "Reference area=%{customdata[0]}<br>Time=%{x}<br>Value=%{y}<extra></extra>",
         "legendgroup": "French Polynesia",
         "marker": {
          "color": "#ab63fa",
          "pattern": {
           "shape": ""
          }
         },
         "name": "French Polynesia",
         "offsetgroup": "French Polynesia",
         "orientation": "v",
         "showlegend": true,
         "textposition": "auto",
         "type": "bar",
         "x": [
          2020,
          2021
         ],
         "xaxis": "x",
         "y": [
          5.2,
          5.2
         ],
         "yaxis": "y"
        },
        {
         "alignmentgroup": "True",
         "customdata": [
          [
           "Gabon"
          ],
          [
           "Gabon"
          ]
         ],
         "hovertemplate": "Reference area=%{customdata[0]}<br>Time=%{x}<br>Value=%{y}<extra></extra>",
         "legendgroup": "Gabon",
         "marker": {
          "color": "#FFA15A",
          "pattern": {
           "shape": ""
          }
         },
         "name": "Gabon",
         "offsetgroup": "Gabon",
         "orientation": "v",
         "showlegend": true,
         "textposition": "auto",
         "type": "bar",
         "x": [
          2020,
          2021
         ],
         "xaxis": "x",
         "y": [
          8.9,
          7.5
         ],
         "yaxis": "y"
        },
        {
         "alignmentgroup": "True",
         "customdata": [
          [
           "Gambia"
          ],
          [
           "Gambia"
          ]
         ],
         "hovertemplate": "Reference area=%{customdata[0]}<br>Time=%{x}<br>Value=%{y}<extra></extra>",
         "legendgroup": "Gambia",
         "marker": {
          "color": "#19d3f3",
          "pattern": {
           "shape": ""
          }
         },
         "name": "Gambia",
         "offsetgroup": "Gambia",
         "orientation": "v",
         "showlegend": true,
         "textposition": "auto",
         "type": "bar",
         "x": [
          2020,
          2021
         ],
         "xaxis": "x",
         "y": [
          7.4,
          4.1
         ],
         "yaxis": "y"
        },
        {
         "alignmentgroup": "True",
         "customdata": [
          [
           "Georgia"
          ],
          [
           "Georgia"
          ]
         ],
         "hovertemplate": "Reference area=%{customdata[0]}<br>Time=%{x}<br>Value=%{y}<extra></extra>",
         "legendgroup": "Georgia",
         "marker": {
          "color": "#FF6692",
          "pattern": {
           "shape": ""
          }
         },
         "name": "Georgia",
         "offsetgroup": "Georgia",
         "orientation": "v",
         "showlegend": true,
         "textposition": "auto",
         "type": "bar",
         "x": [
          2020,
          2021
         ],
         "xaxis": "x",
         "y": [
          13.5,
          2.5
         ],
         "yaxis": "y"
        },
        {
         "alignmentgroup": "True",
         "customdata": [
          [
           "Germany"
          ],
          [
           "Germany"
          ]
         ],
         "hovertemplate": "Reference area=%{customdata[0]}<br>Time=%{x}<br>Value=%{y}<extra></extra>",
         "legendgroup": "Germany",
         "marker": {
          "color": "#B6E880",
          "pattern": {
           "shape": ""
          }
         },
         "name": "Germany",
         "offsetgroup": "Germany",
         "orientation": "v",
         "showlegend": true,
         "textposition": "auto",
         "type": "bar",
         "x": [
          2020,
          2021
         ],
         "xaxis": "x",
         "y": [
          5.5,
          4.6
         ],
         "yaxis": "y"
        },
        {
         "alignmentgroup": "True",
         "customdata": [
          [
           "Ghana"
          ],
          [
           "Ghana"
          ]
         ],
         "hovertemplate": "Reference area=%{customdata[0]}<br>Time=%{x}<br>Value=%{y}<extra></extra>",
         "legendgroup": "Ghana",
         "marker": {
          "color": "#FF97FF",
          "pattern": {
           "shape": ""
          }
         },
         "name": "Ghana",
         "offsetgroup": "Ghana",
         "orientation": "v",
         "showlegend": true,
         "textposition": "auto",
         "type": "bar",
         "x": [
          2020,
          2021
         ],
         "xaxis": "x",
         "y": [
          5.3,
          4.7
         ],
         "yaxis": "y"
        },
        {
         "alignmentgroup": "True",
         "customdata": [
          [
           "Greece"
          ],
          [
           "Greece"
          ]
         ],
         "hovertemplate": "Reference area=%{customdata[0]}<br>Time=%{x}<br>Value=%{y}<extra></extra>",
         "legendgroup": "Greece",
         "marker": {
          "color": "#FECB52",
          "pattern": {
           "shape": ""
          }
         },
         "name": "Greece",
         "offsetgroup": "Greece",
         "orientation": "v",
         "showlegend": true,
         "textposition": "auto",
         "type": "bar",
         "x": [
          2020,
          2021
         ],
         "xaxis": "x",
         "y": [
          11.8,
          8.2
         ],
         "yaxis": "y"
        },
        {
         "alignmentgroup": "True",
         "customdata": [
          [
           "Guam"
          ],
          [
           "Guam"
          ]
         ],
         "hovertemplate": "Reference area=%{customdata[0]}<br>Time=%{x}<br>Value=%{y}<extra></extra>",
         "legendgroup": "Guam",
         "marker": {
          "color": "#636efa",
          "pattern": {
           "shape": ""
          }
         },
         "name": "Guam",
         "offsetgroup": "Guam",
         "orientation": "v",
         "showlegend": true,
         "textposition": "auto",
         "type": "bar",
         "x": [
          2020,
          2021
         ],
         "xaxis": "x",
         "y": [
          8.8,
          3.2
         ],
         "yaxis": "y"
        },
        {
         "alignmentgroup": "True",
         "customdata": [
          [
           "Guatemala"
          ],
          [
           "Guatemala"
          ]
         ],
         "hovertemplate": "Reference area=%{customdata[0]}<br>Time=%{x}<br>Value=%{y}<extra></extra>",
         "legendgroup": "Guatemala",
         "marker": {
          "color": "#EF553B",
          "pattern": {
           "shape": ""
          }
         },
         "name": "Guatemala",
         "offsetgroup": "Guatemala",
         "orientation": "v",
         "showlegend": true,
         "textposition": "auto",
         "type": "bar",
         "x": [
          2020,
          2021
         ],
         "xaxis": "x",
         "y": [
          16,
          6.8
         ],
         "yaxis": "y"
        },
        {
         "alignmentgroup": "True",
         "customdata": [
          [
           "Guinea"
          ],
          [
           "Guinea"
          ]
         ],
         "hovertemplate": "Reference area=%{customdata[0]}<br>Time=%{x}<br>Value=%{y}<extra></extra>",
         "legendgroup": "Guinea",
         "marker": {
          "color": "#00cc96",
          "pattern": {
           "shape": ""
          }
         },
         "name": "Guinea",
         "offsetgroup": "Guinea",
         "orientation": "v",
         "showlegend": true,
         "textposition": "auto",
         "type": "bar",
         "x": [
          2020,
          2021
         ],
         "xaxis": "x",
         "y": [
          7.5,
          7.4
         ],
         "yaxis": "y"
        },
        {
         "alignmentgroup": "True",
         "customdata": [
          [
           "Guinea-Bissau"
          ],
          [
           "Guinea-Bissau"
          ]
         ],
         "hovertemplate": "Reference area=%{customdata[0]}<br>Time=%{x}<br>Value=%{y}<extra></extra>",
         "legendgroup": "Guinea-Bissau",
         "marker": {
          "color": "#ab63fa",
          "pattern": {
           "shape": ""
          }
         },
         "name": "Guinea-Bissau",
         "offsetgroup": "Guinea-Bissau",
         "orientation": "v",
         "showlegend": true,
         "textposition": "auto",
         "type": "bar",
         "x": [
          2020,
          2021
         ],
         "xaxis": "x",
         "y": [
          9,
          4.6
         ],
         "yaxis": "y"
        },
        {
         "alignmentgroup": "True",
         "customdata": [
          [
           "Guyana"
          ],
          [
           "Guyana"
          ]
         ],
         "hovertemplate": "Reference area=%{customdata[0]}<br>Time=%{x}<br>Value=%{y}<extra></extra>",
         "legendgroup": "Guyana",
         "marker": {
          "color": "#FFA15A",
          "pattern": {
           "shape": ""
          }
         },
         "name": "Guyana",
         "offsetgroup": "Guyana",
         "orientation": "v",
         "showlegend": true,
         "textposition": "auto",
         "type": "bar",
         "x": [
          2020,
          2021
         ],
         "xaxis": "x",
         "y": [
          10.5,
          7.5
         ],
         "yaxis": "y"
        },
        {
         "alignmentgroup": "True",
         "customdata": [
          [
           "Haiti"
          ],
          [
           "Haiti"
          ]
         ],
         "hovertemplate": "Reference area=%{customdata[0]}<br>Time=%{x}<br>Value=%{y}<extra></extra>",
         "legendgroup": "Haiti",
         "marker": {
          "color": "#19d3f3",
          "pattern": {
           "shape": ""
          }
         },
         "name": "Haiti",
         "offsetgroup": "Haiti",
         "orientation": "v",
         "showlegend": true,
         "textposition": "auto",
         "type": "bar",
         "x": [
          2020,
          2021
         ],
         "xaxis": "x",
         "y": [
          7.8,
          6.3
         ],
         "yaxis": "y"
        },
        {
         "alignmentgroup": "True",
         "customdata": [
          [
           "Honduras"
          ],
          [
           "Honduras"
          ]
         ],
         "hovertemplate": "Reference area=%{customdata[0]}<br>Time=%{x}<br>Value=%{y}<extra></extra>",
         "legendgroup": "Honduras",
         "marker": {
          "color": "#FF6692",
          "pattern": {
           "shape": ""
          }
         },
         "name": "Honduras",
         "offsetgroup": "Honduras",
         "orientation": "v",
         "showlegend": true,
         "textposition": "auto",
         "type": "bar",
         "x": [
          2020,
          2021
         ],
         "xaxis": "x",
         "y": [
          21.2,
          8.1
         ],
         "yaxis": "y"
        },
        {
         "alignmentgroup": "True",
         "customdata": [
          [
           "Hong Kong, China"
          ],
          [
           "Hong Kong, China"
          ]
         ],
         "hovertemplate": "Reference area=%{customdata[0]}<br>Time=%{x}<br>Value=%{y}<extra></extra>",
         "legendgroup": "Hong Kong, China",
         "marker": {
          "color": "#B6E880",
          "pattern": {
           "shape": ""
          }
         },
         "name": "Hong Kong, China",
         "offsetgroup": "Hong Kong, China",
         "orientation": "v",
         "showlegend": true,
         "textposition": "auto",
         "type": "bar",
         "x": [
          2020,
          2021
         ],
         "xaxis": "x",
         "y": [
          6.7,
          8.2
         ],
         "yaxis": "y"
        },
        {
         "alignmentgroup": "True",
         "customdata": [
          [
           "Hungary"
          ],
          [
           "Hungary"
          ]
         ],
         "hovertemplate": "Reference area=%{customdata[0]}<br>Time=%{x}<br>Value=%{y}<extra></extra>",
         "legendgroup": "Hungary",
         "marker": {
          "color": "#FF97FF",
          "pattern": {
           "shape": ""
          }
         },
         "name": "Hungary",
         "offsetgroup": "Hungary",
         "orientation": "v",
         "showlegend": true,
         "textposition": "auto",
         "type": "bar",
         "x": [
          2020,
          2021
         ],
         "xaxis": "x",
         "y": [
          5.2,
          0.8
         ],
         "yaxis": "y"
        },
        {
         "alignmentgroup": "True",
         "customdata": [
          [
           "Iceland"
          ],
          [
           "Iceland"
          ]
         ],
         "hovertemplate": "Reference area=%{customdata[0]}<br>Time=%{x}<br>Value=%{y}<extra></extra>",
         "legendgroup": "Iceland",
         "marker": {
          "color": "#FECB52",
          "pattern": {
           "shape": ""
          }
         },
         "name": "Iceland",
         "offsetgroup": "Iceland",
         "orientation": "v",
         "showlegend": true,
         "textposition": "auto",
         "type": "bar",
         "x": [
          2020,
          2021
         ],
         "xaxis": "x",
         "y": [
          6.7,
          9.4
         ],
         "yaxis": "y"
        },
        {
         "alignmentgroup": "True",
         "customdata": [
          [
           "India"
          ],
          [
           "India"
          ]
         ],
         "hovertemplate": "Reference area=%{customdata[0]}<br>Time=%{x}<br>Value=%{y}<extra></extra>",
         "legendgroup": "India",
         "marker": {
          "color": "#636efa",
          "pattern": {
           "shape": ""
          }
         },
         "name": "India",
         "offsetgroup": "India",
         "orientation": "v",
         "showlegend": true,
         "textposition": "auto",
         "type": "bar",
         "x": [
          2020,
          2021
         ],
         "xaxis": "x",
         "y": [
          14.5,
          7.2
         ],
         "yaxis": "y"
        },
        {
         "alignmentgroup": "True",
         "customdata": [
          [
           "Indonesia"
          ],
          [
           "Indonesia"
          ]
         ],
         "hovertemplate": "Reference area=%{customdata[0]}<br>Time=%{x}<br>Value=%{y}<extra></extra>",
         "legendgroup": "Indonesia",
         "marker": {
          "color": "#EF553B",
          "pattern": {
           "shape": ""
          }
         },
         "name": "Indonesia",
         "offsetgroup": "Indonesia",
         "orientation": "v",
         "showlegend": true,
         "textposition": "auto",
         "type": "bar",
         "x": [
          2020,
          2021
         ],
         "xaxis": "x",
         "y": [
          6.9,
          7
         ],
         "yaxis": "y"
        },
        {
         "alignmentgroup": "True",
         "customdata": [
          [
           "Iran, Islamic Republic of"
          ],
          [
           "Iran, Islamic Republic of"
          ]
         ],
         "hovertemplate": "Reference area=%{customdata[0]}<br>Time=%{x}<br>Value=%{y}<extra></extra>",
         "legendgroup": "Iran, Islamic Republic of",
         "marker": {
          "color": "#00cc96",
          "pattern": {
           "shape": ""
          }
         },
         "name": "Iran, Islamic Republic of",
         "offsetgroup": "Iran, Islamic Republic of",
         "orientation": "v",
         "showlegend": true,
         "textposition": "auto",
         "type": "bar",
         "x": [
          2020,
          2021
         ],
         "xaxis": "x",
         "y": [
          5.2,
          8.3
         ],
         "yaxis": "y"
        },
        {
         "alignmentgroup": "True",
         "customdata": [
          [
           "Iraq"
          ],
          [
           "Iraq"
          ]
         ],
         "hovertemplate": "Reference area=%{customdata[0]}<br>Time=%{x}<br>Value=%{y}<extra></extra>",
         "legendgroup": "Iraq",
         "marker": {
          "color": "#ab63fa",
          "pattern": {
           "shape": ""
          }
         },
         "name": "Iraq",
         "offsetgroup": "Iraq",
         "orientation": "v",
         "showlegend": true,
         "textposition": "auto",
         "type": "bar",
         "x": [
          2020,
          2021
         ],
         "xaxis": "x",
         "y": [
          11.2,
          7.1
         ],
         "yaxis": "y"
        },
        {
         "alignmentgroup": "True",
         "customdata": [
          [
           "Ireland"
          ],
          [
           "Ireland"
          ]
         ],
         "hovertemplate": "Reference area=%{customdata[0]}<br>Time=%{x}<br>Value=%{y}<extra></extra>",
         "legendgroup": "Ireland",
         "marker": {
          "color": "#FFA15A",
          "pattern": {
           "shape": ""
          }
         },
         "name": "Ireland",
         "offsetgroup": "Ireland",
         "orientation": "v",
         "showlegend": true,
         "textposition": "auto",
         "type": "bar",
         "x": [
          2020,
          2021
         ],
         "xaxis": "x",
         "y": [
          9.8,
          6.7
         ],
         "yaxis": "y"
        },
        {
         "alignmentgroup": "True",
         "customdata": [
          [
           "Israel"
          ],
          [
           "Israel"
          ]
         ],
         "hovertemplate": "Reference area=%{customdata[0]}<br>Time=%{x}<br>Value=%{y}<extra></extra>",
         "legendgroup": "Israel",
         "marker": {
          "color": "#19d3f3",
          "pattern": {
           "shape": ""
          }
         },
         "name": "Israel",
         "offsetgroup": "Israel",
         "orientation": "v",
         "showlegend": true,
         "textposition": "auto",
         "type": "bar",
         "x": [
          2020,
          2021
         ],
         "xaxis": "x",
         "y": [
          7.7,
          2
         ],
         "yaxis": "y"
        },
        {
         "alignmentgroup": "True",
         "customdata": [
          [
           "Italy"
          ],
          [
           "Italy"
          ]
         ],
         "hovertemplate": "Reference area=%{customdata[0]}<br>Time=%{x}<br>Value=%{y}<extra></extra>",
         "legendgroup": "Italy",
         "marker": {
          "color": "#FF6692",
          "pattern": {
           "shape": ""
          }
         },
         "name": "Italy",
         "offsetgroup": "Italy",
         "orientation": "v",
         "showlegend": true,
         "textposition": "auto",
         "type": "bar",
         "x": [
          2020,
          2021
         ],
         "xaxis": "x",
         "y": [
          12.9,
          4.6
         ],
         "yaxis": "y"
        },
        {
         "alignmentgroup": "True",
         "customdata": [
          [
           "Jamaica"
          ],
          [
           "Jamaica"
          ]
         ],
         "hovertemplate": "Reference area=%{customdata[0]}<br>Time=%{x}<br>Value=%{y}<extra></extra>",
         "legendgroup": "Jamaica",
         "marker": {
          "color": "#B6E880",
          "pattern": {
           "shape": ""
          }
         },
         "name": "Jamaica",
         "offsetgroup": "Jamaica",
         "orientation": "v",
         "showlegend": true,
         "textposition": "auto",
         "type": "bar",
         "x": [
          2020,
          2021
         ],
         "xaxis": "x",
         "y": [
          10.9,
          8.3
         ],
         "yaxis": "y"
        },
        {
         "alignmentgroup": "True",
         "customdata": [
          [
           "Japan"
          ],
          [
           "Japan"
          ]
         ],
         "hovertemplate": "Reference area=%{customdata[0]}<br>Time=%{x}<br>Value=%{y}<extra></extra>",
         "legendgroup": "Japan",
         "marker": {
          "color": "#FF97FF",
          "pattern": {
           "shape": ""
          }
         },
         "name": "Japan",
         "offsetgroup": "Japan",
         "orientation": "v",
         "showlegend": true,
         "textposition": "auto",
         "type": "bar",
         "x": [
          2020,
          2021
         ],
         "xaxis": "x",
         "y": [
          5.1,
          5.3
         ],
         "yaxis": "y"
        },
        {
         "alignmentgroup": "True",
         "customdata": [
          [
           "Jordan"
          ],
          [
           "Jordan"
          ]
         ],
         "hovertemplate": "Reference area=%{customdata[0]}<br>Time=%{x}<br>Value=%{y}<extra></extra>",
         "legendgroup": "Jordan",
         "marker": {
          "color": "#FECB52",
          "pattern": {
           "shape": ""
          }
         },
         "name": "Jordan",
         "offsetgroup": "Jordan",
         "orientation": "v",
         "showlegend": true,
         "textposition": "auto",
         "type": "bar",
         "x": [
          2020,
          2021
         ],
         "xaxis": "x",
         "y": [
          9.9,
          6.9
         ],
         "yaxis": "y"
        },
        {
         "alignmentgroup": "True",
         "customdata": [
          [
           "Kazakhstan"
          ],
          [
           "Kazakhstan"
          ]
         ],
         "hovertemplate": "Reference area=%{customdata[0]}<br>Time=%{x}<br>Value=%{y}<extra></extra>",
         "legendgroup": "Kazakhstan",
         "marker": {
          "color": "#636efa",
          "pattern": {
           "shape": ""
          }
         },
         "name": "Kazakhstan",
         "offsetgroup": "Kazakhstan",
         "orientation": "v",
         "showlegend": true,
         "textposition": "auto",
         "type": "bar",
         "x": [
          2020,
          2021
         ],
         "xaxis": "x",
         "y": [
          11.1,
          4.5
         ],
         "yaxis": "y"
        },
        {
         "alignmentgroup": "True",
         "customdata": [
          [
           "Kenya"
          ],
          [
           "Kenya"
          ]
         ],
         "hovertemplate": "Reference area=%{customdata[0]}<br>Time=%{x}<br>Value=%{y}<extra></extra>",
         "legendgroup": "Kenya",
         "marker": {
          "color": "#EF553B",
          "pattern": {
           "shape": ""
          }
         },
         "name": "Kenya",
         "offsetgroup": "Kenya",
         "orientation": "v",
         "showlegend": true,
         "textposition": "auto",
         "type": "bar",
         "x": [
          2020,
          2021
         ],
         "xaxis": "x",
         "y": [
          9.4,
          6.3
         ],
         "yaxis": "y"
        },
        {
         "alignmentgroup": "True",
         "customdata": [
          [
           "Korea, Democratic People's Republic of"
          ],
          [
           "Korea, Democratic People's Republic of"
          ]
         ],
         "hovertemplate": "Reference area=%{customdata[0]}<br>Time=%{x}<br>Value=%{y}<extra></extra>",
         "legendgroup": "Korea, Democratic People's Republic of",
         "marker": {
          "color": "#00cc96",
          "pattern": {
           "shape": ""
          }
         },
         "name": "Korea, Democratic People's Republic of",
         "offsetgroup": "Korea, Democratic People's Republic of",
         "orientation": "v",
         "showlegend": true,
         "textposition": "auto",
         "type": "bar",
         "x": [
          2020,
          2021
         ],
         "xaxis": "x",
         "y": [
          5.8,
          5.4
         ],
         "yaxis": "y"
        },
        {
         "alignmentgroup": "True",
         "customdata": [
          [
           "Korea, Republic of"
          ],
          [
           "Korea, Republic of"
          ]
         ],
         "hovertemplate": "Reference area=%{customdata[0]}<br>Time=%{x}<br>Value=%{y}<extra></extra>",
         "legendgroup": "Korea, Republic of",
         "marker": {
          "color": "#ab63fa",
          "pattern": {
           "shape": ""
          }
         },
         "name": "Korea, Republic of",
         "offsetgroup": "Korea, Republic of",
         "orientation": "v",
         "showlegend": true,
         "textposition": "auto",
         "type": "bar",
         "x": [
          2020,
          2021
         ],
         "xaxis": "x",
         "y": [
          4.2,
          2.4
         ],
         "yaxis": "y"
        },
        {
         "alignmentgroup": "True",
         "customdata": [
          [
           "Kuwait"
          ],
          [
           "Kuwait"
          ]
         ],
         "hovertemplate": "Reference area=%{customdata[0]}<br>Time=%{x}<br>Value=%{y}<extra></extra>",
         "legendgroup": "Kuwait",
         "marker": {
          "color": "#FFA15A",
          "pattern": {
           "shape": ""
          }
         },
         "name": "Kuwait",
         "offsetgroup": "Kuwait",
         "orientation": "v",
         "showlegend": true,
         "textposition": "auto",
         "type": "bar",
         "x": [
          2020,
          2021
         ],
         "xaxis": "x",
         "y": [
          15.8,
          8
         ],
         "yaxis": "y"
        },
        {
         "alignmentgroup": "True",
         "customdata": [
          [
           "Kyrgyzstan"
          ],
          [
           "Kyrgyzstan"
          ]
         ],
         "hovertemplate": "Reference area=%{customdata[0]}<br>Time=%{x}<br>Value=%{y}<extra></extra>",
         "legendgroup": "Kyrgyzstan",
         "marker": {
          "color": "#19d3f3",
          "pattern": {
           "shape": ""
          }
         },
         "name": "Kyrgyzstan",
         "offsetgroup": "Kyrgyzstan",
         "orientation": "v",
         "showlegend": true,
         "textposition": "auto",
         "type": "bar",
         "x": [
          2020,
          2021
         ],
         "xaxis": "x",
         "y": [
          11.4,
          7.6
         ],
         "yaxis": "y"
        },
        {
         "alignmentgroup": "True",
         "customdata": [
          [
           "Lao People's Democratic Republic"
          ],
          [
           "Lao People's Democratic Republic"
          ]
         ],
         "hovertemplate": "Reference area=%{customdata[0]}<br>Time=%{x}<br>Value=%{y}<extra></extra>",
         "legendgroup": "Lao People's Democratic Republic",
         "marker": {
          "color": "#FF6692",
          "pattern": {
           "shape": ""
          }
         },
         "name": "Lao People's Democratic Republic",
         "offsetgroup": "Lao People's Democratic Republic",
         "orientation": "v",
         "showlegend": true,
         "textposition": "auto",
         "type": "bar",
         "x": [
          2020,
          2021
         ],
         "xaxis": "x",
         "y": [
          4.9,
          6.7
         ],
         "yaxis": "y"
        },
        {
         "alignmentgroup": "True",
         "customdata": [
          [
           "Latvia"
          ],
          [
           "Latvia"
          ]
         ],
         "hovertemplate": "Reference area=%{customdata[0]}<br>Time=%{x}<br>Value=%{y}<extra></extra>",
         "legendgroup": "Latvia",
         "marker": {
          "color": "#B6E880",
          "pattern": {
           "shape": ""
          }
         },
         "name": "Latvia",
         "offsetgroup": "Latvia",
         "orientation": "v",
         "showlegend": true,
         "textposition": "auto",
         "type": "bar",
         "x": [
          2020,
          2021
         ],
         "xaxis": "x",
         "y": [
          4.4,
          2.1
         ],
         "yaxis": "y"
        },
        {
         "alignmentgroup": "True",
         "customdata": [
          [
           "Lebanon"
          ],
          [
           "Lebanon"
          ]
         ],
         "hovertemplate": "Reference area=%{customdata[0]}<br>Time=%{x}<br>Value=%{y}<extra></extra>",
         "legendgroup": "Lebanon",
         "marker": {
          "color": "#FF97FF",
          "pattern": {
           "shape": ""
          }
         },
         "name": "Lebanon",
         "offsetgroup": "Lebanon",
         "orientation": "v",
         "showlegend": true,
         "textposition": "auto",
         "type": "bar",
         "x": [
          2020,
          2021
         ],
         "xaxis": "x",
         "y": [
          10.3,
          10.6
         ],
         "yaxis": "y"
        },
        {
         "alignmentgroup": "True",
         "customdata": [
          [
           "Lesotho"
          ],
          [
           "Lesotho"
          ]
         ],
         "hovertemplate": "Reference area=%{customdata[0]}<br>Time=%{x}<br>Value=%{y}<extra></extra>",
         "legendgroup": "Lesotho",
         "marker": {
          "color": "#FECB52",
          "pattern": {
           "shape": ""
          }
         },
         "name": "Lesotho",
         "offsetgroup": "Lesotho",
         "orientation": "v",
         "showlegend": true,
         "textposition": "auto",
         "type": "bar",
         "x": [
          2020,
          2021
         ],
         "xaxis": "x",
         "y": [
          7.3,
          7.1
         ],
         "yaxis": "y"
        },
        {
         "alignmentgroup": "True",
         "customdata": [
          [
           "Liberia"
          ],
          [
           "Liberia"
          ]
         ],
         "hovertemplate": "Reference area=%{customdata[0]}<br>Time=%{x}<br>Value=%{y}<extra></extra>",
         "legendgroup": "Liberia",
         "marker": {
          "color": "#636efa",
          "pattern": {
           "shape": ""
          }
         },
         "name": "Liberia",
         "offsetgroup": "Liberia",
         "orientation": "v",
         "showlegend": true,
         "textposition": "auto",
         "type": "bar",
         "x": [
          2020,
          2021
         ],
         "xaxis": "x",
         "y": [
          8.1,
          5.7
         ],
         "yaxis": "y"
        },
        {
         "alignmentgroup": "True",
         "customdata": [
          [
           "Libya"
          ],
          [
           "Libya"
          ]
         ],
         "hovertemplate": "Reference area=%{customdata[0]}<br>Time=%{x}<br>Value=%{y}<extra></extra>",
         "legendgroup": "Libya",
         "marker": {
          "color": "#EF553B",
          "pattern": {
           "shape": ""
          }
         },
         "name": "Libya",
         "offsetgroup": "Libya",
         "orientation": "v",
         "showlegend": true,
         "textposition": "auto",
         "type": "bar",
         "x": [
          2020,
          2021
         ],
         "xaxis": "x",
         "y": [
          9.6,
          7
         ],
         "yaxis": "y"
        },
        {
         "alignmentgroup": "True",
         "customdata": [
          [
           "Lithuania"
          ],
          [
           "Lithuania"
          ]
         ],
         "hovertemplate": "Reference area=%{customdata[0]}<br>Time=%{x}<br>Value=%{y}<extra></extra>",
         "legendgroup": "Lithuania",
         "marker": {
          "color": "#00cc96",
          "pattern": {
           "shape": ""
          }
         },
         "name": "Lithuania",
         "offsetgroup": "Lithuania",
         "orientation": "v",
         "showlegend": true,
         "textposition": "auto",
         "type": "bar",
         "x": [
          2020,
          2021
         ],
         "xaxis": "x",
         "y": [
          5.5,
          0.6
         ],
         "yaxis": "y"
        },
        {
         "alignmentgroup": "True",
         "customdata": [
          [
           "Luxembourg"
          ],
          [
           "Luxembourg"
          ]
         ],
         "hovertemplate": "Reference area=%{customdata[0]}<br>Time=%{x}<br>Value=%{y}<extra></extra>",
         "legendgroup": "Luxembourg",
         "marker": {
          "color": "#ab63fa",
          "pattern": {
           "shape": ""
          }
         },
         "name": "Luxembourg",
         "offsetgroup": "Luxembourg",
         "orientation": "v",
         "showlegend": true,
         "textposition": "auto",
         "type": "bar",
         "x": [
          2020,
          2021
         ],
         "xaxis": "x",
         "y": [
          4.9,
          3.4
         ],
         "yaxis": "y"
        },
        {
         "alignmentgroup": "True",
         "customdata": [
          [
           "Macau, China"
          ],
          [
           "Macau, China"
          ]
         ],
         "hovertemplate": "Reference area=%{customdata[0]}<br>Time=%{x}<br>Value=%{y}<extra></extra>",
         "legendgroup": "Macau, China",
         "marker": {
          "color": "#FFA15A",
          "pattern": {
           "shape": ""
          }
         },
         "name": "Macau, China",
         "offsetgroup": "Macau, China",
         "orientation": "v",
         "showlegend": true,
         "textposition": "auto",
         "type": "bar",
         "x": [
          2020,
          2021
         ],
         "xaxis": "x",
         "y": [
          7.2,
          2.4
         ],
         "yaxis": "y"
        },
        {
         "alignmentgroup": "True",
         "customdata": [
          [
           "Madagascar"
          ],
          [
           "Madagascar"
          ]
         ],
         "hovertemplate": "Reference area=%{customdata[0]}<br>Time=%{x}<br>Value=%{y}<extra></extra>",
         "legendgroup": "Madagascar",
         "marker": {
          "color": "#19d3f3",
          "pattern": {
           "shape": ""
          }
         },
         "name": "Madagascar",
         "offsetgroup": "Madagascar",
         "orientation": "v",
         "showlegend": true,
         "textposition": "auto",
         "type": "bar",
         "x": [
          2020,
          2021
         ],
         "xaxis": "x",
         "y": [
          6.6,
          6.7
         ],
         "yaxis": "y"
        },
        {
         "alignmentgroup": "True",
         "customdata": [
          [
           "Malawi"
          ],
          [
           "Malawi"
          ]
         ],
         "hovertemplate": "Reference area=%{customdata[0]}<br>Time=%{x}<br>Value=%{y}<extra></extra>",
         "legendgroup": "Malawi",
         "marker": {
          "color": "#FF6692",
          "pattern": {
           "shape": ""
          }
         },
         "name": "Malawi",
         "offsetgroup": "Malawi",
         "orientation": "v",
         "showlegend": true,
         "textposition": "auto",
         "type": "bar",
         "x": [
          2020,
          2021
         ],
         "xaxis": "x",
         "y": [
          4.9,
          5.8
         ],
         "yaxis": "y"
        },
        {
         "alignmentgroup": "True",
         "customdata": [
          [
           "Malaysia"
          ],
          [
           "Malaysia"
          ]
         ],
         "hovertemplate": "Reference area=%{customdata[0]}<br>Time=%{x}<br>Value=%{y}<extra></extra>",
         "legendgroup": "Malaysia",
         "marker": {
          "color": "#B6E880",
          "pattern": {
           "shape": ""
          }
         },
         "name": "Malaysia",
         "offsetgroup": "Malaysia",
         "orientation": "v",
         "showlegend": true,
         "textposition": "auto",
         "type": "bar",
         "x": [
          2020,
          2021
         ],
         "xaxis": "x",
         "y": [
          9.5,
          6.3
         ],
         "yaxis": "y"
        },
        {
         "alignmentgroup": "True",
         "customdata": [
          [
           "Maldives"
          ],
          [
           "Maldives"
          ]
         ],
         "hovertemplate": "Reference area=%{customdata[0]}<br>Time=%{x}<br>Value=%{y}<extra></extra>",
         "legendgroup": "Maldives",
         "marker": {
          "color": "#FF97FF",
          "pattern": {
           "shape": ""
          }
         },
         "name": "Maldives",
         "offsetgroup": "Maldives",
         "orientation": "v",
         "showlegend": true,
         "textposition": "auto",
         "type": "bar",
         "x": [
          2020,
          2021
         ],
         "xaxis": "x",
         "y": [
          11.3,
          7
         ],
         "yaxis": "y"
        },
        {
         "alignmentgroup": "True",
         "customdata": [
          [
           "Mali"
          ],
          [
           "Mali"
          ]
         ],
         "hovertemplate": "Reference area=%{customdata[0]}<br>Time=%{x}<br>Value=%{y}<extra></extra>",
         "legendgroup": "Mali",
         "marker": {
          "color": "#FECB52",
          "pattern": {
           "shape": ""
          }
         },
         "name": "Mali",
         "offsetgroup": "Mali",
         "orientation": "v",
         "showlegend": true,
         "textposition": "auto",
         "type": "bar",
         "x": [
          2020,
          2021
         ],
         "xaxis": "x",
         "y": [
          4.1,
          3.8
         ],
         "yaxis": "y"
        },
        {
         "alignmentgroup": "True",
         "customdata": [
          [
           "Malta"
          ],
          [
           "Malta"
          ]
         ],
         "hovertemplate": "Reference area=%{customdata[0]}<br>Time=%{x}<br>Value=%{y}<extra></extra>",
         "legendgroup": "Malta",
         "marker": {
          "color": "#636efa",
          "pattern": {
           "shape": ""
          }
         },
         "name": "Malta",
         "offsetgroup": "Malta",
         "orientation": "v",
         "showlegend": true,
         "textposition": "auto",
         "type": "bar",
         "x": [
          2020,
          2021
         ],
         "xaxis": "x",
         "y": [
          7.9,
          4.4
         ],
         "yaxis": "y"
        },
        {
         "alignmentgroup": "True",
         "customdata": [
          [
           "Mauritania"
          ],
          [
           "Mauritania"
          ]
         ],
         "hovertemplate": "Reference area=%{customdata[0]}<br>Time=%{x}<br>Value=%{y}<extra></extra>",
         "legendgroup": "Mauritania",
         "marker": {
          "color": "#EF553B",
          "pattern": {
           "shape": ""
          }
         },
         "name": "Mauritania",
         "offsetgroup": "Mauritania",
         "orientation": "v",
         "showlegend": true,
         "textposition": "auto",
         "type": "bar",
         "x": [
          2020,
          2021
         ],
         "xaxis": "x",
         "y": [
          6,
          5.4
         ],
         "yaxis": "y"
        },
        {
         "alignmentgroup": "True",
         "customdata": [
          [
           "Mauritius"
          ],
          [
           "Mauritius"
          ]
         ],
         "hovertemplate": "Reference area=%{customdata[0]}<br>Time=%{x}<br>Value=%{y}<extra></extra>",
         "legendgroup": "Mauritius",
         "marker": {
          "color": "#00cc96",
          "pattern": {
           "shape": ""
          }
         },
         "name": "Mauritius",
         "offsetgroup": "Mauritius",
         "orientation": "v",
         "showlegend": true,
         "textposition": "auto",
         "type": "bar",
         "x": [
          2020,
          2021
         ],
         "xaxis": "x",
         "y": [
          7.4,
          7
         ],
         "yaxis": "y"
        },
        {
         "alignmentgroup": "True",
         "customdata": [
          [
           "Mexico"
          ],
          [
           "Mexico"
          ]
         ],
         "hovertemplate": "Reference area=%{customdata[0]}<br>Time=%{x}<br>Value=%{y}<extra></extra>",
         "legendgroup": "Mexico",
         "marker": {
          "color": "#ab63fa",
          "pattern": {
           "shape": ""
          }
         },
         "name": "Mexico",
         "offsetgroup": "Mexico",
         "orientation": "v",
         "showlegend": true,
         "textposition": "auto",
         "type": "bar",
         "x": [
          2020,
          2021
         ],
         "xaxis": "x",
         "y": [
          14.9,
          4.7
         ],
         "yaxis": "y"
        },
        {
         "alignmentgroup": "True",
         "customdata": [
          [
           "Moldova, Republic of"
          ],
          [
           "Moldova, Republic of"
          ]
         ],
         "hovertemplate": "Reference area=%{customdata[0]}<br>Time=%{x}<br>Value=%{y}<extra></extra>",
         "legendgroup": "Moldova, Republic of",
         "marker": {
          "color": "#FFA15A",
          "pattern": {
           "shape": ""
          }
         },
         "name": "Moldova, Republic of",
         "offsetgroup": "Moldova, Republic of",
         "orientation": "v",
         "showlegend": true,
         "textposition": "auto",
         "type": "bar",
         "x": [
          2020,
          2021
         ],
         "xaxis": "x",
         "y": [
          8.7,
          6.8
         ],
         "yaxis": "y"
        },
        {
         "alignmentgroup": "True",
         "customdata": [
          [
           "Mongolia"
          ],
          [
           "Mongolia"
          ]
         ],
         "hovertemplate": "Reference area=%{customdata[0]}<br>Time=%{x}<br>Value=%{y}<extra></extra>",
         "legendgroup": "Mongolia",
         "marker": {
          "color": "#19d3f3",
          "pattern": {
           "shape": ""
          }
         },
         "name": "Mongolia",
         "offsetgroup": "Mongolia",
         "orientation": "v",
         "showlegend": true,
         "textposition": "auto",
         "type": "bar",
         "x": [
          2020,
          2021
         ],
         "xaxis": "x",
         "y": [
          10.3,
          15.7
         ],
         "yaxis": "y"
        },
        {
         "alignmentgroup": "True",
         "customdata": [
          [
           "Montenegro"
          ],
          [
           "Montenegro"
          ]
         ],
         "hovertemplate": "Reference area=%{customdata[0]}<br>Time=%{x}<br>Value=%{y}<extra></extra>",
         "legendgroup": "Montenegro",
         "marker": {
          "color": "#FF6692",
          "pattern": {
           "shape": ""
          }
         },
         "name": "Montenegro",
         "offsetgroup": "Montenegro",
         "orientation": "v",
         "showlegend": true,
         "textposition": "auto",
         "type": "bar",
         "x": [
          2020,
          2021
         ],
         "xaxis": "x",
         "y": [
          11.4,
          6.1
         ],
         "yaxis": "y"
        },
        {
         "alignmentgroup": "True",
         "customdata": [
          [
           "Morocco"
          ],
          [
           "Morocco"
          ]
         ],
         "hovertemplate": "Reference area=%{customdata[0]}<br>Time=%{x}<br>Value=%{y}<extra></extra>",
         "legendgroup": "Morocco",
         "marker": {
          "color": "#B6E880",
          "pattern": {
           "shape": ""
          }
         },
         "name": "Morocco",
         "offsetgroup": "Morocco",
         "orientation": "v",
         "showlegend": true,
         "textposition": "auto",
         "type": "bar",
         "x": [
          2020,
          2021
         ],
         "xaxis": "x",
         "y": [
          13.7,
          7.5
         ],
         "yaxis": "y"
        },
        {
         "alignmentgroup": "True",
         "customdata": [
          [
           "Mozambique"
          ],
          [
           "Mozambique"
          ]
         ],
         "hovertemplate": "Reference area=%{customdata[0]}<br>Time=%{x}<br>Value=%{y}<extra></extra>",
         "legendgroup": "Mozambique",
         "marker": {
          "color": "#FF97FF",
          "pattern": {
           "shape": ""
          }
         },
         "name": "Mozambique",
         "offsetgroup": "Mozambique",
         "orientation": "v",
         "showlegend": true,
         "textposition": "auto",
         "type": "bar",
         "x": [
          2020,
          2021
         ],
         "xaxis": "x",
         "y": [
          6,
          6.6
         ],
         "yaxis": "y"
        },
        {
         "alignmentgroup": "True",
         "customdata": [
          [
           "Myanmar"
          ],
          [
           "Myanmar"
          ]
         ],
         "hovertemplate": "Reference area=%{customdata[0]}<br>Time=%{x}<br>Value=%{y}<extra></extra>",
         "legendgroup": "Myanmar",
         "marker": {
          "color": "#FECB52",
          "pattern": {
           "shape": ""
          }
         },
         "name": "Myanmar",
         "offsetgroup": "Myanmar",
         "orientation": "v",
         "showlegend": true,
         "textposition": "auto",
         "type": "bar",
         "x": [
          2020,
          2021
         ],
         "xaxis": "x",
         "y": [
          10.2,
          14.5
         ],
         "yaxis": "y"
        },
        {
         "alignmentgroup": "True",
         "customdata": [
          [
           "Namibia"
          ],
          [
           "Namibia"
          ]
         ],
         "hovertemplate": "Reference area=%{customdata[0]}<br>Time=%{x}<br>Value=%{y}<extra></extra>",
         "legendgroup": "Namibia",
         "marker": {
          "color": "#636efa",
          "pattern": {
           "shape": ""
          }
         },
         "name": "Namibia",
         "offsetgroup": "Namibia",
         "orientation": "v",
         "showlegend": true,
         "textposition": "auto",
         "type": "bar",
         "x": [
          2020,
          2021
         ],
         "xaxis": "x",
         "y": [
          6.3,
          6.5
         ],
         "yaxis": "y"
        },
        {
         "alignmentgroup": "True",
         "customdata": [
          [
           "Nepal"
          ],
          [
           "Nepal"
          ]
         ],
         "hovertemplate": "Reference area=%{customdata[0]}<br>Time=%{x}<br>Value=%{y}<extra></extra>",
         "legendgroup": "Nepal",
         "marker": {
          "color": "#EF553B",
          "pattern": {
           "shape": ""
          }
         },
         "name": "Nepal",
         "offsetgroup": "Nepal",
         "orientation": "v",
         "showlegend": true,
         "textposition": "auto",
         "type": "bar",
         "x": [
          2020,
          2021
         ],
         "xaxis": "x",
         "y": [
          16.6,
          7.1
         ],
         "yaxis": "y"
        },
        {
         "alignmentgroup": "True",
         "customdata": [
          [
           "Netherlands"
          ],
          [
           "Netherlands"
          ]
         ],
         "hovertemplate": "Reference area=%{customdata[0]}<br>Time=%{x}<br>Value=%{y}<extra></extra>",
         "legendgroup": "Netherlands",
         "marker": {
          "color": "#00cc96",
          "pattern": {
           "shape": ""
          }
         },
         "name": "Netherlands",
         "offsetgroup": "Netherlands",
         "orientation": "v",
         "showlegend": true,
         "textposition": "auto",
         "type": "bar",
         "x": [
          2020,
          2021
         ],
         "xaxis": "x",
         "y": [
          2.8,
          0.7
         ],
         "yaxis": "y"
        },
        {
         "alignmentgroup": "True",
         "customdata": [
          [
           "New Caledonia"
          ],
          [
           "New Caledonia"
          ]
         ],
         "hovertemplate": "Reference area=%{customdata[0]}<br>Time=%{x}<br>Value=%{y}<extra></extra>",
         "legendgroup": "New Caledonia",
         "marker": {
          "color": "#ab63fa",
          "pattern": {
           "shape": ""
          }
         },
         "name": "New Caledonia",
         "offsetgroup": "New Caledonia",
         "orientation": "v",
         "showlegend": true,
         "textposition": "auto",
         "type": "bar",
         "x": [
          2020,
          2021
         ],
         "xaxis": "x",
         "y": [
          3.4,
          2.8
         ],
         "yaxis": "y"
        },
        {
         "alignmentgroup": "True",
         "customdata": [
          [
           "New Zealand"
          ],
          [
           "New Zealand"
          ]
         ],
         "hovertemplate": "Reference area=%{customdata[0]}<br>Time=%{x}<br>Value=%{y}<extra></extra>",
         "legendgroup": "New Zealand",
         "marker": {
          "color": "#FFA15A",
          "pattern": {
           "shape": ""
          }
         },
         "name": "New Zealand",
         "offsetgroup": "New Zealand",
         "orientation": "v",
         "showlegend": true,
         "textposition": "auto",
         "type": "bar",
         "x": [
          2020,
          2021
         ],
         "xaxis": "x",
         "y": [
          -1.1,
          -1.4
         ],
         "yaxis": "y"
        },
        {
         "alignmentgroup": "True",
         "customdata": [
          [
           "Nicaragua"
          ],
          [
           "Nicaragua"
          ]
         ],
         "hovertemplate": "Reference area=%{customdata[0]}<br>Time=%{x}<br>Value=%{y}<extra></extra>",
         "legendgroup": "Nicaragua",
         "marker": {
          "color": "#19d3f3",
          "pattern": {
           "shape": ""
          }
         },
         "name": "Nicaragua",
         "offsetgroup": "Nicaragua",
         "orientation": "v",
         "showlegend": true,
         "textposition": "auto",
         "type": "bar",
         "x": [
          2020,
          2021
         ],
         "xaxis": "x",
         "y": [
          2.2,
          0.8
         ],
         "yaxis": "y"
        },
        {
         "alignmentgroup": "True",
         "customdata": [
          [
           "Niger"
          ],
          [
           "Niger"
          ]
         ],
         "hovertemplate": "Reference area=%{customdata[0]}<br>Time=%{x}<br>Value=%{y}<extra></extra>",
         "legendgroup": "Niger",
         "marker": {
          "color": "#FF6692",
          "pattern": {
           "shape": ""
          }
         },
         "name": "Niger",
         "offsetgroup": "Niger",
         "orientation": "v",
         "showlegend": true,
         "textposition": "auto",
         "type": "bar",
         "x": [
          2020,
          2021
         ],
         "xaxis": "x",
         "y": [
          2.2,
          2.4
         ],
         "yaxis": "y"
        },
        {
         "alignmentgroup": "True",
         "customdata": [
          [
           "Nigeria"
          ],
          [
           "Nigeria"
          ]
         ],
         "hovertemplate": "Reference area=%{customdata[0]}<br>Time=%{x}<br>Value=%{y}<extra></extra>",
         "legendgroup": "Nigeria",
         "marker": {
          "color": "#B6E880",
          "pattern": {
           "shape": ""
          }
         },
         "name": "Nigeria",
         "offsetgroup": "Nigeria",
         "orientation": "v",
         "showlegend": true,
         "textposition": "auto",
         "type": "bar",
         "x": [
          2020,
          2021
         ],
         "xaxis": "x",
         "y": [
          9,
          5.5
         ],
         "yaxis": "y"
        },
        {
         "alignmentgroup": "True",
         "customdata": [
          [
           "North Macedonia"
          ],
          [
           "North Macedonia"
          ]
         ],
         "hovertemplate": "Reference area=%{customdata[0]}<br>Time=%{x}<br>Value=%{y}<extra></extra>",
         "legendgroup": "North Macedonia",
         "marker": {
          "color": "#FF97FF",
          "pattern": {
           "shape": ""
          }
         },
         "name": "North Macedonia",
         "offsetgroup": "North Macedonia",
         "orientation": "v",
         "showlegend": true,
         "textposition": "auto",
         "type": "bar",
         "x": [
          2020,
          2021
         ],
         "xaxis": "x",
         "y": [
          9.9,
          1.3
         ],
         "yaxis": "y"
        },
        {
         "alignmentgroup": "True",
         "customdata": [
          [
           "Norway"
          ],
          [
           "Norway"
          ]
         ],
         "hovertemplate": "Reference area=%{customdata[0]}<br>Time=%{x}<br>Value=%{y}<extra></extra>",
         "legendgroup": "Norway",
         "marker": {
          "color": "#FECB52",
          "pattern": {
           "shape": ""
          }
         },
         "name": "Norway",
         "offsetgroup": "Norway",
         "orientation": "v",
         "showlegend": true,
         "textposition": "auto",
         "type": "bar",
         "x": [
          2020,
          2021
         ],
         "xaxis": "x",
         "y": [
          3.7,
          -4.5
         ],
         "yaxis": "y"
        },
        {
         "alignmentgroup": "True",
         "customdata": [
          [
           "Occupied Palestinian Territory"
          ],
          [
           "Occupied Palestinian Territory"
          ]
         ],
         "hovertemplate": "Reference area=%{customdata[0]}<br>Time=%{x}<br>Value=%{y}<extra></extra>",
         "legendgroup": "Occupied Palestinian Territory",
         "marker": {
          "color": "#636efa",
          "pattern": {
           "shape": ""
          }
         },
         "name": "Occupied Palestinian Territory",
         "offsetgroup": "Occupied Palestinian Territory",
         "orientation": "v",
         "showlegend": true,
         "textposition": "auto",
         "type": "bar",
         "x": [
          2020,
          2021
         ],
         "xaxis": "x",
         "y": [
          16,
          11.9
         ],
         "yaxis": "y"
        },
        {
         "alignmentgroup": "True",
         "customdata": [
          [
           "Oman"
          ],
          [
           "Oman"
          ]
         ],
         "hovertemplate": "Reference area=%{customdata[0]}<br>Time=%{x}<br>Value=%{y}<extra></extra>",
         "legendgroup": "Oman",
         "marker": {
          "color": "#EF553B",
          "pattern": {
           "shape": ""
          }
         },
         "name": "Oman",
         "offsetgroup": "Oman",
         "orientation": "v",
         "showlegend": true,
         "textposition": "auto",
         "type": "bar",
         "x": [
          2020,
          2021
         ],
         "xaxis": "x",
         "y": [
          13.1,
          7.9
         ],
         "yaxis": "y"
        },
        {
         "alignmentgroup": "True",
         "customdata": [
          [
           "Pakistan"
          ],
          [
           "Pakistan"
          ]
         ],
         "hovertemplate": "Reference area=%{customdata[0]}<br>Time=%{x}<br>Value=%{y}<extra></extra>",
         "legendgroup": "Pakistan",
         "marker": {
          "color": "#00cc96",
          "pattern": {
           "shape": ""
          }
         },
         "name": "Pakistan",
         "offsetgroup": "Pakistan",
         "orientation": "v",
         "showlegend": true,
         "textposition": "auto",
         "type": "bar",
         "x": [
          2020,
          2021
         ],
         "xaxis": "x",
         "y": [
          9.4,
          6.5
         ],
         "yaxis": "y"
        },
        {
         "alignmentgroup": "True",
         "customdata": [
          [
           "Panama"
          ],
          [
           "Panama"
          ]
         ],
         "hovertemplate": "Reference area=%{customdata[0]}<br>Time=%{x}<br>Value=%{y}<extra></extra>",
         "legendgroup": "Panama",
         "marker": {
          "color": "#ab63fa",
          "pattern": {
           "shape": ""
          }
         },
         "name": "Panama",
         "offsetgroup": "Panama",
         "orientation": "v",
         "showlegend": true,
         "textposition": "auto",
         "type": "bar",
         "x": [
          2020,
          2021
         ],
         "xaxis": "x",
         "y": [
          21.7,
          8.1
         ],
         "yaxis": "y"
        },
        {
         "alignmentgroup": "True",
         "customdata": [
          [
           "Papua New Guinea"
          ],
          [
           "Papua New Guinea"
          ]
         ],
         "hovertemplate": "Reference area=%{customdata[0]}<br>Time=%{x}<br>Value=%{y}<extra></extra>",
         "legendgroup": "Papua New Guinea",
         "marker": {
          "color": "#FFA15A",
          "pattern": {
           "shape": ""
          }
         },
         "name": "Papua New Guinea",
         "offsetgroup": "Papua New Guinea",
         "orientation": "v",
         "showlegend": true,
         "textposition": "auto",
         "type": "bar",
         "x": [
          2020,
          2021
         ],
         "xaxis": "x",
         "y": [
          3,
          5.7
         ],
         "yaxis": "y"
        },
        {
         "alignmentgroup": "True",
         "customdata": [
          [
           "Paraguay"
          ],
          [
           "Paraguay"
          ]
         ],
         "hovertemplate": "Reference area=%{customdata[0]}<br>Time=%{x}<br>Value=%{y}<extra></extra>",
         "legendgroup": "Paraguay",
         "marker": {
          "color": "#19d3f3",
          "pattern": {
           "shape": ""
          }
         },
         "name": "Paraguay",
         "offsetgroup": "Paraguay",
         "orientation": "v",
         "showlegend": true,
         "textposition": "auto",
         "type": "bar",
         "x": [
          2020,
          2021
         ],
         "xaxis": "x",
         "y": [
          18.3,
          3.7
         ],
         "yaxis": "y"
        },
        {
         "alignmentgroup": "True",
         "customdata": [
          [
           "Peru"
          ],
          [
           "Peru"
          ]
         ],
         "hovertemplate": "Reference area=%{customdata[0]}<br>Time=%{x}<br>Value=%{y}<extra></extra>",
         "legendgroup": "Peru",
         "marker": {
          "color": "#FF6692",
          "pattern": {
           "shape": ""
          }
         },
         "name": "Peru",
         "offsetgroup": "Peru",
         "orientation": "v",
         "showlegend": true,
         "textposition": "auto",
         "type": "bar",
         "x": [
          2020,
          2021
         ],
         "xaxis": "x",
         "y": [
          29,
          11.7
         ],
         "yaxis": "y"
        },
        {
         "alignmentgroup": "True",
         "customdata": [
          [
           "Philippines"
          ],
          [
           "Philippines"
          ]
         ],
         "hovertemplate": "Reference area=%{customdata[0]}<br>Time=%{x}<br>Value=%{y}<extra></extra>",
         "legendgroup": "Philippines",
         "marker": {
          "color": "#B6E880",
          "pattern": {
           "shape": ""
          }
         },
         "name": "Philippines",
         "offsetgroup": "Philippines",
         "orientation": "v",
         "showlegend": true,
         "textposition": "auto",
         "type": "bar",
         "x": [
          2020,
          2021
         ],
         "xaxis": "x",
         "y": [
          15.5,
          6.7
         ],
         "yaxis": "y"
        },
        {
         "alignmentgroup": "True",
         "customdata": [
          [
           "Poland"
          ],
          [
           "Poland"
          ]
         ],
         "hovertemplate": "Reference area=%{customdata[0]}<br>Time=%{x}<br>Value=%{y}<extra></extra>",
         "legendgroup": "Poland",
         "marker": {
          "color": "#FF97FF",
          "pattern": {
           "shape": ""
          }
         },
         "name": "Poland",
         "offsetgroup": "Poland",
         "orientation": "v",
         "showlegend": true,
         "textposition": "auto",
         "type": "bar",
         "x": [
          2020,
          2021
         ],
         "xaxis": "x",
         "y": [
          2.1,
          -2.4
         ],
         "yaxis": "y"
        },
        {
         "alignmentgroup": "True",
         "customdata": [
          [
           "Portugal"
          ],
          [
           "Portugal"
          ]
         ],
         "hovertemplate": "Reference area=%{customdata[0]}<br>Time=%{x}<br>Value=%{y}<extra></extra>",
         "legendgroup": "Portugal",
         "marker": {
          "color": "#FECB52",
          "pattern": {
           "shape": ""
          }
         },
         "name": "Portugal",
         "offsetgroup": "Portugal",
         "orientation": "v",
         "showlegend": true,
         "textposition": "auto",
         "type": "bar",
         "x": [
          2020,
          2021
         ],
         "xaxis": "x",
         "y": [
          12,
          4.4
         ],
         "yaxis": "y"
        },
        {
         "alignmentgroup": "True",
         "customdata": [
          [
           "Puerto Rico"
          ],
          [
           "Puerto Rico"
          ]
         ],
         "hovertemplate": "Reference area=%{customdata[0]}<br>Time=%{x}<br>Value=%{y}<extra></extra>",
         "legendgroup": "Puerto Rico",
         "marker": {
          "color": "#636efa",
          "pattern": {
           "shape": ""
          }
         },
         "name": "Puerto Rico",
         "offsetgroup": "Puerto Rico",
         "orientation": "v",
         "showlegend": true,
         "textposition": "auto",
         "type": "bar",
         "x": [
          2020,
          2021
         ],
         "xaxis": "x",
         "y": [
          10.5,
          4.9
         ],
         "yaxis": "y"
        },
        {
         "alignmentgroup": "True",
         "customdata": [
          [
           "Qatar"
          ],
          [
           "Qatar"
          ]
         ],
         "hovertemplate": "Reference area=%{customdata[0]}<br>Time=%{x}<br>Value=%{y}<extra></extra>",
         "legendgroup": "Qatar",
         "marker": {
          "color": "#EF553B",
          "pattern": {
           "shape": ""
          }
         },
         "name": "Qatar",
         "offsetgroup": "Qatar",
         "orientation": "v",
         "showlegend": true,
         "textposition": "auto",
         "type": "bar",
         "x": [
          2020,
          2021
         ],
         "xaxis": "x",
         "y": [
          9.7,
          7.1
         ],
         "yaxis": "y"
        },
        {
         "alignmentgroup": "True",
         "customdata": [
          [
           "Romania"
          ],
          [
           "Romania"
          ]
         ],
         "hovertemplate": "Reference area=%{customdata[0]}<br>Time=%{x}<br>Value=%{y}<extra></extra>",
         "legendgroup": "Romania",
         "marker": {
          "color": "#00cc96",
          "pattern": {
           "shape": ""
          }
         },
         "name": "Romania",
         "offsetgroup": "Romania",
         "orientation": "v",
         "showlegend": true,
         "textposition": "auto",
         "type": "bar",
         "x": [
          2020,
          2021
         ],
         "xaxis": "x",
         "y": [
          6.2,
          2.7
         ],
         "yaxis": "y"
        },
        {
         "alignmentgroup": "True",
         "customdata": [
          [
           "Russian Federation"
          ],
          [
           "Russian Federation"
          ]
         ],
         "hovertemplate": "Reference area=%{customdata[0]}<br>Time=%{x}<br>Value=%{y}<extra></extra>",
         "legendgroup": "Russian Federation",
         "marker": {
          "color": "#ab63fa",
          "pattern": {
           "shape": ""
          }
         },
         "name": "Russian Federation",
         "offsetgroup": "Russian Federation",
         "orientation": "v",
         "showlegend": true,
         "textposition": "auto",
         "type": "bar",
         "x": [
          2020,
          2021
         ],
         "xaxis": "x",
         "y": [
          6,
          1.4
         ],
         "yaxis": "y"
        },
        {
         "alignmentgroup": "True",
         "customdata": [
          [
           "Rwanda"
          ],
          [
           "Rwanda"
          ]
         ],
         "hovertemplate": "Reference area=%{customdata[0]}<br>Time=%{x}<br>Value=%{y}<extra></extra>",
         "legendgroup": "Rwanda",
         "marker": {
          "color": "#FFA15A",
          "pattern": {
           "shape": ""
          }
         },
         "name": "Rwanda",
         "offsetgroup": "Rwanda",
         "orientation": "v",
         "showlegend": true,
         "textposition": "auto",
         "type": "bar",
         "x": [
          2020,
          2021
         ],
         "xaxis": "x",
         "y": [
          9.8,
          7.1
         ],
         "yaxis": "y"
        },
        {
         "alignmentgroup": "True",
         "customdata": [
          [
           "Saint Lucia"
          ],
          [
           "Saint Lucia"
          ]
         ],
         "hovertemplate": "Reference area=%{customdata[0]}<br>Time=%{x}<br>Value=%{y}<extra></extra>",
         "legendgroup": "Saint Lucia",
         "marker": {
          "color": "#19d3f3",
          "pattern": {
           "shape": ""
          }
         },
         "name": "Saint Lucia",
         "offsetgroup": "Saint Lucia",
         "orientation": "v",
         "showlegend": true,
         "textposition": "auto",
         "type": "bar",
         "x": [
          2020,
          2021
         ],
         "xaxis": "x",
         "y": [
          8.9,
          6.5
         ],
         "yaxis": "y"
        },
        {
         "alignmentgroup": "True",
         "customdata": [
          [
           "Saint Vincent and the Grenadines"
          ],
          [
           "Saint Vincent and the Grenadines"
          ]
         ],
         "hovertemplate": "Reference area=%{customdata[0]}<br>Time=%{x}<br>Value=%{y}<extra></extra>",
         "legendgroup": "Saint Vincent and the Grenadines",
         "marker": {
          "color": "#FF6692",
          "pattern": {
           "shape": ""
          }
         },
         "name": "Saint Vincent and the Grenadines",
         "offsetgroup": "Saint Vincent and the Grenadines",
         "orientation": "v",
         "showlegend": true,
         "textposition": "auto",
         "type": "bar",
         "x": [
          2020,
          2021
         ],
         "xaxis": "x",
         "y": [
          8.6,
          5.1
         ],
         "yaxis": "y"
        },
        {
         "alignmentgroup": "True",
         "customdata": [
          [
           "Samoa"
          ],
          [
           "Samoa"
          ]
         ],
         "hovertemplate": "Reference area=%{customdata[0]}<br>Time=%{x}<br>Value=%{y}<extra></extra>",
         "legendgroup": "Samoa",
         "marker": {
          "color": "#B6E880",
          "pattern": {
           "shape": ""
          }
         },
         "name": "Samoa",
         "offsetgroup": "Samoa",
         "orientation": "v",
         "showlegend": true,
         "textposition": "auto",
         "type": "bar",
         "x": [
          2020,
          2021
         ],
         "xaxis": "x",
         "y": [
          4.3,
          4.2
         ],
         "yaxis": "y"
        },
        {
         "alignmentgroup": "True",
         "customdata": [
          [
           "Sao Tome and Principe"
          ],
          [
           "Sao Tome and Principe"
          ]
         ],
         "hovertemplate": "Reference area=%{customdata[0]}<br>Time=%{x}<br>Value=%{y}<extra></extra>",
         "legendgroup": "Sao Tome and Principe",
         "marker": {
          "color": "#FF97FF",
          "pattern": {
           "shape": ""
          }
         },
         "name": "Sao Tome and Principe",
         "offsetgroup": "Sao Tome and Principe",
         "orientation": "v",
         "showlegend": true,
         "textposition": "auto",
         "type": "bar",
         "x": [
          2020,
          2021
         ],
         "xaxis": "x",
         "y": [
          9,
          4.9
         ],
         "yaxis": "y"
        },
        {
         "alignmentgroup": "True",
         "customdata": [
          [
           "Saudi Arabia"
          ],
          [
           "Saudi Arabia"
          ]
         ],
         "hovertemplate": "Reference area=%{customdata[0]}<br>Time=%{x}<br>Value=%{y}<extra></extra>",
         "legendgroup": "Saudi Arabia",
         "marker": {
          "color": "#FECB52",
          "pattern": {
           "shape": ""
          }
         },
         "name": "Saudi Arabia",
         "offsetgroup": "Saudi Arabia",
         "orientation": "v",
         "showlegend": true,
         "textposition": "auto",
         "type": "bar",
         "x": [
          2020,
          2021
         ],
         "xaxis": "x",
         "y": [
          7.5,
          4.6
         ],
         "yaxis": "y"
        },
        {
         "alignmentgroup": "True",
         "customdata": [
          [
           "Senegal"
          ],
          [
           "Senegal"
          ]
         ],
         "hovertemplate": "Reference area=%{customdata[0]}<br>Time=%{x}<br>Value=%{y}<extra></extra>",
         "legendgroup": "Senegal",
         "marker": {
          "color": "#636efa",
          "pattern": {
           "shape": ""
          }
         },
         "name": "Senegal",
         "offsetgroup": "Senegal",
         "orientation": "v",
         "showlegend": true,
         "textposition": "auto",
         "type": "bar",
         "x": [
          2020,
          2021
         ],
         "xaxis": "x",
         "y": [
          6.6,
          3.5
         ],
         "yaxis": "y"
        },
        {
         "alignmentgroup": "True",
         "customdata": [
          [
           "Serbia"
          ],
          [
           "Serbia"
          ]
         ],
         "hovertemplate": "Reference area=%{customdata[0]}<br>Time=%{x}<br>Value=%{y}<extra></extra>",
         "legendgroup": "Serbia",
         "marker": {
          "color": "#EF553B",
          "pattern": {
           "shape": ""
          }
         },
         "name": "Serbia",
         "offsetgroup": "Serbia",
         "orientation": "v",
         "showlegend": true,
         "textposition": "auto",
         "type": "bar",
         "x": [
          2020,
          2021
         ],
         "xaxis": "x",
         "y": [
          4.7,
          -0.9
         ],
         "yaxis": "y"
        },
        {
         "alignmentgroup": "True",
         "customdata": [
          [
           "Sierra Leone"
          ],
          [
           "Sierra Leone"
          ]
         ],
         "hovertemplate": "Reference area=%{customdata[0]}<br>Time=%{x}<br>Value=%{y}<extra></extra>",
         "legendgroup": "Sierra Leone",
         "marker": {
          "color": "#00cc96",
          "pattern": {
           "shape": ""
          }
         },
         "name": "Sierra Leone",
         "offsetgroup": "Sierra Leone",
         "orientation": "v",
         "showlegend": true,
         "textposition": "auto",
         "type": "bar",
         "x": [
          2020,
          2021
         ],
         "xaxis": "x",
         "y": [
          4.1,
          6.4
         ],
         "yaxis": "y"
        },
        {
         "alignmentgroup": "True",
         "customdata": [
          [
           "Singapore"
          ],
          [
           "Singapore"
          ]
         ],
         "hovertemplate": "Reference area=%{customdata[0]}<br>Time=%{x}<br>Value=%{y}<extra></extra>",
         "legendgroup": "Singapore",
         "marker": {
          "color": "#ab63fa",
          "pattern": {
           "shape": ""
          }
         },
         "name": "Singapore",
         "offsetgroup": "Singapore",
         "orientation": "v",
         "showlegend": true,
         "textposition": "auto",
         "type": "bar",
         "x": [
          2020,
          2021
         ],
         "xaxis": "x",
         "y": [
          4.8,
          4.4
         ],
         "yaxis": "y"
        },
        {
         "alignmentgroup": "True",
         "customdata": [
          [
           "Slovakia"
          ],
          [
           "Slovakia"
          ]
         ],
         "hovertemplate": "Reference area=%{customdata[0]}<br>Time=%{x}<br>Value=%{y}<extra></extra>",
         "legendgroup": "Slovakia",
         "marker": {
          "color": "#FFA15A",
          "pattern": {
           "shape": ""
          }
         },
         "name": "Slovakia",
         "offsetgroup": "Slovakia",
         "orientation": "v",
         "showlegend": true,
         "textposition": "auto",
         "type": "bar",
         "x": [
          2020,
          2021
         ],
         "xaxis": "x",
         "y": [
          10.9,
          8.7
         ],
         "yaxis": "y"
        },
        {
         "alignmentgroup": "True",
         "customdata": [
          [
           "Slovenia"
          ],
          [
           "Slovenia"
          ]
         ],
         "hovertemplate": "Reference area=%{customdata[0]}<br>Time=%{x}<br>Value=%{y}<extra></extra>",
         "legendgroup": "Slovenia",
         "marker": {
          "color": "#19d3f3",
          "pattern": {
           "shape": ""
          }
         },
         "name": "Slovenia",
         "offsetgroup": "Slovenia",
         "orientation": "v",
         "showlegend": true,
         "textposition": "auto",
         "type": "bar",
         "x": [
          2020,
          2021
         ],
         "xaxis": "x",
         "y": [
          6.4,
          -0.7
         ],
         "yaxis": "y"
        },
        {
         "alignmentgroup": "True",
         "customdata": [
          [
           "Solomon Islands"
          ],
          [
           "Solomon Islands"
          ]
         ],
         "hovertemplate": "Reference area=%{customdata[0]}<br>Time=%{x}<br>Value=%{y}<extra></extra>",
         "legendgroup": "Solomon Islands",
         "marker": {
          "color": "#FF6692",
          "pattern": {
           "shape": ""
          }
         },
         "name": "Solomon Islands",
         "offsetgroup": "Solomon Islands",
         "orientation": "v",
         "showlegend": true,
         "textposition": "auto",
         "type": "bar",
         "x": [
          2020,
          2021
         ],
         "xaxis": "x",
         "y": [
          2.4,
          2.3
         ],
         "yaxis": "y"
        },
        {
         "alignmentgroup": "True",
         "customdata": [
          [
           "Somalia"
          ],
          [
           "Somalia"
          ]
         ],
         "hovertemplate": "Reference area=%{customdata[0]}<br>Time=%{x}<br>Value=%{y}<extra></extra>",
         "legendgroup": "Somalia",
         "marker": {
          "color": "#B6E880",
          "pattern": {
           "shape": ""
          }
         },
         "name": "Somalia",
         "offsetgroup": "Somalia",
         "orientation": "v",
         "showlegend": true,
         "textposition": "auto",
         "type": "bar",
         "x": [
          2020,
          2021
         ],
         "xaxis": "x",
         "y": [
          3.3,
          2.5
         ],
         "yaxis": "y"
        },
        {
         "alignmentgroup": "True",
         "customdata": [
          [
           "South Africa"
          ],
          [
           "South Africa"
          ]
         ],
         "hovertemplate": "Reference area=%{customdata[0]}<br>Time=%{x}<br>Value=%{y}<extra></extra>",
         "legendgroup": "South Africa",
         "marker": {
          "color": "#FF97FF",
          "pattern": {
           "shape": ""
          }
         },
         "name": "South Africa",
         "offsetgroup": "South Africa",
         "orientation": "v",
         "showlegend": true,
         "textposition": "auto",
         "type": "bar",
         "x": [
          2020,
          2021
         ],
         "xaxis": "x",
         "y": [
          14.3,
          10
         ],
         "yaxis": "y"
        },
        {
         "alignmentgroup": "True",
         "customdata": [
          [
           "South Sudan"
          ],
          [
           "South Sudan"
          ]
         ],
         "hovertemplate": "Reference area=%{customdata[0]}<br>Time=%{x}<br>Value=%{y}<extra></extra>",
         "legendgroup": "South Sudan",
         "marker": {
          "color": "#FECB52",
          "pattern": {
           "shape": ""
          }
         },
         "name": "South Sudan",
         "offsetgroup": "South Sudan",
         "orientation": "v",
         "showlegend": true,
         "textposition": "auto",
         "type": "bar",
         "x": [
          2020,
          2021
         ],
         "xaxis": "x",
         "y": [
          8.1,
          4.9
         ],
         "yaxis": "y"
        },
        {
         "alignmentgroup": "True",
         "customdata": [
          [
           "Spain"
          ],
          [
           "Spain"
          ]
         ],
         "hovertemplate": "Reference area=%{customdata[0]}<br>Time=%{x}<br>Value=%{y}<extra></extra>",
         "legendgroup": "Spain",
         "marker": {
          "color": "#636efa",
          "pattern": {
           "shape": ""
          }
         },
         "name": "Spain",
         "offsetgroup": "Spain",
         "orientation": "v",
         "showlegend": true,
         "textposition": "auto",
         "type": "bar",
         "x": [
          2020,
          2021
         ],
         "xaxis": "x",
         "y": [
          11.7,
          3
         ],
         "yaxis": "y"
        },
        {
         "alignmentgroup": "True",
         "customdata": [
          [
           "Sri Lanka"
          ],
          [
           "Sri Lanka"
          ]
         ],
         "hovertemplate": "Reference area=%{customdata[0]}<br>Time=%{x}<br>Value=%{y}<extra></extra>",
         "legendgroup": "Sri Lanka",
         "marker": {
          "color": "#EF553B",
          "pattern": {
           "shape": ""
          }
         },
         "name": "Sri Lanka",
         "offsetgroup": "Sri Lanka",
         "orientation": "v",
         "showlegend": true,
         "textposition": "auto",
         "type": "bar",
         "x": [
          2020,
          2021
         ],
         "xaxis": "x",
         "y": [
          9.7,
          8.8
         ],
         "yaxis": "y"
        },
        {
         "alignmentgroup": "True",
         "customdata": [
          [
           "Sudan"
          ],
          [
           "Sudan"
          ]
         ],
         "hovertemplate": "Reference area=%{customdata[0]}<br>Time=%{x}<br>Value=%{y}<extra></extra>",
         "legendgroup": "Sudan",
         "marker": {
          "color": "#00cc96",
          "pattern": {
           "shape": ""
          }
         },
         "name": "Sudan",
         "offsetgroup": "Sudan",
         "orientation": "v",
         "showlegend": true,
         "textposition": "auto",
         "type": "bar",
         "x": [
          2020,
          2021
         ],
         "xaxis": "x",
         "y": [
          7.9,
          3.1
         ],
         "yaxis": "y"
        },
        {
         "alignmentgroup": "True",
         "customdata": [
          [
           "Suriname"
          ],
          [
           "Suriname"
          ]
         ],
         "hovertemplate": "Reference area=%{customdata[0]}<br>Time=%{x}<br>Value=%{y}<extra></extra>",
         "legendgroup": "Suriname",
         "marker": {
          "color": "#ab63fa",
          "pattern": {
           "shape": ""
          }
         },
         "name": "Suriname",
         "offsetgroup": "Suriname",
         "orientation": "v",
         "showlegend": true,
         "textposition": "auto",
         "type": "bar",
         "x": [
          2020,
          2021
         ],
         "xaxis": "x",
         "y": [
          10.3,
          8.8
         ],
         "yaxis": "y"
        },
        {
         "alignmentgroup": "True",
         "customdata": [
          [
           "Sweden"
          ],
          [
           "Sweden"
          ]
         ],
         "hovertemplate": "Reference area=%{customdata[0]}<br>Time=%{x}<br>Value=%{y}<extra></extra>",
         "legendgroup": "Sweden",
         "marker": {
          "color": "#FFA15A",
          "pattern": {
           "shape": ""
          }
         },
         "name": "Sweden",
         "offsetgroup": "Sweden",
         "orientation": "v",
         "showlegend": true,
         "textposition": "auto",
         "type": "bar",
         "x": [
          2020,
          2021
         ],
         "xaxis": "x",
         "y": [
          5.2,
          1.6
         ],
         "yaxis": "y"
        },
        {
         "alignmentgroup": "True",
         "customdata": [
          [
           "Switzerland"
          ],
          [
           "Switzerland"
          ]
         ],
         "hovertemplate": "Reference area=%{customdata[0]}<br>Time=%{x}<br>Value=%{y}<extra></extra>",
         "legendgroup": "Switzerland",
         "marker": {
          "color": "#19d3f3",
          "pattern": {
           "shape": ""
          }
         },
         "name": "Switzerland",
         "offsetgroup": "Switzerland",
         "orientation": "v",
         "showlegend": true,
         "textposition": "auto",
         "type": "bar",
         "x": [
          2020,
          2021
         ],
         "xaxis": "x",
         "y": [
          2.7,
          1.8
         ],
         "yaxis": "y"
        },
        {
         "alignmentgroup": "True",
         "customdata": [
          [
           "Syrian Arab Republic"
          ],
          [
           "Syrian Arab Republic"
          ]
         ],
         "hovertemplate": "Reference area=%{customdata[0]}<br>Time=%{x}<br>Value=%{y}<extra></extra>",
         "legendgroup": "Syrian Arab Republic",
         "marker": {
          "color": "#FF6692",
          "pattern": {
           "shape": ""
          }
         },
         "name": "Syrian Arab Republic",
         "offsetgroup": "Syrian Arab Republic",
         "orientation": "v",
         "showlegend": true,
         "textposition": "auto",
         "type": "bar",
         "x": [
          2020,
          2021
         ],
         "xaxis": "x",
         "y": [
          7.1,
          5.3
         ],
         "yaxis": "y"
        },
        {
         "alignmentgroup": "True",
         "customdata": [
          [
           "Taiwan, China"
          ],
          [
           "Taiwan, China"
          ]
         ],
         "hovertemplate": "Reference area=%{customdata[0]}<br>Time=%{x}<br>Value=%{y}<extra></extra>",
         "legendgroup": "Taiwan, China",
         "marker": {
          "color": "#B6E880",
          "pattern": {
           "shape": ""
          }
         },
         "name": "Taiwan, China",
         "offsetgroup": "Taiwan, China",
         "orientation": "v",
         "showlegend": true,
         "textposition": "auto",
         "type": "bar",
         "x": [
          2020,
          2021
         ],
         "xaxis": "x",
         "y": [
          2.2,
          3.6
         ],
         "yaxis": "y"
        },
        {
         "alignmentgroup": "True",
         "customdata": [
          [
           "Tajikistan"
          ],
          [
           "Tajikistan"
          ]
         ],
         "hovertemplate": "Reference area=%{customdata[0]}<br>Time=%{x}<br>Value=%{y}<extra></extra>",
         "legendgroup": "Tajikistan",
         "marker": {
          "color": "#FF97FF",
          "pattern": {
           "shape": ""
          }
         },
         "name": "Tajikistan",
         "offsetgroup": "Tajikistan",
         "orientation": "v",
         "showlegend": true,
         "textposition": "auto",
         "type": "bar",
         "x": [
          2020,
          2021
         ],
         "xaxis": "x",
         "y": [
          4.3,
          5.5
         ],
         "yaxis": "y"
        },
        {
         "alignmentgroup": "True",
         "customdata": [
          [
           "Tanzania, United Republic of"
          ],
          [
           "Tanzania, United Republic of"
          ]
         ],
         "hovertemplate": "Reference area=%{customdata[0]}<br>Time=%{x}<br>Value=%{y}<extra></extra>",
         "legendgroup": "Tanzania, United Republic of",
         "marker": {
          "color": "#FECB52",
          "pattern": {
           "shape": ""
          }
         },
         "name": "Tanzania, United Republic of",
         "offsetgroup": "Tanzania, United Republic of",
         "orientation": "v",
         "showlegend": true,
         "textposition": "auto",
         "type": "bar",
         "x": [
          2020,
          2021
         ],
         "xaxis": "x",
         "y": [
          2.8,
          0.8
         ],
         "yaxis": "y"
        },
        {
         "alignmentgroup": "True",
         "customdata": [
          [
           "Thailand"
          ],
          [
           "Thailand"
          ]
         ],
         "hovertemplate": "Reference area=%{customdata[0]}<br>Time=%{x}<br>Value=%{y}<extra></extra>",
         "legendgroup": "Thailand",
         "marker": {
          "color": "#636efa",
          "pattern": {
           "shape": ""
          }
         },
         "name": "Thailand",
         "offsetgroup": "Thailand",
         "orientation": "v",
         "showlegend": true,
         "textposition": "auto",
         "type": "bar",
         "x": [
          2020,
          2021
         ],
         "xaxis": "x",
         "y": [
          3.8,
          4
         ],
         "yaxis": "y"
        },
        {
         "alignmentgroup": "True",
         "customdata": [
          [
           "Timor-Leste"
          ],
          [
           "Timor-Leste"
          ]
         ],
         "hovertemplate": "Reference area=%{customdata[0]}<br>Time=%{x}<br>Value=%{y}<extra></extra>",
         "legendgroup": "Timor-Leste",
         "marker": {
          "color": "#EF553B",
          "pattern": {
           "shape": ""
          }
         },
         "name": "Timor-Leste",
         "offsetgroup": "Timor-Leste",
         "orientation": "v",
         "showlegend": true,
         "textposition": "auto",
         "type": "bar",
         "x": [
          2020,
          2021
         ],
         "xaxis": "x",
         "y": [
          3.5,
          7.8
         ],
         "yaxis": "y"
        },
        {
         "alignmentgroup": "True",
         "customdata": [
          [
           "Togo"
          ],
          [
           "Togo"
          ]
         ],
         "hovertemplate": "Reference area=%{customdata[0]}<br>Time=%{x}<br>Value=%{y}<extra></extra>",
         "legendgroup": "Togo",
         "marker": {
          "color": "#00cc96",
          "pattern": {
           "shape": ""
          }
         },
         "name": "Togo",
         "offsetgroup": "Togo",
         "orientation": "v",
         "showlegend": true,
         "textposition": "auto",
         "type": "bar",
         "x": [
          2020,
          2021
         ],
         "xaxis": "x",
         "y": [
          5.5,
          5
         ],
         "yaxis": "y"
        },
        {
         "alignmentgroup": "True",
         "customdata": [
          [
           "Tonga"
          ],
          [
           "Tonga"
          ]
         ],
         "hovertemplate": "Reference area=%{customdata[0]}<br>Time=%{x}<br>Value=%{y}<extra></extra>",
         "legendgroup": "Tonga",
         "marker": {
          "color": "#ab63fa",
          "pattern": {
           "shape": ""
          }
         },
         "name": "Tonga",
         "offsetgroup": "Tonga",
         "orientation": "v",
         "showlegend": true,
         "textposition": "auto",
         "type": "bar",
         "x": [
          2020,
          2021
         ],
         "xaxis": "x",
         "y": [
          4.5,
          6.7
         ],
         "yaxis": "y"
        },
        {
         "alignmentgroup": "True",
         "customdata": [
          [
           "Trinidad and Tobago"
          ],
          [
           "Trinidad and Tobago"
          ]
         ],
         "hovertemplate": "Reference area=%{customdata[0]}<br>Time=%{x}<br>Value=%{y}<extra></extra>",
         "legendgroup": "Trinidad and Tobago",
         "marker": {
          "color": "#FFA15A",
          "pattern": {
           "shape": ""
          }
         },
         "name": "Trinidad and Tobago",
         "offsetgroup": "Trinidad and Tobago",
         "orientation": "v",
         "showlegend": true,
         "textposition": "auto",
         "type": "bar",
         "x": [
          2020,
          2021
         ],
         "xaxis": "x",
         "y": [
          10.9,
          5.7
         ],
         "yaxis": "y"
        },
        {
         "alignmentgroup": "True",
         "customdata": [
          [
           "Tunisia"
          ],
          [
           "Tunisia"
          ]
         ],
         "hovertemplate": "Reference area=%{customdata[0]}<br>Time=%{x}<br>Value=%{y}<extra></extra>",
         "legendgroup": "Tunisia",
         "marker": {
          "color": "#19d3f3",
          "pattern": {
           "shape": ""
          }
         },
         "name": "Tunisia",
         "offsetgroup": "Tunisia",
         "orientation": "v",
         "showlegend": true,
         "textposition": "auto",
         "type": "bar",
         "x": [
          2020,
          2021
         ],
         "xaxis": "x",
         "y": [
          5.9,
          8.2
         ],
         "yaxis": "y"
        },
        {
         "alignmentgroup": "True",
         "customdata": [
          [
           "Turkey"
          ],
          [
           "Turkey"
          ]
         ],
         "hovertemplate": "Reference area=%{customdata[0]}<br>Time=%{x}<br>Value=%{y}<extra></extra>",
         "legendgroup": "Turkey",
         "marker": {
          "color": "#FF6692",
          "pattern": {
           "shape": ""
          }
         },
         "name": "Turkey",
         "offsetgroup": "Turkey",
         "orientation": "v",
         "showlegend": true,
         "textposition": "auto",
         "type": "bar",
         "x": [
          2020,
          2021
         ],
         "xaxis": "x",
         "y": [
          14.3,
          3.9
         ],
         "yaxis": "y"
        },
        {
         "alignmentgroup": "True",
         "customdata": [
          [
           "Turkmenistan"
          ],
          [
           "Turkmenistan"
          ]
         ],
         "hovertemplate": "Reference area=%{customdata[0]}<br>Time=%{x}<br>Value=%{y}<extra></extra>",
         "legendgroup": "Turkmenistan",
         "marker": {
          "color": "#B6E880",
          "pattern": {
           "shape": ""
          }
         },
         "name": "Turkmenistan",
         "offsetgroup": "Turkmenistan",
         "orientation": "v",
         "showlegend": true,
         "textposition": "auto",
         "type": "bar",
         "x": [
          2020,
          2021
         ],
         "xaxis": "x",
         "y": [
          3.5,
          7.8
         ],
         "yaxis": "y"
        },
        {
         "alignmentgroup": "True",
         "customdata": [
          [
           "Uganda"
          ],
          [
           "Uganda"
          ]
         ],
         "hovertemplate": "Reference area=%{customdata[0]}<br>Time=%{x}<br>Value=%{y}<extra></extra>",
         "legendgroup": "Uganda",
         "marker": {
          "color": "#FF97FF",
          "pattern": {
           "shape": ""
          }
         },
         "name": "Uganda",
         "offsetgroup": "Uganda",
         "orientation": "v",
         "showlegend": true,
         "textposition": "auto",
         "type": "bar",
         "x": [
          2020,
          2021
         ],
         "xaxis": "x",
         "y": [
          12.3,
          7.6
         ],
         "yaxis": "y"
        },
        {
         "alignmentgroup": "True",
         "customdata": [
          [
           "Ukraine"
          ],
          [
           "Ukraine"
          ]
         ],
         "hovertemplate": "Reference area=%{customdata[0]}<br>Time=%{x}<br>Value=%{y}<extra></extra>",
         "legendgroup": "Ukraine",
         "marker": {
          "color": "#FECB52",
          "pattern": {
           "shape": ""
          }
         },
         "name": "Ukraine",
         "offsetgroup": "Ukraine",
         "orientation": "v",
         "showlegend": true,
         "textposition": "auto",
         "type": "bar",
         "x": [
          2020,
          2021
         ],
         "xaxis": "x",
         "y": [
          8.5,
          7.1
         ],
         "yaxis": "y"
        },
        {
         "alignmentgroup": "True",
         "customdata": [
          [
           "United Arab Emirates"
          ],
          [
           "United Arab Emirates"
          ]
         ],
         "hovertemplate": "Reference area=%{customdata[0]}<br>Time=%{x}<br>Value=%{y}<extra></extra>",
         "legendgroup": "United Arab Emirates",
         "marker": {
          "color": "#636efa",
          "pattern": {
           "shape": ""
          }
         },
         "name": "United Arab Emirates",
         "offsetgroup": "United Arab Emirates",
         "orientation": "v",
         "showlegend": true,
         "textposition": "auto",
         "type": "bar",
         "x": [
          2020,
          2021
         ],
         "xaxis": "x",
         "y": [
          9.7,
          7.1
         ],
         "yaxis": "y"
        },
        {
         "alignmentgroup": "True",
         "customdata": [
          [
           "United Kingdom"
          ],
          [
           "United Kingdom"
          ]
         ],
         "hovertemplate": "Reference area=%{customdata[0]}<br>Time=%{x}<br>Value=%{y}<extra></extra>",
         "legendgroup": "United Kingdom",
         "marker": {
          "color": "#EF553B",
          "pattern": {
           "shape": ""
          }
         },
         "name": "United Kingdom",
         "offsetgroup": "United Kingdom",
         "orientation": "v",
         "showlegend": true,
         "textposition": "auto",
         "type": "bar",
         "x": [
          2020,
          2021
         ],
         "xaxis": "x",
         "y": [
          11,
          5
         ],
         "yaxis": "y"
        },
        {
         "alignmentgroup": "True",
         "customdata": [
          [
           "United States"
          ],
          [
           "United States"
          ]
         ],
         "hovertemplate": "Reference area=%{customdata[0]}<br>Time=%{x}<br>Value=%{y}<extra></extra>",
         "legendgroup": "United States",
         "marker": {
          "color": "#00cc96",
          "pattern": {
           "shape": ""
          }
         },
         "name": "United States",
         "offsetgroup": "United States",
         "orientation": "v",
         "showlegend": true,
         "textposition": "auto",
         "type": "bar",
         "x": [
          2020,
          2021
         ],
         "xaxis": "x",
         "y": [
          9.6,
          5
         ],
         "yaxis": "y"
        },
        {
         "alignmentgroup": "True",
         "customdata": [
          [
           "United States Virgin Islands"
          ],
          [
           "United States Virgin Islands"
          ]
         ],
         "hovertemplate": "Reference area=%{customdata[0]}<br>Time=%{x}<br>Value=%{y}<extra></extra>",
         "legendgroup": "United States Virgin Islands",
         "marker": {
          "color": "#ab63fa",
          "pattern": {
           "shape": ""
          }
         },
         "name": "United States Virgin Islands",
         "offsetgroup": "United States Virgin Islands",
         "orientation": "v",
         "showlegend": true,
         "textposition": "auto",
         "type": "bar",
         "x": [
          2020,
          2021
         ],
         "xaxis": "x",
         "y": [
          4.6,
          4.1
         ],
         "yaxis": "y"
        },
        {
         "alignmentgroup": "True",
         "customdata": [
          [
           "Uruguay"
          ],
          [
           "Uruguay"
          ]
         ],
         "hovertemplate": "Reference area=%{customdata[0]}<br>Time=%{x}<br>Value=%{y}<extra></extra>",
         "legendgroup": "Uruguay",
         "marker": {
          "color": "#FFA15A",
          "pattern": {
           "shape": ""
          }
         },
         "name": "Uruguay",
         "offsetgroup": "Uruguay",
         "orientation": "v",
         "showlegend": true,
         "textposition": "auto",
         "type": "bar",
         "x": [
          2020,
          2021
         ],
         "xaxis": "x",
         "y": [
          11.6,
          -0.6
         ],
         "yaxis": "y"
        },
        {
         "alignmentgroup": "True",
         "customdata": [
          [
           "Uzbekistan"
          ],
          [
           "Uzbekistan"
          ]
         ],
         "hovertemplate": "Reference area=%{customdata[0]}<br>Time=%{x}<br>Value=%{y}<extra></extra>",
         "legendgroup": "Uzbekistan",
         "marker": {
          "color": "#19d3f3",
          "pattern": {
           "shape": ""
          }
         },
         "name": "Uzbekistan",
         "offsetgroup": "Uzbekistan",
         "orientation": "v",
         "showlegend": true,
         "textposition": "auto",
         "type": "bar",
         "x": [
          2020,
          2021
         ],
         "xaxis": "x",
         "y": [
          8.4,
          6.5
         ],
         "yaxis": "y"
        },
        {
         "alignmentgroup": "True",
         "customdata": [
          [
           "Vanuatu"
          ],
          [
           "Vanuatu"
          ]
         ],
         "hovertemplate": "Reference area=%{customdata[0]}<br>Time=%{x}<br>Value=%{y}<extra></extra>",
         "legendgroup": "Vanuatu",
         "marker": {
          "color": "#FF6692",
          "pattern": {
           "shape": ""
          }
         },
         "name": "Vanuatu",
         "offsetgroup": "Vanuatu",
         "orientation": "v",
         "showlegend": true,
         "textposition": "auto",
         "type": "bar",
         "x": [
          2020,
          2021
         ],
         "xaxis": "x",
         "y": [
          5,
          1.2
         ],
         "yaxis": "y"
        },
        {
         "alignmentgroup": "True",
         "customdata": [
          [
           "Venezuela, Bolivarian Republic of"
          ],
          [
           "Venezuela, Bolivarian Republic of"
          ]
         ],
         "hovertemplate": "Reference area=%{customdata[0]}<br>Time=%{x}<br>Value=%{y}<extra></extra>",
         "legendgroup": "Venezuela, Bolivarian Republic of",
         "marker": {
          "color": "#B6E880",
          "pattern": {
           "shape": ""
          }
         },
         "name": "Venezuela, Bolivarian Republic of",
         "offsetgroup": "Venezuela, Bolivarian Republic of",
         "orientation": "v",
         "showlegend": true,
         "textposition": "auto",
         "type": "bar",
         "x": [
          2020,
          2021
         ],
         "xaxis": "x",
         "y": [
          12.8,
          8.4
         ],
         "yaxis": "y"
        },
        {
         "alignmentgroup": "True",
         "customdata": [
          [
           "Viet Nam"
          ],
          [
           "Viet Nam"
          ]
         ],
         "hovertemplate": "Reference area=%{customdata[0]}<br>Time=%{x}<br>Value=%{y}<extra></extra>",
         "legendgroup": "Viet Nam",
         "marker": {
          "color": "#FF97FF",
          "pattern": {
           "shape": ""
          }
         },
         "name": "Viet Nam",
         "offsetgroup": "Viet Nam",
         "orientation": "v",
         "showlegend": true,
         "textposition": "auto",
         "type": "bar",
         "x": [
          2020,
          2021
         ],
         "xaxis": "x",
         "y": [
          6.4,
          7.4
         ],
         "yaxis": "y"
        },
        {
         "alignmentgroup": "True",
         "customdata": [
          [
           "Western Sahara"
          ],
          [
           "Western Sahara"
          ]
         ],
         "hovertemplate": "Reference area=%{customdata[0]}<br>Time=%{x}<br>Value=%{y}<extra></extra>",
         "legendgroup": "Western Sahara",
         "marker": {
          "color": "#FECB52",
          "pattern": {
           "shape": ""
          }
         },
         "name": "Western Sahara",
         "offsetgroup": "Western Sahara",
         "orientation": "v",
         "showlegend": true,
         "textposition": "auto",
         "type": "bar",
         "x": [
          2020,
          2021
         ],
         "xaxis": "x",
         "y": [
          8,
          5
         ],
         "yaxis": "y"
        },
        {
         "alignmentgroup": "True",
         "customdata": [
          [
           "Yemen"
          ],
          [
           "Yemen"
          ]
         ],
         "hovertemplate": "Reference area=%{customdata[0]}<br>Time=%{x}<br>Value=%{y}<extra></extra>",
         "legendgroup": "Yemen",
         "marker": {
          "color": "#636efa",
          "pattern": {
           "shape": ""
          }
         },
         "name": "Yemen",
         "offsetgroup": "Yemen",
         "orientation": "v",
         "showlegend": true,
         "textposition": "auto",
         "type": "bar",
         "x": [
          2020,
          2021
         ],
         "xaxis": "x",
         "y": [
          2.5,
          2.9
         ],
         "yaxis": "y"
        },
        {
         "alignmentgroup": "True",
         "customdata": [
          [
           "Zambia"
          ],
          [
           "Zambia"
          ]
         ],
         "hovertemplate": "Reference area=%{customdata[0]}<br>Time=%{x}<br>Value=%{y}<extra></extra>",
         "legendgroup": "Zambia",
         "marker": {
          "color": "#EF553B",
          "pattern": {
           "shape": ""
          }
         },
         "name": "Zambia",
         "offsetgroup": "Zambia",
         "orientation": "v",
         "showlegend": true,
         "textposition": "auto",
         "type": "bar",
         "x": [
          2020,
          2021
         ],
         "xaxis": "x",
         "y": [
          3.4,
          4.9
         ],
         "yaxis": "y"
        },
        {
         "alignmentgroup": "True",
         "customdata": [
          [
           "Zimbabwe"
          ],
          [
           "Zimbabwe"
          ]
         ],
         "hovertemplate": "Reference area=%{customdata[0]}<br>Time=%{x}<br>Value=%{y}<extra></extra>",
         "legendgroup": "Zimbabwe",
         "marker": {
          "color": "#00cc96",
          "pattern": {
           "shape": ""
          }
         },
         "name": "Zimbabwe",
         "offsetgroup": "Zimbabwe",
         "orientation": "v",
         "showlegend": true,
         "textposition": "auto",
         "type": "bar",
         "x": [
          2020,
          2021
         ],
         "xaxis": "x",
         "y": [
          9.2,
          6.3
         ],
         "yaxis": "y"
        }
       ],
       "layout": {
        "barmode": "relative",
        "legend": {
         "title": {
          "text": "Reference area"
         },
         "tracegroupgap": 0
        },
        "margin": {
         "t": 60
        },
        "template": {
         "data": {
          "bar": [
           {
            "error_x": {
             "color": "#2a3f5f"
            },
            "error_y": {
             "color": "#2a3f5f"
            },
            "marker": {
             "line": {
              "color": "#E5ECF6",
              "width": 0.5
             },
             "pattern": {
              "fillmode": "overlay",
              "size": 10,
              "solidity": 0.2
             }
            },
            "type": "bar"
           }
          ],
          "barpolar": [
           {
            "marker": {
             "line": {
              "color": "#E5ECF6",
              "width": 0.5
             },
             "pattern": {
              "fillmode": "overlay",
              "size": 10,
              "solidity": 0.2
             }
            },
            "type": "barpolar"
           }
          ],
          "carpet": [
           {
            "aaxis": {
             "endlinecolor": "#2a3f5f",
             "gridcolor": "white",
             "linecolor": "white",
             "minorgridcolor": "white",
             "startlinecolor": "#2a3f5f"
            },
            "baxis": {
             "endlinecolor": "#2a3f5f",
             "gridcolor": "white",
             "linecolor": "white",
             "minorgridcolor": "white",
             "startlinecolor": "#2a3f5f"
            },
            "type": "carpet"
           }
          ],
          "choropleth": [
           {
            "colorbar": {
             "outlinewidth": 0,
             "ticks": ""
            },
            "type": "choropleth"
           }
          ],
          "contour": [
           {
            "colorbar": {
             "outlinewidth": 0,
             "ticks": ""
            },
            "colorscale": [
             [
              0,
              "#0d0887"
             ],
             [
              0.1111111111111111,
              "#46039f"
             ],
             [
              0.2222222222222222,
              "#7201a8"
             ],
             [
              0.3333333333333333,
              "#9c179e"
             ],
             [
              0.4444444444444444,
              "#bd3786"
             ],
             [
              0.5555555555555556,
              "#d8576b"
             ],
             [
              0.6666666666666666,
              "#ed7953"
             ],
             [
              0.7777777777777778,
              "#fb9f3a"
             ],
             [
              0.8888888888888888,
              "#fdca26"
             ],
             [
              1,
              "#f0f921"
             ]
            ],
            "type": "contour"
           }
          ],
          "contourcarpet": [
           {
            "colorbar": {
             "outlinewidth": 0,
             "ticks": ""
            },
            "type": "contourcarpet"
           }
          ],
          "heatmap": [
           {
            "colorbar": {
             "outlinewidth": 0,
             "ticks": ""
            },
            "colorscale": [
             [
              0,
              "#0d0887"
             ],
             [
              0.1111111111111111,
              "#46039f"
             ],
             [
              0.2222222222222222,
              "#7201a8"
             ],
             [
              0.3333333333333333,
              "#9c179e"
             ],
             [
              0.4444444444444444,
              "#bd3786"
             ],
             [
              0.5555555555555556,
              "#d8576b"
             ],
             [
              0.6666666666666666,
              "#ed7953"
             ],
             [
              0.7777777777777778,
              "#fb9f3a"
             ],
             [
              0.8888888888888888,
              "#fdca26"
             ],
             [
              1,
              "#f0f921"
             ]
            ],
            "type": "heatmap"
           }
          ],
          "heatmapgl": [
           {
            "colorbar": {
             "outlinewidth": 0,
             "ticks": ""
            },
            "colorscale": [
             [
              0,
              "#0d0887"
             ],
             [
              0.1111111111111111,
              "#46039f"
             ],
             [
              0.2222222222222222,
              "#7201a8"
             ],
             [
              0.3333333333333333,
              "#9c179e"
             ],
             [
              0.4444444444444444,
              "#bd3786"
             ],
             [
              0.5555555555555556,
              "#d8576b"
             ],
             [
              0.6666666666666666,
              "#ed7953"
             ],
             [
              0.7777777777777778,
              "#fb9f3a"
             ],
             [
              0.8888888888888888,
              "#fdca26"
             ],
             [
              1,
              "#f0f921"
             ]
            ],
            "type": "heatmapgl"
           }
          ],
          "histogram": [
           {
            "marker": {
             "pattern": {
              "fillmode": "overlay",
              "size": 10,
              "solidity": 0.2
             }
            },
            "type": "histogram"
           }
          ],
          "histogram2d": [
           {
            "colorbar": {
             "outlinewidth": 0,
             "ticks": ""
            },
            "colorscale": [
             [
              0,
              "#0d0887"
             ],
             [
              0.1111111111111111,
              "#46039f"
             ],
             [
              0.2222222222222222,
              "#7201a8"
             ],
             [
              0.3333333333333333,
              "#9c179e"
             ],
             [
              0.4444444444444444,
              "#bd3786"
             ],
             [
              0.5555555555555556,
              "#d8576b"
             ],
             [
              0.6666666666666666,
              "#ed7953"
             ],
             [
              0.7777777777777778,
              "#fb9f3a"
             ],
             [
              0.8888888888888888,
              "#fdca26"
             ],
             [
              1,
              "#f0f921"
             ]
            ],
            "type": "histogram2d"
           }
          ],
          "histogram2dcontour": [
           {
            "colorbar": {
             "outlinewidth": 0,
             "ticks": ""
            },
            "colorscale": [
             [
              0,
              "#0d0887"
             ],
             [
              0.1111111111111111,
              "#46039f"
             ],
             [
              0.2222222222222222,
              "#7201a8"
             ],
             [
              0.3333333333333333,
              "#9c179e"
             ],
             [
              0.4444444444444444,
              "#bd3786"
             ],
             [
              0.5555555555555556,
              "#d8576b"
             ],
             [
              0.6666666666666666,
              "#ed7953"
             ],
             [
              0.7777777777777778,
              "#fb9f3a"
             ],
             [
              0.8888888888888888,
              "#fdca26"
             ],
             [
              1,
              "#f0f921"
             ]
            ],
            "type": "histogram2dcontour"
           }
          ],
          "mesh3d": [
           {
            "colorbar": {
             "outlinewidth": 0,
             "ticks": ""
            },
            "type": "mesh3d"
           }
          ],
          "parcoords": [
           {
            "line": {
             "colorbar": {
              "outlinewidth": 0,
              "ticks": ""
             }
            },
            "type": "parcoords"
           }
          ],
          "pie": [
           {
            "automargin": true,
            "type": "pie"
           }
          ],
          "scatter": [
           {
            "marker": {
             "colorbar": {
              "outlinewidth": 0,
              "ticks": ""
             }
            },
            "type": "scatter"
           }
          ],
          "scatter3d": [
           {
            "line": {
             "colorbar": {
              "outlinewidth": 0,
              "ticks": ""
             }
            },
            "marker": {
             "colorbar": {
              "outlinewidth": 0,
              "ticks": ""
             }
            },
            "type": "scatter3d"
           }
          ],
          "scattercarpet": [
           {
            "marker": {
             "colorbar": {
              "outlinewidth": 0,
              "ticks": ""
             }
            },
            "type": "scattercarpet"
           }
          ],
          "scattergeo": [
           {
            "marker": {
             "colorbar": {
              "outlinewidth": 0,
              "ticks": ""
             }
            },
            "type": "scattergeo"
           }
          ],
          "scattergl": [
           {
            "marker": {
             "colorbar": {
              "outlinewidth": 0,
              "ticks": ""
             }
            },
            "type": "scattergl"
           }
          ],
          "scattermapbox": [
           {
            "marker": {
             "colorbar": {
              "outlinewidth": 0,
              "ticks": ""
             }
            },
            "type": "scattermapbox"
           }
          ],
          "scatterpolar": [
           {
            "marker": {
             "colorbar": {
              "outlinewidth": 0,
              "ticks": ""
             }
            },
            "type": "scatterpolar"
           }
          ],
          "scatterpolargl": [
           {
            "marker": {
             "colorbar": {
              "outlinewidth": 0,
              "ticks": ""
             }
            },
            "type": "scatterpolargl"
           }
          ],
          "scatterternary": [
           {
            "marker": {
             "colorbar": {
              "outlinewidth": 0,
              "ticks": ""
             }
            },
            "type": "scatterternary"
           }
          ],
          "surface": [
           {
            "colorbar": {
             "outlinewidth": 0,
             "ticks": ""
            },
            "colorscale": [
             [
              0,
              "#0d0887"
             ],
             [
              0.1111111111111111,
              "#46039f"
             ],
             [
              0.2222222222222222,
              "#7201a8"
             ],
             [
              0.3333333333333333,
              "#9c179e"
             ],
             [
              0.4444444444444444,
              "#bd3786"
             ],
             [
              0.5555555555555556,
              "#d8576b"
             ],
             [
              0.6666666666666666,
              "#ed7953"
             ],
             [
              0.7777777777777778,
              "#fb9f3a"
             ],
             [
              0.8888888888888888,
              "#fdca26"
             ],
             [
              1,
              "#f0f921"
             ]
            ],
            "type": "surface"
           }
          ],
          "table": [
           {
            "cells": {
             "fill": {
              "color": "#EBF0F8"
             },
             "line": {
              "color": "white"
             }
            },
            "header": {
             "fill": {
              "color": "#C8D4E3"
             },
             "line": {
              "color": "white"
             }
            },
            "type": "table"
           }
          ]
         },
         "layout": {
          "annotationdefaults": {
           "arrowcolor": "#2a3f5f",
           "arrowhead": 0,
           "arrowwidth": 1
          },
          "autotypenumbers": "strict",
          "coloraxis": {
           "colorbar": {
            "outlinewidth": 0,
            "ticks": ""
           }
          },
          "colorscale": {
           "diverging": [
            [
             0,
             "#8e0152"
            ],
            [
             0.1,
             "#c51b7d"
            ],
            [
             0.2,
             "#de77ae"
            ],
            [
             0.3,
             "#f1b6da"
            ],
            [
             0.4,
             "#fde0ef"
            ],
            [
             0.5,
             "#f7f7f7"
            ],
            [
             0.6,
             "#e6f5d0"
            ],
            [
             0.7,
             "#b8e186"
            ],
            [
             0.8,
             "#7fbc41"
            ],
            [
             0.9,
             "#4d9221"
            ],
            [
             1,
             "#276419"
            ]
           ],
           "sequential": [
            [
             0,
             "#0d0887"
            ],
            [
             0.1111111111111111,
             "#46039f"
            ],
            [
             0.2222222222222222,
             "#7201a8"
            ],
            [
             0.3333333333333333,
             "#9c179e"
            ],
            [
             0.4444444444444444,
             "#bd3786"
            ],
            [
             0.5555555555555556,
             "#d8576b"
            ],
            [
             0.6666666666666666,
             "#ed7953"
            ],
            [
             0.7777777777777778,
             "#fb9f3a"
            ],
            [
             0.8888888888888888,
             "#fdca26"
            ],
            [
             1,
             "#f0f921"
            ]
           ],
           "sequentialminus": [
            [
             0,
             "#0d0887"
            ],
            [
             0.1111111111111111,
             "#46039f"
            ],
            [
             0.2222222222222222,
             "#7201a8"
            ],
            [
             0.3333333333333333,
             "#9c179e"
            ],
            [
             0.4444444444444444,
             "#bd3786"
            ],
            [
             0.5555555555555556,
             "#d8576b"
            ],
            [
             0.6666666666666666,
             "#ed7953"
            ],
            [
             0.7777777777777778,
             "#fb9f3a"
            ],
            [
             0.8888888888888888,
             "#fdca26"
            ],
            [
             1,
             "#f0f921"
            ]
           ]
          },
          "colorway": [
           "#636efa",
           "#EF553B",
           "#00cc96",
           "#ab63fa",
           "#FFA15A",
           "#19d3f3",
           "#FF6692",
           "#B6E880",
           "#FF97FF",
           "#FECB52"
          ],
          "font": {
           "color": "#2a3f5f"
          },
          "geo": {
           "bgcolor": "white",
           "lakecolor": "white",
           "landcolor": "#E5ECF6",
           "showlakes": true,
           "showland": true,
           "subunitcolor": "white"
          },
          "hoverlabel": {
           "align": "left"
          },
          "hovermode": "closest",
          "mapbox": {
           "style": "light"
          },
          "paper_bgcolor": "white",
          "plot_bgcolor": "#E5ECF6",
          "polar": {
           "angularaxis": {
            "gridcolor": "white",
            "linecolor": "white",
            "ticks": ""
           },
           "bgcolor": "#E5ECF6",
           "radialaxis": {
            "gridcolor": "white",
            "linecolor": "white",
            "ticks": ""
           }
          },
          "scene": {
           "xaxis": {
            "backgroundcolor": "#E5ECF6",
            "gridcolor": "white",
            "gridwidth": 2,
            "linecolor": "white",
            "showbackground": true,
            "ticks": "",
            "zerolinecolor": "white"
           },
           "yaxis": {
            "backgroundcolor": "#E5ECF6",
            "gridcolor": "white",
            "gridwidth": 2,
            "linecolor": "white",
            "showbackground": true,
            "ticks": "",
            "zerolinecolor": "white"
           },
           "zaxis": {
            "backgroundcolor": "#E5ECF6",
            "gridcolor": "white",
            "gridwidth": 2,
            "linecolor": "white",
            "showbackground": true,
            "ticks": "",
            "zerolinecolor": "white"
           }
          },
          "shapedefaults": {
           "line": {
            "color": "#2a3f5f"
           }
          },
          "ternary": {
           "aaxis": {
            "gridcolor": "white",
            "linecolor": "white",
            "ticks": ""
           },
           "baxis": {
            "gridcolor": "white",
            "linecolor": "white",
            "ticks": ""
           },
           "bgcolor": "#E5ECF6",
           "caxis": {
            "gridcolor": "white",
            "linecolor": "white",
            "ticks": ""
           }
          },
          "title": {
           "x": 0.05
          },
          "xaxis": {
           "automargin": true,
           "gridcolor": "white",
           "linecolor": "white",
           "ticks": "",
           "title": {
            "standoff": 15
           },
           "zerolinecolor": "white",
           "zerolinewidth": 2
          },
          "yaxis": {
           "automargin": true,
           "gridcolor": "white",
           "linecolor": "white",
           "ticks": "",
           "title": {
            "standoff": 15
           },
           "zerolinecolor": "white",
           "zerolinewidth": 2
          }
         }
        },
        "xaxis": {
         "anchor": "y",
         "domain": [
          0,
          1
         ],
         "title": {
          "text": "Time"
         }
        },
        "yaxis": {
         "anchor": "x",
         "domain": [
          0,
          1
         ],
         "title": {
          "text": "Value"
         }
        }
       }
      },
      "text/html": [
       "<div>                            <div id=\"64e1b336-7fd8-416d-9070-88082d84d1ba\" class=\"plotly-graph-div\" style=\"height:525px; width:100%;\"></div>            <script type=\"text/javascript\">                require([\"plotly\"], function(Plotly) {                    window.PLOTLYENV=window.PLOTLYENV || {};                                    if (document.getElementById(\"64e1b336-7fd8-416d-9070-88082d84d1ba\")) {                    Plotly.newPlot(                        \"64e1b336-7fd8-416d-9070-88082d84d1ba\",                        [{\"alignmentgroup\":\"True\",\"customdata\":[[\"World\"],[\"World\"]],\"hovertemplate\":\"Reference area=%{customdata[0]}<br>Time=%{x}<br>Value=%{y}<extra></extra>\",\"legendgroup\":\"World\",\"marker\":{\"color\":\"#636efa\",\"pattern\":{\"shape\":\"\"}},\"name\":\"World\",\"offsetgroup\":\"World\",\"orientation\":\"v\",\"showlegend\":true,\"textposition\":\"auto\",\"x\":[2020,2021],\"xaxis\":\"x\",\"y\":[8.9,4.3],\"yaxis\":\"y\",\"type\":\"bar\"},{\"alignmentgroup\":\"True\",\"customdata\":[[\"World: Low income\"],[\"World: Low income\"]],\"hovertemplate\":\"Reference area=%{customdata[0]}<br>Time=%{x}<br>Value=%{y}<extra></extra>\",\"legendgroup\":\"World: Low income\",\"marker\":{\"color\":\"#EF553B\",\"pattern\":{\"shape\":\"\"}},\"name\":\"World: Low income\",\"offsetgroup\":\"World: Low income\",\"orientation\":\"v\",\"showlegend\":true,\"textposition\":\"auto\",\"x\":[2020,2021],\"xaxis\":\"x\",\"y\":[6.7,4.9],\"yaxis\":\"y\",\"type\":\"bar\"},{\"alignmentgroup\":\"True\",\"customdata\":[[\"World: Lower-middle income\"],[\"World: Lower-middle income\"]],\"hovertemplate\":\"Reference area=%{customdata[0]}<br>Time=%{x}<br>Value=%{y}<extra></extra>\",\"legendgroup\":\"World: Lower-middle income\",\"marker\":{\"color\":\"#00cc96\",\"pattern\":{\"shape\":\"\"}},\"name\":\"World: Lower-middle income\",\"offsetgroup\":\"World: Lower-middle income\",\"orientation\":\"v\",\"showlegend\":true,\"textposition\":\"auto\",\"x\":[2020,2021],\"xaxis\":\"x\",\"y\":[11.8,6.8],\"yaxis\":\"y\",\"type\":\"bar\"},{\"alignmentgroup\":\"True\",\"customdata\":[[\"World: Upper-middle income\"],[\"World: Upper-middle income\"]],\"hovertemplate\":\"Reference area=%{customdata[0]}<br>Time=%{x}<br>Value=%{y}<extra></extra>\",\"legendgroup\":\"World: Upper-middle income\",\"marker\":{\"color\":\"#ab63fa\",\"pattern\":{\"shape\":\"\"}},\"name\":\"World: Upper-middle income\",\"offsetgroup\":\"World: Upper-middle income\",\"orientation\":\"v\",\"showlegend\":true,\"textposition\":\"auto\",\"x\":[2020,2021],\"xaxis\":\"x\",\"y\":[7.2,2.2],\"yaxis\":\"y\",\"type\":\"bar\"},{\"alignmentgroup\":\"True\",\"customdata\":[[\"World: High income\"],[\"World: High income\"]],\"hovertemplate\":\"Reference area=%{customdata[0]}<br>Time=%{x}<br>Value=%{y}<extra></extra>\",\"legendgroup\":\"World: High income\",\"marker\":{\"color\":\"#FFA15A\",\"pattern\":{\"shape\":\"\"}},\"name\":\"World: High income\",\"offsetgroup\":\"World: High income\",\"orientation\":\"v\",\"showlegend\":true,\"textposition\":\"auto\",\"x\":[2020,2021],\"xaxis\":\"x\",\"y\":[7.9,3.9],\"yaxis\":\"y\",\"type\":\"bar\"},{\"alignmentgroup\":\"True\",\"customdata\":[[\"Africa\"],[\"Africa\"]],\"hovertemplate\":\"Reference area=%{customdata[0]}<br>Time=%{x}<br>Value=%{y}<extra></extra>\",\"legendgroup\":\"Africa\",\"marker\":{\"color\":\"#19d3f3\",\"pattern\":{\"shape\":\"\"}},\"name\":\"Africa\",\"offsetgroup\":\"Africa\",\"orientation\":\"v\",\"showlegend\":true,\"textposition\":\"auto\",\"x\":[2020,2021],\"xaxis\":\"x\",\"y\":[7.7,5.2],\"yaxis\":\"y\",\"type\":\"bar\"},{\"alignmentgroup\":\"True\",\"customdata\":[[\"Africa: Low income\"],[\"Africa: Low income\"]],\"hovertemplate\":\"Reference area=%{customdata[0]}<br>Time=%{x}<br>Value=%{y}<extra></extra>\",\"legendgroup\":\"Africa: Low income\",\"marker\":{\"color\":\"#FF6692\",\"pattern\":{\"shape\":\"\"}},\"name\":\"Africa: Low income\",\"offsetgroup\":\"Africa: Low income\",\"orientation\":\"v\",\"showlegend\":true,\"textposition\":\"auto\",\"x\":[2020,2021],\"xaxis\":\"x\",\"y\":[6.8,5.1],\"yaxis\":\"y\",\"type\":\"bar\"},{\"alignmentgroup\":\"True\",\"customdata\":[[\"Africa: Lower-middle income\"],[\"Africa: Lower-middle income\"]],\"hovertemplate\":\"Reference area=%{customdata[0]}<br>Time=%{x}<br>Value=%{y}<extra></extra>\",\"legendgroup\":\"Africa: Lower-middle income\",\"marker\":{\"color\":\"#B6E880\",\"pattern\":{\"shape\":\"\"}},\"name\":\"Africa: Lower-middle income\",\"offsetgroup\":\"Africa: Lower-middle income\",\"orientation\":\"v\",\"showlegend\":true,\"textposition\":\"auto\",\"x\":[2020,2021],\"xaxis\":\"x\",\"y\":[7.8,5.0],\"yaxis\":\"y\",\"type\":\"bar\"},{\"alignmentgroup\":\"True\",\"customdata\":[[\"Africa: Upper-middle income\"],[\"Africa: Upper-middle income\"]],\"hovertemplate\":\"Reference area=%{customdata[0]}<br>Time=%{x}<br>Value=%{y}<extra></extra>\",\"legendgroup\":\"Africa: Upper-middle income\",\"marker\":{\"color\":\"#FF97FF\",\"pattern\":{\"shape\":\"\"}},\"name\":\"Africa: Upper-middle income\",\"offsetgroup\":\"Africa: Upper-middle income\",\"orientation\":\"v\",\"showlegend\":true,\"textposition\":\"auto\",\"x\":[2020,2021],\"xaxis\":\"x\",\"y\":[12.9,9.3],\"yaxis\":\"y\",\"type\":\"bar\"},{\"alignmentgroup\":\"True\",\"customdata\":[[\"Africa: High income\"],[\"Africa: High income\"]],\"hovertemplate\":\"Reference area=%{customdata[0]}<br>Time=%{x}<br>Value=%{y}<extra></extra>\",\"legendgroup\":\"Africa: High income\",\"marker\":{\"color\":\"#FECB52\",\"pattern\":{\"shape\":\"\"}},\"name\":\"Africa: High income\",\"offsetgroup\":\"Africa: High income\",\"orientation\":\"v\",\"showlegend\":true,\"textposition\":\"auto\",\"x\":[2020,2021],\"xaxis\":\"x\",\"y\":[7.4,7.0],\"yaxis\":\"y\",\"type\":\"bar\"},{\"alignmentgroup\":\"True\",\"customdata\":[[\"Northern Africa\"],[\"Northern Africa\"]],\"hovertemplate\":\"Reference area=%{customdata[0]}<br>Time=%{x}<br>Value=%{y}<extra></extra>\",\"legendgroup\":\"Northern Africa\",\"marker\":{\"color\":\"#636efa\",\"pattern\":{\"shape\":\"\"}},\"name\":\"Northern Africa\",\"offsetgroup\":\"Northern Africa\",\"orientation\":\"v\",\"showlegend\":true,\"textposition\":\"auto\",\"x\":[2020,2021],\"xaxis\":\"x\",\"y\":[9.8,6.2],\"yaxis\":\"y\",\"type\":\"bar\"},{\"alignmentgroup\":\"True\",\"customdata\":[[\"Northern Africa: Lower-middle income\"],[\"Northern Africa: Lower-middle income\"]],\"hovertemplate\":\"Reference area=%{customdata[0]}<br>Time=%{x}<br>Value=%{y}<extra></extra>\",\"legendgroup\":\"Northern Africa: Lower-middle income\",\"marker\":{\"color\":\"#EF553B\",\"pattern\":{\"shape\":\"\"}},\"name\":\"Northern Africa: Lower-middle income\",\"offsetgroup\":\"Northern Africa: Lower-middle income\",\"orientation\":\"v\",\"showlegend\":true,\"textposition\":\"auto\",\"x\":[2020,2021],\"xaxis\":\"x\",\"y\":[9.8,6.1],\"yaxis\":\"y\",\"type\":\"bar\"},{\"alignmentgroup\":\"True\",\"customdata\":[[\"Northern Africa: Upper-middle income\"],[\"Northern Africa: Upper-middle income\"]],\"hovertemplate\":\"Reference area=%{customdata[0]}<br>Time=%{x}<br>Value=%{y}<extra></extra>\",\"legendgroup\":\"Northern Africa: Upper-middle income\",\"marker\":{\"color\":\"#00cc96\",\"pattern\":{\"shape\":\"\"}},\"name\":\"Northern Africa: Upper-middle income\",\"offsetgroup\":\"Northern Africa: Upper-middle income\",\"orientation\":\"v\",\"showlegend\":true,\"textposition\":\"auto\",\"x\":[2020,2021],\"xaxis\":\"x\",\"y\":[9.6,7.0],\"yaxis\":\"y\",\"type\":\"bar\"},{\"alignmentgroup\":\"True\",\"customdata\":[[\"Sub-Saharan Africa\"],[\"Sub-Saharan Africa\"]],\"hovertemplate\":\"Reference area=%{customdata[0]}<br>Time=%{x}<br>Value=%{y}<extra></extra>\",\"legendgroup\":\"Sub-Saharan Africa\",\"marker\":{\"color\":\"#ab63fa\",\"pattern\":{\"shape\":\"\"}},\"name\":\"Sub-Saharan Africa\",\"offsetgroup\":\"Sub-Saharan Africa\",\"orientation\":\"v\",\"showlegend\":true,\"textposition\":\"auto\",\"x\":[2020,2021],\"xaxis\":\"x\",\"y\":[7.3,5.1],\"yaxis\":\"y\",\"type\":\"bar\"},{\"alignmentgroup\":\"True\",\"customdata\":[[\"Sub-Saharan Africa: Low income\"],[\"Sub-Saharan Africa: Low income\"]],\"hovertemplate\":\"Reference area=%{customdata[0]}<br>Time=%{x}<br>Value=%{y}<extra></extra>\",\"legendgroup\":\"Sub-Saharan Africa: Low income\",\"marker\":{\"color\":\"#FFA15A\",\"pattern\":{\"shape\":\"\"}},\"name\":\"Sub-Saharan Africa: Low income\",\"offsetgroup\":\"Sub-Saharan Africa: Low income\",\"orientation\":\"v\",\"showlegend\":true,\"textposition\":\"auto\",\"x\":[2020,2021],\"xaxis\":\"x\",\"y\":[6.8,5.1],\"yaxis\":\"y\",\"type\":\"bar\"},{\"alignmentgroup\":\"True\",\"customdata\":[[\"Sub-Saharan Africa: Lower-middle income\"],[\"Sub-Saharan Africa: Lower-middle income\"]],\"hovertemplate\":\"Reference area=%{customdata[0]}<br>Time=%{x}<br>Value=%{y}<extra></extra>\",\"legendgroup\":\"Sub-Saharan Africa: Lower-middle income\",\"marker\":{\"color\":\"#19d3f3\",\"pattern\":{\"shape\":\"\"}},\"name\":\"Sub-Saharan Africa: Lower-middle income\",\"offsetgroup\":\"Sub-Saharan Africa: Lower-middle income\",\"orientation\":\"v\",\"showlegend\":true,\"textposition\":\"auto\",\"x\":[2020,2021],\"xaxis\":\"x\",\"y\":[7.1,4.6],\"yaxis\":\"y\",\"type\":\"bar\"},{\"alignmentgroup\":\"True\",\"customdata\":[[\"Sub-Saharan Africa: Upper-middle income\"],[\"Sub-Saharan Africa: Upper-middle income\"]],\"hovertemplate\":\"Reference area=%{customdata[0]}<br>Time=%{x}<br>Value=%{y}<extra></extra>\",\"legendgroup\":\"Sub-Saharan Africa: Upper-middle income\",\"marker\":{\"color\":\"#FF6692\",\"pattern\":{\"shape\":\"\"}},\"name\":\"Sub-Saharan Africa: Upper-middle income\",\"offsetgroup\":\"Sub-Saharan Africa: Upper-middle income\",\"orientation\":\"v\",\"showlegend\":true,\"textposition\":\"auto\",\"x\":[2020,2021],\"xaxis\":\"x\",\"y\":[13.1,9.5],\"yaxis\":\"y\",\"type\":\"bar\"},{\"alignmentgroup\":\"True\",\"customdata\":[[\"Sub-Saharan Africa: High income\"],[\"Sub-Saharan Africa: High income\"]],\"hovertemplate\":\"Reference area=%{customdata[0]}<br>Time=%{x}<br>Value=%{y}<extra></extra>\",\"legendgroup\":\"Sub-Saharan Africa: High income\",\"marker\":{\"color\":\"#B6E880\",\"pattern\":{\"shape\":\"\"}},\"name\":\"Sub-Saharan Africa: High income\",\"offsetgroup\":\"Sub-Saharan Africa: High income\",\"orientation\":\"v\",\"showlegend\":true,\"textposition\":\"auto\",\"x\":[2020,2021],\"xaxis\":\"x\",\"y\":[7.4,7.0],\"yaxis\":\"y\",\"type\":\"bar\"},{\"alignmentgroup\":\"True\",\"customdata\":[[\"Central Africa\"],[\"Central Africa\"]],\"hovertemplate\":\"Reference area=%{customdata[0]}<br>Time=%{x}<br>Value=%{y}<extra></extra>\",\"legendgroup\":\"Central Africa\",\"marker\":{\"color\":\"#FF97FF\",\"pattern\":{\"shape\":\"\"}},\"name\":\"Central Africa\",\"offsetgroup\":\"Central Africa\",\"orientation\":\"v\",\"showlegend\":true,\"textposition\":\"auto\",\"x\":[2020,2021],\"xaxis\":\"x\",\"y\":[6.8,4.5],\"yaxis\":\"y\",\"type\":\"bar\"},{\"alignmentgroup\":\"True\",\"customdata\":[[\"Eastern Africa\"],[\"Eastern Africa\"]],\"hovertemplate\":\"Reference area=%{customdata[0]}<br>Time=%{x}<br>Value=%{y}<extra></extra>\",\"legendgroup\":\"Eastern Africa\",\"marker\":{\"color\":\"#FECB52\",\"pattern\":{\"shape\":\"\"}},\"name\":\"Eastern Africa\",\"offsetgroup\":\"Eastern Africa\",\"orientation\":\"v\",\"showlegend\":true,\"textposition\":\"auto\",\"x\":[2020,2021],\"xaxis\":\"x\",\"y\":[7.2,5.1],\"yaxis\":\"y\",\"type\":\"bar\"},{\"alignmentgroup\":\"True\",\"customdata\":[[\"Southern Africa\"],[\"Southern Africa\"]],\"hovertemplate\":\"Reference area=%{customdata[0]}<br>Time=%{x}<br>Value=%{y}<extra></extra>\",\"legendgroup\":\"Southern Africa\",\"marker\":{\"color\":\"#636efa\",\"pattern\":{\"shape\":\"\"}},\"name\":\"Southern Africa\",\"offsetgroup\":\"Southern Africa\",\"orientation\":\"v\",\"showlegend\":true,\"textposition\":\"auto\",\"x\":[2020,2021],\"xaxis\":\"x\",\"y\":[13.2,9.6],\"yaxis\":\"y\",\"type\":\"bar\"},{\"alignmentgroup\":\"True\",\"customdata\":[[\"Western Africa\"],[\"Western Africa\"]],\"hovertemplate\":\"Reference area=%{customdata[0]}<br>Time=%{x}<br>Value=%{y}<extra></extra>\",\"legendgroup\":\"Western Africa\",\"marker\":{\"color\":\"#EF553B\",\"pattern\":{\"shape\":\"\"}},\"name\":\"Western Africa\",\"offsetgroup\":\"Western Africa\",\"orientation\":\"v\",\"showlegend\":true,\"textposition\":\"auto\",\"x\":[2020,2021],\"xaxis\":\"x\",\"y\":[6.8,4.6],\"yaxis\":\"y\",\"type\":\"bar\"},{\"alignmentgroup\":\"True\",\"customdata\":[[\"Americas\"],[\"Americas\"]],\"hovertemplate\":\"Reference area=%{customdata[0]}<br>Time=%{x}<br>Value=%{y}<extra></extra>\",\"legendgroup\":\"Americas\",\"marker\":{\"color\":\"#00cc96\",\"pattern\":{\"shape\":\"\"}},\"name\":\"Americas\",\"offsetgroup\":\"Americas\",\"orientation\":\"v\",\"showlegend\":true,\"textposition\":\"auto\",\"x\":[2020,2021],\"xaxis\":\"x\",\"y\":[14.1,5.5],\"yaxis\":\"y\",\"type\":\"bar\"},{\"alignmentgroup\":\"True\",\"customdata\":[[\"Americas: Low income\"],[\"Americas: Low income\"]],\"hovertemplate\":\"Reference area=%{customdata[0]}<br>Time=%{x}<br>Value=%{y}<extra></extra>\",\"legendgroup\":\"Americas: Low income\",\"marker\":{\"color\":\"#ab63fa\",\"pattern\":{\"shape\":\"\"}},\"name\":\"Americas: Low income\",\"offsetgroup\":\"Americas: Low income\",\"orientation\":\"v\",\"showlegend\":true,\"textposition\":\"auto\",\"x\":[2020,2021],\"xaxis\":\"x\",\"y\":[7.8,6.3],\"yaxis\":\"y\",\"type\":\"bar\"},{\"alignmentgroup\":\"True\",\"customdata\":[[\"Americas: Lower-middle income\"],[\"Americas: Lower-middle income\"]],\"hovertemplate\":\"Reference area=%{customdata[0]}<br>Time=%{x}<br>Value=%{y}<extra></extra>\",\"legendgroup\":\"Americas: Lower-middle income\",\"marker\":{\"color\":\"#FFA15A\",\"pattern\":{\"shape\":\"\"}},\"name\":\"Americas: Lower-middle income\",\"offsetgroup\":\"Americas: Lower-middle income\",\"orientation\":\"v\",\"showlegend\":true,\"textposition\":\"auto\",\"x\":[2020,2021],\"xaxis\":\"x\",\"y\":[15.0,2.9],\"yaxis\":\"y\",\"type\":\"bar\"},{\"alignmentgroup\":\"True\",\"customdata\":[[\"Americas: Upper-middle income\"],[\"Americas: Upper-middle income\"]],\"hovertemplate\":\"Reference area=%{customdata[0]}<br>Time=%{x}<br>Value=%{y}<extra></extra>\",\"legendgroup\":\"Americas: Upper-middle income\",\"marker\":{\"color\":\"#19d3f3\",\"pattern\":{\"shape\":\"\"}},\"name\":\"Americas: Upper-middle income\",\"offsetgroup\":\"Americas: Upper-middle income\",\"orientation\":\"v\",\"showlegend\":true,\"textposition\":\"auto\",\"x\":[2020,2021],\"xaxis\":\"x\",\"y\":[17.1,6.3],\"yaxis\":\"y\",\"type\":\"bar\"},{\"alignmentgroup\":\"True\",\"customdata\":[[\"Americas: High income\"],[\"Americas: High income\"]],\"hovertemplate\":\"Reference area=%{customdata[0]}<br>Time=%{x}<br>Value=%{y}<extra></extra>\",\"legendgroup\":\"Americas: High income\",\"marker\":{\"color\":\"#FF6692\",\"pattern\":{\"shape\":\"\"}},\"name\":\"Americas: High income\",\"offsetgroup\":\"Americas: High income\",\"orientation\":\"v\",\"showlegend\":true,\"textposition\":\"auto\",\"x\":[2020,2021],\"xaxis\":\"x\",\"y\":[9.9,4.7],\"yaxis\":\"y\",\"type\":\"bar\"},{\"alignmentgroup\":\"True\",\"customdata\":[[\"Latin America and the Caribbean\"],[\"Latin America and the Caribbean\"]],\"hovertemplate\":\"Reference area=%{customdata[0]}<br>Time=%{x}<br>Value=%{y}<extra></extra>\",\"legendgroup\":\"Latin America and the Caribbean\",\"marker\":{\"color\":\"#B6E880\",\"pattern\":{\"shape\":\"\"}},\"name\":\"Latin America and the Caribbean\",\"offsetgroup\":\"Latin America and the Caribbean\",\"orientation\":\"v\",\"showlegend\":true,\"textposition\":\"auto\",\"x\":[2020,2021],\"xaxis\":\"x\",\"y\":[16.7,6.0],\"yaxis\":\"y\",\"type\":\"bar\"},{\"alignmentgroup\":\"True\",\"customdata\":[[\"Latin America and the Caribbean: Low income\"],[\"Latin America and the Caribbean: Low income\"]],\"hovertemplate\":\"Reference area=%{customdata[0]}<br>Time=%{x}<br>Value=%{y}<extra></extra>\",\"legendgroup\":\"Latin America and the Caribbean: Low income\",\"marker\":{\"color\":\"#FF97FF\",\"pattern\":{\"shape\":\"\"}},\"name\":\"Latin America and the Caribbean: Low income\",\"offsetgroup\":\"Latin America and the Caribbean: Low income\",\"orientation\":\"v\",\"showlegend\":true,\"textposition\":\"auto\",\"x\":[2020,2021],\"xaxis\":\"x\",\"y\":[7.8,6.3],\"yaxis\":\"y\",\"type\":\"bar\"},{\"alignmentgroup\":\"True\",\"customdata\":[[\"Latin America and the Caribbean: Lower-middle income\"],[\"Latin America and the Caribbean: Lower-middle income\"]],\"hovertemplate\":\"Reference area=%{customdata[0]}<br>Time=%{x}<br>Value=%{y}<extra></extra>\",\"legendgroup\":\"Latin America and the Caribbean: Lower-middle income\",\"marker\":{\"color\":\"#FECB52\",\"pattern\":{\"shape\":\"\"}},\"name\":\"Latin America and the Caribbean: Lower-middle income\",\"offsetgroup\":\"Latin America and the Caribbean: Lower-middle income\",\"orientation\":\"v\",\"showlegend\":true,\"textposition\":\"auto\",\"x\":[2020,2021],\"xaxis\":\"x\",\"y\":[15.0,2.9],\"yaxis\":\"y\",\"type\":\"bar\"},{\"alignmentgroup\":\"True\",\"customdata\":[[\"Latin America and the Caribbean: Upper-middle income\"],[\"Latin America and the Caribbean: Upper-middle income\"]],\"hovertemplate\":\"Reference area=%{customdata[0]}<br>Time=%{x}<br>Value=%{y}<extra></extra>\",\"legendgroup\":\"Latin America and the Caribbean: Upper-middle income\",\"marker\":{\"color\":\"#636efa\",\"pattern\":{\"shape\":\"\"}},\"name\":\"Latin America and the Caribbean: Upper-middle income\",\"offsetgroup\":\"Latin America and the Caribbean: Upper-middle income\",\"orientation\":\"v\",\"showlegend\":true,\"textposition\":\"auto\",\"x\":[2020,2021],\"xaxis\":\"x\",\"y\":[17.1,6.3],\"yaxis\":\"y\",\"type\":\"bar\"},{\"alignmentgroup\":\"True\",\"customdata\":[[\"Latin America and the Caribbean: High income\"],[\"Latin America and the Caribbean: High income\"]],\"hovertemplate\":\"Reference area=%{customdata[0]}<br>Time=%{x}<br>Value=%{y}<extra></extra>\",\"legendgroup\":\"Latin America and the Caribbean: High income\",\"marker\":{\"color\":\"#EF553B\",\"pattern\":{\"shape\":\"\"}},\"name\":\"Latin America and the Caribbean: High income\",\"offsetgroup\":\"Latin America and the Caribbean: High income\",\"orientation\":\"v\",\"showlegend\":true,\"textposition\":\"auto\",\"x\":[2020,2021],\"xaxis\":\"x\",\"y\":[14.8,5.0],\"yaxis\":\"y\",\"type\":\"bar\"},{\"alignmentgroup\":\"True\",\"customdata\":[[\"Caribbean\"],[\"Caribbean\"]],\"hovertemplate\":\"Reference area=%{customdata[0]}<br>Time=%{x}<br>Value=%{y}<extra></extra>\",\"legendgroup\":\"Caribbean\",\"marker\":{\"color\":\"#00cc96\",\"pattern\":{\"shape\":\"\"}},\"name\":\"Caribbean\",\"offsetgroup\":\"Caribbean\",\"orientation\":\"v\",\"showlegend\":true,\"textposition\":\"auto\",\"x\":[2020,2021],\"xaxis\":\"x\",\"y\":[11.1,6.4],\"yaxis\":\"y\",\"type\":\"bar\"},{\"alignmentgroup\":\"True\",\"customdata\":[[\"Central America\"],[\"Central America\"]],\"hovertemplate\":\"Reference area=%{customdata[0]}<br>Time=%{x}<br>Value=%{y}<extra></extra>\",\"legendgroup\":\"Central America\",\"marker\":{\"color\":\"#ab63fa\",\"pattern\":{\"shape\":\"\"}},\"name\":\"Central America\",\"offsetgroup\":\"Central America\",\"orientation\":\"v\",\"showlegend\":true,\"textposition\":\"auto\",\"x\":[2020,2021],\"xaxis\":\"x\",\"y\":[15.3,5.2],\"yaxis\":\"y\",\"type\":\"bar\"},{\"alignmentgroup\":\"True\",\"customdata\":[[\"South America\"],[\"South America\"]],\"hovertemplate\":\"Reference area=%{customdata[0]}<br>Time=%{x}<br>Value=%{y}<extra></extra>\",\"legendgroup\":\"South America\",\"marker\":{\"color\":\"#FFA15A\",\"pattern\":{\"shape\":\"\"}},\"name\":\"South America\",\"offsetgroup\":\"South America\",\"orientation\":\"v\",\"showlegend\":true,\"textposition\":\"auto\",\"x\":[2020,2021],\"xaxis\":\"x\",\"y\":[17.8,6.3],\"yaxis\":\"y\",\"type\":\"bar\"},{\"alignmentgroup\":\"True\",\"customdata\":[[\"Northern America\"],[\"Northern America\"]],\"hovertemplate\":\"Reference area=%{customdata[0]}<br>Time=%{x}<br>Value=%{y}<extra></extra>\",\"legendgroup\":\"Northern America\",\"marker\":{\"color\":\"#19d3f3\",\"pattern\":{\"shape\":\"\"}},\"name\":\"Northern America\",\"offsetgroup\":\"Northern America\",\"orientation\":\"v\",\"showlegend\":true,\"textposition\":\"auto\",\"x\":[2020,2021],\"xaxis\":\"x\",\"y\":[9.6,4.6],\"yaxis\":\"y\",\"type\":\"bar\"},{\"alignmentgroup\":\"True\",\"customdata\":[[\"Northern America: High income\"],[\"Northern America: High income\"]],\"hovertemplate\":\"Reference area=%{customdata[0]}<br>Time=%{x}<br>Value=%{y}<extra></extra>\",\"legendgroup\":\"Northern America: High income\",\"marker\":{\"color\":\"#FF6692\",\"pattern\":{\"shape\":\"\"}},\"name\":\"Northern America: High income\",\"offsetgroup\":\"Northern America: High income\",\"orientation\":\"v\",\"showlegend\":true,\"textposition\":\"auto\",\"x\":[2020,2021],\"xaxis\":\"x\",\"y\":[9.6,4.6],\"yaxis\":\"y\",\"type\":\"bar\"},{\"alignmentgroup\":\"True\",\"customdata\":[[\"Arab States\"],[\"Arab States\"]],\"hovertemplate\":\"Reference area=%{customdata[0]}<br>Time=%{x}<br>Value=%{y}<extra></extra>\",\"legendgroup\":\"Arab States\",\"marker\":{\"color\":\"#B6E880\",\"pattern\":{\"shape\":\"\"}},\"name\":\"Arab States\",\"offsetgroup\":\"Arab States\",\"orientation\":\"v\",\"showlegend\":true,\"textposition\":\"auto\",\"x\":[2020,2021],\"xaxis\":\"x\",\"y\":[9.0,6.2],\"yaxis\":\"y\",\"type\":\"bar\"},{\"alignmentgroup\":\"True\",\"customdata\":[[\"Arab States: Low income\"],[\"Arab States: Low income\"]],\"hovertemplate\":\"Reference area=%{customdata[0]}<br>Time=%{x}<br>Value=%{y}<extra></extra>\",\"legendgroup\":\"Arab States: Low income\",\"marker\":{\"color\":\"#FF97FF\",\"pattern\":{\"shape\":\"\"}},\"name\":\"Arab States: Low income\",\"offsetgroup\":\"Arab States: Low income\",\"orientation\":\"v\",\"showlegend\":true,\"textposition\":\"auto\",\"x\":[2020,2021],\"xaxis\":\"x\",\"y\":[4.6,4.0],\"yaxis\":\"y\",\"type\":\"bar\"},{\"alignmentgroup\":\"True\",\"customdata\":[[\"Arab States: Lower-middle income\"],[\"Arab States: Lower-middle income\"]],\"hovertemplate\":\"Reference area=%{customdata[0]}<br>Time=%{x}<br>Value=%{y}<extra></extra>\",\"legendgroup\":\"Arab States: Lower-middle income\",\"marker\":{\"color\":\"#FECB52\",\"pattern\":{\"shape\":\"\"}},\"name\":\"Arab States: Lower-middle income\",\"offsetgroup\":\"Arab States: Lower-middle income\",\"orientation\":\"v\",\"showlegend\":true,\"textposition\":\"auto\",\"x\":[2020,2021],\"xaxis\":\"x\",\"y\":[16.0,11.9],\"yaxis\":\"y\",\"type\":\"bar\"},{\"alignmentgroup\":\"True\",\"customdata\":[[\"Arab States: Upper-middle income\"],[\"Arab States: Upper-middle income\"]],\"hovertemplate\":\"Reference area=%{customdata[0]}<br>Time=%{x}<br>Value=%{y}<extra></extra>\",\"legendgroup\":\"Arab States: Upper-middle income\",\"marker\":{\"color\":\"#636efa\",\"pattern\":{\"shape\":\"\"}},\"name\":\"Arab States: Upper-middle income\",\"offsetgroup\":\"Arab States: Upper-middle income\",\"orientation\":\"v\",\"showlegend\":true,\"textposition\":\"auto\",\"x\":[2020,2021],\"xaxis\":\"x\",\"y\":[10.8,7.7],\"yaxis\":\"y\",\"type\":\"bar\"},{\"alignmentgroup\":\"True\",\"customdata\":[[\"Arab States: High income\"],[\"Arab States: High income\"]],\"hovertemplate\":\"Reference area=%{customdata[0]}<br>Time=%{x}<br>Value=%{y}<extra></extra>\",\"legendgroup\":\"Arab States: High income\",\"marker\":{\"color\":\"#EF553B\",\"pattern\":{\"shape\":\"\"}},\"name\":\"Arab States: High income\",\"offsetgroup\":\"Arab States: High income\",\"orientation\":\"v\",\"showlegend\":true,\"textposition\":\"auto\",\"x\":[2020,2021],\"xaxis\":\"x\",\"y\":[9.5,6.1],\"yaxis\":\"y\",\"type\":\"bar\"},{\"alignmentgroup\":\"True\",\"customdata\":[[\"Asia and the Pacific\"],[\"Asia and the Pacific\"]],\"hovertemplate\":\"Reference area=%{customdata[0]}<br>Time=%{x}<br>Value=%{y}<extra></extra>\",\"legendgroup\":\"Asia and the Pacific\",\"marker\":{\"color\":\"#00cc96\",\"pattern\":{\"shape\":\"\"}},\"name\":\"Asia and the Pacific\",\"offsetgroup\":\"Asia and the Pacific\",\"orientation\":\"v\",\"showlegend\":true,\"textposition\":\"auto\",\"x\":[2020,2021],\"xaxis\":\"x\",\"y\":[8.2,4.0],\"yaxis\":\"y\",\"type\":\"bar\"},{\"alignmentgroup\":\"True\",\"customdata\":[[\"Asia and the Pacific: Low income\"],[\"Asia and the Pacific: Low income\"]],\"hovertemplate\":\"Reference area=%{customdata[0]}<br>Time=%{x}<br>Value=%{y}<extra></extra>\",\"legendgroup\":\"Asia and the Pacific: Low income\",\"marker\":{\"color\":\"#ab63fa\",\"pattern\":{\"shape\":\"\"}},\"name\":\"Asia and the Pacific: Low income\",\"offsetgroup\":\"Asia and the Pacific: Low income\",\"orientation\":\"v\",\"showlegend\":true,\"textposition\":\"auto\",\"x\":[2020,2021],\"xaxis\":\"x\",\"y\":[6.4,4.8],\"yaxis\":\"y\",\"type\":\"bar\"},{\"alignmentgroup\":\"True\",\"customdata\":[[\"Asia and the Pacific: Lower-middle income\"],[\"Asia and the Pacific: Lower-middle income\"]],\"hovertemplate\":\"Reference area=%{customdata[0]}<br>Time=%{x}<br>Value=%{y}<extra></extra>\",\"legendgroup\":\"Asia and the Pacific: Lower-middle income\",\"marker\":{\"color\":\"#FFA15A\",\"pattern\":{\"shape\":\"\"}},\"name\":\"Asia and the Pacific: Lower-middle income\",\"offsetgroup\":\"Asia and the Pacific: Lower-middle income\",\"orientation\":\"v\",\"showlegend\":true,\"textposition\":\"auto\",\"x\":[2020,2021],\"xaxis\":\"x\",\"y\":[13.0,7.4],\"yaxis\":\"y\",\"type\":\"bar\"},{\"alignmentgroup\":\"True\",\"customdata\":[[\"Asia and the Pacific: Upper-middle income\"],[\"Asia and the Pacific: Upper-middle income\"]],\"hovertemplate\":\"Reference area=%{customdata[0]}<br>Time=%{x}<br>Value=%{y}<extra></extra>\",\"legendgroup\":\"Asia and the Pacific: Upper-middle income\",\"marker\":{\"color\":\"#19d3f3\",\"pattern\":{\"shape\":\"\"}},\"name\":\"Asia and the Pacific: Upper-middle income\",\"offsetgroup\":\"Asia and the Pacific: Upper-middle income\",\"orientation\":\"v\",\"showlegend\":true,\"textposition\":\"auto\",\"x\":[2020,2021],\"xaxis\":\"x\",\"y\":[4.5,1.0],\"yaxis\":\"y\",\"type\":\"bar\"},{\"alignmentgroup\":\"True\",\"customdata\":[[\"Asia and the Pacific: High income\"],[\"Asia and the Pacific: High income\"]],\"hovertemplate\":\"Reference area=%{customdata[0]}<br>Time=%{x}<br>Value=%{y}<extra></extra>\",\"legendgroup\":\"Asia and the Pacific: High income\",\"marker\":{\"color\":\"#FF6692\",\"pattern\":{\"shape\":\"\"}},\"name\":\"Asia and the Pacific: High income\",\"offsetgroup\":\"Asia and the Pacific: High income\",\"orientation\":\"v\",\"showlegend\":true,\"textposition\":\"auto\",\"x\":[2020,2021],\"xaxis\":\"x\",\"y\":[4.5,4.1],\"yaxis\":\"y\",\"type\":\"bar\"},{\"alignmentgroup\":\"True\",\"customdata\":[[\"Eastern Asia\"],[\"Eastern Asia\"]],\"hovertemplate\":\"Reference area=%{customdata[0]}<br>Time=%{x}<br>Value=%{y}<extra></extra>\",\"legendgroup\":\"Eastern Asia\",\"marker\":{\"color\":\"#B6E880\",\"pattern\":{\"shape\":\"\"}},\"name\":\"Eastern Asia\",\"offsetgroup\":\"Eastern Asia\",\"orientation\":\"v\",\"showlegend\":true,\"textposition\":\"auto\",\"x\":[2020,2021],\"xaxis\":\"x\",\"y\":[4.2,0.2],\"yaxis\":\"y\",\"type\":\"bar\"},{\"alignmentgroup\":\"True\",\"customdata\":[[\"Eastern Asia: Low income\"],[\"Eastern Asia: Low income\"]],\"hovertemplate\":\"Reference area=%{customdata[0]}<br>Time=%{x}<br>Value=%{y}<extra></extra>\",\"legendgroup\":\"Eastern Asia: Low income\",\"marker\":{\"color\":\"#FF97FF\",\"pattern\":{\"shape\":\"\"}},\"name\":\"Eastern Asia: Low income\",\"offsetgroup\":\"Eastern Asia: Low income\",\"orientation\":\"v\",\"showlegend\":true,\"textposition\":\"auto\",\"x\":[2020,2021],\"xaxis\":\"x\",\"y\":[5.8,5.4],\"yaxis\":\"y\",\"type\":\"bar\"},{\"alignmentgroup\":\"True\",\"customdata\":[[\"Eastern Asia: Lower-middle income\"],[\"Eastern Asia: Lower-middle income\"]],\"hovertemplate\":\"Reference area=%{customdata[0]}<br>Time=%{x}<br>Value=%{y}<extra></extra>\",\"legendgroup\":\"Eastern Asia: Lower-middle income\",\"marker\":{\"color\":\"#FECB52\",\"pattern\":{\"shape\":\"\"}},\"name\":\"Eastern Asia: Lower-middle income\",\"offsetgroup\":\"Eastern Asia: Lower-middle income\",\"orientation\":\"v\",\"showlegend\":true,\"textposition\":\"auto\",\"x\":[2020,2021],\"xaxis\":\"x\",\"y\":[10.3,15.7],\"yaxis\":\"y\",\"type\":\"bar\"},{\"alignmentgroup\":\"True\",\"customdata\":[[\"Eastern Asia: Upper-middle income\"],[\"Eastern Asia: Upper-middle income\"]],\"hovertemplate\":\"Reference area=%{customdata[0]}<br>Time=%{x}<br>Value=%{y}<extra></extra>\",\"legendgroup\":\"Eastern Asia: Upper-middle income\",\"marker\":{\"color\":\"#636efa\",\"pattern\":{\"shape\":\"\"}},\"name\":\"Eastern Asia: Upper-middle income\",\"offsetgroup\":\"Eastern Asia: Upper-middle income\",\"orientation\":\"v\",\"showlegend\":true,\"textposition\":\"auto\",\"x\":[2020,2021],\"xaxis\":\"x\",\"y\":[4.1,-0.4],\"yaxis\":\"y\",\"type\":\"bar\"},{\"alignmentgroup\":\"True\",\"customdata\":[[\"Eastern Asia: High income\"],[\"Eastern Asia: High income\"]],\"hovertemplate\":\"Reference area=%{customdata[0]}<br>Time=%{x}<br>Value=%{y}<extra></extra>\",\"legendgroup\":\"Eastern Asia: High income\",\"marker\":{\"color\":\"#EF553B\",\"pattern\":{\"shape\":\"\"}},\"name\":\"Eastern Asia: High income\",\"offsetgroup\":\"Eastern Asia: High income\",\"orientation\":\"v\",\"showlegend\":true,\"textposition\":\"auto\",\"x\":[2020,2021],\"xaxis\":\"x\",\"y\":[4.6,4.5],\"yaxis\":\"y\",\"type\":\"bar\"},{\"alignmentgroup\":\"True\",\"customdata\":[[\"South-Eastern Asia and the Pacific\"],[\"South-Eastern Asia and the Pacific\"]],\"hovertemplate\":\"Reference area=%{customdata[0]}<br>Time=%{x}<br>Value=%{y}<extra></extra>\",\"legendgroup\":\"South-Eastern Asia and the Pacific\",\"marker\":{\"color\":\"#00cc96\",\"pattern\":{\"shape\":\"\"}},\"name\":\"South-Eastern Asia and the Pacific\",\"offsetgroup\":\"South-Eastern Asia and the Pacific\",\"orientation\":\"v\",\"showlegend\":true,\"textposition\":\"auto\",\"x\":[2020,2021],\"xaxis\":\"x\",\"y\":[7.7,7.0],\"yaxis\":\"y\",\"type\":\"bar\"},{\"alignmentgroup\":\"True\",\"customdata\":[[\"South-Eastern Asia and the Pacific: Lower-middle income\"],[\"South-Eastern Asia and the Pacific: Lower-middle income\"]],\"hovertemplate\":\"Reference area=%{customdata[0]}<br>Time=%{x}<br>Value=%{y}<extra></extra>\",\"legendgroup\":\"South-Eastern Asia and the Pacific: Lower-middle income\",\"marker\":{\"color\":\"#ab63fa\",\"pattern\":{\"shape\":\"\"}},\"name\":\"South-Eastern Asia and the Pacific: Lower-middle income\",\"offsetgroup\":\"South-Eastern Asia and the Pacific: Lower-middle income\",\"orientation\":\"v\",\"showlegend\":true,\"textposition\":\"auto\",\"x\":[2020,2021],\"xaxis\":\"x\",\"y\":[9.7,8.5],\"yaxis\":\"y\",\"type\":\"bar\"},{\"alignmentgroup\":\"True\",\"customdata\":[[\"South-Eastern Asia and the Pacific: Upper-middle income\"],[\"South-Eastern Asia and the Pacific: Upper-middle income\"]],\"hovertemplate\":\"Reference area=%{customdata[0]}<br>Time=%{x}<br>Value=%{y}<extra></extra>\",\"legendgroup\":\"South-Eastern Asia and the Pacific: Upper-middle income\",\"marker\":{\"color\":\"#FFA15A\",\"pattern\":{\"shape\":\"\"}},\"name\":\"South-Eastern Asia and the Pacific: Upper-middle income\",\"offsetgroup\":\"South-Eastern Asia and the Pacific: Upper-middle income\",\"orientation\":\"v\",\"showlegend\":true,\"textposition\":\"auto\",\"x\":[2020,2021],\"xaxis\":\"x\",\"y\":[6.5,6.3],\"yaxis\":\"y\",\"type\":\"bar\"},{\"alignmentgroup\":\"True\",\"customdata\":[[\"South-Eastern Asia and the Pacific: High income\"],[\"South-Eastern Asia and the Pacific: High income\"]],\"hovertemplate\":\"Reference area=%{customdata[0]}<br>Time=%{x}<br>Value=%{y}<extra></extra>\",\"legendgroup\":\"South-Eastern Asia and the Pacific: High income\",\"marker\":{\"color\":\"#19d3f3\",\"pattern\":{\"shape\":\"\"}},\"name\":\"South-Eastern Asia and the Pacific: High income\",\"offsetgroup\":\"South-Eastern Asia and the Pacific: High income\",\"orientation\":\"v\",\"showlegend\":true,\"textposition\":\"auto\",\"x\":[2020,2021],\"xaxis\":\"x\",\"y\":[3.8,3.4],\"yaxis\":\"y\",\"type\":\"bar\"},{\"alignmentgroup\":\"True\",\"customdata\":[[\"South-Eastern Asia\"],[\"South-Eastern Asia\"]],\"hovertemplate\":\"Reference area=%{customdata[0]}<br>Time=%{x}<br>Value=%{y}<extra></extra>\",\"legendgroup\":\"South-Eastern Asia\",\"marker\":{\"color\":\"#FF6692\",\"pattern\":{\"shape\":\"\"}},\"name\":\"South-Eastern Asia\",\"offsetgroup\":\"South-Eastern Asia\",\"orientation\":\"v\",\"showlegend\":true,\"textposition\":\"auto\",\"x\":[2020,2021],\"xaxis\":\"x\",\"y\":[7.9,7.3],\"yaxis\":\"y\",\"type\":\"bar\"},{\"alignmentgroup\":\"True\",\"customdata\":[[\"Pacific Islands\"],[\"Pacific Islands\"]],\"hovertemplate\":\"Reference area=%{customdata[0]}<br>Time=%{x}<br>Value=%{y}<extra></extra>\",\"legendgroup\":\"Pacific Islands\",\"marker\":{\"color\":\"#B6E880\",\"pattern\":{\"shape\":\"\"}},\"name\":\"Pacific Islands\",\"offsetgroup\":\"Pacific Islands\",\"orientation\":\"v\",\"showlegend\":true,\"textposition\":\"auto\",\"x\":[2020,2021],\"xaxis\":\"x\",\"y\":[3.6,2.2],\"yaxis\":\"y\",\"type\":\"bar\"},{\"alignmentgroup\":\"True\",\"customdata\":[[\"Southern Asia\"],[\"Southern Asia\"]],\"hovertemplate\":\"Reference area=%{customdata[0]}<br>Time=%{x}<br>Value=%{y}<extra></extra>\",\"legendgroup\":\"Southern Asia\",\"marker\":{\"color\":\"#FF97FF\",\"pattern\":{\"shape\":\"\"}},\"name\":\"Southern Asia\",\"offsetgroup\":\"Southern Asia\",\"orientation\":\"v\",\"showlegend\":true,\"textposition\":\"auto\",\"x\":[2020,2021],\"xaxis\":\"x\",\"y\":[13.3,7.2],\"yaxis\":\"y\",\"type\":\"bar\"},{\"alignmentgroup\":\"True\",\"customdata\":[[\"Southern Asia: Low income\"],[\"Southern Asia: Low income\"]],\"hovertemplate\":\"Reference area=%{customdata[0]}<br>Time=%{x}<br>Value=%{y}<extra></extra>\",\"legendgroup\":\"Southern Asia: Low income\",\"marker\":{\"color\":\"#FECB52\",\"pattern\":{\"shape\":\"\"}},\"name\":\"Southern Asia: Low income\",\"offsetgroup\":\"Southern Asia: Low income\",\"orientation\":\"v\",\"showlegend\":true,\"textposition\":\"auto\",\"x\":[2020,2021],\"xaxis\":\"x\",\"y\":[7.4,4.0],\"yaxis\":\"y\",\"type\":\"bar\"},{\"alignmentgroup\":\"True\",\"customdata\":[[\"Southern Asia: Lower-middle income\"],[\"Southern Asia: Lower-middle income\"]],\"hovertemplate\":\"Reference area=%{customdata[0]}<br>Time=%{x}<br>Value=%{y}<extra></extra>\",\"legendgroup\":\"Southern Asia: Lower-middle income\",\"marker\":{\"color\":\"#636efa\",\"pattern\":{\"shape\":\"\"}},\"name\":\"Southern Asia: Lower-middle income\",\"offsetgroup\":\"Southern Asia: Lower-middle income\",\"orientation\":\"v\",\"showlegend\":true,\"textposition\":\"auto\",\"x\":[2020,2021],\"xaxis\":\"x\",\"y\":[13.6,7.2],\"yaxis\":\"y\",\"type\":\"bar\"},{\"alignmentgroup\":\"True\",\"customdata\":[[\"Southern Asia: Upper-middle income\"],[\"Southern Asia: Upper-middle income\"]],\"hovertemplate\":\"Reference area=%{customdata[0]}<br>Time=%{x}<br>Value=%{y}<extra></extra>\",\"legendgroup\":\"Southern Asia: Upper-middle income\",\"marker\":{\"color\":\"#EF553B\",\"pattern\":{\"shape\":\"\"}},\"name\":\"Southern Asia: Upper-middle income\",\"offsetgroup\":\"Southern Asia: Upper-middle income\",\"orientation\":\"v\",\"showlegend\":true,\"textposition\":\"auto\",\"x\":[2020,2021],\"xaxis\":\"x\",\"y\":[5.3,8.3],\"yaxis\":\"y\",\"type\":\"bar\"},{\"alignmentgroup\":\"True\",\"customdata\":[[\"Europe and Central Asia\"],[\"Europe and Central Asia\"]],\"hovertemplate\":\"Reference area=%{customdata[0]}<br>Time=%{x}<br>Value=%{y}<extra></extra>\",\"legendgroup\":\"Europe and Central Asia\",\"marker\":{\"color\":\"#00cc96\",\"pattern\":{\"shape\":\"\"}},\"name\":\"Europe and Central Asia\",\"offsetgroup\":\"Europe and Central Asia\",\"orientation\":\"v\",\"showlegend\":true,\"textposition\":\"auto\",\"x\":[2020,2021],\"xaxis\":\"x\",\"y\":[8.1,3.1],\"yaxis\":\"y\",\"type\":\"bar\"},{\"alignmentgroup\":\"True\",\"customdata\":[[\"Europe and Central Asia: Low income\"],[\"Europe and Central Asia: Low income\"]],\"hovertemplate\":\"Reference area=%{customdata[0]}<br>Time=%{x}<br>Value=%{y}<extra></extra>\",\"legendgroup\":\"Europe and Central Asia: Low income\",\"marker\":{\"color\":\"#ab63fa\",\"pattern\":{\"shape\":\"\"}},\"name\":\"Europe and Central Asia: Low income\",\"offsetgroup\":\"Europe and Central Asia: Low income\",\"orientation\":\"v\",\"showlegend\":true,\"textposition\":\"auto\",\"x\":[2020,2021],\"xaxis\":\"x\",\"y\":[4.3,5.5],\"yaxis\":\"y\",\"type\":\"bar\"},{\"alignmentgroup\":\"True\",\"customdata\":[[\"Europe and Central Asia: Lower-middle income\"],[\"Europe and Central Asia: Lower-middle income\"]],\"hovertemplate\":\"Reference area=%{customdata[0]}<br>Time=%{x}<br>Value=%{y}<extra></extra>\",\"legendgroup\":\"Europe and Central Asia: Lower-middle income\",\"marker\":{\"color\":\"#FFA15A\",\"pattern\":{\"shape\":\"\"}},\"name\":\"Europe and Central Asia: Lower-middle income\",\"offsetgroup\":\"Europe and Central Asia: Lower-middle income\",\"orientation\":\"v\",\"showlegend\":true,\"textposition\":\"auto\",\"x\":[2020,2021],\"xaxis\":\"x\",\"y\":[8.7,6.9],\"yaxis\":\"y\",\"type\":\"bar\"},{\"alignmentgroup\":\"True\",\"customdata\":[[\"Europe and Central Asia: Upper-middle income\"],[\"Europe and Central Asia: Upper-middle income\"]],\"hovertemplate\":\"Reference area=%{customdata[0]}<br>Time=%{x}<br>Value=%{y}<extra></extra>\",\"legendgroup\":\"Europe and Central Asia: Upper-middle income\",\"marker\":{\"color\":\"#19d3f3\",\"pattern\":{\"shape\":\"\"}},\"name\":\"Europe and Central Asia: Upper-middle income\",\"offsetgroup\":\"Europe and Central Asia: Upper-middle income\",\"orientation\":\"v\",\"showlegend\":true,\"textposition\":\"auto\",\"x\":[2020,2021],\"xaxis\":\"x\",\"y\":[8.6,2.5],\"yaxis\":\"y\",\"type\":\"bar\"},{\"alignmentgroup\":\"True\",\"customdata\":[[\"Europe and Central Asia: High income\"],[\"Europe and Central Asia: High income\"]],\"hovertemplate\":\"Reference area=%{customdata[0]}<br>Time=%{x}<br>Value=%{y}<extra></extra>\",\"legendgroup\":\"Europe and Central Asia: High income\",\"marker\":{\"color\":\"#FF6692\",\"pattern\":{\"shape\":\"\"}},\"name\":\"Europe and Central Asia: High income\",\"offsetgroup\":\"Europe and Central Asia: High income\",\"orientation\":\"v\",\"showlegend\":true,\"textposition\":\"auto\",\"x\":[2020,2021],\"xaxis\":\"x\",\"y\":[7.8,2.9],\"yaxis\":\"y\",\"type\":\"bar\"},{\"alignmentgroup\":\"True\",\"customdata\":[[\"Northern, Southern and Western Europe\"],[\"Northern, Southern and Western Europe\"]],\"hovertemplate\":\"Reference area=%{customdata[0]}<br>Time=%{x}<br>Value=%{y}<extra></extra>\",\"legendgroup\":\"Northern, Southern and Western Europe\",\"marker\":{\"color\":\"#B6E880\",\"pattern\":{\"shape\":\"\"}},\"name\":\"Northern, Southern and Western Europe\",\"offsetgroup\":\"Northern, Southern and Western Europe\",\"orientation\":\"v\",\"showlegend\":true,\"textposition\":\"auto\",\"x\":[2020,2021],\"xaxis\":\"x\",\"y\":[8.4,3.3],\"yaxis\":\"y\",\"type\":\"bar\"},{\"alignmentgroup\":\"True\",\"customdata\":[[\"Northern, Southern and Western Europe: Upper-middle income\"],[\"Northern, Southern and Western Europe: Upper-middle income\"]],\"hovertemplate\":\"Reference area=%{customdata[0]}<br>Time=%{x}<br>Value=%{y}<extra></extra>\",\"legendgroup\":\"Northern, Southern and Western Europe: Upper-middle income\",\"marker\":{\"color\":\"#FF97FF\",\"pattern\":{\"shape\":\"\"}},\"name\":\"Northern, Southern and Western Europe: Upper-middle income\",\"offsetgroup\":\"Northern, Southern and Western Europe: Upper-middle income\",\"orientation\":\"v\",\"showlegend\":true,\"textposition\":\"auto\",\"x\":[2020,2021],\"xaxis\":\"x\",\"y\":[6.8,1.1],\"yaxis\":\"y\",\"type\":\"bar\"},{\"alignmentgroup\":\"True\",\"customdata\":[[\"Northern, Southern and Western Europe: High income\"],[\"Northern, Southern and Western Europe: High income\"]],\"hovertemplate\":\"Reference area=%{customdata[0]}<br>Time=%{x}<br>Value=%{y}<extra></extra>\",\"legendgroup\":\"Northern, Southern and Western Europe: High income\",\"marker\":{\"color\":\"#FECB52\",\"pattern\":{\"shape\":\"\"}},\"name\":\"Northern, Southern and Western Europe: High income\",\"offsetgroup\":\"Northern, Southern and Western Europe: High income\",\"orientation\":\"v\",\"showlegend\":true,\"textposition\":\"auto\",\"x\":[2020,2021],\"xaxis\":\"x\",\"y\":[8.5,3.4],\"yaxis\":\"y\",\"type\":\"bar\"},{\"alignmentgroup\":\"True\",\"customdata\":[[\"Northern Europe\"],[\"Northern Europe\"]],\"hovertemplate\":\"Reference area=%{customdata[0]}<br>Time=%{x}<br>Value=%{y}<extra></extra>\",\"legendgroup\":\"Northern Europe\",\"marker\":{\"color\":\"#636efa\",\"pattern\":{\"shape\":\"\"}},\"name\":\"Northern Europe\",\"offsetgroup\":\"Northern Europe\",\"orientation\":\"v\",\"showlegend\":true,\"textposition\":\"auto\",\"x\":[2020,2021],\"xaxis\":\"x\",\"y\":[8.9,3.7],\"yaxis\":\"y\",\"type\":\"bar\"},{\"alignmentgroup\":\"True\",\"customdata\":[[\"Southern Europe\"],[\"Southern Europe\"]],\"hovertemplate\":\"Reference area=%{customdata[0]}<br>Time=%{x}<br>Value=%{y}<extra></extra>\",\"legendgroup\":\"Southern Europe\",\"marker\":{\"color\":\"#EF553B\",\"pattern\":{\"shape\":\"\"}},\"name\":\"Southern Europe\",\"offsetgroup\":\"Southern Europe\",\"orientation\":\"v\",\"showlegend\":true,\"textposition\":\"auto\",\"x\":[2020,2021],\"xaxis\":\"x\",\"y\":[11.3,3.7],\"yaxis\":\"y\",\"type\":\"bar\"},{\"alignmentgroup\":\"True\",\"customdata\":[[\"Western Europe\"],[\"Western Europe\"]],\"hovertemplate\":\"Reference area=%{customdata[0]}<br>Time=%{x}<br>Value=%{y}<extra></extra>\",\"legendgroup\":\"Western Europe\",\"marker\":{\"color\":\"#00cc96\",\"pattern\":{\"shape\":\"\"}},\"name\":\"Western Europe\",\"offsetgroup\":\"Western Europe\",\"orientation\":\"v\",\"showlegend\":true,\"textposition\":\"auto\",\"x\":[2020,2021],\"xaxis\":\"x\",\"y\":[6.1,2.9],\"yaxis\":\"y\",\"type\":\"bar\"},{\"alignmentgroup\":\"True\",\"customdata\":[[\"Eastern Europe\"],[\"Eastern Europe\"]],\"hovertemplate\":\"Reference area=%{customdata[0]}<br>Time=%{x}<br>Value=%{y}<extra></extra>\",\"legendgroup\":\"Eastern Europe\",\"marker\":{\"color\":\"#ab63fa\",\"pattern\":{\"shape\":\"\"}},\"name\":\"Eastern Europe\",\"offsetgroup\":\"Eastern Europe\",\"orientation\":\"v\",\"showlegend\":true,\"textposition\":\"auto\",\"x\":[2020,2021],\"xaxis\":\"x\",\"y\":[5.8,2.0],\"yaxis\":\"y\",\"type\":\"bar\"},{\"alignmentgroup\":\"True\",\"customdata\":[[\"Eastern Europe: Lower-middle income\"],[\"Eastern Europe: Lower-middle income\"]],\"hovertemplate\":\"Reference area=%{customdata[0]}<br>Time=%{x}<br>Value=%{y}<extra></extra>\",\"legendgroup\":\"Eastern Europe: Lower-middle income\",\"marker\":{\"color\":\"#FFA15A\",\"pattern\":{\"shape\":\"\"}},\"name\":\"Eastern Europe: Lower-middle income\",\"offsetgroup\":\"Eastern Europe: Lower-middle income\",\"orientation\":\"v\",\"showlegend\":true,\"textposition\":\"auto\",\"x\":[2020,2021],\"xaxis\":\"x\",\"y\":[8.5,7.1],\"yaxis\":\"y\",\"type\":\"bar\"},{\"alignmentgroup\":\"True\",\"customdata\":[[\"Eastern Europe: Upper-middle income\"],[\"Eastern Europe: Upper-middle income\"]],\"hovertemplate\":\"Reference area=%{customdata[0]}<br>Time=%{x}<br>Value=%{y}<extra></extra>\",\"legendgroup\":\"Eastern Europe: Upper-middle income\",\"marker\":{\"color\":\"#19d3f3\",\"pattern\":{\"shape\":\"\"}},\"name\":\"Eastern Europe: Upper-middle income\",\"offsetgroup\":\"Eastern Europe: Upper-middle income\",\"orientation\":\"v\",\"showlegend\":true,\"textposition\":\"auto\",\"x\":[2020,2021],\"xaxis\":\"x\",\"y\":[5.8,1.4],\"yaxis\":\"y\",\"type\":\"bar\"},{\"alignmentgroup\":\"True\",\"customdata\":[[\"Eastern Europe: High income\"],[\"Eastern Europe: High income\"]],\"hovertemplate\":\"Reference area=%{customdata[0]}<br>Time=%{x}<br>Value=%{y}<extra></extra>\",\"legendgroup\":\"Eastern Europe: High income\",\"marker\":{\"color\":\"#FF6692\",\"pattern\":{\"shape\":\"\"}},\"name\":\"Eastern Europe: High income\",\"offsetgroup\":\"Eastern Europe: High income\",\"orientation\":\"v\",\"showlegend\":true,\"textposition\":\"auto\",\"x\":[2020,2021],\"xaxis\":\"x\",\"y\":[4.5,0.4],\"yaxis\":\"y\",\"type\":\"bar\"},{\"alignmentgroup\":\"True\",\"customdata\":[[\"Central and Western Asia\"],[\"Central and Western Asia\"]],\"hovertemplate\":\"Reference area=%{customdata[0]}<br>Time=%{x}<br>Value=%{y}<extra></extra>\",\"legendgroup\":\"Central and Western Asia\",\"marker\":{\"color\":\"#B6E880\",\"pattern\":{\"shape\":\"\"}},\"name\":\"Central and Western Asia\",\"offsetgroup\":\"Central and Western Asia\",\"orientation\":\"v\",\"showlegend\":true,\"textposition\":\"auto\",\"x\":[2020,2021],\"xaxis\":\"x\",\"y\":[11.6,4.7],\"yaxis\":\"y\",\"type\":\"bar\"},{\"alignmentgroup\":\"True\",\"customdata\":[[\"Central and Western Asia: Low income\"],[\"Central and Western Asia: Low income\"]],\"hovertemplate\":\"Reference area=%{customdata[0]}<br>Time=%{x}<br>Value=%{y}<extra></extra>\",\"legendgroup\":\"Central and Western Asia: Low income\",\"marker\":{\"color\":\"#FF97FF\",\"pattern\":{\"shape\":\"\"}},\"name\":\"Central and Western Asia: Low income\",\"offsetgroup\":\"Central and Western Asia: Low income\",\"orientation\":\"v\",\"showlegend\":true,\"textposition\":\"auto\",\"x\":[2020,2021],\"xaxis\":\"x\",\"y\":[4.3,5.5],\"yaxis\":\"y\",\"type\":\"bar\"},{\"alignmentgroup\":\"True\",\"customdata\":[[\"Central and Western Asia: Lower-middle income\"],[\"Central and Western Asia: Lower-middle income\"]],\"hovertemplate\":\"Reference area=%{customdata[0]}<br>Time=%{x}<br>Value=%{y}<extra></extra>\",\"legendgroup\":\"Central and Western Asia: Lower-middle income\",\"marker\":{\"color\":\"#FECB52\",\"pattern\":{\"shape\":\"\"}},\"name\":\"Central and Western Asia: Lower-middle income\",\"offsetgroup\":\"Central and Western Asia: Lower-middle income\",\"orientation\":\"v\",\"showlegend\":true,\"textposition\":\"auto\",\"x\":[2020,2021],\"xaxis\":\"x\",\"y\":[8.9,6.6],\"yaxis\":\"y\",\"type\":\"bar\"},{\"alignmentgroup\":\"True\",\"customdata\":[[\"Central and Western Asia: Upper-middle income\"],[\"Central and Western Asia: Upper-middle income\"]],\"hovertemplate\":\"Reference area=%{customdata[0]}<br>Time=%{x}<br>Value=%{y}<extra></extra>\",\"legendgroup\":\"Central and Western Asia: Upper-middle income\",\"marker\":{\"color\":\"#636efa\",\"pattern\":{\"shape\":\"\"}},\"name\":\"Central and Western Asia: Upper-middle income\",\"offsetgroup\":\"Central and Western Asia: Upper-middle income\",\"orientation\":\"v\",\"showlegend\":true,\"textposition\":\"auto\",\"x\":[2020,2021],\"xaxis\":\"x\",\"y\":[13.0,4.2],\"yaxis\":\"y\",\"type\":\"bar\"},{\"alignmentgroup\":\"True\",\"customdata\":[[\"Central and Western Asia: High income\"],[\"Central and Western Asia: High income\"]],\"hovertemplate\":\"Reference area=%{customdata[0]}<br>Time=%{x}<br>Value=%{y}<extra></extra>\",\"legendgroup\":\"Central and Western Asia: High income\",\"marker\":{\"color\":\"#EF553B\",\"pattern\":{\"shape\":\"\"}},\"name\":\"Central and Western Asia: High income\",\"offsetgroup\":\"Central and Western Asia: High income\",\"orientation\":\"v\",\"showlegend\":true,\"textposition\":\"auto\",\"x\":[2020,2021],\"xaxis\":\"x\",\"y\":[8.2,1.9],\"yaxis\":\"y\",\"type\":\"bar\"},{\"alignmentgroup\":\"True\",\"customdata\":[[\"Central Asia\"],[\"Central Asia\"]],\"hovertemplate\":\"Reference area=%{customdata[0]}<br>Time=%{x}<br>Value=%{y}<extra></extra>\",\"legendgroup\":\"Central Asia\",\"marker\":{\"color\":\"#00cc96\",\"pattern\":{\"shape\":\"\"}},\"name\":\"Central Asia\",\"offsetgroup\":\"Central Asia\",\"orientation\":\"v\",\"showlegend\":true,\"textposition\":\"auto\",\"x\":[2020,2021],\"xaxis\":\"x\",\"y\":[8.7,6.0],\"yaxis\":\"y\",\"type\":\"bar\"},{\"alignmentgroup\":\"True\",\"customdata\":[[\"Western Asia\"],[\"Western Asia\"]],\"hovertemplate\":\"Reference area=%{customdata[0]}<br>Time=%{x}<br>Value=%{y}<extra></extra>\",\"legendgroup\":\"Western Asia\",\"marker\":{\"color\":\"#ab63fa\",\"pattern\":{\"shape\":\"\"}},\"name\":\"Western Asia\",\"offsetgroup\":\"Western Asia\",\"orientation\":\"v\",\"showlegend\":true,\"textposition\":\"auto\",\"x\":[2020,2021],\"xaxis\":\"x\",\"y\":[13.5,3.7],\"yaxis\":\"y\",\"type\":\"bar\"},{\"alignmentgroup\":\"True\",\"customdata\":[[\"ASEAN\"],[\"ASEAN\"]],\"hovertemplate\":\"Reference area=%{customdata[0]}<br>Time=%{x}<br>Value=%{y}<extra></extra>\",\"legendgroup\":\"ASEAN\",\"marker\":{\"color\":\"#FFA15A\",\"pattern\":{\"shape\":\"\"}},\"name\":\"ASEAN\",\"offsetgroup\":\"ASEAN\",\"orientation\":\"v\",\"showlegend\":true,\"textposition\":\"auto\",\"x\":[2020,2021],\"xaxis\":\"x\",\"y\":[7.9,7.3],\"yaxis\":\"y\",\"type\":\"bar\"},{\"alignmentgroup\":\"True\",\"customdata\":[[\"BRICS\"],[\"BRICS\"]],\"hovertemplate\":\"Reference area=%{customdata[0]}<br>Time=%{x}<br>Value=%{y}<extra></extra>\",\"legendgroup\":\"BRICS\",\"marker\":{\"color\":\"#19d3f3\",\"pattern\":{\"shape\":\"\"}},\"name\":\"BRICS\",\"offsetgroup\":\"BRICS\",\"orientation\":\"v\",\"showlegend\":true,\"textposition\":\"auto\",\"x\":[2020,2021],\"xaxis\":\"x\",\"y\":[8.6,2.9],\"yaxis\":\"y\",\"type\":\"bar\"},{\"alignmentgroup\":\"True\",\"customdata\":[[\"European Union 28\"],[\"European Union 28\"]],\"hovertemplate\":\"Reference area=%{customdata[0]}<br>Time=%{x}<br>Value=%{y}<extra></extra>\",\"legendgroup\":\"European Union 28\",\"marker\":{\"color\":\"#FF6692\",\"pattern\":{\"shape\":\"\"}},\"name\":\"European Union 28\",\"offsetgroup\":\"European Union 28\",\"orientation\":\"v\",\"showlegend\":true,\"textposition\":\"auto\",\"x\":[2020,2021],\"xaxis\":\"x\",\"y\":[7.9,3.0],\"yaxis\":\"y\",\"type\":\"bar\"},{\"alignmentgroup\":\"True\",\"customdata\":[[\"European Union 27\"],[\"European Union 27\"]],\"hovertemplate\":\"Reference area=%{customdata[0]}<br>Time=%{x}<br>Value=%{y}<extra></extra>\",\"legendgroup\":\"European Union 27\",\"marker\":{\"color\":\"#B6E880\",\"pattern\":{\"shape\":\"\"}},\"name\":\"European Union 27\",\"offsetgroup\":\"European Union 27\",\"orientation\":\"v\",\"showlegend\":true,\"textposition\":\"auto\",\"x\":[2020,2021],\"xaxis\":\"x\",\"y\":[7.4,2.7],\"yaxis\":\"y\",\"type\":\"bar\"},{\"alignmentgroup\":\"True\",\"customdata\":[[\"G20\"],[\"G20\"]],\"hovertemplate\":\"Reference area=%{customdata[0]}<br>Time=%{x}<br>Value=%{y}<extra></extra>\",\"legendgroup\":\"G20\",\"marker\":{\"color\":\"#FF97FF\",\"pattern\":{\"shape\":\"\"}},\"name\":\"G20\",\"offsetgroup\":\"G20\",\"orientation\":\"v\",\"showlegend\":true,\"textposition\":\"auto\",\"x\":[2020,2021],\"xaxis\":\"x\",\"y\":[8.7,3.4],\"yaxis\":\"y\",\"type\":\"bar\"},{\"alignmentgroup\":\"True\",\"customdata\":[[\"World excluding BRICS\"],[\"World excluding BRICS\"]],\"hovertemplate\":\"Reference area=%{customdata[0]}<br>Time=%{x}<br>Value=%{y}<extra></extra>\",\"legendgroup\":\"World excluding BRICS\",\"marker\":{\"color\":\"#FECB52\",\"pattern\":{\"shape\":\"\"}},\"name\":\"World excluding BRICS\",\"offsetgroup\":\"World excluding BRICS\",\"orientation\":\"v\",\"showlegend\":true,\"textposition\":\"auto\",\"x\":[2020,2021],\"xaxis\":\"x\",\"y\":[9.1,5.5],\"yaxis\":\"y\",\"type\":\"bar\"},{\"alignmentgroup\":\"True\",\"customdata\":[[\"G7\"],[\"G7\"]],\"hovertemplate\":\"Reference area=%{customdata[0]}<br>Time=%{x}<br>Value=%{y}<extra></extra>\",\"legendgroup\":\"G7\",\"marker\":{\"color\":\"#636efa\",\"pattern\":{\"shape\":\"\"}},\"name\":\"G7\",\"offsetgroup\":\"G7\",\"orientation\":\"v\",\"showlegend\":true,\"textposition\":\"auto\",\"x\":[2020,2021],\"xaxis\":\"x\",\"y\":[8.4,4.5],\"yaxis\":\"y\",\"type\":\"bar\"},{\"alignmentgroup\":\"True\",\"customdata\":[[\"MENA\"],[\"MENA\"]],\"hovertemplate\":\"Reference area=%{customdata[0]}<br>Time=%{x}<br>Value=%{y}<extra></extra>\",\"legendgroup\":\"MENA\",\"marker\":{\"color\":\"#EF553B\",\"pattern\":{\"shape\":\"\"}},\"name\":\"MENA\",\"offsetgroup\":\"MENA\",\"orientation\":\"v\",\"showlegend\":true,\"textposition\":\"auto\",\"x\":[2020,2021],\"xaxis\":\"x\",\"y\":[8.6,6.5],\"yaxis\":\"y\",\"type\":\"bar\"},{\"alignmentgroup\":\"True\",\"customdata\":[[\"Arab League\"],[\"Arab League\"]],\"hovertemplate\":\"Reference area=%{customdata[0]}<br>Time=%{x}<br>Value=%{y}<extra></extra>\",\"legendgroup\":\"Arab League\",\"marker\":{\"color\":\"#00cc96\",\"pattern\":{\"shape\":\"\"}},\"name\":\"Arab League\",\"offsetgroup\":\"Arab League\",\"orientation\":\"v\",\"showlegend\":true,\"textposition\":\"auto\",\"x\":[2020,2021],\"xaxis\":\"x\",\"y\":[9.3,6.1],\"yaxis\":\"y\",\"type\":\"bar\"},{\"alignmentgroup\":\"True\",\"customdata\":[[\"CARICOM\"],[\"CARICOM\"]],\"hovertemplate\":\"Reference area=%{customdata[0]}<br>Time=%{x}<br>Value=%{y}<extra></extra>\",\"legendgroup\":\"CARICOM\",\"marker\":{\"color\":\"#ab63fa\",\"pattern\":{\"shape\":\"\"}},\"name\":\"CARICOM\",\"offsetgroup\":\"CARICOM\",\"orientation\":\"v\",\"showlegend\":true,\"textposition\":\"auto\",\"x\":[2020,2021],\"xaxis\":\"x\",\"y\":[11.0,7.2],\"yaxis\":\"y\",\"type\":\"bar\"},{\"alignmentgroup\":\"True\",\"customdata\":[[\"Afghanistan\"],[\"Afghanistan\"]],\"hovertemplate\":\"Reference area=%{customdata[0]}<br>Time=%{x}<br>Value=%{y}<extra></extra>\",\"legendgroup\":\"Afghanistan\",\"marker\":{\"color\":\"#FFA15A\",\"pattern\":{\"shape\":\"\"}},\"name\":\"Afghanistan\",\"offsetgroup\":\"Afghanistan\",\"orientation\":\"v\",\"showlegend\":true,\"textposition\":\"auto\",\"x\":[2020,2021],\"xaxis\":\"x\",\"y\":[7.4,4.0],\"yaxis\":\"y\",\"type\":\"bar\"},{\"alignmentgroup\":\"True\",\"customdata\":[[\"Albania\"],[\"Albania\"]],\"hovertemplate\":\"Reference area=%{customdata[0]}<br>Time=%{x}<br>Value=%{y}<extra></extra>\",\"legendgroup\":\"Albania\",\"marker\":{\"color\":\"#19d3f3\",\"pattern\":{\"shape\":\"\"}},\"name\":\"Albania\",\"offsetgroup\":\"Albania\",\"orientation\":\"v\",\"showlegend\":true,\"textposition\":\"auto\",\"x\":[2020,2021],\"xaxis\":\"x\",\"y\":[9.1,3.5],\"yaxis\":\"y\",\"type\":\"bar\"},{\"alignmentgroup\":\"True\",\"customdata\":[[\"Algeria\"],[\"Algeria\"]],\"hovertemplate\":\"Reference area=%{customdata[0]}<br>Time=%{x}<br>Value=%{y}<extra></extra>\",\"legendgroup\":\"Algeria\",\"marker\":{\"color\":\"#FF6692\",\"pattern\":{\"shape\":\"\"}},\"name\":\"Algeria\",\"offsetgroup\":\"Algeria\",\"orientation\":\"v\",\"showlegend\":true,\"textposition\":\"auto\",\"x\":[2020,2021],\"xaxis\":\"x\",\"y\":[9.7,7.4],\"yaxis\":\"y\",\"type\":\"bar\"},{\"alignmentgroup\":\"True\",\"customdata\":[[\"Angola\"],[\"Angola\"]],\"hovertemplate\":\"Reference area=%{customdata[0]}<br>Time=%{x}<br>Value=%{y}<extra></extra>\",\"legendgroup\":\"Angola\",\"marker\":{\"color\":\"#B6E880\",\"pattern\":{\"shape\":\"\"}},\"name\":\"Angola\",\"offsetgroup\":\"Angola\",\"orientation\":\"v\",\"showlegend\":true,\"textposition\":\"auto\",\"x\":[2020,2021],\"xaxis\":\"x\",\"y\":[8.7,5.7],\"yaxis\":\"y\",\"type\":\"bar\"},{\"alignmentgroup\":\"True\",\"customdata\":[[\"Argentina\"],[\"Argentina\"]],\"hovertemplate\":\"Reference area=%{customdata[0]}<br>Time=%{x}<br>Value=%{y}<extra></extra>\",\"legendgroup\":\"Argentina\",\"marker\":{\"color\":\"#FF97FF\",\"pattern\":{\"shape\":\"\"}},\"name\":\"Argentina\",\"offsetgroup\":\"Argentina\",\"orientation\":\"v\",\"showlegend\":true,\"textposition\":\"auto\",\"x\":[2020,2021],\"xaxis\":\"x\",\"y\":[21.9,8.9],\"yaxis\":\"y\",\"type\":\"bar\"},{\"alignmentgroup\":\"True\",\"customdata\":[[\"Armenia\"],[\"Armenia\"]],\"hovertemplate\":\"Reference area=%{customdata[0]}<br>Time=%{x}<br>Value=%{y}<extra></extra>\",\"legendgroup\":\"Armenia\",\"marker\":{\"color\":\"#FECB52\",\"pattern\":{\"shape\":\"\"}},\"name\":\"Armenia\",\"offsetgroup\":\"Armenia\",\"orientation\":\"v\",\"showlegend\":true,\"textposition\":\"auto\",\"x\":[2020,2021],\"xaxis\":\"x\",\"y\":[14.9,3.5],\"yaxis\":\"y\",\"type\":\"bar\"},{\"alignmentgroup\":\"True\",\"customdata\":[[\"Australia\"],[\"Australia\"]],\"hovertemplate\":\"Reference area=%{customdata[0]}<br>Time=%{x}<br>Value=%{y}<extra></extra>\",\"legendgroup\":\"Australia\",\"marker\":{\"color\":\"#636efa\",\"pattern\":{\"shape\":\"\"}},\"name\":\"Australia\",\"offsetgroup\":\"Australia\",\"orientation\":\"v\",\"showlegend\":true,\"textposition\":\"auto\",\"x\":[2020,2021],\"xaxis\":\"x\",\"y\":[4.6,1.6],\"yaxis\":\"y\",\"type\":\"bar\"},{\"alignmentgroup\":\"True\",\"customdata\":[[\"Austria\"],[\"Austria\"]],\"hovertemplate\":\"Reference area=%{customdata[0]}<br>Time=%{x}<br>Value=%{y}<extra></extra>\",\"legendgroup\":\"Austria\",\"marker\":{\"color\":\"#EF553B\",\"pattern\":{\"shape\":\"\"}},\"name\":\"Austria\",\"offsetgroup\":\"Austria\",\"orientation\":\"v\",\"showlegend\":true,\"textposition\":\"auto\",\"x\":[2020,2021],\"xaxis\":\"x\",\"y\":[12.3,7.7],\"yaxis\":\"y\",\"type\":\"bar\"},{\"alignmentgroup\":\"True\",\"customdata\":[[\"Azerbaijan\"],[\"Azerbaijan\"]],\"hovertemplate\":\"Reference area=%{customdata[0]}<br>Time=%{x}<br>Value=%{y}<extra></extra>\",\"legendgroup\":\"Azerbaijan\",\"marker\":{\"color\":\"#00cc96\",\"pattern\":{\"shape\":\"\"}},\"name\":\"Azerbaijan\",\"offsetgroup\":\"Azerbaijan\",\"orientation\":\"v\",\"showlegend\":true,\"textposition\":\"auto\",\"x\":[2020,2021],\"xaxis\":\"x\",\"y\":[12.0,4.6],\"yaxis\":\"y\",\"type\":\"bar\"},{\"alignmentgroup\":\"True\",\"customdata\":[[\"Bahamas\"],[\"Bahamas\"]],\"hovertemplate\":\"Reference area=%{customdata[0]}<br>Time=%{x}<br>Value=%{y}<extra></extra>\",\"legendgroup\":\"Bahamas\",\"marker\":{\"color\":\"#ab63fa\",\"pattern\":{\"shape\":\"\"}},\"name\":\"Bahamas\",\"offsetgroup\":\"Bahamas\",\"orientation\":\"v\",\"showlegend\":true,\"textposition\":\"auto\",\"x\":[2020,2021],\"xaxis\":\"x\",\"y\":[15.6,4.3],\"yaxis\":\"y\",\"type\":\"bar\"},{\"alignmentgroup\":\"True\",\"customdata\":[[\"Bahrain\"],[\"Bahrain\"]],\"hovertemplate\":\"Reference area=%{customdata[0]}<br>Time=%{x}<br>Value=%{y}<extra></extra>\",\"legendgroup\":\"Bahrain\",\"marker\":{\"color\":\"#FFA15A\",\"pattern\":{\"shape\":\"\"}},\"name\":\"Bahrain\",\"offsetgroup\":\"Bahrain\",\"orientation\":\"v\",\"showlegend\":true,\"textposition\":\"auto\",\"x\":[2020,2021],\"xaxis\":\"x\",\"y\":[8.9,7.1],\"yaxis\":\"y\",\"type\":\"bar\"},{\"alignmentgroup\":\"True\",\"customdata\":[[\"Bangladesh\"],[\"Bangladesh\"]],\"hovertemplate\":\"Reference area=%{customdata[0]}<br>Time=%{x}<br>Value=%{y}<extra></extra>\",\"legendgroup\":\"Bangladesh\",\"marker\":{\"color\":\"#19d3f3\",\"pattern\":{\"shape\":\"\"}},\"name\":\"Bangladesh\",\"offsetgroup\":\"Bangladesh\",\"orientation\":\"v\",\"showlegend\":true,\"textposition\":\"auto\",\"x\":[2020,2021],\"xaxis\":\"x\",\"y\":[11.9,7.4],\"yaxis\":\"y\",\"type\":\"bar\"},{\"alignmentgroup\":\"True\",\"customdata\":[[\"Barbados\"],[\"Barbados\"]],\"hovertemplate\":\"Reference area=%{customdata[0]}<br>Time=%{x}<br>Value=%{y}<extra></extra>\",\"legendgroup\":\"Barbados\",\"marker\":{\"color\":\"#FF6692\",\"pattern\":{\"shape\":\"\"}},\"name\":\"Barbados\",\"offsetgroup\":\"Barbados\",\"orientation\":\"v\",\"showlegend\":true,\"textposition\":\"auto\",\"x\":[2020,2021],\"xaxis\":\"x\",\"y\":[10.4,4.1],\"yaxis\":\"y\",\"type\":\"bar\"},{\"alignmentgroup\":\"True\",\"customdata\":[[\"Belarus\"],[\"Belarus\"]],\"hovertemplate\":\"Reference area=%{customdata[0]}<br>Time=%{x}<br>Value=%{y}<extra></extra>\",\"legendgroup\":\"Belarus\",\"marker\":{\"color\":\"#B6E880\",\"pattern\":{\"shape\":\"\"}},\"name\":\"Belarus\",\"offsetgroup\":\"Belarus\",\"orientation\":\"v\",\"showlegend\":true,\"textposition\":\"auto\",\"x\":[2020,2021],\"xaxis\":\"x\",\"y\":[2.5,3.2],\"yaxis\":\"y\",\"type\":\"bar\"},{\"alignmentgroup\":\"True\",\"customdata\":[[\"Belgium\"],[\"Belgium\"]],\"hovertemplate\":\"Reference area=%{customdata[0]}<br>Time=%{x}<br>Value=%{y}<extra></extra>\",\"legendgroup\":\"Belgium\",\"marker\":{\"color\":\"#FF97FF\",\"pattern\":{\"shape\":\"\"}},\"name\":\"Belgium\",\"offsetgroup\":\"Belgium\",\"orientation\":\"v\",\"showlegend\":true,\"textposition\":\"auto\",\"x\":[2020,2021],\"xaxis\":\"x\",\"y\":[7.6,1.5],\"yaxis\":\"y\",\"type\":\"bar\"},{\"alignmentgroup\":\"True\",\"customdata\":[[\"Belize\"],[\"Belize\"]],\"hovertemplate\":\"Reference area=%{customdata[0]}<br>Time=%{x}<br>Value=%{y}<extra></extra>\",\"legendgroup\":\"Belize\",\"marker\":{\"color\":\"#FECB52\",\"pattern\":{\"shape\":\"\"}},\"name\":\"Belize\",\"offsetgroup\":\"Belize\",\"orientation\":\"v\",\"showlegend\":true,\"textposition\":\"auto\",\"x\":[2020,2021],\"xaxis\":\"x\",\"y\":[10.6,7.4],\"yaxis\":\"y\",\"type\":\"bar\"},{\"alignmentgroup\":\"True\",\"customdata\":[[\"Benin\"],[\"Benin\"]],\"hovertemplate\":\"Reference area=%{customdata[0]}<br>Time=%{x}<br>Value=%{y}<extra></extra>\",\"legendgroup\":\"Benin\",\"marker\":{\"color\":\"#636efa\",\"pattern\":{\"shape\":\"\"}},\"name\":\"Benin\",\"offsetgroup\":\"Benin\",\"orientation\":\"v\",\"showlegend\":true,\"textposition\":\"auto\",\"x\":[2020,2021],\"xaxis\":\"x\",\"y\":[3.9,4.1],\"yaxis\":\"y\",\"type\":\"bar\"},{\"alignmentgroup\":\"True\",\"customdata\":[[\"Bhutan\"],[\"Bhutan\"]],\"hovertemplate\":\"Reference area=%{customdata[0]}<br>Time=%{x}<br>Value=%{y}<extra></extra>\",\"legendgroup\":\"Bhutan\",\"marker\":{\"color\":\"#EF553B\",\"pattern\":{\"shape\":\"\"}},\"name\":\"Bhutan\",\"offsetgroup\":\"Bhutan\",\"orientation\":\"v\",\"showlegend\":true,\"textposition\":\"auto\",\"x\":[2020,2021],\"xaxis\":\"x\",\"y\":[11.0,7.7],\"yaxis\":\"y\",\"type\":\"bar\"},{\"alignmentgroup\":\"True\",\"customdata\":[[\"Bolivia\"],[\"Bolivia\"]],\"hovertemplate\":\"Reference area=%{customdata[0]}<br>Time=%{x}<br>Value=%{y}<extra></extra>\",\"legendgroup\":\"Bolivia\",\"marker\":{\"color\":\"#00cc96\",\"pattern\":{\"shape\":\"\"}},\"name\":\"Bolivia\",\"offsetgroup\":\"Bolivia\",\"orientation\":\"v\",\"showlegend\":true,\"textposition\":\"auto\",\"x\":[2020,2021],\"xaxis\":\"x\",\"y\":[14.2,-0.9],\"yaxis\":\"y\",\"type\":\"bar\"},{\"alignmentgroup\":\"True\",\"customdata\":[[\"Bosnia and Herzegovina\"],[\"Bosnia and Herzegovina\"]],\"hovertemplate\":\"Reference area=%{customdata[0]}<br>Time=%{x}<br>Value=%{y}<extra></extra>\",\"legendgroup\":\"Bosnia and Herzegovina\",\"marker\":{\"color\":\"#ab63fa\",\"pattern\":{\"shape\":\"\"}},\"name\":\"Bosnia and Herzegovina\",\"offsetgroup\":\"Bosnia and Herzegovina\",\"orientation\":\"v\",\"showlegend\":true,\"textposition\":\"auto\",\"x\":[2020,2021],\"xaxis\":\"x\",\"y\":[7.4,3.3],\"yaxis\":\"y\",\"type\":\"bar\"},{\"alignmentgroup\":\"True\",\"customdata\":[[\"Botswana\"],[\"Botswana\"]],\"hovertemplate\":\"Reference area=%{customdata[0]}<br>Time=%{x}<br>Value=%{y}<extra></extra>\",\"legendgroup\":\"Botswana\",\"marker\":{\"color\":\"#FFA15A\",\"pattern\":{\"shape\":\"\"}},\"name\":\"Botswana\",\"offsetgroup\":\"Botswana\",\"orientation\":\"v\",\"showlegend\":true,\"textposition\":\"auto\",\"x\":[2020,2021],\"xaxis\":\"x\",\"y\":[6.5,7.3],\"yaxis\":\"y\",\"type\":\"bar\"},{\"alignmentgroup\":\"True\",\"customdata\":[[\"Brazil\"],[\"Brazil\"]],\"hovertemplate\":\"Reference area=%{customdata[0]}<br>Time=%{x}<br>Value=%{y}<extra></extra>\",\"legendgroup\":\"Brazil\",\"marker\":{\"color\":\"#19d3f3\",\"pattern\":{\"shape\":\"\"}},\"name\":\"Brazil\",\"offsetgroup\":\"Brazil\",\"orientation\":\"v\",\"showlegend\":true,\"textposition\":\"auto\",\"x\":[2020,2021],\"xaxis\":\"x\",\"y\":[15.7,5.6],\"yaxis\":\"y\",\"type\":\"bar\"},{\"alignmentgroup\":\"True\",\"customdata\":[[\"Brunei Darussalam\"],[\"Brunei Darussalam\"]],\"hovertemplate\":\"Reference area=%{customdata[0]}<br>Time=%{x}<br>Value=%{y}<extra></extra>\",\"legendgroup\":\"Brunei Darussalam\",\"marker\":{\"color\":\"#FF6692\",\"pattern\":{\"shape\":\"\"}},\"name\":\"Brunei Darussalam\",\"offsetgroup\":\"Brunei Darussalam\",\"orientation\":\"v\",\"showlegend\":true,\"textposition\":\"auto\",\"x\":[2020,2021],\"xaxis\":\"x\",\"y\":[5.0,3.1],\"yaxis\":\"y\",\"type\":\"bar\"},{\"alignmentgroup\":\"True\",\"customdata\":[[\"Bulgaria\"],[\"Bulgaria\"]],\"hovertemplate\":\"Reference area=%{customdata[0]}<br>Time=%{x}<br>Value=%{y}<extra></extra>\",\"legendgroup\":\"Bulgaria\",\"marker\":{\"color\":\"#B6E880\",\"pattern\":{\"shape\":\"\"}},\"name\":\"Bulgaria\",\"offsetgroup\":\"Bulgaria\",\"orientation\":\"v\",\"showlegend\":true,\"textposition\":\"auto\",\"x\":[2020,2021],\"xaxis\":\"x\",\"y\":[4.9,0.2],\"yaxis\":\"y\",\"type\":\"bar\"},{\"alignmentgroup\":\"True\",\"customdata\":[[\"Burkina Faso\"],[\"Burkina Faso\"]],\"hovertemplate\":\"Reference area=%{customdata[0]}<br>Time=%{x}<br>Value=%{y}<extra></extra>\",\"legendgroup\":\"Burkina Faso\",\"marker\":{\"color\":\"#FF97FF\",\"pattern\":{\"shape\":\"\"}},\"name\":\"Burkina Faso\",\"offsetgroup\":\"Burkina Faso\",\"orientation\":\"v\",\"showlegend\":true,\"textposition\":\"auto\",\"x\":[2020,2021],\"xaxis\":\"x\",\"y\":[3.7,1.4],\"yaxis\":\"y\",\"type\":\"bar\"},{\"alignmentgroup\":\"True\",\"customdata\":[[\"Burundi\"],[\"Burundi\"]],\"hovertemplate\":\"Reference area=%{customdata[0]}<br>Time=%{x}<br>Value=%{y}<extra></extra>\",\"legendgroup\":\"Burundi\",\"marker\":{\"color\":\"#FECB52\",\"pattern\":{\"shape\":\"\"}},\"name\":\"Burundi\",\"offsetgroup\":\"Burundi\",\"orientation\":\"v\",\"showlegend\":true,\"textposition\":\"auto\",\"x\":[2020,2021],\"xaxis\":\"x\",\"y\":[0.5,0.8],\"yaxis\":\"y\",\"type\":\"bar\"},{\"alignmentgroup\":\"True\",\"customdata\":[[\"Cambodia\"],[\"Cambodia\"]],\"hovertemplate\":\"Reference area=%{customdata[0]}<br>Time=%{x}<br>Value=%{y}<extra></extra>\",\"legendgroup\":\"Cambodia\",\"marker\":{\"color\":\"#636efa\",\"pattern\":{\"shape\":\"\"}},\"name\":\"Cambodia\",\"offsetgroup\":\"Cambodia\",\"orientation\":\"v\",\"showlegend\":true,\"textposition\":\"auto\",\"x\":[2020,2021],\"xaxis\":\"x\",\"y\":[5.2,8.0],\"yaxis\":\"y\",\"type\":\"bar\"},{\"alignmentgroup\":\"True\",\"customdata\":[[\"Cameroon\"],[\"Cameroon\"]],\"hovertemplate\":\"Reference area=%{customdata[0]}<br>Time=%{x}<br>Value=%{y}<extra></extra>\",\"legendgroup\":\"Cameroon\",\"marker\":{\"color\":\"#EF553B\",\"pattern\":{\"shape\":\"\"}},\"name\":\"Cameroon\",\"offsetgroup\":\"Cameroon\",\"orientation\":\"v\",\"showlegend\":true,\"textposition\":\"auto\",\"x\":[2020,2021],\"xaxis\":\"x\",\"y\":[4.9,3.3],\"yaxis\":\"y\",\"type\":\"bar\"},{\"alignmentgroup\":\"True\",\"customdata\":[[\"Canada\"],[\"Canada\"]],\"hovertemplate\":\"Reference area=%{customdata[0]}<br>Time=%{x}<br>Value=%{y}<extra></extra>\",\"legendgroup\":\"Canada\",\"marker\":{\"color\":\"#00cc96\",\"pattern\":{\"shape\":\"\"}},\"name\":\"Canada\",\"offsetgroup\":\"Canada\",\"orientation\":\"v\",\"showlegend\":true,\"textposition\":\"auto\",\"x\":[2020,2021],\"xaxis\":\"x\",\"y\":[9.5,1.7],\"yaxis\":\"y\",\"type\":\"bar\"},{\"alignmentgroup\":\"True\",\"customdata\":[[\"Cape Verde\"],[\"Cape Verde\"]],\"hovertemplate\":\"Reference area=%{customdata[0]}<br>Time=%{x}<br>Value=%{y}<extra></extra>\",\"legendgroup\":\"Cape Verde\",\"marker\":{\"color\":\"#ab63fa\",\"pattern\":{\"shape\":\"\"}},\"name\":\"Cape Verde\",\"offsetgroup\":\"Cape Verde\",\"orientation\":\"v\",\"showlegend\":true,\"textposition\":\"auto\",\"x\":[2020,2021],\"xaxis\":\"x\",\"y\":[12.2,7.9],\"yaxis\":\"y\",\"type\":\"bar\"},{\"alignmentgroup\":\"True\",\"customdata\":[[\"Central African Republic\"],[\"Central African Republic\"]],\"hovertemplate\":\"Reference area=%{customdata[0]}<br>Time=%{x}<br>Value=%{y}<extra></extra>\",\"legendgroup\":\"Central African Republic\",\"marker\":{\"color\":\"#FFA15A\",\"pattern\":{\"shape\":\"\"}},\"name\":\"Central African Republic\",\"offsetgroup\":\"Central African Republic\",\"orientation\":\"v\",\"showlegend\":true,\"textposition\":\"auto\",\"x\":[2020,2021],\"xaxis\":\"x\",\"y\":[5.0,0.8],\"yaxis\":\"y\",\"type\":\"bar\"},{\"alignmentgroup\":\"True\",\"customdata\":[[\"Chad\"],[\"Chad\"]],\"hovertemplate\":\"Reference area=%{customdata[0]}<br>Time=%{x}<br>Value=%{y}<extra></extra>\",\"legendgroup\":\"Chad\",\"marker\":{\"color\":\"#19d3f3\",\"pattern\":{\"shape\":\"\"}},\"name\":\"Chad\",\"offsetgroup\":\"Chad\",\"orientation\":\"v\",\"showlegend\":true,\"textposition\":\"auto\",\"x\":[2020,2021],\"xaxis\":\"x\",\"y\":[7.2,2.5],\"yaxis\":\"y\",\"type\":\"bar\"},{\"alignmentgroup\":\"True\",\"customdata\":[[\"Channel Islands\"],[\"Channel Islands\"]],\"hovertemplate\":\"Reference area=%{customdata[0]}<br>Time=%{x}<br>Value=%{y}<extra></extra>\",\"legendgroup\":\"Channel Islands\",\"marker\":{\"color\":\"#FF6692\",\"pattern\":{\"shape\":\"\"}},\"name\":\"Channel Islands\",\"offsetgroup\":\"Channel Islands\",\"orientation\":\"v\",\"showlegend\":true,\"textposition\":\"auto\",\"x\":[2020,2021],\"xaxis\":\"x\",\"y\":[6.1,2.8],\"yaxis\":\"y\",\"type\":\"bar\"},{\"alignmentgroup\":\"True\",\"customdata\":[[\"Chile\"],[\"Chile\"]],\"hovertemplate\":\"Reference area=%{customdata[0]}<br>Time=%{x}<br>Value=%{y}<extra></extra>\",\"legendgroup\":\"Chile\",\"marker\":{\"color\":\"#B6E880\",\"pattern\":{\"shape\":\"\"}},\"name\":\"Chile\",\"offsetgroup\":\"Chile\",\"orientation\":\"v\",\"showlegend\":true,\"textposition\":\"auto\",\"x\":[2020,2021],\"xaxis\":\"x\",\"y\":[14.6,5.2],\"yaxis\":\"y\",\"type\":\"bar\"},{\"alignmentgroup\":\"True\",\"customdata\":[[\"China\"],[\"China\"]],\"hovertemplate\":\"Reference area=%{customdata[0]}<br>Time=%{x}<br>Value=%{y}<extra></extra>\",\"legendgroup\":\"China\",\"marker\":{\"color\":\"#FF97FF\",\"pattern\":{\"shape\":\"\"}},\"name\":\"China\",\"offsetgroup\":\"China\",\"orientation\":\"v\",\"showlegend\":true,\"textposition\":\"auto\",\"x\":[2020,2021],\"xaxis\":\"x\",\"y\":[4.1,-0.4],\"yaxis\":\"y\",\"type\":\"bar\"},{\"alignmentgroup\":\"True\",\"customdata\":[[\"Colombia\"],[\"Colombia\"]],\"hovertemplate\":\"Reference area=%{customdata[0]}<br>Time=%{x}<br>Value=%{y}<extra></extra>\",\"legendgroup\":\"Colombia\",\"marker\":{\"color\":\"#FECB52\",\"pattern\":{\"shape\":\"\"}},\"name\":\"Colombia\",\"offsetgroup\":\"Colombia\",\"orientation\":\"v\",\"showlegend\":true,\"textposition\":\"auto\",\"x\":[2020,2021],\"xaxis\":\"x\",\"y\":[19.2,6.0],\"yaxis\":\"y\",\"type\":\"bar\"},{\"alignmentgroup\":\"True\",\"customdata\":[[\"Comoros\"],[\"Comoros\"]],\"hovertemplate\":\"Reference area=%{customdata[0]}<br>Time=%{x}<br>Value=%{y}<extra></extra>\",\"legendgroup\":\"Comoros\",\"marker\":{\"color\":\"#636efa\",\"pattern\":{\"shape\":\"\"}},\"name\":\"Comoros\",\"offsetgroup\":\"Comoros\",\"orientation\":\"v\",\"showlegend\":true,\"textposition\":\"auto\",\"x\":[2020,2021],\"xaxis\":\"x\",\"y\":[7.2,5.7],\"yaxis\":\"y\",\"type\":\"bar\"},{\"alignmentgroup\":\"True\",\"customdata\":[[\"Congo\"],[\"Congo\"]],\"hovertemplate\":\"Reference area=%{customdata[0]}<br>Time=%{x}<br>Value=%{y}<extra></extra>\",\"legendgroup\":\"Congo\",\"marker\":{\"color\":\"#EF553B\",\"pattern\":{\"shape\":\"\"}},\"name\":\"Congo\",\"offsetgroup\":\"Congo\",\"orientation\":\"v\",\"showlegend\":true,\"textposition\":\"auto\",\"x\":[2020,2021],\"xaxis\":\"x\",\"y\":[8.9,6.4],\"yaxis\":\"y\",\"type\":\"bar\"},{\"alignmentgroup\":\"True\",\"customdata\":[[\"Congo, Democratic Republic of the\"],[\"Congo, Democratic Republic of the\"]],\"hovertemplate\":\"Reference area=%{customdata[0]}<br>Time=%{x}<br>Value=%{y}<extra></extra>\",\"legendgroup\":\"Congo, Democratic Republic of the\",\"marker\":{\"color\":\"#00cc96\",\"pattern\":{\"shape\":\"\"}},\"name\":\"Congo, Democratic Republic of the\",\"offsetgroup\":\"Congo, Democratic Republic of the\",\"orientation\":\"v\",\"showlegend\":true,\"textposition\":\"auto\",\"x\":[2020,2021],\"xaxis\":\"x\",\"y\":[6.5,4.9],\"yaxis\":\"y\",\"type\":\"bar\"},{\"alignmentgroup\":\"True\",\"customdata\":[[\"Costa Rica\"],[\"Costa Rica\"]],\"hovertemplate\":\"Reference area=%{customdata[0]}<br>Time=%{x}<br>Value=%{y}<extra></extra>\",\"legendgroup\":\"Costa Rica\",\"marker\":{\"color\":\"#ab63fa\",\"pattern\":{\"shape\":\"\"}},\"name\":\"Costa Rica\",\"offsetgroup\":\"Costa Rica\",\"orientation\":\"v\",\"showlegend\":true,\"textposition\":\"auto\",\"x\":[2020,2021],\"xaxis\":\"x\",\"y\":[18.7,11.6],\"yaxis\":\"y\",\"type\":\"bar\"},{\"alignmentgroup\":\"True\",\"customdata\":[[\"Croatia\"],[\"Croatia\"]],\"hovertemplate\":\"Reference area=%{customdata[0]}<br>Time=%{x}<br>Value=%{y}<extra></extra>\",\"legendgroup\":\"Croatia\",\"marker\":{\"color\":\"#FFA15A\",\"pattern\":{\"shape\":\"\"}},\"name\":\"Croatia\",\"offsetgroup\":\"Croatia\",\"orientation\":\"v\",\"showlegend\":true,\"textposition\":\"auto\",\"x\":[2020,2021],\"xaxis\":\"x\",\"y\":[6.1,-0.1],\"yaxis\":\"y\",\"type\":\"bar\"},{\"alignmentgroup\":\"True\",\"customdata\":[[\"Cuba\"],[\"Cuba\"]],\"hovertemplate\":\"Reference area=%{customdata[0]}<br>Time=%{x}<br>Value=%{y}<extra></extra>\",\"legendgroup\":\"Cuba\",\"marker\":{\"color\":\"#19d3f3\",\"pattern\":{\"shape\":\"\"}},\"name\":\"Cuba\",\"offsetgroup\":\"Cuba\",\"orientation\":\"v\",\"showlegend\":true,\"textposition\":\"auto\",\"x\":[2020,2021],\"xaxis\":\"x\",\"y\":[10.9,5.0],\"yaxis\":\"y\",\"type\":\"bar\"},{\"alignmentgroup\":\"True\",\"customdata\":[[\"Cyprus\"],[\"Cyprus\"]],\"hovertemplate\":\"Reference area=%{customdata[0]}<br>Time=%{x}<br>Value=%{y}<extra></extra>\",\"legendgroup\":\"Cyprus\",\"marker\":{\"color\":\"#FF6692\",\"pattern\":{\"shape\":\"\"}},\"name\":\"Cyprus\",\"offsetgroup\":\"Cyprus\",\"orientation\":\"v\",\"showlegend\":true,\"textposition\":\"auto\",\"x\":[2020,2021],\"xaxis\":\"x\",\"y\":[11.1,1.1],\"yaxis\":\"y\",\"type\":\"bar\"},{\"alignmentgroup\":\"True\",\"customdata\":[[\"Czechia\"],[\"Czechia\"]],\"hovertemplate\":\"Reference area=%{customdata[0]}<br>Time=%{x}<br>Value=%{y}<extra></extra>\",\"legendgroup\":\"Czechia\",\"marker\":{\"color\":\"#B6E880\",\"pattern\":{\"shape\":\"\"}},\"name\":\"Czechia\",\"offsetgroup\":\"Czechia\",\"orientation\":\"v\",\"showlegend\":true,\"textposition\":\"auto\",\"x\":[2020,2021],\"xaxis\":\"x\",\"y\":[6.3,1.7],\"yaxis\":\"y\",\"type\":\"bar\"},{\"alignmentgroup\":\"True\",\"customdata\":[[\"C\\u00f4te d'Ivoire\"],[\"C\\u00f4te d'Ivoire\"]],\"hovertemplate\":\"Reference area=%{customdata[0]}<br>Time=%{x}<br>Value=%{y}<extra></extra>\",\"legendgroup\":\"C\\u00f4te d'Ivoire\",\"marker\":{\"color\":\"#FF97FF\",\"pattern\":{\"shape\":\"\"}},\"name\":\"C\\u00f4te d'Ivoire\",\"offsetgroup\":\"C\\u00f4te d'Ivoire\",\"orientation\":\"v\",\"showlegend\":true,\"textposition\":\"auto\",\"x\":[2020,2021],\"xaxis\":\"x\",\"y\":[4.9,1.7],\"yaxis\":\"y\",\"type\":\"bar\"},{\"alignmentgroup\":\"True\",\"customdata\":[[\"Denmark\"],[\"Denmark\"]],\"hovertemplate\":\"Reference area=%{customdata[0]}<br>Time=%{x}<br>Value=%{y}<extra></extra>\",\"legendgroup\":\"Denmark\",\"marker\":{\"color\":\"#FECB52\",\"pattern\":{\"shape\":\"\"}},\"name\":\"Denmark\",\"offsetgroup\":\"Denmark\",\"orientation\":\"v\",\"showlegend\":true,\"textposition\":\"auto\",\"x\":[2020,2021],\"xaxis\":\"x\",\"y\":[5.3,0.5],\"yaxis\":\"y\",\"type\":\"bar\"},{\"alignmentgroup\":\"True\",\"customdata\":[[\"Djibouti\"],[\"Djibouti\"]],\"hovertemplate\":\"Reference area=%{customdata[0]}<br>Time=%{x}<br>Value=%{y}<extra></extra>\",\"legendgroup\":\"Djibouti\",\"marker\":{\"color\":\"#636efa\",\"pattern\":{\"shape\":\"\"}},\"name\":\"Djibouti\",\"offsetgroup\":\"Djibouti\",\"orientation\":\"v\",\"showlegend\":true,\"textposition\":\"auto\",\"x\":[2020,2021],\"xaxis\":\"x\",\"y\":[6.9,6.3],\"yaxis\":\"y\",\"type\":\"bar\"},{\"alignmentgroup\":\"True\",\"customdata\":[[\"Dominican Republic\"],[\"Dominican Republic\"]],\"hovertemplate\":\"Reference area=%{customdata[0]}<br>Time=%{x}<br>Value=%{y}<extra></extra>\",\"legendgroup\":\"Dominican Republic\",\"marker\":{\"color\":\"#EF553B\",\"pattern\":{\"shape\":\"\"}},\"name\":\"Dominican Republic\",\"offsetgroup\":\"Dominican Republic\",\"orientation\":\"v\",\"showlegend\":true,\"textposition\":\"auto\",\"x\":[2020,2021],\"xaxis\":\"x\",\"y\":[14.7,7.8],\"yaxis\":\"y\",\"type\":\"bar\"},{\"alignmentgroup\":\"True\",\"customdata\":[[\"Ecuador\"],[\"Ecuador\"]],\"hovertemplate\":\"Reference area=%{customdata[0]}<br>Time=%{x}<br>Value=%{y}<extra></extra>\",\"legendgroup\":\"Ecuador\",\"marker\":{\"color\":\"#00cc96\",\"pattern\":{\"shape\":\"\"}},\"name\":\"Ecuador\",\"offsetgroup\":\"Ecuador\",\"orientation\":\"v\",\"showlegend\":true,\"textposition\":\"auto\",\"x\":[2020,2021],\"xaxis\":\"x\",\"y\":[17.6,4.0],\"yaxis\":\"y\",\"type\":\"bar\"},{\"alignmentgroup\":\"True\",\"customdata\":[[\"Egypt\"],[\"Egypt\"]],\"hovertemplate\":\"Reference area=%{customdata[0]}<br>Time=%{x}<br>Value=%{y}<extra></extra>\",\"legendgroup\":\"Egypt\",\"marker\":{\"color\":\"#ab63fa\",\"pattern\":{\"shape\":\"\"}},\"name\":\"Egypt\",\"offsetgroup\":\"Egypt\",\"orientation\":\"v\",\"showlegend\":true,\"textposition\":\"auto\",\"x\":[2020,2021],\"xaxis\":\"x\",\"y\":[9.4,5.9],\"yaxis\":\"y\",\"type\":\"bar\"},{\"alignmentgroup\":\"True\",\"customdata\":[[\"El Salvador\"],[\"El Salvador\"]],\"hovertemplate\":\"Reference area=%{customdata[0]}<br>Time=%{x}<br>Value=%{y}<extra></extra>\",\"legendgroup\":\"El Salvador\",\"marker\":{\"color\":\"#FFA15A\",\"pattern\":{\"shape\":\"\"}},\"name\":\"El Salvador\",\"offsetgroup\":\"El Salvador\",\"orientation\":\"v\",\"showlegend\":true,\"textposition\":\"auto\",\"x\":[2020,2021],\"xaxis\":\"x\",\"y\":[18.8,4.1],\"yaxis\":\"y\",\"type\":\"bar\"},{\"alignmentgroup\":\"True\",\"customdata\":[[\"Equatorial Guinea\"],[\"Equatorial Guinea\"]],\"hovertemplate\":\"Reference area=%{customdata[0]}<br>Time=%{x}<br>Value=%{y}<extra></extra>\",\"legendgroup\":\"Equatorial Guinea\",\"marker\":{\"color\":\"#19d3f3\",\"pattern\":{\"shape\":\"\"}},\"name\":\"Equatorial Guinea\",\"offsetgroup\":\"Equatorial Guinea\",\"orientation\":\"v\",\"showlegend\":true,\"textposition\":\"auto\",\"x\":[2020,2021],\"xaxis\":\"x\",\"y\":[9.0,4.5],\"yaxis\":\"y\",\"type\":\"bar\"},{\"alignmentgroup\":\"True\",\"customdata\":[[\"Eritrea\"],[\"Eritrea\"]],\"hovertemplate\":\"Reference area=%{customdata[0]}<br>Time=%{x}<br>Value=%{y}<extra></extra>\",\"legendgroup\":\"Eritrea\",\"marker\":{\"color\":\"#FF6692\",\"pattern\":{\"shape\":\"\"}},\"name\":\"Eritrea\",\"offsetgroup\":\"Eritrea\",\"orientation\":\"v\",\"showlegend\":true,\"textposition\":\"auto\",\"x\":[2020,2021],\"xaxis\":\"x\",\"y\":[12.3,8.0],\"yaxis\":\"y\",\"type\":\"bar\"},{\"alignmentgroup\":\"True\",\"customdata\":[[\"Estonia\"],[\"Estonia\"]],\"hovertemplate\":\"Reference area=%{customdata[0]}<br>Time=%{x}<br>Value=%{y}<extra></extra>\",\"legendgroup\":\"Estonia\",\"marker\":{\"color\":\"#B6E880\",\"pattern\":{\"shape\":\"\"}},\"name\":\"Estonia\",\"offsetgroup\":\"Estonia\",\"orientation\":\"v\",\"showlegend\":true,\"textposition\":\"auto\",\"x\":[2020,2021],\"xaxis\":\"x\",\"y\":[5.7,7.1],\"yaxis\":\"y\",\"type\":\"bar\"},{\"alignmentgroup\":\"True\",\"customdata\":[[\"Eswatini\"],[\"Eswatini\"]],\"hovertemplate\":\"Reference area=%{customdata[0]}<br>Time=%{x}<br>Value=%{y}<extra></extra>\",\"legendgroup\":\"Eswatini\",\"marker\":{\"color\":\"#FF97FF\",\"pattern\":{\"shape\":\"\"}},\"name\":\"Eswatini\",\"offsetgroup\":\"Eswatini\",\"orientation\":\"v\",\"showlegend\":true,\"textposition\":\"auto\",\"x\":[2020,2021],\"xaxis\":\"x\",\"y\":[9.7,7.7],\"yaxis\":\"y\",\"type\":\"bar\"},{\"alignmentgroup\":\"True\",\"customdata\":[[\"Ethiopia\"],[\"Ethiopia\"]],\"hovertemplate\":\"Reference area=%{customdata[0]}<br>Time=%{x}<br>Value=%{y}<extra></extra>\",\"legendgroup\":\"Ethiopia\",\"marker\":{\"color\":\"#FECB52\",\"pattern\":{\"shape\":\"\"}},\"name\":\"Ethiopia\",\"offsetgroup\":\"Ethiopia\",\"orientation\":\"v\",\"showlegend\":true,\"textposition\":\"auto\",\"x\":[2020,2021],\"xaxis\":\"x\",\"y\":[8.5,5.6],\"yaxis\":\"y\",\"type\":\"bar\"},{\"alignmentgroup\":\"True\",\"customdata\":[[\"Fiji\"],[\"Fiji\"]],\"hovertemplate\":\"Reference area=%{customdata[0]}<br>Time=%{x}<br>Value=%{y}<extra></extra>\",\"legendgroup\":\"Fiji\",\"marker\":{\"color\":\"#636efa\",\"pattern\":{\"shape\":\"\"}},\"name\":\"Fiji\",\"offsetgroup\":\"Fiji\",\"orientation\":\"v\",\"showlegend\":true,\"textposition\":\"auto\",\"x\":[2020,2021],\"xaxis\":\"x\",\"y\":[6.6,7.7],\"yaxis\":\"y\",\"type\":\"bar\"},{\"alignmentgroup\":\"True\",\"customdata\":[[\"Finland\"],[\"Finland\"]],\"hovertemplate\":\"Reference area=%{customdata[0]}<br>Time=%{x}<br>Value=%{y}<extra></extra>\",\"legendgroup\":\"Finland\",\"marker\":{\"color\":\"#EF553B\",\"pattern\":{\"shape\":\"\"}},\"name\":\"Finland\",\"offsetgroup\":\"Finland\",\"orientation\":\"v\",\"showlegend\":true,\"textposition\":\"auto\",\"x\":[2020,2021],\"xaxis\":\"x\",\"y\":[2.4,0.7],\"yaxis\":\"y\",\"type\":\"bar\"},{\"alignmentgroup\":\"True\",\"customdata\":[[\"France\"],[\"France\"]],\"hovertemplate\":\"Reference area=%{customdata[0]}<br>Time=%{x}<br>Value=%{y}<extra></extra>\",\"legendgroup\":\"France\",\"marker\":{\"color\":\"#00cc96\",\"pattern\":{\"shape\":\"\"}},\"name\":\"France\",\"offsetgroup\":\"France\",\"orientation\":\"v\",\"showlegend\":true,\"textposition\":\"auto\",\"x\":[2020,2021],\"xaxis\":\"x\",\"y\":[7.2,0.7],\"yaxis\":\"y\",\"type\":\"bar\"},{\"alignmentgroup\":\"True\",\"customdata\":[[\"French Polynesia\"],[\"French Polynesia\"]],\"hovertemplate\":\"Reference area=%{customdata[0]}<br>Time=%{x}<br>Value=%{y}<extra></extra>\",\"legendgroup\":\"French Polynesia\",\"marker\":{\"color\":\"#ab63fa\",\"pattern\":{\"shape\":\"\"}},\"name\":\"French Polynesia\",\"offsetgroup\":\"French Polynesia\",\"orientation\":\"v\",\"showlegend\":true,\"textposition\":\"auto\",\"x\":[2020,2021],\"xaxis\":\"x\",\"y\":[5.2,5.2],\"yaxis\":\"y\",\"type\":\"bar\"},{\"alignmentgroup\":\"True\",\"customdata\":[[\"Gabon\"],[\"Gabon\"]],\"hovertemplate\":\"Reference area=%{customdata[0]}<br>Time=%{x}<br>Value=%{y}<extra></extra>\",\"legendgroup\":\"Gabon\",\"marker\":{\"color\":\"#FFA15A\",\"pattern\":{\"shape\":\"\"}},\"name\":\"Gabon\",\"offsetgroup\":\"Gabon\",\"orientation\":\"v\",\"showlegend\":true,\"textposition\":\"auto\",\"x\":[2020,2021],\"xaxis\":\"x\",\"y\":[8.9,7.5],\"yaxis\":\"y\",\"type\":\"bar\"},{\"alignmentgroup\":\"True\",\"customdata\":[[\"Gambia\"],[\"Gambia\"]],\"hovertemplate\":\"Reference area=%{customdata[0]}<br>Time=%{x}<br>Value=%{y}<extra></extra>\",\"legendgroup\":\"Gambia\",\"marker\":{\"color\":\"#19d3f3\",\"pattern\":{\"shape\":\"\"}},\"name\":\"Gambia\",\"offsetgroup\":\"Gambia\",\"orientation\":\"v\",\"showlegend\":true,\"textposition\":\"auto\",\"x\":[2020,2021],\"xaxis\":\"x\",\"y\":[7.4,4.1],\"yaxis\":\"y\",\"type\":\"bar\"},{\"alignmentgroup\":\"True\",\"customdata\":[[\"Georgia\"],[\"Georgia\"]],\"hovertemplate\":\"Reference area=%{customdata[0]}<br>Time=%{x}<br>Value=%{y}<extra></extra>\",\"legendgroup\":\"Georgia\",\"marker\":{\"color\":\"#FF6692\",\"pattern\":{\"shape\":\"\"}},\"name\":\"Georgia\",\"offsetgroup\":\"Georgia\",\"orientation\":\"v\",\"showlegend\":true,\"textposition\":\"auto\",\"x\":[2020,2021],\"xaxis\":\"x\",\"y\":[13.5,2.5],\"yaxis\":\"y\",\"type\":\"bar\"},{\"alignmentgroup\":\"True\",\"customdata\":[[\"Germany\"],[\"Germany\"]],\"hovertemplate\":\"Reference area=%{customdata[0]}<br>Time=%{x}<br>Value=%{y}<extra></extra>\",\"legendgroup\":\"Germany\",\"marker\":{\"color\":\"#B6E880\",\"pattern\":{\"shape\":\"\"}},\"name\":\"Germany\",\"offsetgroup\":\"Germany\",\"orientation\":\"v\",\"showlegend\":true,\"textposition\":\"auto\",\"x\":[2020,2021],\"xaxis\":\"x\",\"y\":[5.5,4.6],\"yaxis\":\"y\",\"type\":\"bar\"},{\"alignmentgroup\":\"True\",\"customdata\":[[\"Ghana\"],[\"Ghana\"]],\"hovertemplate\":\"Reference area=%{customdata[0]}<br>Time=%{x}<br>Value=%{y}<extra></extra>\",\"legendgroup\":\"Ghana\",\"marker\":{\"color\":\"#FF97FF\",\"pattern\":{\"shape\":\"\"}},\"name\":\"Ghana\",\"offsetgroup\":\"Ghana\",\"orientation\":\"v\",\"showlegend\":true,\"textposition\":\"auto\",\"x\":[2020,2021],\"xaxis\":\"x\",\"y\":[5.3,4.7],\"yaxis\":\"y\",\"type\":\"bar\"},{\"alignmentgroup\":\"True\",\"customdata\":[[\"Greece\"],[\"Greece\"]],\"hovertemplate\":\"Reference area=%{customdata[0]}<br>Time=%{x}<br>Value=%{y}<extra></extra>\",\"legendgroup\":\"Greece\",\"marker\":{\"color\":\"#FECB52\",\"pattern\":{\"shape\":\"\"}},\"name\":\"Greece\",\"offsetgroup\":\"Greece\",\"orientation\":\"v\",\"showlegend\":true,\"textposition\":\"auto\",\"x\":[2020,2021],\"xaxis\":\"x\",\"y\":[11.8,8.2],\"yaxis\":\"y\",\"type\":\"bar\"},{\"alignmentgroup\":\"True\",\"customdata\":[[\"Guam\"],[\"Guam\"]],\"hovertemplate\":\"Reference area=%{customdata[0]}<br>Time=%{x}<br>Value=%{y}<extra></extra>\",\"legendgroup\":\"Guam\",\"marker\":{\"color\":\"#636efa\",\"pattern\":{\"shape\":\"\"}},\"name\":\"Guam\",\"offsetgroup\":\"Guam\",\"orientation\":\"v\",\"showlegend\":true,\"textposition\":\"auto\",\"x\":[2020,2021],\"xaxis\":\"x\",\"y\":[8.8,3.2],\"yaxis\":\"y\",\"type\":\"bar\"},{\"alignmentgroup\":\"True\",\"customdata\":[[\"Guatemala\"],[\"Guatemala\"]],\"hovertemplate\":\"Reference area=%{customdata[0]}<br>Time=%{x}<br>Value=%{y}<extra></extra>\",\"legendgroup\":\"Guatemala\",\"marker\":{\"color\":\"#EF553B\",\"pattern\":{\"shape\":\"\"}},\"name\":\"Guatemala\",\"offsetgroup\":\"Guatemala\",\"orientation\":\"v\",\"showlegend\":true,\"textposition\":\"auto\",\"x\":[2020,2021],\"xaxis\":\"x\",\"y\":[16.0,6.8],\"yaxis\":\"y\",\"type\":\"bar\"},{\"alignmentgroup\":\"True\",\"customdata\":[[\"Guinea\"],[\"Guinea\"]],\"hovertemplate\":\"Reference area=%{customdata[0]}<br>Time=%{x}<br>Value=%{y}<extra></extra>\",\"legendgroup\":\"Guinea\",\"marker\":{\"color\":\"#00cc96\",\"pattern\":{\"shape\":\"\"}},\"name\":\"Guinea\",\"offsetgroup\":\"Guinea\",\"orientation\":\"v\",\"showlegend\":true,\"textposition\":\"auto\",\"x\":[2020,2021],\"xaxis\":\"x\",\"y\":[7.5,7.4],\"yaxis\":\"y\",\"type\":\"bar\"},{\"alignmentgroup\":\"True\",\"customdata\":[[\"Guinea-Bissau\"],[\"Guinea-Bissau\"]],\"hovertemplate\":\"Reference area=%{customdata[0]}<br>Time=%{x}<br>Value=%{y}<extra></extra>\",\"legendgroup\":\"Guinea-Bissau\",\"marker\":{\"color\":\"#ab63fa\",\"pattern\":{\"shape\":\"\"}},\"name\":\"Guinea-Bissau\",\"offsetgroup\":\"Guinea-Bissau\",\"orientation\":\"v\",\"showlegend\":true,\"textposition\":\"auto\",\"x\":[2020,2021],\"xaxis\":\"x\",\"y\":[9.0,4.6],\"yaxis\":\"y\",\"type\":\"bar\"},{\"alignmentgroup\":\"True\",\"customdata\":[[\"Guyana\"],[\"Guyana\"]],\"hovertemplate\":\"Reference area=%{customdata[0]}<br>Time=%{x}<br>Value=%{y}<extra></extra>\",\"legendgroup\":\"Guyana\",\"marker\":{\"color\":\"#FFA15A\",\"pattern\":{\"shape\":\"\"}},\"name\":\"Guyana\",\"offsetgroup\":\"Guyana\",\"orientation\":\"v\",\"showlegend\":true,\"textposition\":\"auto\",\"x\":[2020,2021],\"xaxis\":\"x\",\"y\":[10.5,7.5],\"yaxis\":\"y\",\"type\":\"bar\"},{\"alignmentgroup\":\"True\",\"customdata\":[[\"Haiti\"],[\"Haiti\"]],\"hovertemplate\":\"Reference area=%{customdata[0]}<br>Time=%{x}<br>Value=%{y}<extra></extra>\",\"legendgroup\":\"Haiti\",\"marker\":{\"color\":\"#19d3f3\",\"pattern\":{\"shape\":\"\"}},\"name\":\"Haiti\",\"offsetgroup\":\"Haiti\",\"orientation\":\"v\",\"showlegend\":true,\"textposition\":\"auto\",\"x\":[2020,2021],\"xaxis\":\"x\",\"y\":[7.8,6.3],\"yaxis\":\"y\",\"type\":\"bar\"},{\"alignmentgroup\":\"True\",\"customdata\":[[\"Honduras\"],[\"Honduras\"]],\"hovertemplate\":\"Reference area=%{customdata[0]}<br>Time=%{x}<br>Value=%{y}<extra></extra>\",\"legendgroup\":\"Honduras\",\"marker\":{\"color\":\"#FF6692\",\"pattern\":{\"shape\":\"\"}},\"name\":\"Honduras\",\"offsetgroup\":\"Honduras\",\"orientation\":\"v\",\"showlegend\":true,\"textposition\":\"auto\",\"x\":[2020,2021],\"xaxis\":\"x\",\"y\":[21.2,8.1],\"yaxis\":\"y\",\"type\":\"bar\"},{\"alignmentgroup\":\"True\",\"customdata\":[[\"Hong Kong, China\"],[\"Hong Kong, China\"]],\"hovertemplate\":\"Reference area=%{customdata[0]}<br>Time=%{x}<br>Value=%{y}<extra></extra>\",\"legendgroup\":\"Hong Kong, China\",\"marker\":{\"color\":\"#B6E880\",\"pattern\":{\"shape\":\"\"}},\"name\":\"Hong Kong, China\",\"offsetgroup\":\"Hong Kong, China\",\"orientation\":\"v\",\"showlegend\":true,\"textposition\":\"auto\",\"x\":[2020,2021],\"xaxis\":\"x\",\"y\":[6.7,8.2],\"yaxis\":\"y\",\"type\":\"bar\"},{\"alignmentgroup\":\"True\",\"customdata\":[[\"Hungary\"],[\"Hungary\"]],\"hovertemplate\":\"Reference area=%{customdata[0]}<br>Time=%{x}<br>Value=%{y}<extra></extra>\",\"legendgroup\":\"Hungary\",\"marker\":{\"color\":\"#FF97FF\",\"pattern\":{\"shape\":\"\"}},\"name\":\"Hungary\",\"offsetgroup\":\"Hungary\",\"orientation\":\"v\",\"showlegend\":true,\"textposition\":\"auto\",\"x\":[2020,2021],\"xaxis\":\"x\",\"y\":[5.2,0.8],\"yaxis\":\"y\",\"type\":\"bar\"},{\"alignmentgroup\":\"True\",\"customdata\":[[\"Iceland\"],[\"Iceland\"]],\"hovertemplate\":\"Reference area=%{customdata[0]}<br>Time=%{x}<br>Value=%{y}<extra></extra>\",\"legendgroup\":\"Iceland\",\"marker\":{\"color\":\"#FECB52\",\"pattern\":{\"shape\":\"\"}},\"name\":\"Iceland\",\"offsetgroup\":\"Iceland\",\"orientation\":\"v\",\"showlegend\":true,\"textposition\":\"auto\",\"x\":[2020,2021],\"xaxis\":\"x\",\"y\":[6.7,9.4],\"yaxis\":\"y\",\"type\":\"bar\"},{\"alignmentgroup\":\"True\",\"customdata\":[[\"India\"],[\"India\"]],\"hovertemplate\":\"Reference area=%{customdata[0]}<br>Time=%{x}<br>Value=%{y}<extra></extra>\",\"legendgroup\":\"India\",\"marker\":{\"color\":\"#636efa\",\"pattern\":{\"shape\":\"\"}},\"name\":\"India\",\"offsetgroup\":\"India\",\"orientation\":\"v\",\"showlegend\":true,\"textposition\":\"auto\",\"x\":[2020,2021],\"xaxis\":\"x\",\"y\":[14.5,7.2],\"yaxis\":\"y\",\"type\":\"bar\"},{\"alignmentgroup\":\"True\",\"customdata\":[[\"Indonesia\"],[\"Indonesia\"]],\"hovertemplate\":\"Reference area=%{customdata[0]}<br>Time=%{x}<br>Value=%{y}<extra></extra>\",\"legendgroup\":\"Indonesia\",\"marker\":{\"color\":\"#EF553B\",\"pattern\":{\"shape\":\"\"}},\"name\":\"Indonesia\",\"offsetgroup\":\"Indonesia\",\"orientation\":\"v\",\"showlegend\":true,\"textposition\":\"auto\",\"x\":[2020,2021],\"xaxis\":\"x\",\"y\":[6.9,7.0],\"yaxis\":\"y\",\"type\":\"bar\"},{\"alignmentgroup\":\"True\",\"customdata\":[[\"Iran, Islamic Republic of\"],[\"Iran, Islamic Republic of\"]],\"hovertemplate\":\"Reference area=%{customdata[0]}<br>Time=%{x}<br>Value=%{y}<extra></extra>\",\"legendgroup\":\"Iran, Islamic Republic of\",\"marker\":{\"color\":\"#00cc96\",\"pattern\":{\"shape\":\"\"}},\"name\":\"Iran, Islamic Republic of\",\"offsetgroup\":\"Iran, Islamic Republic of\",\"orientation\":\"v\",\"showlegend\":true,\"textposition\":\"auto\",\"x\":[2020,2021],\"xaxis\":\"x\",\"y\":[5.2,8.3],\"yaxis\":\"y\",\"type\":\"bar\"},{\"alignmentgroup\":\"True\",\"customdata\":[[\"Iraq\"],[\"Iraq\"]],\"hovertemplate\":\"Reference area=%{customdata[0]}<br>Time=%{x}<br>Value=%{y}<extra></extra>\",\"legendgroup\":\"Iraq\",\"marker\":{\"color\":\"#ab63fa\",\"pattern\":{\"shape\":\"\"}},\"name\":\"Iraq\",\"offsetgroup\":\"Iraq\",\"orientation\":\"v\",\"showlegend\":true,\"textposition\":\"auto\",\"x\":[2020,2021],\"xaxis\":\"x\",\"y\":[11.2,7.1],\"yaxis\":\"y\",\"type\":\"bar\"},{\"alignmentgroup\":\"True\",\"customdata\":[[\"Ireland\"],[\"Ireland\"]],\"hovertemplate\":\"Reference area=%{customdata[0]}<br>Time=%{x}<br>Value=%{y}<extra></extra>\",\"legendgroup\":\"Ireland\",\"marker\":{\"color\":\"#FFA15A\",\"pattern\":{\"shape\":\"\"}},\"name\":\"Ireland\",\"offsetgroup\":\"Ireland\",\"orientation\":\"v\",\"showlegend\":true,\"textposition\":\"auto\",\"x\":[2020,2021],\"xaxis\":\"x\",\"y\":[9.8,6.7],\"yaxis\":\"y\",\"type\":\"bar\"},{\"alignmentgroup\":\"True\",\"customdata\":[[\"Israel\"],[\"Israel\"]],\"hovertemplate\":\"Reference area=%{customdata[0]}<br>Time=%{x}<br>Value=%{y}<extra></extra>\",\"legendgroup\":\"Israel\",\"marker\":{\"color\":\"#19d3f3\",\"pattern\":{\"shape\":\"\"}},\"name\":\"Israel\",\"offsetgroup\":\"Israel\",\"orientation\":\"v\",\"showlegend\":true,\"textposition\":\"auto\",\"x\":[2020,2021],\"xaxis\":\"x\",\"y\":[7.7,2.0],\"yaxis\":\"y\",\"type\":\"bar\"},{\"alignmentgroup\":\"True\",\"customdata\":[[\"Italy\"],[\"Italy\"]],\"hovertemplate\":\"Reference area=%{customdata[0]}<br>Time=%{x}<br>Value=%{y}<extra></extra>\",\"legendgroup\":\"Italy\",\"marker\":{\"color\":\"#FF6692\",\"pattern\":{\"shape\":\"\"}},\"name\":\"Italy\",\"offsetgroup\":\"Italy\",\"orientation\":\"v\",\"showlegend\":true,\"textposition\":\"auto\",\"x\":[2020,2021],\"xaxis\":\"x\",\"y\":[12.9,4.6],\"yaxis\":\"y\",\"type\":\"bar\"},{\"alignmentgroup\":\"True\",\"customdata\":[[\"Jamaica\"],[\"Jamaica\"]],\"hovertemplate\":\"Reference area=%{customdata[0]}<br>Time=%{x}<br>Value=%{y}<extra></extra>\",\"legendgroup\":\"Jamaica\",\"marker\":{\"color\":\"#B6E880\",\"pattern\":{\"shape\":\"\"}},\"name\":\"Jamaica\",\"offsetgroup\":\"Jamaica\",\"orientation\":\"v\",\"showlegend\":true,\"textposition\":\"auto\",\"x\":[2020,2021],\"xaxis\":\"x\",\"y\":[10.9,8.3],\"yaxis\":\"y\",\"type\":\"bar\"},{\"alignmentgroup\":\"True\",\"customdata\":[[\"Japan\"],[\"Japan\"]],\"hovertemplate\":\"Reference area=%{customdata[0]}<br>Time=%{x}<br>Value=%{y}<extra></extra>\",\"legendgroup\":\"Japan\",\"marker\":{\"color\":\"#FF97FF\",\"pattern\":{\"shape\":\"\"}},\"name\":\"Japan\",\"offsetgroup\":\"Japan\",\"orientation\":\"v\",\"showlegend\":true,\"textposition\":\"auto\",\"x\":[2020,2021],\"xaxis\":\"x\",\"y\":[5.1,5.3],\"yaxis\":\"y\",\"type\":\"bar\"},{\"alignmentgroup\":\"True\",\"customdata\":[[\"Jordan\"],[\"Jordan\"]],\"hovertemplate\":\"Reference area=%{customdata[0]}<br>Time=%{x}<br>Value=%{y}<extra></extra>\",\"legendgroup\":\"Jordan\",\"marker\":{\"color\":\"#FECB52\",\"pattern\":{\"shape\":\"\"}},\"name\":\"Jordan\",\"offsetgroup\":\"Jordan\",\"orientation\":\"v\",\"showlegend\":true,\"textposition\":\"auto\",\"x\":[2020,2021],\"xaxis\":\"x\",\"y\":[9.9,6.9],\"yaxis\":\"y\",\"type\":\"bar\"},{\"alignmentgroup\":\"True\",\"customdata\":[[\"Kazakhstan\"],[\"Kazakhstan\"]],\"hovertemplate\":\"Reference area=%{customdata[0]}<br>Time=%{x}<br>Value=%{y}<extra></extra>\",\"legendgroup\":\"Kazakhstan\",\"marker\":{\"color\":\"#636efa\",\"pattern\":{\"shape\":\"\"}},\"name\":\"Kazakhstan\",\"offsetgroup\":\"Kazakhstan\",\"orientation\":\"v\",\"showlegend\":true,\"textposition\":\"auto\",\"x\":[2020,2021],\"xaxis\":\"x\",\"y\":[11.1,4.5],\"yaxis\":\"y\",\"type\":\"bar\"},{\"alignmentgroup\":\"True\",\"customdata\":[[\"Kenya\"],[\"Kenya\"]],\"hovertemplate\":\"Reference area=%{customdata[0]}<br>Time=%{x}<br>Value=%{y}<extra></extra>\",\"legendgroup\":\"Kenya\",\"marker\":{\"color\":\"#EF553B\",\"pattern\":{\"shape\":\"\"}},\"name\":\"Kenya\",\"offsetgroup\":\"Kenya\",\"orientation\":\"v\",\"showlegend\":true,\"textposition\":\"auto\",\"x\":[2020,2021],\"xaxis\":\"x\",\"y\":[9.4,6.3],\"yaxis\":\"y\",\"type\":\"bar\"},{\"alignmentgroup\":\"True\",\"customdata\":[[\"Korea, Democratic People's Republic of\"],[\"Korea, Democratic People's Republic of\"]],\"hovertemplate\":\"Reference area=%{customdata[0]}<br>Time=%{x}<br>Value=%{y}<extra></extra>\",\"legendgroup\":\"Korea, Democratic People's Republic of\",\"marker\":{\"color\":\"#00cc96\",\"pattern\":{\"shape\":\"\"}},\"name\":\"Korea, Democratic People's Republic of\",\"offsetgroup\":\"Korea, Democratic People's Republic of\",\"orientation\":\"v\",\"showlegend\":true,\"textposition\":\"auto\",\"x\":[2020,2021],\"xaxis\":\"x\",\"y\":[5.8,5.4],\"yaxis\":\"y\",\"type\":\"bar\"},{\"alignmentgroup\":\"True\",\"customdata\":[[\"Korea, Republic of\"],[\"Korea, Republic of\"]],\"hovertemplate\":\"Reference area=%{customdata[0]}<br>Time=%{x}<br>Value=%{y}<extra></extra>\",\"legendgroup\":\"Korea, Republic of\",\"marker\":{\"color\":\"#ab63fa\",\"pattern\":{\"shape\":\"\"}},\"name\":\"Korea, Republic of\",\"offsetgroup\":\"Korea, Republic of\",\"orientation\":\"v\",\"showlegend\":true,\"textposition\":\"auto\",\"x\":[2020,2021],\"xaxis\":\"x\",\"y\":[4.2,2.4],\"yaxis\":\"y\",\"type\":\"bar\"},{\"alignmentgroup\":\"True\",\"customdata\":[[\"Kuwait\"],[\"Kuwait\"]],\"hovertemplate\":\"Reference area=%{customdata[0]}<br>Time=%{x}<br>Value=%{y}<extra></extra>\",\"legendgroup\":\"Kuwait\",\"marker\":{\"color\":\"#FFA15A\",\"pattern\":{\"shape\":\"\"}},\"name\":\"Kuwait\",\"offsetgroup\":\"Kuwait\",\"orientation\":\"v\",\"showlegend\":true,\"textposition\":\"auto\",\"x\":[2020,2021],\"xaxis\":\"x\",\"y\":[15.8,8.0],\"yaxis\":\"y\",\"type\":\"bar\"},{\"alignmentgroup\":\"True\",\"customdata\":[[\"Kyrgyzstan\"],[\"Kyrgyzstan\"]],\"hovertemplate\":\"Reference area=%{customdata[0]}<br>Time=%{x}<br>Value=%{y}<extra></extra>\",\"legendgroup\":\"Kyrgyzstan\",\"marker\":{\"color\":\"#19d3f3\",\"pattern\":{\"shape\":\"\"}},\"name\":\"Kyrgyzstan\",\"offsetgroup\":\"Kyrgyzstan\",\"orientation\":\"v\",\"showlegend\":true,\"textposition\":\"auto\",\"x\":[2020,2021],\"xaxis\":\"x\",\"y\":[11.4,7.6],\"yaxis\":\"y\",\"type\":\"bar\"},{\"alignmentgroup\":\"True\",\"customdata\":[[\"Lao People's Democratic Republic\"],[\"Lao People's Democratic Republic\"]],\"hovertemplate\":\"Reference area=%{customdata[0]}<br>Time=%{x}<br>Value=%{y}<extra></extra>\",\"legendgroup\":\"Lao People's Democratic Republic\",\"marker\":{\"color\":\"#FF6692\",\"pattern\":{\"shape\":\"\"}},\"name\":\"Lao People's Democratic Republic\",\"offsetgroup\":\"Lao People's Democratic Republic\",\"orientation\":\"v\",\"showlegend\":true,\"textposition\":\"auto\",\"x\":[2020,2021],\"xaxis\":\"x\",\"y\":[4.9,6.7],\"yaxis\":\"y\",\"type\":\"bar\"},{\"alignmentgroup\":\"True\",\"customdata\":[[\"Latvia\"],[\"Latvia\"]],\"hovertemplate\":\"Reference area=%{customdata[0]}<br>Time=%{x}<br>Value=%{y}<extra></extra>\",\"legendgroup\":\"Latvia\",\"marker\":{\"color\":\"#B6E880\",\"pattern\":{\"shape\":\"\"}},\"name\":\"Latvia\",\"offsetgroup\":\"Latvia\",\"orientation\":\"v\",\"showlegend\":true,\"textposition\":\"auto\",\"x\":[2020,2021],\"xaxis\":\"x\",\"y\":[4.4,2.1],\"yaxis\":\"y\",\"type\":\"bar\"},{\"alignmentgroup\":\"True\",\"customdata\":[[\"Lebanon\"],[\"Lebanon\"]],\"hovertemplate\":\"Reference area=%{customdata[0]}<br>Time=%{x}<br>Value=%{y}<extra></extra>\",\"legendgroup\":\"Lebanon\",\"marker\":{\"color\":\"#FF97FF\",\"pattern\":{\"shape\":\"\"}},\"name\":\"Lebanon\",\"offsetgroup\":\"Lebanon\",\"orientation\":\"v\",\"showlegend\":true,\"textposition\":\"auto\",\"x\":[2020,2021],\"xaxis\":\"x\",\"y\":[10.3,10.6],\"yaxis\":\"y\",\"type\":\"bar\"},{\"alignmentgroup\":\"True\",\"customdata\":[[\"Lesotho\"],[\"Lesotho\"]],\"hovertemplate\":\"Reference area=%{customdata[0]}<br>Time=%{x}<br>Value=%{y}<extra></extra>\",\"legendgroup\":\"Lesotho\",\"marker\":{\"color\":\"#FECB52\",\"pattern\":{\"shape\":\"\"}},\"name\":\"Lesotho\",\"offsetgroup\":\"Lesotho\",\"orientation\":\"v\",\"showlegend\":true,\"textposition\":\"auto\",\"x\":[2020,2021],\"xaxis\":\"x\",\"y\":[7.3,7.1],\"yaxis\":\"y\",\"type\":\"bar\"},{\"alignmentgroup\":\"True\",\"customdata\":[[\"Liberia\"],[\"Liberia\"]],\"hovertemplate\":\"Reference area=%{customdata[0]}<br>Time=%{x}<br>Value=%{y}<extra></extra>\",\"legendgroup\":\"Liberia\",\"marker\":{\"color\":\"#636efa\",\"pattern\":{\"shape\":\"\"}},\"name\":\"Liberia\",\"offsetgroup\":\"Liberia\",\"orientation\":\"v\",\"showlegend\":true,\"textposition\":\"auto\",\"x\":[2020,2021],\"xaxis\":\"x\",\"y\":[8.1,5.7],\"yaxis\":\"y\",\"type\":\"bar\"},{\"alignmentgroup\":\"True\",\"customdata\":[[\"Libya\"],[\"Libya\"]],\"hovertemplate\":\"Reference area=%{customdata[0]}<br>Time=%{x}<br>Value=%{y}<extra></extra>\",\"legendgroup\":\"Libya\",\"marker\":{\"color\":\"#EF553B\",\"pattern\":{\"shape\":\"\"}},\"name\":\"Libya\",\"offsetgroup\":\"Libya\",\"orientation\":\"v\",\"showlegend\":true,\"textposition\":\"auto\",\"x\":[2020,2021],\"xaxis\":\"x\",\"y\":[9.6,7.0],\"yaxis\":\"y\",\"type\":\"bar\"},{\"alignmentgroup\":\"True\",\"customdata\":[[\"Lithuania\"],[\"Lithuania\"]],\"hovertemplate\":\"Reference area=%{customdata[0]}<br>Time=%{x}<br>Value=%{y}<extra></extra>\",\"legendgroup\":\"Lithuania\",\"marker\":{\"color\":\"#00cc96\",\"pattern\":{\"shape\":\"\"}},\"name\":\"Lithuania\",\"offsetgroup\":\"Lithuania\",\"orientation\":\"v\",\"showlegend\":true,\"textposition\":\"auto\",\"x\":[2020,2021],\"xaxis\":\"x\",\"y\":[5.5,0.6],\"yaxis\":\"y\",\"type\":\"bar\"},{\"alignmentgroup\":\"True\",\"customdata\":[[\"Luxembourg\"],[\"Luxembourg\"]],\"hovertemplate\":\"Reference area=%{customdata[0]}<br>Time=%{x}<br>Value=%{y}<extra></extra>\",\"legendgroup\":\"Luxembourg\",\"marker\":{\"color\":\"#ab63fa\",\"pattern\":{\"shape\":\"\"}},\"name\":\"Luxembourg\",\"offsetgroup\":\"Luxembourg\",\"orientation\":\"v\",\"showlegend\":true,\"textposition\":\"auto\",\"x\":[2020,2021],\"xaxis\":\"x\",\"y\":[4.9,3.4],\"yaxis\":\"y\",\"type\":\"bar\"},{\"alignmentgroup\":\"True\",\"customdata\":[[\"Macau, China\"],[\"Macau, China\"]],\"hovertemplate\":\"Reference area=%{customdata[0]}<br>Time=%{x}<br>Value=%{y}<extra></extra>\",\"legendgroup\":\"Macau, China\",\"marker\":{\"color\":\"#FFA15A\",\"pattern\":{\"shape\":\"\"}},\"name\":\"Macau, China\",\"offsetgroup\":\"Macau, China\",\"orientation\":\"v\",\"showlegend\":true,\"textposition\":\"auto\",\"x\":[2020,2021],\"xaxis\":\"x\",\"y\":[7.2,2.4],\"yaxis\":\"y\",\"type\":\"bar\"},{\"alignmentgroup\":\"True\",\"customdata\":[[\"Madagascar\"],[\"Madagascar\"]],\"hovertemplate\":\"Reference area=%{customdata[0]}<br>Time=%{x}<br>Value=%{y}<extra></extra>\",\"legendgroup\":\"Madagascar\",\"marker\":{\"color\":\"#19d3f3\",\"pattern\":{\"shape\":\"\"}},\"name\":\"Madagascar\",\"offsetgroup\":\"Madagascar\",\"orientation\":\"v\",\"showlegend\":true,\"textposition\":\"auto\",\"x\":[2020,2021],\"xaxis\":\"x\",\"y\":[6.6,6.7],\"yaxis\":\"y\",\"type\":\"bar\"},{\"alignmentgroup\":\"True\",\"customdata\":[[\"Malawi\"],[\"Malawi\"]],\"hovertemplate\":\"Reference area=%{customdata[0]}<br>Time=%{x}<br>Value=%{y}<extra></extra>\",\"legendgroup\":\"Malawi\",\"marker\":{\"color\":\"#FF6692\",\"pattern\":{\"shape\":\"\"}},\"name\":\"Malawi\",\"offsetgroup\":\"Malawi\",\"orientation\":\"v\",\"showlegend\":true,\"textposition\":\"auto\",\"x\":[2020,2021],\"xaxis\":\"x\",\"y\":[4.9,5.8],\"yaxis\":\"y\",\"type\":\"bar\"},{\"alignmentgroup\":\"True\",\"customdata\":[[\"Malaysia\"],[\"Malaysia\"]],\"hovertemplate\":\"Reference area=%{customdata[0]}<br>Time=%{x}<br>Value=%{y}<extra></extra>\",\"legendgroup\":\"Malaysia\",\"marker\":{\"color\":\"#B6E880\",\"pattern\":{\"shape\":\"\"}},\"name\":\"Malaysia\",\"offsetgroup\":\"Malaysia\",\"orientation\":\"v\",\"showlegend\":true,\"textposition\":\"auto\",\"x\":[2020,2021],\"xaxis\":\"x\",\"y\":[9.5,6.3],\"yaxis\":\"y\",\"type\":\"bar\"},{\"alignmentgroup\":\"True\",\"customdata\":[[\"Maldives\"],[\"Maldives\"]],\"hovertemplate\":\"Reference area=%{customdata[0]}<br>Time=%{x}<br>Value=%{y}<extra></extra>\",\"legendgroup\":\"Maldives\",\"marker\":{\"color\":\"#FF97FF\",\"pattern\":{\"shape\":\"\"}},\"name\":\"Maldives\",\"offsetgroup\":\"Maldives\",\"orientation\":\"v\",\"showlegend\":true,\"textposition\":\"auto\",\"x\":[2020,2021],\"xaxis\":\"x\",\"y\":[11.3,7.0],\"yaxis\":\"y\",\"type\":\"bar\"},{\"alignmentgroup\":\"True\",\"customdata\":[[\"Mali\"],[\"Mali\"]],\"hovertemplate\":\"Reference area=%{customdata[0]}<br>Time=%{x}<br>Value=%{y}<extra></extra>\",\"legendgroup\":\"Mali\",\"marker\":{\"color\":\"#FECB52\",\"pattern\":{\"shape\":\"\"}},\"name\":\"Mali\",\"offsetgroup\":\"Mali\",\"orientation\":\"v\",\"showlegend\":true,\"textposition\":\"auto\",\"x\":[2020,2021],\"xaxis\":\"x\",\"y\":[4.1,3.8],\"yaxis\":\"y\",\"type\":\"bar\"},{\"alignmentgroup\":\"True\",\"customdata\":[[\"Malta\"],[\"Malta\"]],\"hovertemplate\":\"Reference area=%{customdata[0]}<br>Time=%{x}<br>Value=%{y}<extra></extra>\",\"legendgroup\":\"Malta\",\"marker\":{\"color\":\"#636efa\",\"pattern\":{\"shape\":\"\"}},\"name\":\"Malta\",\"offsetgroup\":\"Malta\",\"orientation\":\"v\",\"showlegend\":true,\"textposition\":\"auto\",\"x\":[2020,2021],\"xaxis\":\"x\",\"y\":[7.9,4.4],\"yaxis\":\"y\",\"type\":\"bar\"},{\"alignmentgroup\":\"True\",\"customdata\":[[\"Mauritania\"],[\"Mauritania\"]],\"hovertemplate\":\"Reference area=%{customdata[0]}<br>Time=%{x}<br>Value=%{y}<extra></extra>\",\"legendgroup\":\"Mauritania\",\"marker\":{\"color\":\"#EF553B\",\"pattern\":{\"shape\":\"\"}},\"name\":\"Mauritania\",\"offsetgroup\":\"Mauritania\",\"orientation\":\"v\",\"showlegend\":true,\"textposition\":\"auto\",\"x\":[2020,2021],\"xaxis\":\"x\",\"y\":[6.0,5.4],\"yaxis\":\"y\",\"type\":\"bar\"},{\"alignmentgroup\":\"True\",\"customdata\":[[\"Mauritius\"],[\"Mauritius\"]],\"hovertemplate\":\"Reference area=%{customdata[0]}<br>Time=%{x}<br>Value=%{y}<extra></extra>\",\"legendgroup\":\"Mauritius\",\"marker\":{\"color\":\"#00cc96\",\"pattern\":{\"shape\":\"\"}},\"name\":\"Mauritius\",\"offsetgroup\":\"Mauritius\",\"orientation\":\"v\",\"showlegend\":true,\"textposition\":\"auto\",\"x\":[2020,2021],\"xaxis\":\"x\",\"y\":[7.4,7.0],\"yaxis\":\"y\",\"type\":\"bar\"},{\"alignmentgroup\":\"True\",\"customdata\":[[\"Mexico\"],[\"Mexico\"]],\"hovertemplate\":\"Reference area=%{customdata[0]}<br>Time=%{x}<br>Value=%{y}<extra></extra>\",\"legendgroup\":\"Mexico\",\"marker\":{\"color\":\"#ab63fa\",\"pattern\":{\"shape\":\"\"}},\"name\":\"Mexico\",\"offsetgroup\":\"Mexico\",\"orientation\":\"v\",\"showlegend\":true,\"textposition\":\"auto\",\"x\":[2020,2021],\"xaxis\":\"x\",\"y\":[14.9,4.7],\"yaxis\":\"y\",\"type\":\"bar\"},{\"alignmentgroup\":\"True\",\"customdata\":[[\"Moldova, Republic of\"],[\"Moldova, Republic of\"]],\"hovertemplate\":\"Reference area=%{customdata[0]}<br>Time=%{x}<br>Value=%{y}<extra></extra>\",\"legendgroup\":\"Moldova, Republic of\",\"marker\":{\"color\":\"#FFA15A\",\"pattern\":{\"shape\":\"\"}},\"name\":\"Moldova, Republic of\",\"offsetgroup\":\"Moldova, Republic of\",\"orientation\":\"v\",\"showlegend\":true,\"textposition\":\"auto\",\"x\":[2020,2021],\"xaxis\":\"x\",\"y\":[8.7,6.8],\"yaxis\":\"y\",\"type\":\"bar\"},{\"alignmentgroup\":\"True\",\"customdata\":[[\"Mongolia\"],[\"Mongolia\"]],\"hovertemplate\":\"Reference area=%{customdata[0]}<br>Time=%{x}<br>Value=%{y}<extra></extra>\",\"legendgroup\":\"Mongolia\",\"marker\":{\"color\":\"#19d3f3\",\"pattern\":{\"shape\":\"\"}},\"name\":\"Mongolia\",\"offsetgroup\":\"Mongolia\",\"orientation\":\"v\",\"showlegend\":true,\"textposition\":\"auto\",\"x\":[2020,2021],\"xaxis\":\"x\",\"y\":[10.3,15.7],\"yaxis\":\"y\",\"type\":\"bar\"},{\"alignmentgroup\":\"True\",\"customdata\":[[\"Montenegro\"],[\"Montenegro\"]],\"hovertemplate\":\"Reference area=%{customdata[0]}<br>Time=%{x}<br>Value=%{y}<extra></extra>\",\"legendgroup\":\"Montenegro\",\"marker\":{\"color\":\"#FF6692\",\"pattern\":{\"shape\":\"\"}},\"name\":\"Montenegro\",\"offsetgroup\":\"Montenegro\",\"orientation\":\"v\",\"showlegend\":true,\"textposition\":\"auto\",\"x\":[2020,2021],\"xaxis\":\"x\",\"y\":[11.4,6.1],\"yaxis\":\"y\",\"type\":\"bar\"},{\"alignmentgroup\":\"True\",\"customdata\":[[\"Morocco\"],[\"Morocco\"]],\"hovertemplate\":\"Reference area=%{customdata[0]}<br>Time=%{x}<br>Value=%{y}<extra></extra>\",\"legendgroup\":\"Morocco\",\"marker\":{\"color\":\"#B6E880\",\"pattern\":{\"shape\":\"\"}},\"name\":\"Morocco\",\"offsetgroup\":\"Morocco\",\"orientation\":\"v\",\"showlegend\":true,\"textposition\":\"auto\",\"x\":[2020,2021],\"xaxis\":\"x\",\"y\":[13.7,7.5],\"yaxis\":\"y\",\"type\":\"bar\"},{\"alignmentgroup\":\"True\",\"customdata\":[[\"Mozambique\"],[\"Mozambique\"]],\"hovertemplate\":\"Reference area=%{customdata[0]}<br>Time=%{x}<br>Value=%{y}<extra></extra>\",\"legendgroup\":\"Mozambique\",\"marker\":{\"color\":\"#FF97FF\",\"pattern\":{\"shape\":\"\"}},\"name\":\"Mozambique\",\"offsetgroup\":\"Mozambique\",\"orientation\":\"v\",\"showlegend\":true,\"textposition\":\"auto\",\"x\":[2020,2021],\"xaxis\":\"x\",\"y\":[6.0,6.6],\"yaxis\":\"y\",\"type\":\"bar\"},{\"alignmentgroup\":\"True\",\"customdata\":[[\"Myanmar\"],[\"Myanmar\"]],\"hovertemplate\":\"Reference area=%{customdata[0]}<br>Time=%{x}<br>Value=%{y}<extra></extra>\",\"legendgroup\":\"Myanmar\",\"marker\":{\"color\":\"#FECB52\",\"pattern\":{\"shape\":\"\"}},\"name\":\"Myanmar\",\"offsetgroup\":\"Myanmar\",\"orientation\":\"v\",\"showlegend\":true,\"textposition\":\"auto\",\"x\":[2020,2021],\"xaxis\":\"x\",\"y\":[10.2,14.5],\"yaxis\":\"y\",\"type\":\"bar\"},{\"alignmentgroup\":\"True\",\"customdata\":[[\"Namibia\"],[\"Namibia\"]],\"hovertemplate\":\"Reference area=%{customdata[0]}<br>Time=%{x}<br>Value=%{y}<extra></extra>\",\"legendgroup\":\"Namibia\",\"marker\":{\"color\":\"#636efa\",\"pattern\":{\"shape\":\"\"}},\"name\":\"Namibia\",\"offsetgroup\":\"Namibia\",\"orientation\":\"v\",\"showlegend\":true,\"textposition\":\"auto\",\"x\":[2020,2021],\"xaxis\":\"x\",\"y\":[6.3,6.5],\"yaxis\":\"y\",\"type\":\"bar\"},{\"alignmentgroup\":\"True\",\"customdata\":[[\"Nepal\"],[\"Nepal\"]],\"hovertemplate\":\"Reference area=%{customdata[0]}<br>Time=%{x}<br>Value=%{y}<extra></extra>\",\"legendgroup\":\"Nepal\",\"marker\":{\"color\":\"#EF553B\",\"pattern\":{\"shape\":\"\"}},\"name\":\"Nepal\",\"offsetgroup\":\"Nepal\",\"orientation\":\"v\",\"showlegend\":true,\"textposition\":\"auto\",\"x\":[2020,2021],\"xaxis\":\"x\",\"y\":[16.6,7.1],\"yaxis\":\"y\",\"type\":\"bar\"},{\"alignmentgroup\":\"True\",\"customdata\":[[\"Netherlands\"],[\"Netherlands\"]],\"hovertemplate\":\"Reference area=%{customdata[0]}<br>Time=%{x}<br>Value=%{y}<extra></extra>\",\"legendgroup\":\"Netherlands\",\"marker\":{\"color\":\"#00cc96\",\"pattern\":{\"shape\":\"\"}},\"name\":\"Netherlands\",\"offsetgroup\":\"Netherlands\",\"orientation\":\"v\",\"showlegend\":true,\"textposition\":\"auto\",\"x\":[2020,2021],\"xaxis\":\"x\",\"y\":[2.8,0.7],\"yaxis\":\"y\",\"type\":\"bar\"},{\"alignmentgroup\":\"True\",\"customdata\":[[\"New Caledonia\"],[\"New Caledonia\"]],\"hovertemplate\":\"Reference area=%{customdata[0]}<br>Time=%{x}<br>Value=%{y}<extra></extra>\",\"legendgroup\":\"New Caledonia\",\"marker\":{\"color\":\"#ab63fa\",\"pattern\":{\"shape\":\"\"}},\"name\":\"New Caledonia\",\"offsetgroup\":\"New Caledonia\",\"orientation\":\"v\",\"showlegend\":true,\"textposition\":\"auto\",\"x\":[2020,2021],\"xaxis\":\"x\",\"y\":[3.4,2.8],\"yaxis\":\"y\",\"type\":\"bar\"},{\"alignmentgroup\":\"True\",\"customdata\":[[\"New Zealand\"],[\"New Zealand\"]],\"hovertemplate\":\"Reference area=%{customdata[0]}<br>Time=%{x}<br>Value=%{y}<extra></extra>\",\"legendgroup\":\"New Zealand\",\"marker\":{\"color\":\"#FFA15A\",\"pattern\":{\"shape\":\"\"}},\"name\":\"New Zealand\",\"offsetgroup\":\"New Zealand\",\"orientation\":\"v\",\"showlegend\":true,\"textposition\":\"auto\",\"x\":[2020,2021],\"xaxis\":\"x\",\"y\":[-1.1,-1.4],\"yaxis\":\"y\",\"type\":\"bar\"},{\"alignmentgroup\":\"True\",\"customdata\":[[\"Nicaragua\"],[\"Nicaragua\"]],\"hovertemplate\":\"Reference area=%{customdata[0]}<br>Time=%{x}<br>Value=%{y}<extra></extra>\",\"legendgroup\":\"Nicaragua\",\"marker\":{\"color\":\"#19d3f3\",\"pattern\":{\"shape\":\"\"}},\"name\":\"Nicaragua\",\"offsetgroup\":\"Nicaragua\",\"orientation\":\"v\",\"showlegend\":true,\"textposition\":\"auto\",\"x\":[2020,2021],\"xaxis\":\"x\",\"y\":[2.2,0.8],\"yaxis\":\"y\",\"type\":\"bar\"},{\"alignmentgroup\":\"True\",\"customdata\":[[\"Niger\"],[\"Niger\"]],\"hovertemplate\":\"Reference area=%{customdata[0]}<br>Time=%{x}<br>Value=%{y}<extra></extra>\",\"legendgroup\":\"Niger\",\"marker\":{\"color\":\"#FF6692\",\"pattern\":{\"shape\":\"\"}},\"name\":\"Niger\",\"offsetgroup\":\"Niger\",\"orientation\":\"v\",\"showlegend\":true,\"textposition\":\"auto\",\"x\":[2020,2021],\"xaxis\":\"x\",\"y\":[2.2,2.4],\"yaxis\":\"y\",\"type\":\"bar\"},{\"alignmentgroup\":\"True\",\"customdata\":[[\"Nigeria\"],[\"Nigeria\"]],\"hovertemplate\":\"Reference area=%{customdata[0]}<br>Time=%{x}<br>Value=%{y}<extra></extra>\",\"legendgroup\":\"Nigeria\",\"marker\":{\"color\":\"#B6E880\",\"pattern\":{\"shape\":\"\"}},\"name\":\"Nigeria\",\"offsetgroup\":\"Nigeria\",\"orientation\":\"v\",\"showlegend\":true,\"textposition\":\"auto\",\"x\":[2020,2021],\"xaxis\":\"x\",\"y\":[9.0,5.5],\"yaxis\":\"y\",\"type\":\"bar\"},{\"alignmentgroup\":\"True\",\"customdata\":[[\"North Macedonia\"],[\"North Macedonia\"]],\"hovertemplate\":\"Reference area=%{customdata[0]}<br>Time=%{x}<br>Value=%{y}<extra></extra>\",\"legendgroup\":\"North Macedonia\",\"marker\":{\"color\":\"#FF97FF\",\"pattern\":{\"shape\":\"\"}},\"name\":\"North Macedonia\",\"offsetgroup\":\"North Macedonia\",\"orientation\":\"v\",\"showlegend\":true,\"textposition\":\"auto\",\"x\":[2020,2021],\"xaxis\":\"x\",\"y\":[9.9,1.3],\"yaxis\":\"y\",\"type\":\"bar\"},{\"alignmentgroup\":\"True\",\"customdata\":[[\"Norway\"],[\"Norway\"]],\"hovertemplate\":\"Reference area=%{customdata[0]}<br>Time=%{x}<br>Value=%{y}<extra></extra>\",\"legendgroup\":\"Norway\",\"marker\":{\"color\":\"#FECB52\",\"pattern\":{\"shape\":\"\"}},\"name\":\"Norway\",\"offsetgroup\":\"Norway\",\"orientation\":\"v\",\"showlegend\":true,\"textposition\":\"auto\",\"x\":[2020,2021],\"xaxis\":\"x\",\"y\":[3.7,-4.5],\"yaxis\":\"y\",\"type\":\"bar\"},{\"alignmentgroup\":\"True\",\"customdata\":[[\"Occupied Palestinian Territory\"],[\"Occupied Palestinian Territory\"]],\"hovertemplate\":\"Reference area=%{customdata[0]}<br>Time=%{x}<br>Value=%{y}<extra></extra>\",\"legendgroup\":\"Occupied Palestinian Territory\",\"marker\":{\"color\":\"#636efa\",\"pattern\":{\"shape\":\"\"}},\"name\":\"Occupied Palestinian Territory\",\"offsetgroup\":\"Occupied Palestinian Territory\",\"orientation\":\"v\",\"showlegend\":true,\"textposition\":\"auto\",\"x\":[2020,2021],\"xaxis\":\"x\",\"y\":[16.0,11.9],\"yaxis\":\"y\",\"type\":\"bar\"},{\"alignmentgroup\":\"True\",\"customdata\":[[\"Oman\"],[\"Oman\"]],\"hovertemplate\":\"Reference area=%{customdata[0]}<br>Time=%{x}<br>Value=%{y}<extra></extra>\",\"legendgroup\":\"Oman\",\"marker\":{\"color\":\"#EF553B\",\"pattern\":{\"shape\":\"\"}},\"name\":\"Oman\",\"offsetgroup\":\"Oman\",\"orientation\":\"v\",\"showlegend\":true,\"textposition\":\"auto\",\"x\":[2020,2021],\"xaxis\":\"x\",\"y\":[13.1,7.9],\"yaxis\":\"y\",\"type\":\"bar\"},{\"alignmentgroup\":\"True\",\"customdata\":[[\"Pakistan\"],[\"Pakistan\"]],\"hovertemplate\":\"Reference area=%{customdata[0]}<br>Time=%{x}<br>Value=%{y}<extra></extra>\",\"legendgroup\":\"Pakistan\",\"marker\":{\"color\":\"#00cc96\",\"pattern\":{\"shape\":\"\"}},\"name\":\"Pakistan\",\"offsetgroup\":\"Pakistan\",\"orientation\":\"v\",\"showlegend\":true,\"textposition\":\"auto\",\"x\":[2020,2021],\"xaxis\":\"x\",\"y\":[9.4,6.5],\"yaxis\":\"y\",\"type\":\"bar\"},{\"alignmentgroup\":\"True\",\"customdata\":[[\"Panama\"],[\"Panama\"]],\"hovertemplate\":\"Reference area=%{customdata[0]}<br>Time=%{x}<br>Value=%{y}<extra></extra>\",\"legendgroup\":\"Panama\",\"marker\":{\"color\":\"#ab63fa\",\"pattern\":{\"shape\":\"\"}},\"name\":\"Panama\",\"offsetgroup\":\"Panama\",\"orientation\":\"v\",\"showlegend\":true,\"textposition\":\"auto\",\"x\":[2020,2021],\"xaxis\":\"x\",\"y\":[21.7,8.1],\"yaxis\":\"y\",\"type\":\"bar\"},{\"alignmentgroup\":\"True\",\"customdata\":[[\"Papua New Guinea\"],[\"Papua New Guinea\"]],\"hovertemplate\":\"Reference area=%{customdata[0]}<br>Time=%{x}<br>Value=%{y}<extra></extra>\",\"legendgroup\":\"Papua New Guinea\",\"marker\":{\"color\":\"#FFA15A\",\"pattern\":{\"shape\":\"\"}},\"name\":\"Papua New Guinea\",\"offsetgroup\":\"Papua New Guinea\",\"orientation\":\"v\",\"showlegend\":true,\"textposition\":\"auto\",\"x\":[2020,2021],\"xaxis\":\"x\",\"y\":[3.0,5.7],\"yaxis\":\"y\",\"type\":\"bar\"},{\"alignmentgroup\":\"True\",\"customdata\":[[\"Paraguay\"],[\"Paraguay\"]],\"hovertemplate\":\"Reference area=%{customdata[0]}<br>Time=%{x}<br>Value=%{y}<extra></extra>\",\"legendgroup\":\"Paraguay\",\"marker\":{\"color\":\"#19d3f3\",\"pattern\":{\"shape\":\"\"}},\"name\":\"Paraguay\",\"offsetgroup\":\"Paraguay\",\"orientation\":\"v\",\"showlegend\":true,\"textposition\":\"auto\",\"x\":[2020,2021],\"xaxis\":\"x\",\"y\":[18.3,3.7],\"yaxis\":\"y\",\"type\":\"bar\"},{\"alignmentgroup\":\"True\",\"customdata\":[[\"Peru\"],[\"Peru\"]],\"hovertemplate\":\"Reference area=%{customdata[0]}<br>Time=%{x}<br>Value=%{y}<extra></extra>\",\"legendgroup\":\"Peru\",\"marker\":{\"color\":\"#FF6692\",\"pattern\":{\"shape\":\"\"}},\"name\":\"Peru\",\"offsetgroup\":\"Peru\",\"orientation\":\"v\",\"showlegend\":true,\"textposition\":\"auto\",\"x\":[2020,2021],\"xaxis\":\"x\",\"y\":[29.0,11.7],\"yaxis\":\"y\",\"type\":\"bar\"},{\"alignmentgroup\":\"True\",\"customdata\":[[\"Philippines\"],[\"Philippines\"]],\"hovertemplate\":\"Reference area=%{customdata[0]}<br>Time=%{x}<br>Value=%{y}<extra></extra>\",\"legendgroup\":\"Philippines\",\"marker\":{\"color\":\"#B6E880\",\"pattern\":{\"shape\":\"\"}},\"name\":\"Philippines\",\"offsetgroup\":\"Philippines\",\"orientation\":\"v\",\"showlegend\":true,\"textposition\":\"auto\",\"x\":[2020,2021],\"xaxis\":\"x\",\"y\":[15.5,6.7],\"yaxis\":\"y\",\"type\":\"bar\"},{\"alignmentgroup\":\"True\",\"customdata\":[[\"Poland\"],[\"Poland\"]],\"hovertemplate\":\"Reference area=%{customdata[0]}<br>Time=%{x}<br>Value=%{y}<extra></extra>\",\"legendgroup\":\"Poland\",\"marker\":{\"color\":\"#FF97FF\",\"pattern\":{\"shape\":\"\"}},\"name\":\"Poland\",\"offsetgroup\":\"Poland\",\"orientation\":\"v\",\"showlegend\":true,\"textposition\":\"auto\",\"x\":[2020,2021],\"xaxis\":\"x\",\"y\":[2.1,-2.4],\"yaxis\":\"y\",\"type\":\"bar\"},{\"alignmentgroup\":\"True\",\"customdata\":[[\"Portugal\"],[\"Portugal\"]],\"hovertemplate\":\"Reference area=%{customdata[0]}<br>Time=%{x}<br>Value=%{y}<extra></extra>\",\"legendgroup\":\"Portugal\",\"marker\":{\"color\":\"#FECB52\",\"pattern\":{\"shape\":\"\"}},\"name\":\"Portugal\",\"offsetgroup\":\"Portugal\",\"orientation\":\"v\",\"showlegend\":true,\"textposition\":\"auto\",\"x\":[2020,2021],\"xaxis\":\"x\",\"y\":[12.0,4.4],\"yaxis\":\"y\",\"type\":\"bar\"},{\"alignmentgroup\":\"True\",\"customdata\":[[\"Puerto Rico\"],[\"Puerto Rico\"]],\"hovertemplate\":\"Reference area=%{customdata[0]}<br>Time=%{x}<br>Value=%{y}<extra></extra>\",\"legendgroup\":\"Puerto Rico\",\"marker\":{\"color\":\"#636efa\",\"pattern\":{\"shape\":\"\"}},\"name\":\"Puerto Rico\",\"offsetgroup\":\"Puerto Rico\",\"orientation\":\"v\",\"showlegend\":true,\"textposition\":\"auto\",\"x\":[2020,2021],\"xaxis\":\"x\",\"y\":[10.5,4.9],\"yaxis\":\"y\",\"type\":\"bar\"},{\"alignmentgroup\":\"True\",\"customdata\":[[\"Qatar\"],[\"Qatar\"]],\"hovertemplate\":\"Reference area=%{customdata[0]}<br>Time=%{x}<br>Value=%{y}<extra></extra>\",\"legendgroup\":\"Qatar\",\"marker\":{\"color\":\"#EF553B\",\"pattern\":{\"shape\":\"\"}},\"name\":\"Qatar\",\"offsetgroup\":\"Qatar\",\"orientation\":\"v\",\"showlegend\":true,\"textposition\":\"auto\",\"x\":[2020,2021],\"xaxis\":\"x\",\"y\":[9.7,7.1],\"yaxis\":\"y\",\"type\":\"bar\"},{\"alignmentgroup\":\"True\",\"customdata\":[[\"Romania\"],[\"Romania\"]],\"hovertemplate\":\"Reference area=%{customdata[0]}<br>Time=%{x}<br>Value=%{y}<extra></extra>\",\"legendgroup\":\"Romania\",\"marker\":{\"color\":\"#00cc96\",\"pattern\":{\"shape\":\"\"}},\"name\":\"Romania\",\"offsetgroup\":\"Romania\",\"orientation\":\"v\",\"showlegend\":true,\"textposition\":\"auto\",\"x\":[2020,2021],\"xaxis\":\"x\",\"y\":[6.2,2.7],\"yaxis\":\"y\",\"type\":\"bar\"},{\"alignmentgroup\":\"True\",\"customdata\":[[\"Russian Federation\"],[\"Russian Federation\"]],\"hovertemplate\":\"Reference area=%{customdata[0]}<br>Time=%{x}<br>Value=%{y}<extra></extra>\",\"legendgroup\":\"Russian Federation\",\"marker\":{\"color\":\"#ab63fa\",\"pattern\":{\"shape\":\"\"}},\"name\":\"Russian Federation\",\"offsetgroup\":\"Russian Federation\",\"orientation\":\"v\",\"showlegend\":true,\"textposition\":\"auto\",\"x\":[2020,2021],\"xaxis\":\"x\",\"y\":[6.0,1.4],\"yaxis\":\"y\",\"type\":\"bar\"},{\"alignmentgroup\":\"True\",\"customdata\":[[\"Rwanda\"],[\"Rwanda\"]],\"hovertemplate\":\"Reference area=%{customdata[0]}<br>Time=%{x}<br>Value=%{y}<extra></extra>\",\"legendgroup\":\"Rwanda\",\"marker\":{\"color\":\"#FFA15A\",\"pattern\":{\"shape\":\"\"}},\"name\":\"Rwanda\",\"offsetgroup\":\"Rwanda\",\"orientation\":\"v\",\"showlegend\":true,\"textposition\":\"auto\",\"x\":[2020,2021],\"xaxis\":\"x\",\"y\":[9.8,7.1],\"yaxis\":\"y\",\"type\":\"bar\"},{\"alignmentgroup\":\"True\",\"customdata\":[[\"Saint Lucia\"],[\"Saint Lucia\"]],\"hovertemplate\":\"Reference area=%{customdata[0]}<br>Time=%{x}<br>Value=%{y}<extra></extra>\",\"legendgroup\":\"Saint Lucia\",\"marker\":{\"color\":\"#19d3f3\",\"pattern\":{\"shape\":\"\"}},\"name\":\"Saint Lucia\",\"offsetgroup\":\"Saint Lucia\",\"orientation\":\"v\",\"showlegend\":true,\"textposition\":\"auto\",\"x\":[2020,2021],\"xaxis\":\"x\",\"y\":[8.9,6.5],\"yaxis\":\"y\",\"type\":\"bar\"},{\"alignmentgroup\":\"True\",\"customdata\":[[\"Saint Vincent and the Grenadines\"],[\"Saint Vincent and the Grenadines\"]],\"hovertemplate\":\"Reference area=%{customdata[0]}<br>Time=%{x}<br>Value=%{y}<extra></extra>\",\"legendgroup\":\"Saint Vincent and the Grenadines\",\"marker\":{\"color\":\"#FF6692\",\"pattern\":{\"shape\":\"\"}},\"name\":\"Saint Vincent and the Grenadines\",\"offsetgroup\":\"Saint Vincent and the Grenadines\",\"orientation\":\"v\",\"showlegend\":true,\"textposition\":\"auto\",\"x\":[2020,2021],\"xaxis\":\"x\",\"y\":[8.6,5.1],\"yaxis\":\"y\",\"type\":\"bar\"},{\"alignmentgroup\":\"True\",\"customdata\":[[\"Samoa\"],[\"Samoa\"]],\"hovertemplate\":\"Reference area=%{customdata[0]}<br>Time=%{x}<br>Value=%{y}<extra></extra>\",\"legendgroup\":\"Samoa\",\"marker\":{\"color\":\"#B6E880\",\"pattern\":{\"shape\":\"\"}},\"name\":\"Samoa\",\"offsetgroup\":\"Samoa\",\"orientation\":\"v\",\"showlegend\":true,\"textposition\":\"auto\",\"x\":[2020,2021],\"xaxis\":\"x\",\"y\":[4.3,4.2],\"yaxis\":\"y\",\"type\":\"bar\"},{\"alignmentgroup\":\"True\",\"customdata\":[[\"Sao Tome and Principe\"],[\"Sao Tome and Principe\"]],\"hovertemplate\":\"Reference area=%{customdata[0]}<br>Time=%{x}<br>Value=%{y}<extra></extra>\",\"legendgroup\":\"Sao Tome and Principe\",\"marker\":{\"color\":\"#FF97FF\",\"pattern\":{\"shape\":\"\"}},\"name\":\"Sao Tome and Principe\",\"offsetgroup\":\"Sao Tome and Principe\",\"orientation\":\"v\",\"showlegend\":true,\"textposition\":\"auto\",\"x\":[2020,2021],\"xaxis\":\"x\",\"y\":[9.0,4.9],\"yaxis\":\"y\",\"type\":\"bar\"},{\"alignmentgroup\":\"True\",\"customdata\":[[\"Saudi Arabia\"],[\"Saudi Arabia\"]],\"hovertemplate\":\"Reference area=%{customdata[0]}<br>Time=%{x}<br>Value=%{y}<extra></extra>\",\"legendgroup\":\"Saudi Arabia\",\"marker\":{\"color\":\"#FECB52\",\"pattern\":{\"shape\":\"\"}},\"name\":\"Saudi Arabia\",\"offsetgroup\":\"Saudi Arabia\",\"orientation\":\"v\",\"showlegend\":true,\"textposition\":\"auto\",\"x\":[2020,2021],\"xaxis\":\"x\",\"y\":[7.5,4.6],\"yaxis\":\"y\",\"type\":\"bar\"},{\"alignmentgroup\":\"True\",\"customdata\":[[\"Senegal\"],[\"Senegal\"]],\"hovertemplate\":\"Reference area=%{customdata[0]}<br>Time=%{x}<br>Value=%{y}<extra></extra>\",\"legendgroup\":\"Senegal\",\"marker\":{\"color\":\"#636efa\",\"pattern\":{\"shape\":\"\"}},\"name\":\"Senegal\",\"offsetgroup\":\"Senegal\",\"orientation\":\"v\",\"showlegend\":true,\"textposition\":\"auto\",\"x\":[2020,2021],\"xaxis\":\"x\",\"y\":[6.6,3.5],\"yaxis\":\"y\",\"type\":\"bar\"},{\"alignmentgroup\":\"True\",\"customdata\":[[\"Serbia\"],[\"Serbia\"]],\"hovertemplate\":\"Reference area=%{customdata[0]}<br>Time=%{x}<br>Value=%{y}<extra></extra>\",\"legendgroup\":\"Serbia\",\"marker\":{\"color\":\"#EF553B\",\"pattern\":{\"shape\":\"\"}},\"name\":\"Serbia\",\"offsetgroup\":\"Serbia\",\"orientation\":\"v\",\"showlegend\":true,\"textposition\":\"auto\",\"x\":[2020,2021],\"xaxis\":\"x\",\"y\":[4.7,-0.9],\"yaxis\":\"y\",\"type\":\"bar\"},{\"alignmentgroup\":\"True\",\"customdata\":[[\"Sierra Leone\"],[\"Sierra Leone\"]],\"hovertemplate\":\"Reference area=%{customdata[0]}<br>Time=%{x}<br>Value=%{y}<extra></extra>\",\"legendgroup\":\"Sierra Leone\",\"marker\":{\"color\":\"#00cc96\",\"pattern\":{\"shape\":\"\"}},\"name\":\"Sierra Leone\",\"offsetgroup\":\"Sierra Leone\",\"orientation\":\"v\",\"showlegend\":true,\"textposition\":\"auto\",\"x\":[2020,2021],\"xaxis\":\"x\",\"y\":[4.1,6.4],\"yaxis\":\"y\",\"type\":\"bar\"},{\"alignmentgroup\":\"True\",\"customdata\":[[\"Singapore\"],[\"Singapore\"]],\"hovertemplate\":\"Reference area=%{customdata[0]}<br>Time=%{x}<br>Value=%{y}<extra></extra>\",\"legendgroup\":\"Singapore\",\"marker\":{\"color\":\"#ab63fa\",\"pattern\":{\"shape\":\"\"}},\"name\":\"Singapore\",\"offsetgroup\":\"Singapore\",\"orientation\":\"v\",\"showlegend\":true,\"textposition\":\"auto\",\"x\":[2020,2021],\"xaxis\":\"x\",\"y\":[4.8,4.4],\"yaxis\":\"y\",\"type\":\"bar\"},{\"alignmentgroup\":\"True\",\"customdata\":[[\"Slovakia\"],[\"Slovakia\"]],\"hovertemplate\":\"Reference area=%{customdata[0]}<br>Time=%{x}<br>Value=%{y}<extra></extra>\",\"legendgroup\":\"Slovakia\",\"marker\":{\"color\":\"#FFA15A\",\"pattern\":{\"shape\":\"\"}},\"name\":\"Slovakia\",\"offsetgroup\":\"Slovakia\",\"orientation\":\"v\",\"showlegend\":true,\"textposition\":\"auto\",\"x\":[2020,2021],\"xaxis\":\"x\",\"y\":[10.9,8.7],\"yaxis\":\"y\",\"type\":\"bar\"},{\"alignmentgroup\":\"True\",\"customdata\":[[\"Slovenia\"],[\"Slovenia\"]],\"hovertemplate\":\"Reference area=%{customdata[0]}<br>Time=%{x}<br>Value=%{y}<extra></extra>\",\"legendgroup\":\"Slovenia\",\"marker\":{\"color\":\"#19d3f3\",\"pattern\":{\"shape\":\"\"}},\"name\":\"Slovenia\",\"offsetgroup\":\"Slovenia\",\"orientation\":\"v\",\"showlegend\":true,\"textposition\":\"auto\",\"x\":[2020,2021],\"xaxis\":\"x\",\"y\":[6.4,-0.7],\"yaxis\":\"y\",\"type\":\"bar\"},{\"alignmentgroup\":\"True\",\"customdata\":[[\"Solomon Islands\"],[\"Solomon Islands\"]],\"hovertemplate\":\"Reference area=%{customdata[0]}<br>Time=%{x}<br>Value=%{y}<extra></extra>\",\"legendgroup\":\"Solomon Islands\",\"marker\":{\"color\":\"#FF6692\",\"pattern\":{\"shape\":\"\"}},\"name\":\"Solomon Islands\",\"offsetgroup\":\"Solomon Islands\",\"orientation\":\"v\",\"showlegend\":true,\"textposition\":\"auto\",\"x\":[2020,2021],\"xaxis\":\"x\",\"y\":[2.4,2.3],\"yaxis\":\"y\",\"type\":\"bar\"},{\"alignmentgroup\":\"True\",\"customdata\":[[\"Somalia\"],[\"Somalia\"]],\"hovertemplate\":\"Reference area=%{customdata[0]}<br>Time=%{x}<br>Value=%{y}<extra></extra>\",\"legendgroup\":\"Somalia\",\"marker\":{\"color\":\"#B6E880\",\"pattern\":{\"shape\":\"\"}},\"name\":\"Somalia\",\"offsetgroup\":\"Somalia\",\"orientation\":\"v\",\"showlegend\":true,\"textposition\":\"auto\",\"x\":[2020,2021],\"xaxis\":\"x\",\"y\":[3.3,2.5],\"yaxis\":\"y\",\"type\":\"bar\"},{\"alignmentgroup\":\"True\",\"customdata\":[[\"South Africa\"],[\"South Africa\"]],\"hovertemplate\":\"Reference area=%{customdata[0]}<br>Time=%{x}<br>Value=%{y}<extra></extra>\",\"legendgroup\":\"South Africa\",\"marker\":{\"color\":\"#FF97FF\",\"pattern\":{\"shape\":\"\"}},\"name\":\"South Africa\",\"offsetgroup\":\"South Africa\",\"orientation\":\"v\",\"showlegend\":true,\"textposition\":\"auto\",\"x\":[2020,2021],\"xaxis\":\"x\",\"y\":[14.3,10.0],\"yaxis\":\"y\",\"type\":\"bar\"},{\"alignmentgroup\":\"True\",\"customdata\":[[\"South Sudan\"],[\"South Sudan\"]],\"hovertemplate\":\"Reference area=%{customdata[0]}<br>Time=%{x}<br>Value=%{y}<extra></extra>\",\"legendgroup\":\"South Sudan\",\"marker\":{\"color\":\"#FECB52\",\"pattern\":{\"shape\":\"\"}},\"name\":\"South Sudan\",\"offsetgroup\":\"South Sudan\",\"orientation\":\"v\",\"showlegend\":true,\"textposition\":\"auto\",\"x\":[2020,2021],\"xaxis\":\"x\",\"y\":[8.1,4.9],\"yaxis\":\"y\",\"type\":\"bar\"},{\"alignmentgroup\":\"True\",\"customdata\":[[\"Spain\"],[\"Spain\"]],\"hovertemplate\":\"Reference area=%{customdata[0]}<br>Time=%{x}<br>Value=%{y}<extra></extra>\",\"legendgroup\":\"Spain\",\"marker\":{\"color\":\"#636efa\",\"pattern\":{\"shape\":\"\"}},\"name\":\"Spain\",\"offsetgroup\":\"Spain\",\"orientation\":\"v\",\"showlegend\":true,\"textposition\":\"auto\",\"x\":[2020,2021],\"xaxis\":\"x\",\"y\":[11.7,3.0],\"yaxis\":\"y\",\"type\":\"bar\"},{\"alignmentgroup\":\"True\",\"customdata\":[[\"Sri Lanka\"],[\"Sri Lanka\"]],\"hovertemplate\":\"Reference area=%{customdata[0]}<br>Time=%{x}<br>Value=%{y}<extra></extra>\",\"legendgroup\":\"Sri Lanka\",\"marker\":{\"color\":\"#EF553B\",\"pattern\":{\"shape\":\"\"}},\"name\":\"Sri Lanka\",\"offsetgroup\":\"Sri Lanka\",\"orientation\":\"v\",\"showlegend\":true,\"textposition\":\"auto\",\"x\":[2020,2021],\"xaxis\":\"x\",\"y\":[9.7,8.8],\"yaxis\":\"y\",\"type\":\"bar\"},{\"alignmentgroup\":\"True\",\"customdata\":[[\"Sudan\"],[\"Sudan\"]],\"hovertemplate\":\"Reference area=%{customdata[0]}<br>Time=%{x}<br>Value=%{y}<extra></extra>\",\"legendgroup\":\"Sudan\",\"marker\":{\"color\":\"#00cc96\",\"pattern\":{\"shape\":\"\"}},\"name\":\"Sudan\",\"offsetgroup\":\"Sudan\",\"orientation\":\"v\",\"showlegend\":true,\"textposition\":\"auto\",\"x\":[2020,2021],\"xaxis\":\"x\",\"y\":[7.9,3.1],\"yaxis\":\"y\",\"type\":\"bar\"},{\"alignmentgroup\":\"True\",\"customdata\":[[\"Suriname\"],[\"Suriname\"]],\"hovertemplate\":\"Reference area=%{customdata[0]}<br>Time=%{x}<br>Value=%{y}<extra></extra>\",\"legendgroup\":\"Suriname\",\"marker\":{\"color\":\"#ab63fa\",\"pattern\":{\"shape\":\"\"}},\"name\":\"Suriname\",\"offsetgroup\":\"Suriname\",\"orientation\":\"v\",\"showlegend\":true,\"textposition\":\"auto\",\"x\":[2020,2021],\"xaxis\":\"x\",\"y\":[10.3,8.8],\"yaxis\":\"y\",\"type\":\"bar\"},{\"alignmentgroup\":\"True\",\"customdata\":[[\"Sweden\"],[\"Sweden\"]],\"hovertemplate\":\"Reference area=%{customdata[0]}<br>Time=%{x}<br>Value=%{y}<extra></extra>\",\"legendgroup\":\"Sweden\",\"marker\":{\"color\":\"#FFA15A\",\"pattern\":{\"shape\":\"\"}},\"name\":\"Sweden\",\"offsetgroup\":\"Sweden\",\"orientation\":\"v\",\"showlegend\":true,\"textposition\":\"auto\",\"x\":[2020,2021],\"xaxis\":\"x\",\"y\":[5.2,1.6],\"yaxis\":\"y\",\"type\":\"bar\"},{\"alignmentgroup\":\"True\",\"customdata\":[[\"Switzerland\"],[\"Switzerland\"]],\"hovertemplate\":\"Reference area=%{customdata[0]}<br>Time=%{x}<br>Value=%{y}<extra></extra>\",\"legendgroup\":\"Switzerland\",\"marker\":{\"color\":\"#19d3f3\",\"pattern\":{\"shape\":\"\"}},\"name\":\"Switzerland\",\"offsetgroup\":\"Switzerland\",\"orientation\":\"v\",\"showlegend\":true,\"textposition\":\"auto\",\"x\":[2020,2021],\"xaxis\":\"x\",\"y\":[2.7,1.8],\"yaxis\":\"y\",\"type\":\"bar\"},{\"alignmentgroup\":\"True\",\"customdata\":[[\"Syrian Arab Republic\"],[\"Syrian Arab Republic\"]],\"hovertemplate\":\"Reference area=%{customdata[0]}<br>Time=%{x}<br>Value=%{y}<extra></extra>\",\"legendgroup\":\"Syrian Arab Republic\",\"marker\":{\"color\":\"#FF6692\",\"pattern\":{\"shape\":\"\"}},\"name\":\"Syrian Arab Republic\",\"offsetgroup\":\"Syrian Arab Republic\",\"orientation\":\"v\",\"showlegend\":true,\"textposition\":\"auto\",\"x\":[2020,2021],\"xaxis\":\"x\",\"y\":[7.1,5.3],\"yaxis\":\"y\",\"type\":\"bar\"},{\"alignmentgroup\":\"True\",\"customdata\":[[\"Taiwan, China\"],[\"Taiwan, China\"]],\"hovertemplate\":\"Reference area=%{customdata[0]}<br>Time=%{x}<br>Value=%{y}<extra></extra>\",\"legendgroup\":\"Taiwan, China\",\"marker\":{\"color\":\"#B6E880\",\"pattern\":{\"shape\":\"\"}},\"name\":\"Taiwan, China\",\"offsetgroup\":\"Taiwan, China\",\"orientation\":\"v\",\"showlegend\":true,\"textposition\":\"auto\",\"x\":[2020,2021],\"xaxis\":\"x\",\"y\":[2.2,3.6],\"yaxis\":\"y\",\"type\":\"bar\"},{\"alignmentgroup\":\"True\",\"customdata\":[[\"Tajikistan\"],[\"Tajikistan\"]],\"hovertemplate\":\"Reference area=%{customdata[0]}<br>Time=%{x}<br>Value=%{y}<extra></extra>\",\"legendgroup\":\"Tajikistan\",\"marker\":{\"color\":\"#FF97FF\",\"pattern\":{\"shape\":\"\"}},\"name\":\"Tajikistan\",\"offsetgroup\":\"Tajikistan\",\"orientation\":\"v\",\"showlegend\":true,\"textposition\":\"auto\",\"x\":[2020,2021],\"xaxis\":\"x\",\"y\":[4.3,5.5],\"yaxis\":\"y\",\"type\":\"bar\"},{\"alignmentgroup\":\"True\",\"customdata\":[[\"Tanzania, United Republic of\"],[\"Tanzania, United Republic of\"]],\"hovertemplate\":\"Reference area=%{customdata[0]}<br>Time=%{x}<br>Value=%{y}<extra></extra>\",\"legendgroup\":\"Tanzania, United Republic of\",\"marker\":{\"color\":\"#FECB52\",\"pattern\":{\"shape\":\"\"}},\"name\":\"Tanzania, United Republic of\",\"offsetgroup\":\"Tanzania, United Republic of\",\"orientation\":\"v\",\"showlegend\":true,\"textposition\":\"auto\",\"x\":[2020,2021],\"xaxis\":\"x\",\"y\":[2.8,0.8],\"yaxis\":\"y\",\"type\":\"bar\"},{\"alignmentgroup\":\"True\",\"customdata\":[[\"Thailand\"],[\"Thailand\"]],\"hovertemplate\":\"Reference area=%{customdata[0]}<br>Time=%{x}<br>Value=%{y}<extra></extra>\",\"legendgroup\":\"Thailand\",\"marker\":{\"color\":\"#636efa\",\"pattern\":{\"shape\":\"\"}},\"name\":\"Thailand\",\"offsetgroup\":\"Thailand\",\"orientation\":\"v\",\"showlegend\":true,\"textposition\":\"auto\",\"x\":[2020,2021],\"xaxis\":\"x\",\"y\":[3.8,4.0],\"yaxis\":\"y\",\"type\":\"bar\"},{\"alignmentgroup\":\"True\",\"customdata\":[[\"Timor-Leste\"],[\"Timor-Leste\"]],\"hovertemplate\":\"Reference area=%{customdata[0]}<br>Time=%{x}<br>Value=%{y}<extra></extra>\",\"legendgroup\":\"Timor-Leste\",\"marker\":{\"color\":\"#EF553B\",\"pattern\":{\"shape\":\"\"}},\"name\":\"Timor-Leste\",\"offsetgroup\":\"Timor-Leste\",\"orientation\":\"v\",\"showlegend\":true,\"textposition\":\"auto\",\"x\":[2020,2021],\"xaxis\":\"x\",\"y\":[3.5,7.8],\"yaxis\":\"y\",\"type\":\"bar\"},{\"alignmentgroup\":\"True\",\"customdata\":[[\"Togo\"],[\"Togo\"]],\"hovertemplate\":\"Reference area=%{customdata[0]}<br>Time=%{x}<br>Value=%{y}<extra></extra>\",\"legendgroup\":\"Togo\",\"marker\":{\"color\":\"#00cc96\",\"pattern\":{\"shape\":\"\"}},\"name\":\"Togo\",\"offsetgroup\":\"Togo\",\"orientation\":\"v\",\"showlegend\":true,\"textposition\":\"auto\",\"x\":[2020,2021],\"xaxis\":\"x\",\"y\":[5.5,5.0],\"yaxis\":\"y\",\"type\":\"bar\"},{\"alignmentgroup\":\"True\",\"customdata\":[[\"Tonga\"],[\"Tonga\"]],\"hovertemplate\":\"Reference area=%{customdata[0]}<br>Time=%{x}<br>Value=%{y}<extra></extra>\",\"legendgroup\":\"Tonga\",\"marker\":{\"color\":\"#ab63fa\",\"pattern\":{\"shape\":\"\"}},\"name\":\"Tonga\",\"offsetgroup\":\"Tonga\",\"orientation\":\"v\",\"showlegend\":true,\"textposition\":\"auto\",\"x\":[2020,2021],\"xaxis\":\"x\",\"y\":[4.5,6.7],\"yaxis\":\"y\",\"type\":\"bar\"},{\"alignmentgroup\":\"True\",\"customdata\":[[\"Trinidad and Tobago\"],[\"Trinidad and Tobago\"]],\"hovertemplate\":\"Reference area=%{customdata[0]}<br>Time=%{x}<br>Value=%{y}<extra></extra>\",\"legendgroup\":\"Trinidad and Tobago\",\"marker\":{\"color\":\"#FFA15A\",\"pattern\":{\"shape\":\"\"}},\"name\":\"Trinidad and Tobago\",\"offsetgroup\":\"Trinidad and Tobago\",\"orientation\":\"v\",\"showlegend\":true,\"textposition\":\"auto\",\"x\":[2020,2021],\"xaxis\":\"x\",\"y\":[10.9,5.7],\"yaxis\":\"y\",\"type\":\"bar\"},{\"alignmentgroup\":\"True\",\"customdata\":[[\"Tunisia\"],[\"Tunisia\"]],\"hovertemplate\":\"Reference area=%{customdata[0]}<br>Time=%{x}<br>Value=%{y}<extra></extra>\",\"legendgroup\":\"Tunisia\",\"marker\":{\"color\":\"#19d3f3\",\"pattern\":{\"shape\":\"\"}},\"name\":\"Tunisia\",\"offsetgroup\":\"Tunisia\",\"orientation\":\"v\",\"showlegend\":true,\"textposition\":\"auto\",\"x\":[2020,2021],\"xaxis\":\"x\",\"y\":[5.9,8.2],\"yaxis\":\"y\",\"type\":\"bar\"},{\"alignmentgroup\":\"True\",\"customdata\":[[\"Turkey\"],[\"Turkey\"]],\"hovertemplate\":\"Reference area=%{customdata[0]}<br>Time=%{x}<br>Value=%{y}<extra></extra>\",\"legendgroup\":\"Turkey\",\"marker\":{\"color\":\"#FF6692\",\"pattern\":{\"shape\":\"\"}},\"name\":\"Turkey\",\"offsetgroup\":\"Turkey\",\"orientation\":\"v\",\"showlegend\":true,\"textposition\":\"auto\",\"x\":[2020,2021],\"xaxis\":\"x\",\"y\":[14.3,3.9],\"yaxis\":\"y\",\"type\":\"bar\"},{\"alignmentgroup\":\"True\",\"customdata\":[[\"Turkmenistan\"],[\"Turkmenistan\"]],\"hovertemplate\":\"Reference area=%{customdata[0]}<br>Time=%{x}<br>Value=%{y}<extra></extra>\",\"legendgroup\":\"Turkmenistan\",\"marker\":{\"color\":\"#B6E880\",\"pattern\":{\"shape\":\"\"}},\"name\":\"Turkmenistan\",\"offsetgroup\":\"Turkmenistan\",\"orientation\":\"v\",\"showlegend\":true,\"textposition\":\"auto\",\"x\":[2020,2021],\"xaxis\":\"x\",\"y\":[3.5,7.8],\"yaxis\":\"y\",\"type\":\"bar\"},{\"alignmentgroup\":\"True\",\"customdata\":[[\"Uganda\"],[\"Uganda\"]],\"hovertemplate\":\"Reference area=%{customdata[0]}<br>Time=%{x}<br>Value=%{y}<extra></extra>\",\"legendgroup\":\"Uganda\",\"marker\":{\"color\":\"#FF97FF\",\"pattern\":{\"shape\":\"\"}},\"name\":\"Uganda\",\"offsetgroup\":\"Uganda\",\"orientation\":\"v\",\"showlegend\":true,\"textposition\":\"auto\",\"x\":[2020,2021],\"xaxis\":\"x\",\"y\":[12.3,7.6],\"yaxis\":\"y\",\"type\":\"bar\"},{\"alignmentgroup\":\"True\",\"customdata\":[[\"Ukraine\"],[\"Ukraine\"]],\"hovertemplate\":\"Reference area=%{customdata[0]}<br>Time=%{x}<br>Value=%{y}<extra></extra>\",\"legendgroup\":\"Ukraine\",\"marker\":{\"color\":\"#FECB52\",\"pattern\":{\"shape\":\"\"}},\"name\":\"Ukraine\",\"offsetgroup\":\"Ukraine\",\"orientation\":\"v\",\"showlegend\":true,\"textposition\":\"auto\",\"x\":[2020,2021],\"xaxis\":\"x\",\"y\":[8.5,7.1],\"yaxis\":\"y\",\"type\":\"bar\"},{\"alignmentgroup\":\"True\",\"customdata\":[[\"United Arab Emirates\"],[\"United Arab Emirates\"]],\"hovertemplate\":\"Reference area=%{customdata[0]}<br>Time=%{x}<br>Value=%{y}<extra></extra>\",\"legendgroup\":\"United Arab Emirates\",\"marker\":{\"color\":\"#636efa\",\"pattern\":{\"shape\":\"\"}},\"name\":\"United Arab Emirates\",\"offsetgroup\":\"United Arab Emirates\",\"orientation\":\"v\",\"showlegend\":true,\"textposition\":\"auto\",\"x\":[2020,2021],\"xaxis\":\"x\",\"y\":[9.7,7.1],\"yaxis\":\"y\",\"type\":\"bar\"},{\"alignmentgroup\":\"True\",\"customdata\":[[\"United Kingdom\"],[\"United Kingdom\"]],\"hovertemplate\":\"Reference area=%{customdata[0]}<br>Time=%{x}<br>Value=%{y}<extra></extra>\",\"legendgroup\":\"United Kingdom\",\"marker\":{\"color\":\"#EF553B\",\"pattern\":{\"shape\":\"\"}},\"name\":\"United Kingdom\",\"offsetgroup\":\"United Kingdom\",\"orientation\":\"v\",\"showlegend\":true,\"textposition\":\"auto\",\"x\":[2020,2021],\"xaxis\":\"x\",\"y\":[11.0,5.0],\"yaxis\":\"y\",\"type\":\"bar\"},{\"alignmentgroup\":\"True\",\"customdata\":[[\"United States\"],[\"United States\"]],\"hovertemplate\":\"Reference area=%{customdata[0]}<br>Time=%{x}<br>Value=%{y}<extra></extra>\",\"legendgroup\":\"United States\",\"marker\":{\"color\":\"#00cc96\",\"pattern\":{\"shape\":\"\"}},\"name\":\"United States\",\"offsetgroup\":\"United States\",\"orientation\":\"v\",\"showlegend\":true,\"textposition\":\"auto\",\"x\":[2020,2021],\"xaxis\":\"x\",\"y\":[9.6,5.0],\"yaxis\":\"y\",\"type\":\"bar\"},{\"alignmentgroup\":\"True\",\"customdata\":[[\"United States Virgin Islands\"],[\"United States Virgin Islands\"]],\"hovertemplate\":\"Reference area=%{customdata[0]}<br>Time=%{x}<br>Value=%{y}<extra></extra>\",\"legendgroup\":\"United States Virgin Islands\",\"marker\":{\"color\":\"#ab63fa\",\"pattern\":{\"shape\":\"\"}},\"name\":\"United States Virgin Islands\",\"offsetgroup\":\"United States Virgin Islands\",\"orientation\":\"v\",\"showlegend\":true,\"textposition\":\"auto\",\"x\":[2020,2021],\"xaxis\":\"x\",\"y\":[4.6,4.1],\"yaxis\":\"y\",\"type\":\"bar\"},{\"alignmentgroup\":\"True\",\"customdata\":[[\"Uruguay\"],[\"Uruguay\"]],\"hovertemplate\":\"Reference area=%{customdata[0]}<br>Time=%{x}<br>Value=%{y}<extra></extra>\",\"legendgroup\":\"Uruguay\",\"marker\":{\"color\":\"#FFA15A\",\"pattern\":{\"shape\":\"\"}},\"name\":\"Uruguay\",\"offsetgroup\":\"Uruguay\",\"orientation\":\"v\",\"showlegend\":true,\"textposition\":\"auto\",\"x\":[2020,2021],\"xaxis\":\"x\",\"y\":[11.6,-0.6],\"yaxis\":\"y\",\"type\":\"bar\"},{\"alignmentgroup\":\"True\",\"customdata\":[[\"Uzbekistan\"],[\"Uzbekistan\"]],\"hovertemplate\":\"Reference area=%{customdata[0]}<br>Time=%{x}<br>Value=%{y}<extra></extra>\",\"legendgroup\":\"Uzbekistan\",\"marker\":{\"color\":\"#19d3f3\",\"pattern\":{\"shape\":\"\"}},\"name\":\"Uzbekistan\",\"offsetgroup\":\"Uzbekistan\",\"orientation\":\"v\",\"showlegend\":true,\"textposition\":\"auto\",\"x\":[2020,2021],\"xaxis\":\"x\",\"y\":[8.4,6.5],\"yaxis\":\"y\",\"type\":\"bar\"},{\"alignmentgroup\":\"True\",\"customdata\":[[\"Vanuatu\"],[\"Vanuatu\"]],\"hovertemplate\":\"Reference area=%{customdata[0]}<br>Time=%{x}<br>Value=%{y}<extra></extra>\",\"legendgroup\":\"Vanuatu\",\"marker\":{\"color\":\"#FF6692\",\"pattern\":{\"shape\":\"\"}},\"name\":\"Vanuatu\",\"offsetgroup\":\"Vanuatu\",\"orientation\":\"v\",\"showlegend\":true,\"textposition\":\"auto\",\"x\":[2020,2021],\"xaxis\":\"x\",\"y\":[5.0,1.2],\"yaxis\":\"y\",\"type\":\"bar\"},{\"alignmentgroup\":\"True\",\"customdata\":[[\"Venezuela, Bolivarian Republic of\"],[\"Venezuela, Bolivarian Republic of\"]],\"hovertemplate\":\"Reference area=%{customdata[0]}<br>Time=%{x}<br>Value=%{y}<extra></extra>\",\"legendgroup\":\"Venezuela, Bolivarian Republic of\",\"marker\":{\"color\":\"#B6E880\",\"pattern\":{\"shape\":\"\"}},\"name\":\"Venezuela, Bolivarian Republic of\",\"offsetgroup\":\"Venezuela, Bolivarian Republic of\",\"orientation\":\"v\",\"showlegend\":true,\"textposition\":\"auto\",\"x\":[2020,2021],\"xaxis\":\"x\",\"y\":[12.8,8.4],\"yaxis\":\"y\",\"type\":\"bar\"},{\"alignmentgroup\":\"True\",\"customdata\":[[\"Viet Nam\"],[\"Viet Nam\"]],\"hovertemplate\":\"Reference area=%{customdata[0]}<br>Time=%{x}<br>Value=%{y}<extra></extra>\",\"legendgroup\":\"Viet Nam\",\"marker\":{\"color\":\"#FF97FF\",\"pattern\":{\"shape\":\"\"}},\"name\":\"Viet Nam\",\"offsetgroup\":\"Viet Nam\",\"orientation\":\"v\",\"showlegend\":true,\"textposition\":\"auto\",\"x\":[2020,2021],\"xaxis\":\"x\",\"y\":[6.4,7.4],\"yaxis\":\"y\",\"type\":\"bar\"},{\"alignmentgroup\":\"True\",\"customdata\":[[\"Western Sahara\"],[\"Western Sahara\"]],\"hovertemplate\":\"Reference area=%{customdata[0]}<br>Time=%{x}<br>Value=%{y}<extra></extra>\",\"legendgroup\":\"Western Sahara\",\"marker\":{\"color\":\"#FECB52\",\"pattern\":{\"shape\":\"\"}},\"name\":\"Western Sahara\",\"offsetgroup\":\"Western Sahara\",\"orientation\":\"v\",\"showlegend\":true,\"textposition\":\"auto\",\"x\":[2020,2021],\"xaxis\":\"x\",\"y\":[8.0,5.0],\"yaxis\":\"y\",\"type\":\"bar\"},{\"alignmentgroup\":\"True\",\"customdata\":[[\"Yemen\"],[\"Yemen\"]],\"hovertemplate\":\"Reference area=%{customdata[0]}<br>Time=%{x}<br>Value=%{y}<extra></extra>\",\"legendgroup\":\"Yemen\",\"marker\":{\"color\":\"#636efa\",\"pattern\":{\"shape\":\"\"}},\"name\":\"Yemen\",\"offsetgroup\":\"Yemen\",\"orientation\":\"v\",\"showlegend\":true,\"textposition\":\"auto\",\"x\":[2020,2021],\"xaxis\":\"x\",\"y\":[2.5,2.9],\"yaxis\":\"y\",\"type\":\"bar\"},{\"alignmentgroup\":\"True\",\"customdata\":[[\"Zambia\"],[\"Zambia\"]],\"hovertemplate\":\"Reference area=%{customdata[0]}<br>Time=%{x}<br>Value=%{y}<extra></extra>\",\"legendgroup\":\"Zambia\",\"marker\":{\"color\":\"#EF553B\",\"pattern\":{\"shape\":\"\"}},\"name\":\"Zambia\",\"offsetgroup\":\"Zambia\",\"orientation\":\"v\",\"showlegend\":true,\"textposition\":\"auto\",\"x\":[2020,2021],\"xaxis\":\"x\",\"y\":[3.4,4.9],\"yaxis\":\"y\",\"type\":\"bar\"},{\"alignmentgroup\":\"True\",\"customdata\":[[\"Zimbabwe\"],[\"Zimbabwe\"]],\"hovertemplate\":\"Reference area=%{customdata[0]}<br>Time=%{x}<br>Value=%{y}<extra></extra>\",\"legendgroup\":\"Zimbabwe\",\"marker\":{\"color\":\"#00cc96\",\"pattern\":{\"shape\":\"\"}},\"name\":\"Zimbabwe\",\"offsetgroup\":\"Zimbabwe\",\"orientation\":\"v\",\"showlegend\":true,\"textposition\":\"auto\",\"x\":[2020,2021],\"xaxis\":\"x\",\"y\":[9.2,6.3],\"yaxis\":\"y\",\"type\":\"bar\"}],                        {\"template\":{\"data\":{\"bar\":[{\"error_x\":{\"color\":\"#2a3f5f\"},\"error_y\":{\"color\":\"#2a3f5f\"},\"marker\":{\"line\":{\"color\":\"#E5ECF6\",\"width\":0.5},\"pattern\":{\"fillmode\":\"overlay\",\"size\":10,\"solidity\":0.2}},\"type\":\"bar\"}],\"barpolar\":[{\"marker\":{\"line\":{\"color\":\"#E5ECF6\",\"width\":0.5},\"pattern\":{\"fillmode\":\"overlay\",\"size\":10,\"solidity\":0.2}},\"type\":\"barpolar\"}],\"carpet\":[{\"aaxis\":{\"endlinecolor\":\"#2a3f5f\",\"gridcolor\":\"white\",\"linecolor\":\"white\",\"minorgridcolor\":\"white\",\"startlinecolor\":\"#2a3f5f\"},\"baxis\":{\"endlinecolor\":\"#2a3f5f\",\"gridcolor\":\"white\",\"linecolor\":\"white\",\"minorgridcolor\":\"white\",\"startlinecolor\":\"#2a3f5f\"},\"type\":\"carpet\"}],\"choropleth\":[{\"colorbar\":{\"outlinewidth\":0,\"ticks\":\"\"},\"type\":\"choropleth\"}],\"contour\":[{\"colorbar\":{\"outlinewidth\":0,\"ticks\":\"\"},\"colorscale\":[[0.0,\"#0d0887\"],[0.1111111111111111,\"#46039f\"],[0.2222222222222222,\"#7201a8\"],[0.3333333333333333,\"#9c179e\"],[0.4444444444444444,\"#bd3786\"],[0.5555555555555556,\"#d8576b\"],[0.6666666666666666,\"#ed7953\"],[0.7777777777777778,\"#fb9f3a\"],[0.8888888888888888,\"#fdca26\"],[1.0,\"#f0f921\"]],\"type\":\"contour\"}],\"contourcarpet\":[{\"colorbar\":{\"outlinewidth\":0,\"ticks\":\"\"},\"type\":\"contourcarpet\"}],\"heatmap\":[{\"colorbar\":{\"outlinewidth\":0,\"ticks\":\"\"},\"colorscale\":[[0.0,\"#0d0887\"],[0.1111111111111111,\"#46039f\"],[0.2222222222222222,\"#7201a8\"],[0.3333333333333333,\"#9c179e\"],[0.4444444444444444,\"#bd3786\"],[0.5555555555555556,\"#d8576b\"],[0.6666666666666666,\"#ed7953\"],[0.7777777777777778,\"#fb9f3a\"],[0.8888888888888888,\"#fdca26\"],[1.0,\"#f0f921\"]],\"type\":\"heatmap\"}],\"heatmapgl\":[{\"colorbar\":{\"outlinewidth\":0,\"ticks\":\"\"},\"colorscale\":[[0.0,\"#0d0887\"],[0.1111111111111111,\"#46039f\"],[0.2222222222222222,\"#7201a8\"],[0.3333333333333333,\"#9c179e\"],[0.4444444444444444,\"#bd3786\"],[0.5555555555555556,\"#d8576b\"],[0.6666666666666666,\"#ed7953\"],[0.7777777777777778,\"#fb9f3a\"],[0.8888888888888888,\"#fdca26\"],[1.0,\"#f0f921\"]],\"type\":\"heatmapgl\"}],\"histogram\":[{\"marker\":{\"pattern\":{\"fillmode\":\"overlay\",\"size\":10,\"solidity\":0.2}},\"type\":\"histogram\"}],\"histogram2d\":[{\"colorbar\":{\"outlinewidth\":0,\"ticks\":\"\"},\"colorscale\":[[0.0,\"#0d0887\"],[0.1111111111111111,\"#46039f\"],[0.2222222222222222,\"#7201a8\"],[0.3333333333333333,\"#9c179e\"],[0.4444444444444444,\"#bd3786\"],[0.5555555555555556,\"#d8576b\"],[0.6666666666666666,\"#ed7953\"],[0.7777777777777778,\"#fb9f3a\"],[0.8888888888888888,\"#fdca26\"],[1.0,\"#f0f921\"]],\"type\":\"histogram2d\"}],\"histogram2dcontour\":[{\"colorbar\":{\"outlinewidth\":0,\"ticks\":\"\"},\"colorscale\":[[0.0,\"#0d0887\"],[0.1111111111111111,\"#46039f\"],[0.2222222222222222,\"#7201a8\"],[0.3333333333333333,\"#9c179e\"],[0.4444444444444444,\"#bd3786\"],[0.5555555555555556,\"#d8576b\"],[0.6666666666666666,\"#ed7953\"],[0.7777777777777778,\"#fb9f3a\"],[0.8888888888888888,\"#fdca26\"],[1.0,\"#f0f921\"]],\"type\":\"histogram2dcontour\"}],\"mesh3d\":[{\"colorbar\":{\"outlinewidth\":0,\"ticks\":\"\"},\"type\":\"mesh3d\"}],\"parcoords\":[{\"line\":{\"colorbar\":{\"outlinewidth\":0,\"ticks\":\"\"}},\"type\":\"parcoords\"}],\"pie\":[{\"automargin\":true,\"type\":\"pie\"}],\"scatter\":[{\"marker\":{\"colorbar\":{\"outlinewidth\":0,\"ticks\":\"\"}},\"type\":\"scatter\"}],\"scatter3d\":[{\"line\":{\"colorbar\":{\"outlinewidth\":0,\"ticks\":\"\"}},\"marker\":{\"colorbar\":{\"outlinewidth\":0,\"ticks\":\"\"}},\"type\":\"scatter3d\"}],\"scattercarpet\":[{\"marker\":{\"colorbar\":{\"outlinewidth\":0,\"ticks\":\"\"}},\"type\":\"scattercarpet\"}],\"scattergeo\":[{\"marker\":{\"colorbar\":{\"outlinewidth\":0,\"ticks\":\"\"}},\"type\":\"scattergeo\"}],\"scattergl\":[{\"marker\":{\"colorbar\":{\"outlinewidth\":0,\"ticks\":\"\"}},\"type\":\"scattergl\"}],\"scattermapbox\":[{\"marker\":{\"colorbar\":{\"outlinewidth\":0,\"ticks\":\"\"}},\"type\":\"scattermapbox\"}],\"scatterpolar\":[{\"marker\":{\"colorbar\":{\"outlinewidth\":0,\"ticks\":\"\"}},\"type\":\"scatterpolar\"}],\"scatterpolargl\":[{\"marker\":{\"colorbar\":{\"outlinewidth\":0,\"ticks\":\"\"}},\"type\":\"scatterpolargl\"}],\"scatterternary\":[{\"marker\":{\"colorbar\":{\"outlinewidth\":0,\"ticks\":\"\"}},\"type\":\"scatterternary\"}],\"surface\":[{\"colorbar\":{\"outlinewidth\":0,\"ticks\":\"\"},\"colorscale\":[[0.0,\"#0d0887\"],[0.1111111111111111,\"#46039f\"],[0.2222222222222222,\"#7201a8\"],[0.3333333333333333,\"#9c179e\"],[0.4444444444444444,\"#bd3786\"],[0.5555555555555556,\"#d8576b\"],[0.6666666666666666,\"#ed7953\"],[0.7777777777777778,\"#fb9f3a\"],[0.8888888888888888,\"#fdca26\"],[1.0,\"#f0f921\"]],\"type\":\"surface\"}],\"table\":[{\"cells\":{\"fill\":{\"color\":\"#EBF0F8\"},\"line\":{\"color\":\"white\"}},\"header\":{\"fill\":{\"color\":\"#C8D4E3\"},\"line\":{\"color\":\"white\"}},\"type\":\"table\"}]},\"layout\":{\"annotationdefaults\":{\"arrowcolor\":\"#2a3f5f\",\"arrowhead\":0,\"arrowwidth\":1},\"autotypenumbers\":\"strict\",\"coloraxis\":{\"colorbar\":{\"outlinewidth\":0,\"ticks\":\"\"}},\"colorscale\":{\"diverging\":[[0,\"#8e0152\"],[0.1,\"#c51b7d\"],[0.2,\"#de77ae\"],[0.3,\"#f1b6da\"],[0.4,\"#fde0ef\"],[0.5,\"#f7f7f7\"],[0.6,\"#e6f5d0\"],[0.7,\"#b8e186\"],[0.8,\"#7fbc41\"],[0.9,\"#4d9221\"],[1,\"#276419\"]],\"sequential\":[[0.0,\"#0d0887\"],[0.1111111111111111,\"#46039f\"],[0.2222222222222222,\"#7201a8\"],[0.3333333333333333,\"#9c179e\"],[0.4444444444444444,\"#bd3786\"],[0.5555555555555556,\"#d8576b\"],[0.6666666666666666,\"#ed7953\"],[0.7777777777777778,\"#fb9f3a\"],[0.8888888888888888,\"#fdca26\"],[1.0,\"#f0f921\"]],\"sequentialminus\":[[0.0,\"#0d0887\"],[0.1111111111111111,\"#46039f\"],[0.2222222222222222,\"#7201a8\"],[0.3333333333333333,\"#9c179e\"],[0.4444444444444444,\"#bd3786\"],[0.5555555555555556,\"#d8576b\"],[0.6666666666666666,\"#ed7953\"],[0.7777777777777778,\"#fb9f3a\"],[0.8888888888888888,\"#fdca26\"],[1.0,\"#f0f921\"]]},\"colorway\":[\"#636efa\",\"#EF553B\",\"#00cc96\",\"#ab63fa\",\"#FFA15A\",\"#19d3f3\",\"#FF6692\",\"#B6E880\",\"#FF97FF\",\"#FECB52\"],\"font\":{\"color\":\"#2a3f5f\"},\"geo\":{\"bgcolor\":\"white\",\"lakecolor\":\"white\",\"landcolor\":\"#E5ECF6\",\"showlakes\":true,\"showland\":true,\"subunitcolor\":\"white\"},\"hoverlabel\":{\"align\":\"left\"},\"hovermode\":\"closest\",\"mapbox\":{\"style\":\"light\"},\"paper_bgcolor\":\"white\",\"plot_bgcolor\":\"#E5ECF6\",\"polar\":{\"angularaxis\":{\"gridcolor\":\"white\",\"linecolor\":\"white\",\"ticks\":\"\"},\"bgcolor\":\"#E5ECF6\",\"radialaxis\":{\"gridcolor\":\"white\",\"linecolor\":\"white\",\"ticks\":\"\"}},\"scene\":{\"xaxis\":{\"backgroundcolor\":\"#E5ECF6\",\"gridcolor\":\"white\",\"gridwidth\":2,\"linecolor\":\"white\",\"showbackground\":true,\"ticks\":\"\",\"zerolinecolor\":\"white\"},\"yaxis\":{\"backgroundcolor\":\"#E5ECF6\",\"gridcolor\":\"white\",\"gridwidth\":2,\"linecolor\":\"white\",\"showbackground\":true,\"ticks\":\"\",\"zerolinecolor\":\"white\"},\"zaxis\":{\"backgroundcolor\":\"#E5ECF6\",\"gridcolor\":\"white\",\"gridwidth\":2,\"linecolor\":\"white\",\"showbackground\":true,\"ticks\":\"\",\"zerolinecolor\":\"white\"}},\"shapedefaults\":{\"line\":{\"color\":\"#2a3f5f\"}},\"ternary\":{\"aaxis\":{\"gridcolor\":\"white\",\"linecolor\":\"white\",\"ticks\":\"\"},\"baxis\":{\"gridcolor\":\"white\",\"linecolor\":\"white\",\"ticks\":\"\"},\"bgcolor\":\"#E5ECF6\",\"caxis\":{\"gridcolor\":\"white\",\"linecolor\":\"white\",\"ticks\":\"\"}},\"title\":{\"x\":0.05},\"xaxis\":{\"automargin\":true,\"gridcolor\":\"white\",\"linecolor\":\"white\",\"ticks\":\"\",\"title\":{\"standoff\":15},\"zerolinecolor\":\"white\",\"zerolinewidth\":2},\"yaxis\":{\"automargin\":true,\"gridcolor\":\"white\",\"linecolor\":\"white\",\"ticks\":\"\",\"title\":{\"standoff\":15},\"zerolinecolor\":\"white\",\"zerolinewidth\":2}}},\"xaxis\":{\"anchor\":\"y\",\"domain\":[0.0,1.0],\"title\":{\"text\":\"Time\"}},\"yaxis\":{\"anchor\":\"x\",\"domain\":[0.0,1.0],\"title\":{\"text\":\"Value\"}},\"legend\":{\"title\":{\"text\":\"Reference area\"},\"tracegroupgap\":0},\"margin\":{\"t\":60},\"barmode\":\"relative\"},                        {\"responsive\": true}                    ).then(function(){\n",
       "                            \n",
       "var gd = document.getElementById('64e1b336-7fd8-416d-9070-88082d84d1ba');\n",
       "var x = new MutationObserver(function (mutations, observer) {{\n",
       "        var display = window.getComputedStyle(gd).display;\n",
       "        if (!display || display === 'none') {{\n",
       "            console.log([gd, 'removed!']);\n",
       "            Plotly.purge(gd);\n",
       "            observer.disconnect();\n",
       "        }}\n",
       "}});\n",
       "\n",
       "// Listen for the removal of the full notebook cells\n",
       "var notebookContainer = gd.closest('#notebook-container');\n",
       "if (notebookContainer) {{\n",
       "    x.observe(notebookContainer, {childList: true});\n",
       "}}\n",
       "\n",
       "// Listen for the clearing of the current output cell\n",
       "var outputEl = gd.closest('.output');\n",
       "if (outputEl) {{\n",
       "    x.observe(outputEl, {childList: true});\n",
       "}}\n",
       "\n",
       "                        })                };                });            </script>        </div>"
      ]
     },
     "metadata": {},
     "output_type": "display_data"
    }
   ],
   "source": [
    "fig=px.bar(df1,x=\"Time\",y=\"Value\",color=\"Reference area\",hover_data=[\"Reference area\"])\n",
    "fig.show()"
   ]
  },
  {
   "cell_type": "code",
   "execution_count": 110,
   "metadata": {},
   "outputs": [
    {
     "data": {
      "application/vnd.plotly.v1+json": {
       "config": {
        "plotlyServerURL": "https://plot.ly"
       },
       "data": [
        {
         "alignmentgroup": "True",
         "customdata": [
          [
           2020
          ],
          [
           2021
          ],
          [
           2020
          ],
          [
           2021
          ],
          [
           2020
          ],
          [
           2021
          ],
          [
           2020
          ],
          [
           2021
          ],
          [
           2020
          ],
          [
           2021
          ],
          [
           2020
          ],
          [
           2021
          ],
          [
           2020
          ],
          [
           2021
          ],
          [
           2020
          ],
          [
           2021
          ],
          [
           2020
          ],
          [
           2021
          ],
          [
           2020
          ],
          [
           2021
          ],
          [
           2020
          ],
          [
           2021
          ],
          [
           2020
          ],
          [
           2021
          ],
          [
           2020
          ],
          [
           2021
          ],
          [
           2020
          ],
          [
           2021
          ],
          [
           2020
          ],
          [
           2021
          ],
          [
           2020
          ],
          [
           2021
          ],
          [
           2020
          ],
          [
           2021
          ],
          [
           2020
          ],
          [
           2021
          ],
          [
           2020
          ],
          [
           2021
          ],
          [
           2020
          ],
          [
           2021
          ],
          [
           2020
          ],
          [
           2021
          ],
          [
           2020
          ],
          [
           2021
          ],
          [
           2020
          ],
          [
           2021
          ],
          [
           2020
          ],
          [
           2021
          ],
          [
           2020
          ],
          [
           2021
          ],
          [
           2020
          ],
          [
           2021
          ],
          [
           2020
          ],
          [
           2021
          ],
          [
           2020
          ],
          [
           2021
          ],
          [
           2020
          ],
          [
           2021
          ],
          [
           2020
          ],
          [
           2021
          ],
          [
           2020
          ],
          [
           2021
          ],
          [
           2020
          ],
          [
           2021
          ],
          [
           2020
          ],
          [
           2021
          ],
          [
           2020
          ],
          [
           2021
          ],
          [
           2020
          ],
          [
           2021
          ],
          [
           2020
          ],
          [
           2021
          ],
          [
           2020
          ],
          [
           2021
          ],
          [
           2020
          ],
          [
           2021
          ],
          [
           2020
          ],
          [
           2021
          ],
          [
           2020
          ],
          [
           2021
          ],
          [
           2020
          ],
          [
           2021
          ],
          [
           2020
          ],
          [
           2021
          ],
          [
           2020
          ],
          [
           2021
          ],
          [
           2020
          ],
          [
           2021
          ],
          [
           2020
          ],
          [
           2021
          ],
          [
           2020
          ],
          [
           2021
          ],
          [
           2020
          ],
          [
           2021
          ],
          [
           2020
          ],
          [
           2021
          ],
          [
           2020
          ],
          [
           2021
          ],
          [
           2020
          ],
          [
           2021
          ],
          [
           2020
          ],
          [
           2021
          ],
          [
           2020
          ],
          [
           2021
          ],
          [
           2020
          ],
          [
           2021
          ],
          [
           2020
          ],
          [
           2021
          ],
          [
           2020
          ],
          [
           2021
          ],
          [
           2020
          ],
          [
           2021
          ],
          [
           2020
          ],
          [
           2021
          ],
          [
           2020
          ],
          [
           2021
          ],
          [
           2020
          ],
          [
           2021
          ],
          [
           2020
          ],
          [
           2021
          ],
          [
           2020
          ],
          [
           2021
          ],
          [
           2020
          ],
          [
           2021
          ],
          [
           2020
          ],
          [
           2021
          ],
          [
           2020
          ],
          [
           2021
          ],
          [
           2020
          ],
          [
           2021
          ],
          [
           2020
          ],
          [
           2021
          ],
          [
           2020
          ],
          [
           2021
          ],
          [
           2020
          ],
          [
           2021
          ],
          [
           2020
          ],
          [
           2021
          ],
          [
           2020
          ],
          [
           2021
          ],
          [
           2020
          ],
          [
           2021
          ],
          [
           2020
          ],
          [
           2021
          ],
          [
           2020
          ],
          [
           2021
          ],
          [
           2020
          ],
          [
           2021
          ],
          [
           2020
          ],
          [
           2021
          ],
          [
           2020
          ],
          [
           2021
          ],
          [
           2020
          ],
          [
           2021
          ],
          [
           2020
          ],
          [
           2021
          ],
          [
           2020
          ],
          [
           2021
          ],
          [
           2020
          ],
          [
           2021
          ],
          [
           2020
          ],
          [
           2021
          ],
          [
           2020
          ],
          [
           2021
          ],
          [
           2020
          ],
          [
           2021
          ],
          [
           2020
          ],
          [
           2021
          ],
          [
           2020
          ],
          [
           2021
          ],
          [
           2020
          ],
          [
           2021
          ],
          [
           2020
          ],
          [
           2020
          ],
          [
           2021
          ],
          [
           2021
          ],
          [
           2020
          ],
          [
           2021
          ],
          [
           2020
          ],
          [
           2021
          ],
          [
           2020
          ],
          [
           2021
          ],
          [
           2020
          ],
          [
           2021
          ],
          [
           2020
          ],
          [
           2021
          ],
          [
           2020
          ],
          [
           2021
          ],
          [
           2020
          ],
          [
           2021
          ],
          [
           2020
          ],
          [
           2021
          ],
          [
           2020
          ],
          [
           2021
          ],
          [
           2020
          ],
          [
           2021
          ],
          [
           2020
          ],
          [
           2021
          ],
          [
           2020
          ],
          [
           2021
          ],
          [
           2020
          ],
          [
           2021
          ],
          [
           2020
          ],
          [
           2021
          ],
          [
           2020
          ],
          [
           2021
          ],
          [
           2020
          ],
          [
           2021
          ],
          [
           2020
          ],
          [
           2021
          ],
          [
           2020
          ],
          [
           2021
          ],
          [
           2020
          ],
          [
           2021
          ],
          [
           2020
          ],
          [
           2021
          ],
          [
           2020
          ],
          [
           2021
          ],
          [
           2020
          ],
          [
           2021
          ],
          [
           2020
          ],
          [
           2021
          ],
          [
           2020
          ],
          [
           2021
          ],
          [
           2020
          ],
          [
           2021
          ],
          [
           2020
          ],
          [
           2021
          ],
          [
           2020
          ],
          [
           2021
          ],
          [
           2020
          ],
          [
           2021
          ],
          [
           2020
          ],
          [
           2021
          ],
          [
           2020
          ],
          [
           2021
          ],
          [
           2020
          ],
          [
           2021
          ],
          [
           2020
          ],
          [
           2021
          ],
          [
           2020
          ],
          [
           2021
          ],
          [
           2020
          ],
          [
           2021
          ],
          [
           2020
          ],
          [
           2021
          ],
          [
           2020
          ],
          [
           2021
          ],
          [
           2020
          ],
          [
           2021
          ],
          [
           2020
          ],
          [
           2021
          ],
          [
           2020
          ],
          [
           2021
          ],
          [
           2020
          ],
          [
           2021
          ],
          [
           2020
          ],
          [
           2021
          ],
          [
           2020
          ],
          [
           2021
          ],
          [
           2020
          ],
          [
           2021
          ],
          [
           2020
          ],
          [
           2021
          ],
          [
           2020
          ],
          [
           2021
          ],
          [
           2020
          ],
          [
           2021
          ],
          [
           2020
          ],
          [
           2021
          ],
          [
           2020
          ],
          [
           2021
          ],
          [
           2020
          ],
          [
           2021
          ],
          [
           2020
          ],
          [
           2021
          ],
          [
           2020
          ],
          [
           2021
          ],
          [
           2020
          ],
          [
           2021
          ],
          [
           2020
          ],
          [
           2021
          ],
          [
           2020
          ],
          [
           2021
          ],
          [
           2020
          ],
          [
           2021
          ],
          [
           2020
          ],
          [
           2021
          ],
          [
           2020
          ],
          [
           2021
          ],
          [
           2020
          ],
          [
           2021
          ],
          [
           2020
          ],
          [
           2021
          ],
          [
           2020
          ],
          [
           2021
          ],
          [
           2020
          ],
          [
           2021
          ],
          [
           2020
          ],
          [
           2021
          ],
          [
           2020
          ],
          [
           2021
          ],
          [
           2020
          ],
          [
           2021
          ],
          [
           2020
          ],
          [
           2021
          ],
          [
           2020
          ],
          [
           2021
          ],
          [
           2020
          ],
          [
           2021
          ],
          [
           2020
          ],
          [
           2021
          ],
          [
           2020
          ],
          [
           2021
          ],
          [
           2020
          ],
          [
           2021
          ],
          [
           2020
          ],
          [
           2021
          ],
          [
           2020
          ],
          [
           2021
          ],
          [
           2020
          ],
          [
           2021
          ],
          [
           2020
          ],
          [
           2021
          ],
          [
           2020
          ],
          [
           2021
          ],
          [
           2020
          ],
          [
           2021
          ],
          [
           2020
          ],
          [
           2021
          ],
          [
           2020
          ],
          [
           2021
          ],
          [
           2020
          ],
          [
           2021
          ],
          [
           2020
          ],
          [
           2021
          ],
          [
           2020
          ],
          [
           2021
          ],
          [
           2020
          ],
          [
           2021
          ],
          [
           2020
          ],
          [
           2021
          ],
          [
           2020
          ],
          [
           2021
          ],
          [
           2020
          ],
          [
           2021
          ],
          [
           2020
          ],
          [
           2021
          ],
          [
           2020
          ],
          [
           2021
          ],
          [
           2020
          ],
          [
           2021
          ],
          [
           2020
          ],
          [
           2021
          ],
          [
           2020
          ],
          [
           2021
          ],
          [
           2020
          ],
          [
           2021
          ],
          [
           2020
          ],
          [
           2021
          ],
          [
           2020
          ],
          [
           2021
          ],
          [
           2020
          ],
          [
           2021
          ],
          [
           2020
          ],
          [
           2021
          ],
          [
           2020
          ],
          [
           2021
          ],
          [
           2020
          ],
          [
           2021
          ],
          [
           2020
          ],
          [
           2021
          ],
          [
           2020
          ],
          [
           2021
          ],
          [
           2020
          ],
          [
           2021
          ],
          [
           2020
          ],
          [
           2021
          ],
          [
           2020
          ],
          [
           2021
          ],
          [
           2020
          ],
          [
           2021
          ],
          [
           2020
          ],
          [
           2021
          ],
          [
           2020
          ],
          [
           2021
          ],
          [
           2020
          ],
          [
           2021
          ],
          [
           2020
          ],
          [
           2021
          ],
          [
           2020
          ],
          [
           2021
          ],
          [
           2020
          ],
          [
           2021
          ],
          [
           2020
          ],
          [
           2021
          ],
          [
           2020
          ],
          [
           2021
          ],
          [
           2020
          ],
          [
           2021
          ],
          [
           2020
          ],
          [
           2021
          ],
          [
           2020
          ],
          [
           2021
          ],
          [
           2020
          ],
          [
           2021
          ],
          [
           2020
          ],
          [
           2021
          ],
          [
           2020
          ],
          [
           2021
          ],
          [
           2020
          ],
          [
           2021
          ],
          [
           2020
          ],
          [
           2021
          ],
          [
           2020
          ],
          [
           2021
          ],
          [
           2020
          ],
          [
           2021
          ],
          [
           2020
          ],
          [
           2021
          ],
          [
           2020
          ],
          [
           2021
          ],
          [
           2020
          ],
          [
           2021
          ],
          [
           2020
          ],
          [
           2021
          ],
          [
           2020
          ],
          [
           2021
          ],
          [
           2020
          ],
          [
           2021
          ],
          [
           2020
          ],
          [
           2021
          ],
          [
           2020
          ],
          [
           2021
          ],
          [
           2020
          ],
          [
           2021
          ],
          [
           2020
          ],
          [
           2021
          ],
          [
           2020
          ],
          [
           2021
          ],
          [
           2020
          ],
          [
           2021
          ],
          [
           2020
          ],
          [
           2021
          ],
          [
           2020
          ],
          [
           2021
          ],
          [
           2020
          ],
          [
           2021
          ],
          [
           2020
          ],
          [
           2021
          ],
          [
           2020
          ],
          [
           2021
          ],
          [
           2020
          ],
          [
           2021
          ],
          [
           2020
          ],
          [
           2021
          ],
          [
           2020
          ],
          [
           2021
          ],
          [
           2020
          ],
          [
           2021
          ],
          [
           2020
          ],
          [
           2021
          ],
          [
           2020
          ],
          [
           2021
          ],
          [
           2020
          ],
          [
           2021
          ],
          [
           2020
          ],
          [
           2021
          ],
          [
           2020
          ],
          [
           2021
          ],
          [
           2020
          ],
          [
           2021
          ],
          [
           2020
          ],
          [
           2021
          ],
          [
           2020
          ],
          [
           2021
          ],
          [
           2020
          ],
          [
           2021
          ],
          [
           2020
          ],
          [
           2021
          ],
          [
           2020
          ],
          [
           2021
          ],
          [
           2020
          ],
          [
           2021
          ],
          [
           2020
          ],
          [
           2021
          ],
          [
           2020
          ],
          [
           2021
          ],
          [
           2020
          ],
          [
           2021
          ],
          [
           2020
          ],
          [
           2021
          ],
          [
           2020
          ],
          [
           2021
          ],
          [
           2020
          ],
          [
           2021
          ],
          [
           2020
          ],
          [
           2021
          ],
          [
           2020
          ],
          [
           2021
          ],
          [
           2020
          ],
          [
           2021
          ],
          [
           2020
          ],
          [
           2021
          ],
          [
           2020
          ],
          [
           2021
          ],
          [
           2020
          ],
          [
           2021
          ],
          [
           2020
          ],
          [
           2021
          ],
          [
           2020
          ],
          [
           2021
          ],
          [
           2020
          ],
          [
           2021
          ],
          [
           2020
          ],
          [
           2021
          ],
          [
           2020
          ],
          [
           2021
          ],
          [
           2020
          ],
          [
           2021
          ],
          [
           2020
          ],
          [
           2021
          ],
          [
           2020
          ],
          [
           2021
          ],
          [
           2020
          ],
          [
           2021
          ],
          [
           2020
          ],
          [
           2021
          ],
          [
           2020
          ],
          [
           2021
          ],
          [
           2020
          ],
          [
           2021
          ],
          [
           2020
          ],
          [
           2021
          ],
          [
           2020
          ],
          [
           2021
          ],
          [
           2020
          ],
          [
           2021
          ],
          [
           2020
          ],
          [
           2021
          ],
          [
           2020
          ],
          [
           2021
          ],
          [
           2020
          ],
          [
           2021
          ],
          [
           2020
          ],
          [
           2021
          ],
          [
           2020
          ],
          [
           2021
          ],
          [
           2020
          ],
          [
           2021
          ],
          [
           2020
          ],
          [
           2021
          ],
          [
           2020
          ],
          [
           2021
          ],
          [
           2020
          ],
          [
           2021
          ],
          [
           2020
          ],
          [
           2021
          ],
          [
           2020
          ],
          [
           2021
          ],
          [
           2020
          ],
          [
           2021
          ],
          [
           2020
          ],
          [
           2021
          ],
          [
           2020
          ],
          [
           2021
          ]
         ],
         "hovertemplate": "Reference area=%{x}<br>Value=%{y}<br>Time=%{marker.color}<extra></extra>",
         "legendgroup": "",
         "marker": {
          "color": [
           2020,
           2021,
           2020,
           2021,
           2020,
           2021,
           2020,
           2021,
           2020,
           2021,
           2020,
           2021,
           2020,
           2021,
           2020,
           2021,
           2020,
           2021,
           2020,
           2021,
           2020,
           2021,
           2020,
           2021,
           2020,
           2021,
           2020,
           2021,
           2020,
           2021,
           2020,
           2021,
           2020,
           2021,
           2020,
           2021,
           2020,
           2021,
           2020,
           2021,
           2020,
           2021,
           2020,
           2021,
           2020,
           2021,
           2020,
           2021,
           2020,
           2021,
           2020,
           2021,
           2020,
           2021,
           2020,
           2021,
           2020,
           2021,
           2020,
           2021,
           2020,
           2021,
           2020,
           2021,
           2020,
           2021,
           2020,
           2021,
           2020,
           2021,
           2020,
           2021,
           2020,
           2021,
           2020,
           2021,
           2020,
           2021,
           2020,
           2021,
           2020,
           2021,
           2020,
           2021,
           2020,
           2021,
           2020,
           2021,
           2020,
           2021,
           2020,
           2021,
           2020,
           2021,
           2020,
           2021,
           2020,
           2021,
           2020,
           2021,
           2020,
           2021,
           2020,
           2021,
           2020,
           2021,
           2020,
           2021,
           2020,
           2021,
           2020,
           2021,
           2020,
           2021,
           2020,
           2021,
           2020,
           2021,
           2020,
           2021,
           2020,
           2021,
           2020,
           2021,
           2020,
           2021,
           2020,
           2021,
           2020,
           2021,
           2020,
           2021,
           2020,
           2021,
           2020,
           2021,
           2020,
           2021,
           2020,
           2021,
           2020,
           2021,
           2020,
           2021,
           2020,
           2021,
           2020,
           2021,
           2020,
           2021,
           2020,
           2021,
           2020,
           2021,
           2020,
           2021,
           2020,
           2021,
           2020,
           2021,
           2020,
           2021,
           2020,
           2021,
           2020,
           2021,
           2020,
           2021,
           2020,
           2021,
           2020,
           2021,
           2020,
           2020,
           2021,
           2021,
           2020,
           2021,
           2020,
           2021,
           2020,
           2021,
           2020,
           2021,
           2020,
           2021,
           2020,
           2021,
           2020,
           2021,
           2020,
           2021,
           2020,
           2021,
           2020,
           2021,
           2020,
           2021,
           2020,
           2021,
           2020,
           2021,
           2020,
           2021,
           2020,
           2021,
           2020,
           2021,
           2020,
           2021,
           2020,
           2021,
           2020,
           2021,
           2020,
           2021,
           2020,
           2021,
           2020,
           2021,
           2020,
           2021,
           2020,
           2021,
           2020,
           2021,
           2020,
           2021,
           2020,
           2021,
           2020,
           2021,
           2020,
           2021,
           2020,
           2021,
           2020,
           2021,
           2020,
           2021,
           2020,
           2021,
           2020,
           2021,
           2020,
           2021,
           2020,
           2021,
           2020,
           2021,
           2020,
           2021,
           2020,
           2021,
           2020,
           2021,
           2020,
           2021,
           2020,
           2021,
           2020,
           2021,
           2020,
           2021,
           2020,
           2021,
           2020,
           2021,
           2020,
           2021,
           2020,
           2021,
           2020,
           2021,
           2020,
           2021,
           2020,
           2021,
           2020,
           2021,
           2020,
           2021,
           2020,
           2021,
           2020,
           2021,
           2020,
           2021,
           2020,
           2021,
           2020,
           2021,
           2020,
           2021,
           2020,
           2021,
           2020,
           2021,
           2020,
           2021,
           2020,
           2021,
           2020,
           2021,
           2020,
           2021,
           2020,
           2021,
           2020,
           2021,
           2020,
           2021,
           2020,
           2021,
           2020,
           2021,
           2020,
           2021,
           2020,
           2021,
           2020,
           2021,
           2020,
           2021,
           2020,
           2021,
           2020,
           2021,
           2020,
           2021,
           2020,
           2021,
           2020,
           2021,
           2020,
           2021,
           2020,
           2021,
           2020,
           2021,
           2020,
           2021,
           2020,
           2021,
           2020,
           2021,
           2020,
           2021,
           2020,
           2021,
           2020,
           2021,
           2020,
           2021,
           2020,
           2021,
           2020,
           2021,
           2020,
           2021,
           2020,
           2021,
           2020,
           2021,
           2020,
           2021,
           2020,
           2021,
           2020,
           2021,
           2020,
           2021,
           2020,
           2021,
           2020,
           2021,
           2020,
           2021,
           2020,
           2021,
           2020,
           2021,
           2020,
           2021,
           2020,
           2021,
           2020,
           2021,
           2020,
           2021,
           2020,
           2021,
           2020,
           2021,
           2020,
           2021,
           2020,
           2021,
           2020,
           2021,
           2020,
           2021,
           2020,
           2021,
           2020,
           2021,
           2020,
           2021,
           2020,
           2021,
           2020,
           2021,
           2020,
           2021,
           2020,
           2021,
           2020,
           2021,
           2020,
           2021,
           2020,
           2021,
           2020,
           2021,
           2020,
           2021,
           2020,
           2021,
           2020,
           2021,
           2020,
           2021,
           2020,
           2021,
           2020,
           2021,
           2020,
           2021,
           2020,
           2021,
           2020,
           2021,
           2020,
           2021,
           2020,
           2021,
           2020,
           2021,
           2020,
           2021,
           2020,
           2021,
           2020,
           2021,
           2020,
           2021,
           2020,
           2021,
           2020,
           2021,
           2020,
           2021,
           2020,
           2021,
           2020,
           2021,
           2020,
           2021,
           2020,
           2021,
           2020,
           2021,
           2020,
           2021,
           2020,
           2021,
           2020,
           2021,
           2020,
           2021,
           2020,
           2021,
           2020,
           2021,
           2020,
           2021,
           2020,
           2021,
           2020,
           2021,
           2020,
           2021,
           2020,
           2021,
           2020,
           2021,
           2020,
           2021,
           2020,
           2021,
           2020,
           2021,
           2020,
           2021,
           2020,
           2021,
           2020,
           2021,
           2020,
           2021,
           2020,
           2021,
           2020,
           2021,
           2020,
           2021,
           2020,
           2021,
           2020,
           2021,
           2020,
           2021,
           2020,
           2021,
           2020,
           2021,
           2020,
           2021,
           2020,
           2021,
           2020,
           2021,
           2020,
           2021,
           2020,
           2021,
           2020,
           2021,
           2020,
           2021,
           2020,
           2021,
           2020,
           2021,
           2020,
           2021,
           2020,
           2021,
           2020,
           2021,
           2020,
           2021,
           2020,
           2021,
           2020,
           2021,
           2020,
           2021,
           2020,
           2021,
           2020,
           2021,
           2020,
           2021,
           2020,
           2021
          ],
          "coloraxis": "coloraxis",
          "pattern": {
           "shape": ""
          }
         },
         "name": "",
         "offsetgroup": "",
         "orientation": "v",
         "showlegend": false,
         "textposition": "auto",
         "type": "bar",
         "x": [
          "World",
          "World",
          "World: Low income",
          "World: Low income",
          "World: Lower-middle income",
          "World: Lower-middle income",
          "World: Upper-middle income",
          "World: Upper-middle income",
          "World: High income",
          "World: High income",
          "Africa",
          "Africa",
          "Africa: Low income",
          "Africa: Low income",
          "Africa: Lower-middle income",
          "Africa: Lower-middle income",
          "Africa: Upper-middle income",
          "Africa: Upper-middle income",
          "Africa: High income",
          "Africa: High income",
          "Northern Africa",
          "Northern Africa",
          "Northern Africa: Lower-middle income",
          "Northern Africa: Lower-middle income",
          "Northern Africa: Upper-middle income",
          "Northern Africa: Upper-middle income",
          "Sub-Saharan Africa",
          "Sub-Saharan Africa",
          "Sub-Saharan Africa: Low income",
          "Sub-Saharan Africa: Low income",
          "Sub-Saharan Africa: Lower-middle income",
          "Sub-Saharan Africa: Lower-middle income",
          "Sub-Saharan Africa: Upper-middle income",
          "Sub-Saharan Africa: Upper-middle income",
          "Sub-Saharan Africa: High income",
          "Sub-Saharan Africa: High income",
          "Central Africa",
          "Central Africa",
          "Eastern Africa",
          "Eastern Africa",
          "Southern Africa",
          "Southern Africa",
          "Western Africa",
          "Western Africa",
          "Americas",
          "Americas",
          "Americas: Low income",
          "Americas: Low income",
          "Americas: Lower-middle income",
          "Americas: Lower-middle income",
          "Americas: Upper-middle income",
          "Americas: Upper-middle income",
          "Americas: High income",
          "Americas: High income",
          "Latin America and the Caribbean",
          "Latin America and the Caribbean",
          "Latin America and the Caribbean: Low income",
          "Latin America and the Caribbean: Low income",
          "Latin America and the Caribbean: Lower-middle income",
          "Latin America and the Caribbean: Lower-middle income",
          "Latin America and the Caribbean: Upper-middle income",
          "Latin America and the Caribbean: Upper-middle income",
          "Latin America and the Caribbean: High income",
          "Latin America and the Caribbean: High income",
          "Caribbean",
          "Caribbean",
          "Central America",
          "Central America",
          "South America",
          "South America",
          "Northern America",
          "Northern America",
          "Northern America: High income",
          "Northern America: High income",
          "Arab States",
          "Arab States",
          "Arab States: Low income",
          "Arab States: Low income",
          "Arab States: Lower-middle income",
          "Arab States: Lower-middle income",
          "Arab States: Upper-middle income",
          "Arab States: Upper-middle income",
          "Arab States: High income",
          "Arab States: High income",
          "Asia and the Pacific",
          "Asia and the Pacific",
          "Asia and the Pacific: Low income",
          "Asia and the Pacific: Low income",
          "Asia and the Pacific: Lower-middle income",
          "Asia and the Pacific: Lower-middle income",
          "Asia and the Pacific: Upper-middle income",
          "Asia and the Pacific: Upper-middle income",
          "Asia and the Pacific: High income",
          "Asia and the Pacific: High income",
          "Eastern Asia",
          "Eastern Asia",
          "Eastern Asia: Low income",
          "Eastern Asia: Low income",
          "Eastern Asia: Lower-middle income",
          "Eastern Asia: Lower-middle income",
          "Eastern Asia: Upper-middle income",
          "Eastern Asia: Upper-middle income",
          "Eastern Asia: High income",
          "Eastern Asia: High income",
          "South-Eastern Asia and the Pacific",
          "South-Eastern Asia and the Pacific",
          "South-Eastern Asia and the Pacific: Lower-middle income",
          "South-Eastern Asia and the Pacific: Lower-middle income",
          "South-Eastern Asia and the Pacific: Upper-middle income",
          "South-Eastern Asia and the Pacific: Upper-middle income",
          "South-Eastern Asia and the Pacific: High income",
          "South-Eastern Asia and the Pacific: High income",
          "South-Eastern Asia",
          "South-Eastern Asia",
          "Pacific Islands",
          "Pacific Islands",
          "Southern Asia",
          "Southern Asia",
          "Southern Asia: Low income",
          "Southern Asia: Low income",
          "Southern Asia: Lower-middle income",
          "Southern Asia: Lower-middle income",
          "Southern Asia: Upper-middle income",
          "Southern Asia: Upper-middle income",
          "Europe and Central Asia",
          "Europe and Central Asia",
          "Europe and Central Asia: Low income",
          "Europe and Central Asia: Low income",
          "Europe and Central Asia: Lower-middle income",
          "Europe and Central Asia: Lower-middle income",
          "Europe and Central Asia: Upper-middle income",
          "Europe and Central Asia: Upper-middle income",
          "Europe and Central Asia: High income",
          "Europe and Central Asia: High income",
          "Northern, Southern and Western Europe",
          "Northern, Southern and Western Europe",
          "Northern, Southern and Western Europe: Upper-middle income",
          "Northern, Southern and Western Europe: Upper-middle income",
          "Northern, Southern and Western Europe: High income",
          "Northern, Southern and Western Europe: High income",
          "Northern Europe",
          "Northern Europe",
          "Southern Europe",
          "Southern Europe",
          "Western Europe",
          "Western Europe",
          "Eastern Europe",
          "Eastern Europe",
          "Eastern Europe: Lower-middle income",
          "Eastern Europe: Lower-middle income",
          "Eastern Europe: Upper-middle income",
          "Eastern Europe: Upper-middle income",
          "Eastern Europe: High income",
          "Eastern Europe: High income",
          "Central and Western Asia",
          "Central and Western Asia",
          "Central and Western Asia: Low income",
          "Central and Western Asia: Low income",
          "Central and Western Asia: Lower-middle income",
          "Central and Western Asia: Lower-middle income",
          "Central and Western Asia: Upper-middle income",
          "Central and Western Asia: Upper-middle income",
          "Central and Western Asia: High income",
          "Central and Western Asia: High income",
          "Central Asia",
          "Central Asia",
          "Western Asia",
          "Western Asia",
          "ASEAN",
          "ASEAN",
          "BRICS",
          "BRICS",
          "European Union 28",
          "European Union 27",
          "European Union 28",
          "European Union 27",
          "G20",
          "G20",
          "World excluding BRICS",
          "World excluding BRICS",
          "G7",
          "G7",
          "MENA",
          "MENA",
          "Arab League",
          "Arab League",
          "CARICOM",
          "CARICOM",
          "Afghanistan",
          "Afghanistan",
          "Albania",
          "Albania",
          "Algeria",
          "Algeria",
          "Angola",
          "Angola",
          "Argentina",
          "Argentina",
          "Armenia",
          "Armenia",
          "Australia",
          "Australia",
          "Austria",
          "Austria",
          "Azerbaijan",
          "Azerbaijan",
          "Bahamas",
          "Bahamas",
          "Bahrain",
          "Bahrain",
          "Bangladesh",
          "Bangladesh",
          "Barbados",
          "Barbados",
          "Belarus",
          "Belarus",
          "Belgium",
          "Belgium",
          "Belize",
          "Belize",
          "Benin",
          "Benin",
          "Bhutan",
          "Bhutan",
          "Bolivia",
          "Bolivia",
          "Bosnia and Herzegovina",
          "Bosnia and Herzegovina",
          "Botswana",
          "Botswana",
          "Brazil",
          "Brazil",
          "Brunei Darussalam",
          "Brunei Darussalam",
          "Bulgaria",
          "Bulgaria",
          "Burkina Faso",
          "Burkina Faso",
          "Burundi",
          "Burundi",
          "Cambodia",
          "Cambodia",
          "Cameroon",
          "Cameroon",
          "Canada",
          "Canada",
          "Cape Verde",
          "Cape Verde",
          "Central African Republic",
          "Central African Republic",
          "Chad",
          "Chad",
          "Channel Islands",
          "Channel Islands",
          "Chile",
          "Chile",
          "China",
          "China",
          "Colombia",
          "Colombia",
          "Comoros",
          "Comoros",
          "Congo",
          "Congo",
          "Congo, Democratic Republic of the",
          "Congo, Democratic Republic of the",
          "Costa Rica",
          "Costa Rica",
          "Croatia",
          "Croatia",
          "Cuba",
          "Cuba",
          "Cyprus",
          "Cyprus",
          "Czechia",
          "Czechia",
          "Côte d'Ivoire",
          "Côte d'Ivoire",
          "Denmark",
          "Denmark",
          "Djibouti",
          "Djibouti",
          "Dominican Republic",
          "Dominican Republic",
          "Ecuador",
          "Ecuador",
          "Egypt",
          "Egypt",
          "El Salvador",
          "El Salvador",
          "Equatorial Guinea",
          "Equatorial Guinea",
          "Eritrea",
          "Eritrea",
          "Estonia",
          "Estonia",
          "Eswatini",
          "Eswatini",
          "Ethiopia",
          "Ethiopia",
          "Fiji",
          "Fiji",
          "Finland",
          "Finland",
          "France",
          "France",
          "French Polynesia",
          "French Polynesia",
          "Gabon",
          "Gabon",
          "Gambia",
          "Gambia",
          "Georgia",
          "Georgia",
          "Germany",
          "Germany",
          "Ghana",
          "Ghana",
          "Greece",
          "Greece",
          "Guam",
          "Guam",
          "Guatemala",
          "Guatemala",
          "Guinea",
          "Guinea",
          "Guinea-Bissau",
          "Guinea-Bissau",
          "Guyana",
          "Guyana",
          "Haiti",
          "Haiti",
          "Honduras",
          "Honduras",
          "Hong Kong, China",
          "Hong Kong, China",
          "Hungary",
          "Hungary",
          "Iceland",
          "Iceland",
          "India",
          "India",
          "Indonesia",
          "Indonesia",
          "Iran, Islamic Republic of",
          "Iran, Islamic Republic of",
          "Iraq",
          "Iraq",
          "Ireland",
          "Ireland",
          "Israel",
          "Israel",
          "Italy",
          "Italy",
          "Jamaica",
          "Jamaica",
          "Japan",
          "Japan",
          "Jordan",
          "Jordan",
          "Kazakhstan",
          "Kazakhstan",
          "Kenya",
          "Kenya",
          "Korea, Democratic People's Republic of",
          "Korea, Democratic People's Republic of",
          "Korea, Republic of",
          "Korea, Republic of",
          "Kuwait",
          "Kuwait",
          "Kyrgyzstan",
          "Kyrgyzstan",
          "Lao People's Democratic Republic",
          "Lao People's Democratic Republic",
          "Latvia",
          "Latvia",
          "Lebanon",
          "Lebanon",
          "Lesotho",
          "Lesotho",
          "Liberia",
          "Liberia",
          "Libya",
          "Libya",
          "Lithuania",
          "Lithuania",
          "Luxembourg",
          "Luxembourg",
          "Macau, China",
          "Macau, China",
          "Madagascar",
          "Madagascar",
          "Malawi",
          "Malawi",
          "Malaysia",
          "Malaysia",
          "Maldives",
          "Maldives",
          "Mali",
          "Mali",
          "Malta",
          "Malta",
          "Mauritania",
          "Mauritania",
          "Mauritius",
          "Mauritius",
          "Mexico",
          "Mexico",
          "Moldova, Republic of",
          "Moldova, Republic of",
          "Mongolia",
          "Mongolia",
          "Montenegro",
          "Montenegro",
          "Morocco",
          "Morocco",
          "Mozambique",
          "Mozambique",
          "Myanmar",
          "Myanmar",
          "Namibia",
          "Namibia",
          "Nepal",
          "Nepal",
          "Netherlands",
          "Netherlands",
          "New Caledonia",
          "New Caledonia",
          "New Zealand",
          "New Zealand",
          "Nicaragua",
          "Nicaragua",
          "Niger",
          "Niger",
          "Nigeria",
          "Nigeria",
          "North Macedonia",
          "North Macedonia",
          "Norway",
          "Norway",
          "Occupied Palestinian Territory",
          "Occupied Palestinian Territory",
          "Oman",
          "Oman",
          "Pakistan",
          "Pakistan",
          "Panama",
          "Panama",
          "Papua New Guinea",
          "Papua New Guinea",
          "Paraguay",
          "Paraguay",
          "Peru",
          "Peru",
          "Philippines",
          "Philippines",
          "Poland",
          "Poland",
          "Portugal",
          "Portugal",
          "Puerto Rico",
          "Puerto Rico",
          "Qatar",
          "Qatar",
          "Romania",
          "Romania",
          "Russian Federation",
          "Russian Federation",
          "Rwanda",
          "Rwanda",
          "Saint Lucia",
          "Saint Lucia",
          "Saint Vincent and the Grenadines",
          "Saint Vincent and the Grenadines",
          "Samoa",
          "Samoa",
          "Sao Tome and Principe",
          "Sao Tome and Principe",
          "Saudi Arabia",
          "Saudi Arabia",
          "Senegal",
          "Senegal",
          "Serbia",
          "Serbia",
          "Sierra Leone",
          "Sierra Leone",
          "Singapore",
          "Singapore",
          "Slovakia",
          "Slovakia",
          "Slovenia",
          "Slovenia",
          "Solomon Islands",
          "Solomon Islands",
          "Somalia",
          "Somalia",
          "South Africa",
          "South Africa",
          "South Sudan",
          "South Sudan",
          "Spain",
          "Spain",
          "Sri Lanka",
          "Sri Lanka",
          "Sudan",
          "Sudan",
          "Suriname",
          "Suriname",
          "Sweden",
          "Sweden",
          "Switzerland",
          "Switzerland",
          "Syrian Arab Republic",
          "Syrian Arab Republic",
          "Taiwan, China",
          "Taiwan, China",
          "Tajikistan",
          "Tajikistan",
          "Tanzania, United Republic of",
          "Tanzania, United Republic of",
          "Thailand",
          "Thailand",
          "Timor-Leste",
          "Timor-Leste",
          "Togo",
          "Togo",
          "Tonga",
          "Tonga",
          "Trinidad and Tobago",
          "Trinidad and Tobago",
          "Tunisia",
          "Tunisia",
          "Turkey",
          "Turkey",
          "Turkmenistan",
          "Turkmenistan",
          "Uganda",
          "Uganda",
          "Ukraine",
          "Ukraine",
          "United Arab Emirates",
          "United Arab Emirates",
          "United Kingdom",
          "United Kingdom",
          "United States",
          "United States",
          "United States Virgin Islands",
          "United States Virgin Islands",
          "Uruguay",
          "Uruguay",
          "Uzbekistan",
          "Uzbekistan",
          "Vanuatu",
          "Vanuatu",
          "Venezuela, Bolivarian Republic of",
          "Venezuela, Bolivarian Republic of",
          "Viet Nam",
          "Viet Nam",
          "Western Sahara",
          "Western Sahara",
          "Yemen",
          "Yemen",
          "Zambia",
          "Zambia",
          "Zimbabwe",
          "Zimbabwe"
         ],
         "xaxis": "x",
         "y": [
          8.9,
          4.3,
          6.7,
          4.9,
          11.8,
          6.8,
          7.2,
          2.2,
          7.9,
          3.9,
          7.7,
          5.2,
          6.8,
          5.1,
          7.8,
          5,
          12.9,
          9.3,
          7.4,
          7,
          9.8,
          6.2,
          9.8,
          6.1,
          9.6,
          7,
          7.3,
          5.1,
          6.8,
          5.1,
          7.1,
          4.6,
          13.1,
          9.5,
          7.4,
          7,
          6.8,
          4.5,
          7.2,
          5.1,
          13.2,
          9.6,
          6.8,
          4.6,
          14.1,
          5.5,
          7.8,
          6.3,
          15,
          2.9,
          17.1,
          6.3,
          9.9,
          4.7,
          16.7,
          6,
          7.8,
          6.3,
          15,
          2.9,
          17.1,
          6.3,
          14.8,
          5,
          11.1,
          6.4,
          15.3,
          5.2,
          17.8,
          6.3,
          9.6,
          4.6,
          9.6,
          4.6,
          9,
          6.2,
          4.6,
          4,
          16,
          11.9,
          10.8,
          7.7,
          9.5,
          6.1,
          8.2,
          4,
          6.4,
          4.8,
          13,
          7.4,
          4.5,
          1,
          4.5,
          4.1,
          4.2,
          0.2,
          5.8,
          5.4,
          10.3,
          15.7,
          4.1,
          -0.4,
          4.6,
          4.5,
          7.7,
          7,
          9.7,
          8.5,
          6.5,
          6.3,
          3.8,
          3.4,
          7.9,
          7.3,
          3.6,
          2.2,
          13.3,
          7.2,
          7.4,
          4,
          13.6,
          7.2,
          5.3,
          8.3,
          8.1,
          3.1,
          4.3,
          5.5,
          8.7,
          6.9,
          8.6,
          2.5,
          7.8,
          2.9,
          8.4,
          3.3,
          6.8,
          1.1,
          8.5,
          3.4,
          8.9,
          3.7,
          11.3,
          3.7,
          6.1,
          2.9,
          5.8,
          2,
          8.5,
          7.1,
          5.8,
          1.4,
          4.5,
          0.4,
          11.6,
          4.7,
          4.3,
          5.5,
          8.9,
          6.6,
          13,
          4.2,
          8.2,
          1.9,
          8.7,
          6,
          13.5,
          3.7,
          7.9,
          7.3,
          8.6,
          2.9,
          7.9,
          7.4,
          3,
          2.7,
          8.7,
          3.4,
          9.1,
          5.5,
          8.4,
          4.5,
          8.6,
          6.5,
          9.3,
          6.1,
          11,
          7.2,
          7.4,
          4,
          9.1,
          3.5,
          9.7,
          7.4,
          8.7,
          5.7,
          21.9,
          8.9,
          14.9,
          3.5,
          4.6,
          1.6,
          12.3,
          7.7,
          12,
          4.6,
          15.6,
          4.3,
          8.9,
          7.1,
          11.9,
          7.4,
          10.4,
          4.1,
          2.5,
          3.2,
          7.6,
          1.5,
          10.6,
          7.4,
          3.9,
          4.1,
          11,
          7.7,
          14.2,
          -0.9,
          7.4,
          3.3,
          6.5,
          7.3,
          15.7,
          5.6,
          5,
          3.1,
          4.9,
          0.2,
          3.7,
          1.4,
          0.5,
          0.8,
          5.2,
          8,
          4.9,
          3.3,
          9.5,
          1.7,
          12.2,
          7.9,
          5,
          0.8,
          7.2,
          2.5,
          6.1,
          2.8,
          14.6,
          5.2,
          4.1,
          -0.4,
          19.2,
          6,
          7.2,
          5.7,
          8.9,
          6.4,
          6.5,
          4.9,
          18.7,
          11.6,
          6.1,
          -0.1,
          10.9,
          5,
          11.1,
          1.1,
          6.3,
          1.7,
          4.9,
          1.7,
          5.3,
          0.5,
          6.9,
          6.3,
          14.7,
          7.8,
          17.6,
          4,
          9.4,
          5.9,
          18.8,
          4.1,
          9,
          4.5,
          12.3,
          8,
          5.7,
          7.1,
          9.7,
          7.7,
          8.5,
          5.6,
          6.6,
          7.7,
          2.4,
          0.7,
          7.2,
          0.7,
          5.2,
          5.2,
          8.9,
          7.5,
          7.4,
          4.1,
          13.5,
          2.5,
          5.5,
          4.6,
          5.3,
          4.7,
          11.8,
          8.2,
          8.8,
          3.2,
          16,
          6.8,
          7.5,
          7.4,
          9,
          4.6,
          10.5,
          7.5,
          7.8,
          6.3,
          21.2,
          8.1,
          6.7,
          8.2,
          5.2,
          0.8,
          6.7,
          9.4,
          14.5,
          7.2,
          6.9,
          7,
          5.2,
          8.3,
          11.2,
          7.1,
          9.8,
          6.7,
          7.7,
          2,
          12.9,
          4.6,
          10.9,
          8.3,
          5.1,
          5.3,
          9.9,
          6.9,
          11.1,
          4.5,
          9.4,
          6.3,
          5.8,
          5.4,
          4.2,
          2.4,
          15.8,
          8,
          11.4,
          7.6,
          4.9,
          6.7,
          4.4,
          2.1,
          10.3,
          10.6,
          7.3,
          7.1,
          8.1,
          5.7,
          9.6,
          7,
          5.5,
          0.6,
          4.9,
          3.4,
          7.2,
          2.4,
          6.6,
          6.7,
          4.9,
          5.8,
          9.5,
          6.3,
          11.3,
          7,
          4.1,
          3.8,
          7.9,
          4.4,
          6,
          5.4,
          7.4,
          7,
          14.9,
          4.7,
          8.7,
          6.8,
          10.3,
          15.7,
          11.4,
          6.1,
          13.7,
          7.5,
          6,
          6.6,
          10.2,
          14.5,
          6.3,
          6.5,
          16.6,
          7.1,
          2.8,
          0.7,
          3.4,
          2.8,
          -1.1,
          -1.4,
          2.2,
          0.8,
          2.2,
          2.4,
          9,
          5.5,
          9.9,
          1.3,
          3.7,
          -4.5,
          16,
          11.9,
          13.1,
          7.9,
          9.4,
          6.5,
          21.7,
          8.1,
          3,
          5.7,
          18.3,
          3.7,
          29,
          11.7,
          15.5,
          6.7,
          2.1,
          -2.4,
          12,
          4.4,
          10.5,
          4.9,
          9.7,
          7.1,
          6.2,
          2.7,
          6,
          1.4,
          9.8,
          7.1,
          8.9,
          6.5,
          8.6,
          5.1,
          4.3,
          4.2,
          9,
          4.9,
          7.5,
          4.6,
          6.6,
          3.5,
          4.7,
          -0.9,
          4.1,
          6.4,
          4.8,
          4.4,
          10.9,
          8.7,
          6.4,
          -0.7,
          2.4,
          2.3,
          3.3,
          2.5,
          14.3,
          10,
          8.1,
          4.9,
          11.7,
          3,
          9.7,
          8.8,
          7.9,
          3.1,
          10.3,
          8.8,
          5.2,
          1.6,
          2.7,
          1.8,
          7.1,
          5.3,
          2.2,
          3.6,
          4.3,
          5.5,
          2.8,
          0.8,
          3.8,
          4,
          3.5,
          7.8,
          5.5,
          5,
          4.5,
          6.7,
          10.9,
          5.7,
          5.9,
          8.2,
          14.3,
          3.9,
          3.5,
          7.8,
          12.3,
          7.6,
          8.5,
          7.1,
          9.7,
          7.1,
          11,
          5,
          9.6,
          5,
          4.6,
          4.1,
          11.6,
          -0.6,
          8.4,
          6.5,
          5,
          1.2,
          12.8,
          8.4,
          6.4,
          7.4,
          8,
          5,
          2.5,
          2.9,
          3.4,
          4.9,
          9.2,
          6.3
         ],
         "yaxis": "y"
        }
       ],
       "layout": {
        "barmode": "relative",
        "coloraxis": {
         "colorbar": {
          "title": {
           "text": "Time"
          }
         },
         "colorscale": [
          [
           0,
           "#0d0887"
          ],
          [
           0.1111111111111111,
           "#46039f"
          ],
          [
           0.2222222222222222,
           "#7201a8"
          ],
          [
           0.3333333333333333,
           "#9c179e"
          ],
          [
           0.4444444444444444,
           "#bd3786"
          ],
          [
           0.5555555555555556,
           "#d8576b"
          ],
          [
           0.6666666666666666,
           "#ed7953"
          ],
          [
           0.7777777777777778,
           "#fb9f3a"
          ],
          [
           0.8888888888888888,
           "#fdca26"
          ],
          [
           1,
           "#f0f921"
          ]
         ]
        },
        "legend": {
         "tracegroupgap": 0
        },
        "margin": {
         "t": 60
        },
        "template": {
         "data": {
          "bar": [
           {
            "error_x": {
             "color": "#2a3f5f"
            },
            "error_y": {
             "color": "#2a3f5f"
            },
            "marker": {
             "line": {
              "color": "#E5ECF6",
              "width": 0.5
             },
             "pattern": {
              "fillmode": "overlay",
              "size": 10,
              "solidity": 0.2
             }
            },
            "type": "bar"
           }
          ],
          "barpolar": [
           {
            "marker": {
             "line": {
              "color": "#E5ECF6",
              "width": 0.5
             },
             "pattern": {
              "fillmode": "overlay",
              "size": 10,
              "solidity": 0.2
             }
            },
            "type": "barpolar"
           }
          ],
          "carpet": [
           {
            "aaxis": {
             "endlinecolor": "#2a3f5f",
             "gridcolor": "white",
             "linecolor": "white",
             "minorgridcolor": "white",
             "startlinecolor": "#2a3f5f"
            },
            "baxis": {
             "endlinecolor": "#2a3f5f",
             "gridcolor": "white",
             "linecolor": "white",
             "minorgridcolor": "white",
             "startlinecolor": "#2a3f5f"
            },
            "type": "carpet"
           }
          ],
          "choropleth": [
           {
            "colorbar": {
             "outlinewidth": 0,
             "ticks": ""
            },
            "type": "choropleth"
           }
          ],
          "contour": [
           {
            "colorbar": {
             "outlinewidth": 0,
             "ticks": ""
            },
            "colorscale": [
             [
              0,
              "#0d0887"
             ],
             [
              0.1111111111111111,
              "#46039f"
             ],
             [
              0.2222222222222222,
              "#7201a8"
             ],
             [
              0.3333333333333333,
              "#9c179e"
             ],
             [
              0.4444444444444444,
              "#bd3786"
             ],
             [
              0.5555555555555556,
              "#d8576b"
             ],
             [
              0.6666666666666666,
              "#ed7953"
             ],
             [
              0.7777777777777778,
              "#fb9f3a"
             ],
             [
              0.8888888888888888,
              "#fdca26"
             ],
             [
              1,
              "#f0f921"
             ]
            ],
            "type": "contour"
           }
          ],
          "contourcarpet": [
           {
            "colorbar": {
             "outlinewidth": 0,
             "ticks": ""
            },
            "type": "contourcarpet"
           }
          ],
          "heatmap": [
           {
            "colorbar": {
             "outlinewidth": 0,
             "ticks": ""
            },
            "colorscale": [
             [
              0,
              "#0d0887"
             ],
             [
              0.1111111111111111,
              "#46039f"
             ],
             [
              0.2222222222222222,
              "#7201a8"
             ],
             [
              0.3333333333333333,
              "#9c179e"
             ],
             [
              0.4444444444444444,
              "#bd3786"
             ],
             [
              0.5555555555555556,
              "#d8576b"
             ],
             [
              0.6666666666666666,
              "#ed7953"
             ],
             [
              0.7777777777777778,
              "#fb9f3a"
             ],
             [
              0.8888888888888888,
              "#fdca26"
             ],
             [
              1,
              "#f0f921"
             ]
            ],
            "type": "heatmap"
           }
          ],
          "heatmapgl": [
           {
            "colorbar": {
             "outlinewidth": 0,
             "ticks": ""
            },
            "colorscale": [
             [
              0,
              "#0d0887"
             ],
             [
              0.1111111111111111,
              "#46039f"
             ],
             [
              0.2222222222222222,
              "#7201a8"
             ],
             [
              0.3333333333333333,
              "#9c179e"
             ],
             [
              0.4444444444444444,
              "#bd3786"
             ],
             [
              0.5555555555555556,
              "#d8576b"
             ],
             [
              0.6666666666666666,
              "#ed7953"
             ],
             [
              0.7777777777777778,
              "#fb9f3a"
             ],
             [
              0.8888888888888888,
              "#fdca26"
             ],
             [
              1,
              "#f0f921"
             ]
            ],
            "type": "heatmapgl"
           }
          ],
          "histogram": [
           {
            "marker": {
             "pattern": {
              "fillmode": "overlay",
              "size": 10,
              "solidity": 0.2
             }
            },
            "type": "histogram"
           }
          ],
          "histogram2d": [
           {
            "colorbar": {
             "outlinewidth": 0,
             "ticks": ""
            },
            "colorscale": [
             [
              0,
              "#0d0887"
             ],
             [
              0.1111111111111111,
              "#46039f"
             ],
             [
              0.2222222222222222,
              "#7201a8"
             ],
             [
              0.3333333333333333,
              "#9c179e"
             ],
             [
              0.4444444444444444,
              "#bd3786"
             ],
             [
              0.5555555555555556,
              "#d8576b"
             ],
             [
              0.6666666666666666,
              "#ed7953"
             ],
             [
              0.7777777777777778,
              "#fb9f3a"
             ],
             [
              0.8888888888888888,
              "#fdca26"
             ],
             [
              1,
              "#f0f921"
             ]
            ],
            "type": "histogram2d"
           }
          ],
          "histogram2dcontour": [
           {
            "colorbar": {
             "outlinewidth": 0,
             "ticks": ""
            },
            "colorscale": [
             [
              0,
              "#0d0887"
             ],
             [
              0.1111111111111111,
              "#46039f"
             ],
             [
              0.2222222222222222,
              "#7201a8"
             ],
             [
              0.3333333333333333,
              "#9c179e"
             ],
             [
              0.4444444444444444,
              "#bd3786"
             ],
             [
              0.5555555555555556,
              "#d8576b"
             ],
             [
              0.6666666666666666,
              "#ed7953"
             ],
             [
              0.7777777777777778,
              "#fb9f3a"
             ],
             [
              0.8888888888888888,
              "#fdca26"
             ],
             [
              1,
              "#f0f921"
             ]
            ],
            "type": "histogram2dcontour"
           }
          ],
          "mesh3d": [
           {
            "colorbar": {
             "outlinewidth": 0,
             "ticks": ""
            },
            "type": "mesh3d"
           }
          ],
          "parcoords": [
           {
            "line": {
             "colorbar": {
              "outlinewidth": 0,
              "ticks": ""
             }
            },
            "type": "parcoords"
           }
          ],
          "pie": [
           {
            "automargin": true,
            "type": "pie"
           }
          ],
          "scatter": [
           {
            "marker": {
             "colorbar": {
              "outlinewidth": 0,
              "ticks": ""
             }
            },
            "type": "scatter"
           }
          ],
          "scatter3d": [
           {
            "line": {
             "colorbar": {
              "outlinewidth": 0,
              "ticks": ""
             }
            },
            "marker": {
             "colorbar": {
              "outlinewidth": 0,
              "ticks": ""
             }
            },
            "type": "scatter3d"
           }
          ],
          "scattercarpet": [
           {
            "marker": {
             "colorbar": {
              "outlinewidth": 0,
              "ticks": ""
             }
            },
            "type": "scattercarpet"
           }
          ],
          "scattergeo": [
           {
            "marker": {
             "colorbar": {
              "outlinewidth": 0,
              "ticks": ""
             }
            },
            "type": "scattergeo"
           }
          ],
          "scattergl": [
           {
            "marker": {
             "colorbar": {
              "outlinewidth": 0,
              "ticks": ""
             }
            },
            "type": "scattergl"
           }
          ],
          "scattermapbox": [
           {
            "marker": {
             "colorbar": {
              "outlinewidth": 0,
              "ticks": ""
             }
            },
            "type": "scattermapbox"
           }
          ],
          "scatterpolar": [
           {
            "marker": {
             "colorbar": {
              "outlinewidth": 0,
              "ticks": ""
             }
            },
            "type": "scatterpolar"
           }
          ],
          "scatterpolargl": [
           {
            "marker": {
             "colorbar": {
              "outlinewidth": 0,
              "ticks": ""
             }
            },
            "type": "scatterpolargl"
           }
          ],
          "scatterternary": [
           {
            "marker": {
             "colorbar": {
              "outlinewidth": 0,
              "ticks": ""
             }
            },
            "type": "scatterternary"
           }
          ],
          "surface": [
           {
            "colorbar": {
             "outlinewidth": 0,
             "ticks": ""
            },
            "colorscale": [
             [
              0,
              "#0d0887"
             ],
             [
              0.1111111111111111,
              "#46039f"
             ],
             [
              0.2222222222222222,
              "#7201a8"
             ],
             [
              0.3333333333333333,
              "#9c179e"
             ],
             [
              0.4444444444444444,
              "#bd3786"
             ],
             [
              0.5555555555555556,
              "#d8576b"
             ],
             [
              0.6666666666666666,
              "#ed7953"
             ],
             [
              0.7777777777777778,
              "#fb9f3a"
             ],
             [
              0.8888888888888888,
              "#fdca26"
             ],
             [
              1,
              "#f0f921"
             ]
            ],
            "type": "surface"
           }
          ],
          "table": [
           {
            "cells": {
             "fill": {
              "color": "#EBF0F8"
             },
             "line": {
              "color": "white"
             }
            },
            "header": {
             "fill": {
              "color": "#C8D4E3"
             },
             "line": {
              "color": "white"
             }
            },
            "type": "table"
           }
          ]
         },
         "layout": {
          "annotationdefaults": {
           "arrowcolor": "#2a3f5f",
           "arrowhead": 0,
           "arrowwidth": 1
          },
          "autotypenumbers": "strict",
          "coloraxis": {
           "colorbar": {
            "outlinewidth": 0,
            "ticks": ""
           }
          },
          "colorscale": {
           "diverging": [
            [
             0,
             "#8e0152"
            ],
            [
             0.1,
             "#c51b7d"
            ],
            [
             0.2,
             "#de77ae"
            ],
            [
             0.3,
             "#f1b6da"
            ],
            [
             0.4,
             "#fde0ef"
            ],
            [
             0.5,
             "#f7f7f7"
            ],
            [
             0.6,
             "#e6f5d0"
            ],
            [
             0.7,
             "#b8e186"
            ],
            [
             0.8,
             "#7fbc41"
            ],
            [
             0.9,
             "#4d9221"
            ],
            [
             1,
             "#276419"
            ]
           ],
           "sequential": [
            [
             0,
             "#0d0887"
            ],
            [
             0.1111111111111111,
             "#46039f"
            ],
            [
             0.2222222222222222,
             "#7201a8"
            ],
            [
             0.3333333333333333,
             "#9c179e"
            ],
            [
             0.4444444444444444,
             "#bd3786"
            ],
            [
             0.5555555555555556,
             "#d8576b"
            ],
            [
             0.6666666666666666,
             "#ed7953"
            ],
            [
             0.7777777777777778,
             "#fb9f3a"
            ],
            [
             0.8888888888888888,
             "#fdca26"
            ],
            [
             1,
             "#f0f921"
            ]
           ],
           "sequentialminus": [
            [
             0,
             "#0d0887"
            ],
            [
             0.1111111111111111,
             "#46039f"
            ],
            [
             0.2222222222222222,
             "#7201a8"
            ],
            [
             0.3333333333333333,
             "#9c179e"
            ],
            [
             0.4444444444444444,
             "#bd3786"
            ],
            [
             0.5555555555555556,
             "#d8576b"
            ],
            [
             0.6666666666666666,
             "#ed7953"
            ],
            [
             0.7777777777777778,
             "#fb9f3a"
            ],
            [
             0.8888888888888888,
             "#fdca26"
            ],
            [
             1,
             "#f0f921"
            ]
           ]
          },
          "colorway": [
           "#636efa",
           "#EF553B",
           "#00cc96",
           "#ab63fa",
           "#FFA15A",
           "#19d3f3",
           "#FF6692",
           "#B6E880",
           "#FF97FF",
           "#FECB52"
          ],
          "font": {
           "color": "#2a3f5f"
          },
          "geo": {
           "bgcolor": "white",
           "lakecolor": "white",
           "landcolor": "#E5ECF6",
           "showlakes": true,
           "showland": true,
           "subunitcolor": "white"
          },
          "hoverlabel": {
           "align": "left"
          },
          "hovermode": "closest",
          "mapbox": {
           "style": "light"
          },
          "paper_bgcolor": "white",
          "plot_bgcolor": "#E5ECF6",
          "polar": {
           "angularaxis": {
            "gridcolor": "white",
            "linecolor": "white",
            "ticks": ""
           },
           "bgcolor": "#E5ECF6",
           "radialaxis": {
            "gridcolor": "white",
            "linecolor": "white",
            "ticks": ""
           }
          },
          "scene": {
           "xaxis": {
            "backgroundcolor": "#E5ECF6",
            "gridcolor": "white",
            "gridwidth": 2,
            "linecolor": "white",
            "showbackground": true,
            "ticks": "",
            "zerolinecolor": "white"
           },
           "yaxis": {
            "backgroundcolor": "#E5ECF6",
            "gridcolor": "white",
            "gridwidth": 2,
            "linecolor": "white",
            "showbackground": true,
            "ticks": "",
            "zerolinecolor": "white"
           },
           "zaxis": {
            "backgroundcolor": "#E5ECF6",
            "gridcolor": "white",
            "gridwidth": 2,
            "linecolor": "white",
            "showbackground": true,
            "ticks": "",
            "zerolinecolor": "white"
           }
          },
          "shapedefaults": {
           "line": {
            "color": "#2a3f5f"
           }
          },
          "ternary": {
           "aaxis": {
            "gridcolor": "white",
            "linecolor": "white",
            "ticks": ""
           },
           "baxis": {
            "gridcolor": "white",
            "linecolor": "white",
            "ticks": ""
           },
           "bgcolor": "#E5ECF6",
           "caxis": {
            "gridcolor": "white",
            "linecolor": "white",
            "ticks": ""
           }
          },
          "title": {
           "x": 0.05
          },
          "xaxis": {
           "automargin": true,
           "gridcolor": "white",
           "linecolor": "white",
           "ticks": "",
           "title": {
            "standoff": 15
           },
           "zerolinecolor": "white",
           "zerolinewidth": 2
          },
          "yaxis": {
           "automargin": true,
           "gridcolor": "white",
           "linecolor": "white",
           "ticks": "",
           "title": {
            "standoff": 15
           },
           "zerolinecolor": "white",
           "zerolinewidth": 2
          }
         }
        },
        "xaxis": {
         "anchor": "y",
         "domain": [
          0,
          1
         ],
         "title": {
          "text": "Reference area"
         }
        },
        "yaxis": {
         "anchor": "x",
         "domain": [
          0,
          1
         ],
         "title": {
          "text": "Value"
         }
        }
       }
      },
      "text/html": [
       "<div>                            <div id=\"b1884376-5760-4bc1-b702-35cc0ecb50a3\" class=\"plotly-graph-div\" style=\"height:525px; width:100%;\"></div>            <script type=\"text/javascript\">                require([\"plotly\"], function(Plotly) {                    window.PLOTLYENV=window.PLOTLYENV || {};                                    if (document.getElementById(\"b1884376-5760-4bc1-b702-35cc0ecb50a3\")) {                    Plotly.newPlot(                        \"b1884376-5760-4bc1-b702-35cc0ecb50a3\",                        [{\"alignmentgroup\":\"True\",\"customdata\":[[2020],[2021],[2020],[2021],[2020],[2021],[2020],[2021],[2020],[2021],[2020],[2021],[2020],[2021],[2020],[2021],[2020],[2021],[2020],[2021],[2020],[2021],[2020],[2021],[2020],[2021],[2020],[2021],[2020],[2021],[2020],[2021],[2020],[2021],[2020],[2021],[2020],[2021],[2020],[2021],[2020],[2021],[2020],[2021],[2020],[2021],[2020],[2021],[2020],[2021],[2020],[2021],[2020],[2021],[2020],[2021],[2020],[2021],[2020],[2021],[2020],[2021],[2020],[2021],[2020],[2021],[2020],[2021],[2020],[2021],[2020],[2021],[2020],[2021],[2020],[2021],[2020],[2021],[2020],[2021],[2020],[2021],[2020],[2021],[2020],[2021],[2020],[2021],[2020],[2021],[2020],[2021],[2020],[2021],[2020],[2021],[2020],[2021],[2020],[2021],[2020],[2021],[2020],[2021],[2020],[2021],[2020],[2021],[2020],[2021],[2020],[2021],[2020],[2021],[2020],[2021],[2020],[2021],[2020],[2021],[2020],[2021],[2020],[2021],[2020],[2021],[2020],[2021],[2020],[2021],[2020],[2021],[2020],[2021],[2020],[2021],[2020],[2021],[2020],[2021],[2020],[2021],[2020],[2021],[2020],[2021],[2020],[2021],[2020],[2021],[2020],[2021],[2020],[2021],[2020],[2021],[2020],[2021],[2020],[2021],[2020],[2021],[2020],[2021],[2020],[2021],[2020],[2021],[2020],[2021],[2020],[2021],[2020],[2020],[2021],[2021],[2020],[2021],[2020],[2021],[2020],[2021],[2020],[2021],[2020],[2021],[2020],[2021],[2020],[2021],[2020],[2021],[2020],[2021],[2020],[2021],[2020],[2021],[2020],[2021],[2020],[2021],[2020],[2021],[2020],[2021],[2020],[2021],[2020],[2021],[2020],[2021],[2020],[2021],[2020],[2021],[2020],[2021],[2020],[2021],[2020],[2021],[2020],[2021],[2020],[2021],[2020],[2021],[2020],[2021],[2020],[2021],[2020],[2021],[2020],[2021],[2020],[2021],[2020],[2021],[2020],[2021],[2020],[2021],[2020],[2021],[2020],[2021],[2020],[2021],[2020],[2021],[2020],[2021],[2020],[2021],[2020],[2021],[2020],[2021],[2020],[2021],[2020],[2021],[2020],[2021],[2020],[2021],[2020],[2021],[2020],[2021],[2020],[2021],[2020],[2021],[2020],[2021],[2020],[2021],[2020],[2021],[2020],[2021],[2020],[2021],[2020],[2021],[2020],[2021],[2020],[2021],[2020],[2021],[2020],[2021],[2020],[2021],[2020],[2021],[2020],[2021],[2020],[2021],[2020],[2021],[2020],[2021],[2020],[2021],[2020],[2021],[2020],[2021],[2020],[2021],[2020],[2021],[2020],[2021],[2020],[2021],[2020],[2021],[2020],[2021],[2020],[2021],[2020],[2021],[2020],[2021],[2020],[2021],[2020],[2021],[2020],[2021],[2020],[2021],[2020],[2021],[2020],[2021],[2020],[2021],[2020],[2021],[2020],[2021],[2020],[2021],[2020],[2021],[2020],[2021],[2020],[2021],[2020],[2021],[2020],[2021],[2020],[2021],[2020],[2021],[2020],[2021],[2020],[2021],[2020],[2021],[2020],[2021],[2020],[2021],[2020],[2021],[2020],[2021],[2020],[2021],[2020],[2021],[2020],[2021],[2020],[2021],[2020],[2021],[2020],[2021],[2020],[2021],[2020],[2021],[2020],[2021],[2020],[2021],[2020],[2021],[2020],[2021],[2020],[2021],[2020],[2021],[2020],[2021],[2020],[2021],[2020],[2021],[2020],[2021],[2020],[2021],[2020],[2021],[2020],[2021],[2020],[2021],[2020],[2021],[2020],[2021],[2020],[2021],[2020],[2021],[2020],[2021],[2020],[2021],[2020],[2021],[2020],[2021],[2020],[2021],[2020],[2021],[2020],[2021],[2020],[2021],[2020],[2021],[2020],[2021],[2020],[2021],[2020],[2021],[2020],[2021],[2020],[2021],[2020],[2021],[2020],[2021],[2020],[2021],[2020],[2021],[2020],[2021],[2020],[2021],[2020],[2021],[2020],[2021],[2020],[2021],[2020],[2021],[2020],[2021],[2020],[2021],[2020],[2021],[2020],[2021],[2020],[2021],[2020],[2021],[2020],[2021],[2020],[2021],[2020],[2021],[2020],[2021],[2020],[2021],[2020],[2021],[2020],[2021],[2020],[2021],[2020],[2021],[2020],[2021],[2020],[2021],[2020],[2021],[2020],[2021],[2020],[2021],[2020],[2021],[2020],[2021],[2020],[2021],[2020],[2021],[2020],[2021],[2020],[2021],[2020],[2021],[2020],[2021],[2020],[2021],[2020],[2021],[2020],[2021],[2020],[2021],[2020],[2021],[2020],[2021],[2020],[2021],[2020],[2021],[2020],[2021],[2020],[2021],[2020],[2021],[2020],[2021],[2020],[2021],[2020],[2021],[2020],[2021]],\"hovertemplate\":\"Reference area=%{x}<br>Value=%{y}<br>Time=%{marker.color}<extra></extra>\",\"legendgroup\":\"\",\"marker\":{\"color\":[2020,2021,2020,2021,2020,2021,2020,2021,2020,2021,2020,2021,2020,2021,2020,2021,2020,2021,2020,2021,2020,2021,2020,2021,2020,2021,2020,2021,2020,2021,2020,2021,2020,2021,2020,2021,2020,2021,2020,2021,2020,2021,2020,2021,2020,2021,2020,2021,2020,2021,2020,2021,2020,2021,2020,2021,2020,2021,2020,2021,2020,2021,2020,2021,2020,2021,2020,2021,2020,2021,2020,2021,2020,2021,2020,2021,2020,2021,2020,2021,2020,2021,2020,2021,2020,2021,2020,2021,2020,2021,2020,2021,2020,2021,2020,2021,2020,2021,2020,2021,2020,2021,2020,2021,2020,2021,2020,2021,2020,2021,2020,2021,2020,2021,2020,2021,2020,2021,2020,2021,2020,2021,2020,2021,2020,2021,2020,2021,2020,2021,2020,2021,2020,2021,2020,2021,2020,2021,2020,2021,2020,2021,2020,2021,2020,2021,2020,2021,2020,2021,2020,2021,2020,2021,2020,2021,2020,2021,2020,2021,2020,2021,2020,2021,2020,2021,2020,2021,2020,2021,2020,2021,2020,2020,2021,2021,2020,2021,2020,2021,2020,2021,2020,2021,2020,2021,2020,2021,2020,2021,2020,2021,2020,2021,2020,2021,2020,2021,2020,2021,2020,2021,2020,2021,2020,2021,2020,2021,2020,2021,2020,2021,2020,2021,2020,2021,2020,2021,2020,2021,2020,2021,2020,2021,2020,2021,2020,2021,2020,2021,2020,2021,2020,2021,2020,2021,2020,2021,2020,2021,2020,2021,2020,2021,2020,2021,2020,2021,2020,2021,2020,2021,2020,2021,2020,2021,2020,2021,2020,2021,2020,2021,2020,2021,2020,2021,2020,2021,2020,2021,2020,2021,2020,2021,2020,2021,2020,2021,2020,2021,2020,2021,2020,2021,2020,2021,2020,2021,2020,2021,2020,2021,2020,2021,2020,2021,2020,2021,2020,2021,2020,2021,2020,2021,2020,2021,2020,2021,2020,2021,2020,2021,2020,2021,2020,2021,2020,2021,2020,2021,2020,2021,2020,2021,2020,2021,2020,2021,2020,2021,2020,2021,2020,2021,2020,2021,2020,2021,2020,2021,2020,2021,2020,2021,2020,2021,2020,2021,2020,2021,2020,2021,2020,2021,2020,2021,2020,2021,2020,2021,2020,2021,2020,2021,2020,2021,2020,2021,2020,2021,2020,2021,2020,2021,2020,2021,2020,2021,2020,2021,2020,2021,2020,2021,2020,2021,2020,2021,2020,2021,2020,2021,2020,2021,2020,2021,2020,2021,2020,2021,2020,2021,2020,2021,2020,2021,2020,2021,2020,2021,2020,2021,2020,2021,2020,2021,2020,2021,2020,2021,2020,2021,2020,2021,2020,2021,2020,2021,2020,2021,2020,2021,2020,2021,2020,2021,2020,2021,2020,2021,2020,2021,2020,2021,2020,2021,2020,2021,2020,2021,2020,2021,2020,2021,2020,2021,2020,2021,2020,2021,2020,2021,2020,2021,2020,2021,2020,2021,2020,2021,2020,2021,2020,2021,2020,2021,2020,2021,2020,2021,2020,2021,2020,2021,2020,2021,2020,2021,2020,2021,2020,2021,2020,2021,2020,2021,2020,2021,2020,2021,2020,2021,2020,2021,2020,2021,2020,2021,2020,2021,2020,2021,2020,2021,2020,2021,2020,2021,2020,2021,2020,2021,2020,2021,2020,2021,2020,2021,2020,2021,2020,2021,2020,2021,2020,2021,2020,2021,2020,2021,2020,2021,2020,2021,2020,2021,2020,2021,2020,2021,2020,2021,2020,2021,2020,2021,2020,2021,2020,2021,2020,2021,2020,2021,2020,2021],\"coloraxis\":\"coloraxis\",\"pattern\":{\"shape\":\"\"}},\"name\":\"\",\"offsetgroup\":\"\",\"orientation\":\"v\",\"showlegend\":false,\"textposition\":\"auto\",\"x\":[\"World\",\"World\",\"World: Low income\",\"World: Low income\",\"World: Lower-middle income\",\"World: Lower-middle income\",\"World: Upper-middle income\",\"World: Upper-middle income\",\"World: High income\",\"World: High income\",\"Africa\",\"Africa\",\"Africa: Low income\",\"Africa: Low income\",\"Africa: Lower-middle income\",\"Africa: Lower-middle income\",\"Africa: Upper-middle income\",\"Africa: Upper-middle income\",\"Africa: High income\",\"Africa: High income\",\"Northern Africa\",\"Northern Africa\",\"Northern Africa: Lower-middle income\",\"Northern Africa: Lower-middle income\",\"Northern Africa: Upper-middle income\",\"Northern Africa: Upper-middle income\",\"Sub-Saharan Africa\",\"Sub-Saharan Africa\",\"Sub-Saharan Africa: Low income\",\"Sub-Saharan Africa: Low income\",\"Sub-Saharan Africa: Lower-middle income\",\"Sub-Saharan Africa: Lower-middle income\",\"Sub-Saharan Africa: Upper-middle income\",\"Sub-Saharan Africa: Upper-middle income\",\"Sub-Saharan Africa: High income\",\"Sub-Saharan Africa: High income\",\"Central Africa\",\"Central Africa\",\"Eastern Africa\",\"Eastern Africa\",\"Southern Africa\",\"Southern Africa\",\"Western Africa\",\"Western Africa\",\"Americas\",\"Americas\",\"Americas: Low income\",\"Americas: Low income\",\"Americas: Lower-middle income\",\"Americas: Lower-middle income\",\"Americas: Upper-middle income\",\"Americas: Upper-middle income\",\"Americas: High income\",\"Americas: High income\",\"Latin America and the Caribbean\",\"Latin America and the Caribbean\",\"Latin America and the Caribbean: Low income\",\"Latin America and the Caribbean: Low income\",\"Latin America and the Caribbean: Lower-middle income\",\"Latin America and the Caribbean: Lower-middle income\",\"Latin America and the Caribbean: Upper-middle income\",\"Latin America and the Caribbean: Upper-middle income\",\"Latin America and the Caribbean: High income\",\"Latin America and the Caribbean: High income\",\"Caribbean\",\"Caribbean\",\"Central America\",\"Central America\",\"South America\",\"South America\",\"Northern America\",\"Northern America\",\"Northern America: High income\",\"Northern America: High income\",\"Arab States\",\"Arab States\",\"Arab States: Low income\",\"Arab States: Low income\",\"Arab States: Lower-middle income\",\"Arab States: Lower-middle income\",\"Arab States: Upper-middle income\",\"Arab States: Upper-middle income\",\"Arab States: High income\",\"Arab States: High income\",\"Asia and the Pacific\",\"Asia and the Pacific\",\"Asia and the Pacific: Low income\",\"Asia and the Pacific: Low income\",\"Asia and the Pacific: Lower-middle income\",\"Asia and the Pacific: Lower-middle income\",\"Asia and the Pacific: Upper-middle income\",\"Asia and the Pacific: Upper-middle income\",\"Asia and the Pacific: High income\",\"Asia and the Pacific: High income\",\"Eastern Asia\",\"Eastern Asia\",\"Eastern Asia: Low income\",\"Eastern Asia: Low income\",\"Eastern Asia: Lower-middle income\",\"Eastern Asia: Lower-middle income\",\"Eastern Asia: Upper-middle income\",\"Eastern Asia: Upper-middle income\",\"Eastern Asia: High income\",\"Eastern Asia: High income\",\"South-Eastern Asia and the Pacific\",\"South-Eastern Asia and the Pacific\",\"South-Eastern Asia and the Pacific: Lower-middle income\",\"South-Eastern Asia and the Pacific: Lower-middle income\",\"South-Eastern Asia and the Pacific: Upper-middle income\",\"South-Eastern Asia and the Pacific: Upper-middle income\",\"South-Eastern Asia and the Pacific: High income\",\"South-Eastern Asia and the Pacific: High income\",\"South-Eastern Asia\",\"South-Eastern Asia\",\"Pacific Islands\",\"Pacific Islands\",\"Southern Asia\",\"Southern Asia\",\"Southern Asia: Low income\",\"Southern Asia: Low income\",\"Southern Asia: Lower-middle income\",\"Southern Asia: Lower-middle income\",\"Southern Asia: Upper-middle income\",\"Southern Asia: Upper-middle income\",\"Europe and Central Asia\",\"Europe and Central Asia\",\"Europe and Central Asia: Low income\",\"Europe and Central Asia: Low income\",\"Europe and Central Asia: Lower-middle income\",\"Europe and Central Asia: Lower-middle income\",\"Europe and Central Asia: Upper-middle income\",\"Europe and Central Asia: Upper-middle income\",\"Europe and Central Asia: High income\",\"Europe and Central Asia: High income\",\"Northern, Southern and Western Europe\",\"Northern, Southern and Western Europe\",\"Northern, Southern and Western Europe: Upper-middle income\",\"Northern, Southern and Western Europe: Upper-middle income\",\"Northern, Southern and Western Europe: High income\",\"Northern, Southern and Western Europe: High income\",\"Northern Europe\",\"Northern Europe\",\"Southern Europe\",\"Southern Europe\",\"Western Europe\",\"Western Europe\",\"Eastern Europe\",\"Eastern Europe\",\"Eastern Europe: Lower-middle income\",\"Eastern Europe: Lower-middle income\",\"Eastern Europe: Upper-middle income\",\"Eastern Europe: Upper-middle income\",\"Eastern Europe: High income\",\"Eastern Europe: High income\",\"Central and Western Asia\",\"Central and Western Asia\",\"Central and Western Asia: Low income\",\"Central and Western Asia: Low income\",\"Central and Western Asia: Lower-middle income\",\"Central and Western Asia: Lower-middle income\",\"Central and Western Asia: Upper-middle income\",\"Central and Western Asia: Upper-middle income\",\"Central and Western Asia: High income\",\"Central and Western Asia: High income\",\"Central Asia\",\"Central Asia\",\"Western Asia\",\"Western Asia\",\"ASEAN\",\"ASEAN\",\"BRICS\",\"BRICS\",\"European Union 28\",\"European Union 27\",\"European Union 28\",\"European Union 27\",\"G20\",\"G20\",\"World excluding BRICS\",\"World excluding BRICS\",\"G7\",\"G7\",\"MENA\",\"MENA\",\"Arab League\",\"Arab League\",\"CARICOM\",\"CARICOM\",\"Afghanistan\",\"Afghanistan\",\"Albania\",\"Albania\",\"Algeria\",\"Algeria\",\"Angola\",\"Angola\",\"Argentina\",\"Argentina\",\"Armenia\",\"Armenia\",\"Australia\",\"Australia\",\"Austria\",\"Austria\",\"Azerbaijan\",\"Azerbaijan\",\"Bahamas\",\"Bahamas\",\"Bahrain\",\"Bahrain\",\"Bangladesh\",\"Bangladesh\",\"Barbados\",\"Barbados\",\"Belarus\",\"Belarus\",\"Belgium\",\"Belgium\",\"Belize\",\"Belize\",\"Benin\",\"Benin\",\"Bhutan\",\"Bhutan\",\"Bolivia\",\"Bolivia\",\"Bosnia and Herzegovina\",\"Bosnia and Herzegovina\",\"Botswana\",\"Botswana\",\"Brazil\",\"Brazil\",\"Brunei Darussalam\",\"Brunei Darussalam\",\"Bulgaria\",\"Bulgaria\",\"Burkina Faso\",\"Burkina Faso\",\"Burundi\",\"Burundi\",\"Cambodia\",\"Cambodia\",\"Cameroon\",\"Cameroon\",\"Canada\",\"Canada\",\"Cape Verde\",\"Cape Verde\",\"Central African Republic\",\"Central African Republic\",\"Chad\",\"Chad\",\"Channel Islands\",\"Channel Islands\",\"Chile\",\"Chile\",\"China\",\"China\",\"Colombia\",\"Colombia\",\"Comoros\",\"Comoros\",\"Congo\",\"Congo\",\"Congo, Democratic Republic of the\",\"Congo, Democratic Republic of the\",\"Costa Rica\",\"Costa Rica\",\"Croatia\",\"Croatia\",\"Cuba\",\"Cuba\",\"Cyprus\",\"Cyprus\",\"Czechia\",\"Czechia\",\"C\\u00f4te d'Ivoire\",\"C\\u00f4te d'Ivoire\",\"Denmark\",\"Denmark\",\"Djibouti\",\"Djibouti\",\"Dominican Republic\",\"Dominican Republic\",\"Ecuador\",\"Ecuador\",\"Egypt\",\"Egypt\",\"El Salvador\",\"El Salvador\",\"Equatorial Guinea\",\"Equatorial Guinea\",\"Eritrea\",\"Eritrea\",\"Estonia\",\"Estonia\",\"Eswatini\",\"Eswatini\",\"Ethiopia\",\"Ethiopia\",\"Fiji\",\"Fiji\",\"Finland\",\"Finland\",\"France\",\"France\",\"French Polynesia\",\"French Polynesia\",\"Gabon\",\"Gabon\",\"Gambia\",\"Gambia\",\"Georgia\",\"Georgia\",\"Germany\",\"Germany\",\"Ghana\",\"Ghana\",\"Greece\",\"Greece\",\"Guam\",\"Guam\",\"Guatemala\",\"Guatemala\",\"Guinea\",\"Guinea\",\"Guinea-Bissau\",\"Guinea-Bissau\",\"Guyana\",\"Guyana\",\"Haiti\",\"Haiti\",\"Honduras\",\"Honduras\",\"Hong Kong, China\",\"Hong Kong, China\",\"Hungary\",\"Hungary\",\"Iceland\",\"Iceland\",\"India\",\"India\",\"Indonesia\",\"Indonesia\",\"Iran, Islamic Republic of\",\"Iran, Islamic Republic of\",\"Iraq\",\"Iraq\",\"Ireland\",\"Ireland\",\"Israel\",\"Israel\",\"Italy\",\"Italy\",\"Jamaica\",\"Jamaica\",\"Japan\",\"Japan\",\"Jordan\",\"Jordan\",\"Kazakhstan\",\"Kazakhstan\",\"Kenya\",\"Kenya\",\"Korea, Democratic People's Republic of\",\"Korea, Democratic People's Republic of\",\"Korea, Republic of\",\"Korea, Republic of\",\"Kuwait\",\"Kuwait\",\"Kyrgyzstan\",\"Kyrgyzstan\",\"Lao People's Democratic Republic\",\"Lao People's Democratic Republic\",\"Latvia\",\"Latvia\",\"Lebanon\",\"Lebanon\",\"Lesotho\",\"Lesotho\",\"Liberia\",\"Liberia\",\"Libya\",\"Libya\",\"Lithuania\",\"Lithuania\",\"Luxembourg\",\"Luxembourg\",\"Macau, China\",\"Macau, China\",\"Madagascar\",\"Madagascar\",\"Malawi\",\"Malawi\",\"Malaysia\",\"Malaysia\",\"Maldives\",\"Maldives\",\"Mali\",\"Mali\",\"Malta\",\"Malta\",\"Mauritania\",\"Mauritania\",\"Mauritius\",\"Mauritius\",\"Mexico\",\"Mexico\",\"Moldova, Republic of\",\"Moldova, Republic of\",\"Mongolia\",\"Mongolia\",\"Montenegro\",\"Montenegro\",\"Morocco\",\"Morocco\",\"Mozambique\",\"Mozambique\",\"Myanmar\",\"Myanmar\",\"Namibia\",\"Namibia\",\"Nepal\",\"Nepal\",\"Netherlands\",\"Netherlands\",\"New Caledonia\",\"New Caledonia\",\"New Zealand\",\"New Zealand\",\"Nicaragua\",\"Nicaragua\",\"Niger\",\"Niger\",\"Nigeria\",\"Nigeria\",\"North Macedonia\",\"North Macedonia\",\"Norway\",\"Norway\",\"Occupied Palestinian Territory\",\"Occupied Palestinian Territory\",\"Oman\",\"Oman\",\"Pakistan\",\"Pakistan\",\"Panama\",\"Panama\",\"Papua New Guinea\",\"Papua New Guinea\",\"Paraguay\",\"Paraguay\",\"Peru\",\"Peru\",\"Philippines\",\"Philippines\",\"Poland\",\"Poland\",\"Portugal\",\"Portugal\",\"Puerto Rico\",\"Puerto Rico\",\"Qatar\",\"Qatar\",\"Romania\",\"Romania\",\"Russian Federation\",\"Russian Federation\",\"Rwanda\",\"Rwanda\",\"Saint Lucia\",\"Saint Lucia\",\"Saint Vincent and the Grenadines\",\"Saint Vincent and the Grenadines\",\"Samoa\",\"Samoa\",\"Sao Tome and Principe\",\"Sao Tome and Principe\",\"Saudi Arabia\",\"Saudi Arabia\",\"Senegal\",\"Senegal\",\"Serbia\",\"Serbia\",\"Sierra Leone\",\"Sierra Leone\",\"Singapore\",\"Singapore\",\"Slovakia\",\"Slovakia\",\"Slovenia\",\"Slovenia\",\"Solomon Islands\",\"Solomon Islands\",\"Somalia\",\"Somalia\",\"South Africa\",\"South Africa\",\"South Sudan\",\"South Sudan\",\"Spain\",\"Spain\",\"Sri Lanka\",\"Sri Lanka\",\"Sudan\",\"Sudan\",\"Suriname\",\"Suriname\",\"Sweden\",\"Sweden\",\"Switzerland\",\"Switzerland\",\"Syrian Arab Republic\",\"Syrian Arab Republic\",\"Taiwan, China\",\"Taiwan, China\",\"Tajikistan\",\"Tajikistan\",\"Tanzania, United Republic of\",\"Tanzania, United Republic of\",\"Thailand\",\"Thailand\",\"Timor-Leste\",\"Timor-Leste\",\"Togo\",\"Togo\",\"Tonga\",\"Tonga\",\"Trinidad and Tobago\",\"Trinidad and Tobago\",\"Tunisia\",\"Tunisia\",\"Turkey\",\"Turkey\",\"Turkmenistan\",\"Turkmenistan\",\"Uganda\",\"Uganda\",\"Ukraine\",\"Ukraine\",\"United Arab Emirates\",\"United Arab Emirates\",\"United Kingdom\",\"United Kingdom\",\"United States\",\"United States\",\"United States Virgin Islands\",\"United States Virgin Islands\",\"Uruguay\",\"Uruguay\",\"Uzbekistan\",\"Uzbekistan\",\"Vanuatu\",\"Vanuatu\",\"Venezuela, Bolivarian Republic of\",\"Venezuela, Bolivarian Republic of\",\"Viet Nam\",\"Viet Nam\",\"Western Sahara\",\"Western Sahara\",\"Yemen\",\"Yemen\",\"Zambia\",\"Zambia\",\"Zimbabwe\",\"Zimbabwe\"],\"xaxis\":\"x\",\"y\":[8.9,4.3,6.7,4.9,11.8,6.8,7.2,2.2,7.9,3.9,7.7,5.2,6.8,5.1,7.8,5.0,12.9,9.3,7.4,7.0,9.8,6.2,9.8,6.1,9.6,7.0,7.3,5.1,6.8,5.1,7.1,4.6,13.1,9.5,7.4,7.0,6.8,4.5,7.2,5.1,13.2,9.6,6.8,4.6,14.1,5.5,7.8,6.3,15.0,2.9,17.1,6.3,9.9,4.7,16.7,6.0,7.8,6.3,15.0,2.9,17.1,6.3,14.8,5.0,11.1,6.4,15.3,5.2,17.8,6.3,9.6,4.6,9.6,4.6,9.0,6.2,4.6,4.0,16.0,11.9,10.8,7.7,9.5,6.1,8.2,4.0,6.4,4.8,13.0,7.4,4.5,1.0,4.5,4.1,4.2,0.2,5.8,5.4,10.3,15.7,4.1,-0.4,4.6,4.5,7.7,7.0,9.7,8.5,6.5,6.3,3.8,3.4,7.9,7.3,3.6,2.2,13.3,7.2,7.4,4.0,13.6,7.2,5.3,8.3,8.1,3.1,4.3,5.5,8.7,6.9,8.6,2.5,7.8,2.9,8.4,3.3,6.8,1.1,8.5,3.4,8.9,3.7,11.3,3.7,6.1,2.9,5.8,2.0,8.5,7.1,5.8,1.4,4.5,0.4,11.6,4.7,4.3,5.5,8.9,6.6,13.0,4.2,8.2,1.9,8.7,6.0,13.5,3.7,7.9,7.3,8.6,2.9,7.9,7.4,3.0,2.7,8.7,3.4,9.1,5.5,8.4,4.5,8.6,6.5,9.3,6.1,11.0,7.2,7.4,4.0,9.1,3.5,9.7,7.4,8.7,5.7,21.9,8.9,14.9,3.5,4.6,1.6,12.3,7.7,12.0,4.6,15.6,4.3,8.9,7.1,11.9,7.4,10.4,4.1,2.5,3.2,7.6,1.5,10.6,7.4,3.9,4.1,11.0,7.7,14.2,-0.9,7.4,3.3,6.5,7.3,15.7,5.6,5.0,3.1,4.9,0.2,3.7,1.4,0.5,0.8,5.2,8.0,4.9,3.3,9.5,1.7,12.2,7.9,5.0,0.8,7.2,2.5,6.1,2.8,14.6,5.2,4.1,-0.4,19.2,6.0,7.2,5.7,8.9,6.4,6.5,4.9,18.7,11.6,6.1,-0.1,10.9,5.0,11.1,1.1,6.3,1.7,4.9,1.7,5.3,0.5,6.9,6.3,14.7,7.8,17.6,4.0,9.4,5.9,18.8,4.1,9.0,4.5,12.3,8.0,5.7,7.1,9.7,7.7,8.5,5.6,6.6,7.7,2.4,0.7,7.2,0.7,5.2,5.2,8.9,7.5,7.4,4.1,13.5,2.5,5.5,4.6,5.3,4.7,11.8,8.2,8.8,3.2,16.0,6.8,7.5,7.4,9.0,4.6,10.5,7.5,7.8,6.3,21.2,8.1,6.7,8.2,5.2,0.8,6.7,9.4,14.5,7.2,6.9,7.0,5.2,8.3,11.2,7.1,9.8,6.7,7.7,2.0,12.9,4.6,10.9,8.3,5.1,5.3,9.9,6.9,11.1,4.5,9.4,6.3,5.8,5.4,4.2,2.4,15.8,8.0,11.4,7.6,4.9,6.7,4.4,2.1,10.3,10.6,7.3,7.1,8.1,5.7,9.6,7.0,5.5,0.6,4.9,3.4,7.2,2.4,6.6,6.7,4.9,5.8,9.5,6.3,11.3,7.0,4.1,3.8,7.9,4.4,6.0,5.4,7.4,7.0,14.9,4.7,8.7,6.8,10.3,15.7,11.4,6.1,13.7,7.5,6.0,6.6,10.2,14.5,6.3,6.5,16.6,7.1,2.8,0.7,3.4,2.8,-1.1,-1.4,2.2,0.8,2.2,2.4,9.0,5.5,9.9,1.3,3.7,-4.5,16.0,11.9,13.1,7.9,9.4,6.5,21.7,8.1,3.0,5.7,18.3,3.7,29.0,11.7,15.5,6.7,2.1,-2.4,12.0,4.4,10.5,4.9,9.7,7.1,6.2,2.7,6.0,1.4,9.8,7.1,8.9,6.5,8.6,5.1,4.3,4.2,9.0,4.9,7.5,4.6,6.6,3.5,4.7,-0.9,4.1,6.4,4.8,4.4,10.9,8.7,6.4,-0.7,2.4,2.3,3.3,2.5,14.3,10.0,8.1,4.9,11.7,3.0,9.7,8.8,7.9,3.1,10.3,8.8,5.2,1.6,2.7,1.8,7.1,5.3,2.2,3.6,4.3,5.5,2.8,0.8,3.8,4.0,3.5,7.8,5.5,5.0,4.5,6.7,10.9,5.7,5.9,8.2,14.3,3.9,3.5,7.8,12.3,7.6,8.5,7.1,9.7,7.1,11.0,5.0,9.6,5.0,4.6,4.1,11.6,-0.6,8.4,6.5,5.0,1.2,12.8,8.4,6.4,7.4,8.0,5.0,2.5,2.9,3.4,4.9,9.2,6.3],\"yaxis\":\"y\",\"type\":\"bar\"}],                        {\"template\":{\"data\":{\"bar\":[{\"error_x\":{\"color\":\"#2a3f5f\"},\"error_y\":{\"color\":\"#2a3f5f\"},\"marker\":{\"line\":{\"color\":\"#E5ECF6\",\"width\":0.5},\"pattern\":{\"fillmode\":\"overlay\",\"size\":10,\"solidity\":0.2}},\"type\":\"bar\"}],\"barpolar\":[{\"marker\":{\"line\":{\"color\":\"#E5ECF6\",\"width\":0.5},\"pattern\":{\"fillmode\":\"overlay\",\"size\":10,\"solidity\":0.2}},\"type\":\"barpolar\"}],\"carpet\":[{\"aaxis\":{\"endlinecolor\":\"#2a3f5f\",\"gridcolor\":\"white\",\"linecolor\":\"white\",\"minorgridcolor\":\"white\",\"startlinecolor\":\"#2a3f5f\"},\"baxis\":{\"endlinecolor\":\"#2a3f5f\",\"gridcolor\":\"white\",\"linecolor\":\"white\",\"minorgridcolor\":\"white\",\"startlinecolor\":\"#2a3f5f\"},\"type\":\"carpet\"}],\"choropleth\":[{\"colorbar\":{\"outlinewidth\":0,\"ticks\":\"\"},\"type\":\"choropleth\"}],\"contour\":[{\"colorbar\":{\"outlinewidth\":0,\"ticks\":\"\"},\"colorscale\":[[0.0,\"#0d0887\"],[0.1111111111111111,\"#46039f\"],[0.2222222222222222,\"#7201a8\"],[0.3333333333333333,\"#9c179e\"],[0.4444444444444444,\"#bd3786\"],[0.5555555555555556,\"#d8576b\"],[0.6666666666666666,\"#ed7953\"],[0.7777777777777778,\"#fb9f3a\"],[0.8888888888888888,\"#fdca26\"],[1.0,\"#f0f921\"]],\"type\":\"contour\"}],\"contourcarpet\":[{\"colorbar\":{\"outlinewidth\":0,\"ticks\":\"\"},\"type\":\"contourcarpet\"}],\"heatmap\":[{\"colorbar\":{\"outlinewidth\":0,\"ticks\":\"\"},\"colorscale\":[[0.0,\"#0d0887\"],[0.1111111111111111,\"#46039f\"],[0.2222222222222222,\"#7201a8\"],[0.3333333333333333,\"#9c179e\"],[0.4444444444444444,\"#bd3786\"],[0.5555555555555556,\"#d8576b\"],[0.6666666666666666,\"#ed7953\"],[0.7777777777777778,\"#fb9f3a\"],[0.8888888888888888,\"#fdca26\"],[1.0,\"#f0f921\"]],\"type\":\"heatmap\"}],\"heatmapgl\":[{\"colorbar\":{\"outlinewidth\":0,\"ticks\":\"\"},\"colorscale\":[[0.0,\"#0d0887\"],[0.1111111111111111,\"#46039f\"],[0.2222222222222222,\"#7201a8\"],[0.3333333333333333,\"#9c179e\"],[0.4444444444444444,\"#bd3786\"],[0.5555555555555556,\"#d8576b\"],[0.6666666666666666,\"#ed7953\"],[0.7777777777777778,\"#fb9f3a\"],[0.8888888888888888,\"#fdca26\"],[1.0,\"#f0f921\"]],\"type\":\"heatmapgl\"}],\"histogram\":[{\"marker\":{\"pattern\":{\"fillmode\":\"overlay\",\"size\":10,\"solidity\":0.2}},\"type\":\"histogram\"}],\"histogram2d\":[{\"colorbar\":{\"outlinewidth\":0,\"ticks\":\"\"},\"colorscale\":[[0.0,\"#0d0887\"],[0.1111111111111111,\"#46039f\"],[0.2222222222222222,\"#7201a8\"],[0.3333333333333333,\"#9c179e\"],[0.4444444444444444,\"#bd3786\"],[0.5555555555555556,\"#d8576b\"],[0.6666666666666666,\"#ed7953\"],[0.7777777777777778,\"#fb9f3a\"],[0.8888888888888888,\"#fdca26\"],[1.0,\"#f0f921\"]],\"type\":\"histogram2d\"}],\"histogram2dcontour\":[{\"colorbar\":{\"outlinewidth\":0,\"ticks\":\"\"},\"colorscale\":[[0.0,\"#0d0887\"],[0.1111111111111111,\"#46039f\"],[0.2222222222222222,\"#7201a8\"],[0.3333333333333333,\"#9c179e\"],[0.4444444444444444,\"#bd3786\"],[0.5555555555555556,\"#d8576b\"],[0.6666666666666666,\"#ed7953\"],[0.7777777777777778,\"#fb9f3a\"],[0.8888888888888888,\"#fdca26\"],[1.0,\"#f0f921\"]],\"type\":\"histogram2dcontour\"}],\"mesh3d\":[{\"colorbar\":{\"outlinewidth\":0,\"ticks\":\"\"},\"type\":\"mesh3d\"}],\"parcoords\":[{\"line\":{\"colorbar\":{\"outlinewidth\":0,\"ticks\":\"\"}},\"type\":\"parcoords\"}],\"pie\":[{\"automargin\":true,\"type\":\"pie\"}],\"scatter\":[{\"marker\":{\"colorbar\":{\"outlinewidth\":0,\"ticks\":\"\"}},\"type\":\"scatter\"}],\"scatter3d\":[{\"line\":{\"colorbar\":{\"outlinewidth\":0,\"ticks\":\"\"}},\"marker\":{\"colorbar\":{\"outlinewidth\":0,\"ticks\":\"\"}},\"type\":\"scatter3d\"}],\"scattercarpet\":[{\"marker\":{\"colorbar\":{\"outlinewidth\":0,\"ticks\":\"\"}},\"type\":\"scattercarpet\"}],\"scattergeo\":[{\"marker\":{\"colorbar\":{\"outlinewidth\":0,\"ticks\":\"\"}},\"type\":\"scattergeo\"}],\"scattergl\":[{\"marker\":{\"colorbar\":{\"outlinewidth\":0,\"ticks\":\"\"}},\"type\":\"scattergl\"}],\"scattermapbox\":[{\"marker\":{\"colorbar\":{\"outlinewidth\":0,\"ticks\":\"\"}},\"type\":\"scattermapbox\"}],\"scatterpolar\":[{\"marker\":{\"colorbar\":{\"outlinewidth\":0,\"ticks\":\"\"}},\"type\":\"scatterpolar\"}],\"scatterpolargl\":[{\"marker\":{\"colorbar\":{\"outlinewidth\":0,\"ticks\":\"\"}},\"type\":\"scatterpolargl\"}],\"scatterternary\":[{\"marker\":{\"colorbar\":{\"outlinewidth\":0,\"ticks\":\"\"}},\"type\":\"scatterternary\"}],\"surface\":[{\"colorbar\":{\"outlinewidth\":0,\"ticks\":\"\"},\"colorscale\":[[0.0,\"#0d0887\"],[0.1111111111111111,\"#46039f\"],[0.2222222222222222,\"#7201a8\"],[0.3333333333333333,\"#9c179e\"],[0.4444444444444444,\"#bd3786\"],[0.5555555555555556,\"#d8576b\"],[0.6666666666666666,\"#ed7953\"],[0.7777777777777778,\"#fb9f3a\"],[0.8888888888888888,\"#fdca26\"],[1.0,\"#f0f921\"]],\"type\":\"surface\"}],\"table\":[{\"cells\":{\"fill\":{\"color\":\"#EBF0F8\"},\"line\":{\"color\":\"white\"}},\"header\":{\"fill\":{\"color\":\"#C8D4E3\"},\"line\":{\"color\":\"white\"}},\"type\":\"table\"}]},\"layout\":{\"annotationdefaults\":{\"arrowcolor\":\"#2a3f5f\",\"arrowhead\":0,\"arrowwidth\":1},\"autotypenumbers\":\"strict\",\"coloraxis\":{\"colorbar\":{\"outlinewidth\":0,\"ticks\":\"\"}},\"colorscale\":{\"diverging\":[[0,\"#8e0152\"],[0.1,\"#c51b7d\"],[0.2,\"#de77ae\"],[0.3,\"#f1b6da\"],[0.4,\"#fde0ef\"],[0.5,\"#f7f7f7\"],[0.6,\"#e6f5d0\"],[0.7,\"#b8e186\"],[0.8,\"#7fbc41\"],[0.9,\"#4d9221\"],[1,\"#276419\"]],\"sequential\":[[0.0,\"#0d0887\"],[0.1111111111111111,\"#46039f\"],[0.2222222222222222,\"#7201a8\"],[0.3333333333333333,\"#9c179e\"],[0.4444444444444444,\"#bd3786\"],[0.5555555555555556,\"#d8576b\"],[0.6666666666666666,\"#ed7953\"],[0.7777777777777778,\"#fb9f3a\"],[0.8888888888888888,\"#fdca26\"],[1.0,\"#f0f921\"]],\"sequentialminus\":[[0.0,\"#0d0887\"],[0.1111111111111111,\"#46039f\"],[0.2222222222222222,\"#7201a8\"],[0.3333333333333333,\"#9c179e\"],[0.4444444444444444,\"#bd3786\"],[0.5555555555555556,\"#d8576b\"],[0.6666666666666666,\"#ed7953\"],[0.7777777777777778,\"#fb9f3a\"],[0.8888888888888888,\"#fdca26\"],[1.0,\"#f0f921\"]]},\"colorway\":[\"#636efa\",\"#EF553B\",\"#00cc96\",\"#ab63fa\",\"#FFA15A\",\"#19d3f3\",\"#FF6692\",\"#B6E880\",\"#FF97FF\",\"#FECB52\"],\"font\":{\"color\":\"#2a3f5f\"},\"geo\":{\"bgcolor\":\"white\",\"lakecolor\":\"white\",\"landcolor\":\"#E5ECF6\",\"showlakes\":true,\"showland\":true,\"subunitcolor\":\"white\"},\"hoverlabel\":{\"align\":\"left\"},\"hovermode\":\"closest\",\"mapbox\":{\"style\":\"light\"},\"paper_bgcolor\":\"white\",\"plot_bgcolor\":\"#E5ECF6\",\"polar\":{\"angularaxis\":{\"gridcolor\":\"white\",\"linecolor\":\"white\",\"ticks\":\"\"},\"bgcolor\":\"#E5ECF6\",\"radialaxis\":{\"gridcolor\":\"white\",\"linecolor\":\"white\",\"ticks\":\"\"}},\"scene\":{\"xaxis\":{\"backgroundcolor\":\"#E5ECF6\",\"gridcolor\":\"white\",\"gridwidth\":2,\"linecolor\":\"white\",\"showbackground\":true,\"ticks\":\"\",\"zerolinecolor\":\"white\"},\"yaxis\":{\"backgroundcolor\":\"#E5ECF6\",\"gridcolor\":\"white\",\"gridwidth\":2,\"linecolor\":\"white\",\"showbackground\":true,\"ticks\":\"\",\"zerolinecolor\":\"white\"},\"zaxis\":{\"backgroundcolor\":\"#E5ECF6\",\"gridcolor\":\"white\",\"gridwidth\":2,\"linecolor\":\"white\",\"showbackground\":true,\"ticks\":\"\",\"zerolinecolor\":\"white\"}},\"shapedefaults\":{\"line\":{\"color\":\"#2a3f5f\"}},\"ternary\":{\"aaxis\":{\"gridcolor\":\"white\",\"linecolor\":\"white\",\"ticks\":\"\"},\"baxis\":{\"gridcolor\":\"white\",\"linecolor\":\"white\",\"ticks\":\"\"},\"bgcolor\":\"#E5ECF6\",\"caxis\":{\"gridcolor\":\"white\",\"linecolor\":\"white\",\"ticks\":\"\"}},\"title\":{\"x\":0.05},\"xaxis\":{\"automargin\":true,\"gridcolor\":\"white\",\"linecolor\":\"white\",\"ticks\":\"\",\"title\":{\"standoff\":15},\"zerolinecolor\":\"white\",\"zerolinewidth\":2},\"yaxis\":{\"automargin\":true,\"gridcolor\":\"white\",\"linecolor\":\"white\",\"ticks\":\"\",\"title\":{\"standoff\":15},\"zerolinecolor\":\"white\",\"zerolinewidth\":2}}},\"xaxis\":{\"anchor\":\"y\",\"domain\":[0.0,1.0],\"title\":{\"text\":\"Reference area\"}},\"yaxis\":{\"anchor\":\"x\",\"domain\":[0.0,1.0],\"title\":{\"text\":\"Value\"}},\"coloraxis\":{\"colorbar\":{\"title\":{\"text\":\"Time\"}},\"colorscale\":[[0.0,\"#0d0887\"],[0.1111111111111111,\"#46039f\"],[0.2222222222222222,\"#7201a8\"],[0.3333333333333333,\"#9c179e\"],[0.4444444444444444,\"#bd3786\"],[0.5555555555555556,\"#d8576b\"],[0.6666666666666666,\"#ed7953\"],[0.7777777777777778,\"#fb9f3a\"],[0.8888888888888888,\"#fdca26\"],[1.0,\"#f0f921\"]]},\"legend\":{\"tracegroupgap\":0},\"margin\":{\"t\":60},\"barmode\":\"relative\"},                        {\"responsive\": true}                    ).then(function(){\n",
       "                            \n",
       "var gd = document.getElementById('b1884376-5760-4bc1-b702-35cc0ecb50a3');\n",
       "var x = new MutationObserver(function (mutations, observer) {{\n",
       "        var display = window.getComputedStyle(gd).display;\n",
       "        if (!display || display === 'none') {{\n",
       "            console.log([gd, 'removed!']);\n",
       "            Plotly.purge(gd);\n",
       "            observer.disconnect();\n",
       "        }}\n",
       "}});\n",
       "\n",
       "// Listen for the removal of the full notebook cells\n",
       "var notebookContainer = gd.closest('#notebook-container');\n",
       "if (notebookContainer) {{\n",
       "    x.observe(notebookContainer, {childList: true});\n",
       "}}\n",
       "\n",
       "// Listen for the clearing of the current output cell\n",
       "var outputEl = gd.closest('.output');\n",
       "if (outputEl) {{\n",
       "    x.observe(outputEl, {childList: true});\n",
       "}}\n",
       "\n",
       "                        })                };                });            </script>        </div>"
      ]
     },
     "metadata": {},
     "output_type": "display_data"
    }
   ],
   "source": [
    "fig=px.bar(df1,x=\"Reference area\",y=\"Value\",color=\"Time\",hover_data=[\"Time\"])\n",
    "fig.show()"
   ]
  },
  {
   "cell_type": "code",
   "execution_count": 86,
   "metadata": {
    "id": "-NgFSzgTNVF7"
   },
   "outputs": [],
   "source": [
    "df=df1"
   ]
  },
  {
   "cell_type": "code",
   "execution_count": 87,
   "metadata": {
    "colab": {
     "base_uri": "https://localhost:8080/",
     "height": 417
    },
    "id": "anMFWxKkOdOi",
    "outputId": "7b8acf8f-dc9b-4ae9-d92e-d48140dce2f2"
   },
   "outputs": [
    {
     "data": {
      "text/html": [
       "<div>\n",
       "<style scoped>\n",
       "    .dataframe tbody tr th:only-of-type {\n",
       "        vertical-align: middle;\n",
       "    }\n",
       "\n",
       "    .dataframe tbody tr th {\n",
       "        vertical-align: top;\n",
       "    }\n",
       "\n",
       "    .dataframe thead th {\n",
       "        text-align: right;\n",
       "    }\n",
       "</style>\n",
       "<table border=\"1\" class=\"dataframe\">\n",
       "  <thead>\n",
       "    <tr style=\"text-align: right;\">\n",
       "      <th></th>\n",
       "      <th>Reference area</th>\n",
       "      <th>Time</th>\n",
       "      <th>Value</th>\n",
       "    </tr>\n",
       "  </thead>\n",
       "  <tbody>\n",
       "    <tr>\n",
       "      <th>0</th>\n",
       "      <td>274</td>\n",
       "      <td>2020</td>\n",
       "      <td>8.9</td>\n",
       "    </tr>\n",
       "    <tr>\n",
       "      <th>1</th>\n",
       "      <td>274</td>\n",
       "      <td>2021</td>\n",
       "      <td>4.3</td>\n",
       "    </tr>\n",
       "    <tr>\n",
       "      <th>2</th>\n",
       "      <td>277</td>\n",
       "      <td>2020</td>\n",
       "      <td>6.7</td>\n",
       "    </tr>\n",
       "    <tr>\n",
       "      <th>3</th>\n",
       "      <td>277</td>\n",
       "      <td>2021</td>\n",
       "      <td>4.9</td>\n",
       "    </tr>\n",
       "    <tr>\n",
       "      <th>4</th>\n",
       "      <td>278</td>\n",
       "      <td>2020</td>\n",
       "      <td>11.8</td>\n",
       "    </tr>\n",
       "    <tr>\n",
       "      <th>...</th>\n",
       "      <td>...</td>\n",
       "      <td>...</td>\n",
       "      <td>...</td>\n",
       "    </tr>\n",
       "    <tr>\n",
       "      <th>561</th>\n",
       "      <td>280</td>\n",
       "      <td>2021</td>\n",
       "      <td>2.9</td>\n",
       "    </tr>\n",
       "    <tr>\n",
       "      <th>562</th>\n",
       "      <td>281</td>\n",
       "      <td>2020</td>\n",
       "      <td>3.4</td>\n",
       "    </tr>\n",
       "    <tr>\n",
       "      <th>563</th>\n",
       "      <td>281</td>\n",
       "      <td>2021</td>\n",
       "      <td>4.9</td>\n",
       "    </tr>\n",
       "    <tr>\n",
       "      <th>564</th>\n",
       "      <td>282</td>\n",
       "      <td>2020</td>\n",
       "      <td>9.2</td>\n",
       "    </tr>\n",
       "    <tr>\n",
       "      <th>565</th>\n",
       "      <td>282</td>\n",
       "      <td>2021</td>\n",
       "      <td>6.3</td>\n",
       "    </tr>\n",
       "  </tbody>\n",
       "</table>\n",
       "<p>566 rows × 3 columns</p>\n",
       "</div>"
      ],
      "text/plain": [
       "     Reference area  Time  Value\n",
       "0               274  2020    8.9\n",
       "1               274  2021    4.3\n",
       "2               277  2020    6.7\n",
       "3               277  2021    4.9\n",
       "4               278  2020   11.8\n",
       "..              ...   ...    ...\n",
       "561             280  2021    2.9\n",
       "562             281  2020    3.4\n",
       "563             281  2021    4.9\n",
       "564             282  2020    9.2\n",
       "565             282  2021    6.3\n",
       "\n",
       "[566 rows x 3 columns]"
      ]
     },
     "execution_count": 87,
     "metadata": {},
     "output_type": "execute_result"
    }
   ],
   "source": [
    "df"
   ]
  },
  {
   "cell_type": "code",
   "execution_count": 88,
   "metadata": {
    "id": "i7S4LHpVOd8L"
   },
   "outputs": [],
   "source": [
    "from sklearn.preprocessing import LabelEncoder\n",
    "scale=LabelEncoder()"
   ]
  },
  {
   "cell_type": "code",
   "execution_count": 61,
   "metadata": {
    "colab": {
     "base_uri": "https://localhost:8080/",
     "height": 555
    },
    "id": "qDOtogP1OjvU",
    "outputId": "1bec071d-01bd-4152-ea4f-640ebf5d77b6"
   },
   "outputs": [
    {
     "ename": "KeyError",
     "evalue": "'Source'",
     "output_type": "error",
     "traceback": [
      "\u001b[1;31m---------------------------------------------------------------------------\u001b[0m",
      "\u001b[1;31mKeyError\u001b[0m                                  Traceback (most recent call last)",
      "\u001b[1;32m~\\anaconda3\\lib\\site-packages\\pandas\\core\\indexes\\base.py\u001b[0m in \u001b[0;36mget_loc\u001b[1;34m(self, key, method, tolerance)\u001b[0m\n\u001b[0;32m   2894\u001b[0m             \u001b[1;32mtry\u001b[0m\u001b[1;33m:\u001b[0m\u001b[1;33m\u001b[0m\u001b[1;33m\u001b[0m\u001b[0m\n\u001b[1;32m-> 2895\u001b[1;33m                 \u001b[1;32mreturn\u001b[0m \u001b[0mself\u001b[0m\u001b[1;33m.\u001b[0m\u001b[0m_engine\u001b[0m\u001b[1;33m.\u001b[0m\u001b[0mget_loc\u001b[0m\u001b[1;33m(\u001b[0m\u001b[0mcasted_key\u001b[0m\u001b[1;33m)\u001b[0m\u001b[1;33m\u001b[0m\u001b[1;33m\u001b[0m\u001b[0m\n\u001b[0m\u001b[0;32m   2896\u001b[0m             \u001b[1;32mexcept\u001b[0m \u001b[0mKeyError\u001b[0m \u001b[1;32mas\u001b[0m \u001b[0merr\u001b[0m\u001b[1;33m:\u001b[0m\u001b[1;33m\u001b[0m\u001b[1;33m\u001b[0m\u001b[0m\n",
      "\u001b[1;32mpandas\\_libs\\index.pyx\u001b[0m in \u001b[0;36mpandas._libs.index.IndexEngine.get_loc\u001b[1;34m()\u001b[0m\n",
      "\u001b[1;32mpandas\\_libs\\index.pyx\u001b[0m in \u001b[0;36mpandas._libs.index.IndexEngine.get_loc\u001b[1;34m()\u001b[0m\n",
      "\u001b[1;32mpandas\\_libs\\hashtable_class_helper.pxi\u001b[0m in \u001b[0;36mpandas._libs.hashtable.PyObjectHashTable.get_item\u001b[1;34m()\u001b[0m\n",
      "\u001b[1;32mpandas\\_libs\\hashtable_class_helper.pxi\u001b[0m in \u001b[0;36mpandas._libs.hashtable.PyObjectHashTable.get_item\u001b[1;34m()\u001b[0m\n",
      "\u001b[1;31mKeyError\u001b[0m: 'Source'",
      "\nThe above exception was the direct cause of the following exception:\n",
      "\u001b[1;31mKeyError\u001b[0m                                  Traceback (most recent call last)",
      "\u001b[1;32m<ipython-input-61-87ad79da3e7e>\u001b[0m in \u001b[0;36m<module>\u001b[1;34m\u001b[0m\n\u001b[0;32m      1\u001b[0m \u001b[1;32mfor\u001b[0m \u001b[0mi\u001b[0m \u001b[1;32min\u001b[0m \u001b[0mcat_features\u001b[0m\u001b[1;33m:\u001b[0m\u001b[1;33m\u001b[0m\u001b[1;33m\u001b[0m\u001b[0m\n\u001b[1;32m----> 2\u001b[1;33m     \u001b[0mdf\u001b[0m\u001b[1;33m[\u001b[0m\u001b[0mi\u001b[0m\u001b[1;33m]\u001b[0m\u001b[1;33m=\u001b[0m\u001b[0mscale\u001b[0m\u001b[1;33m.\u001b[0m\u001b[0mfit_transform\u001b[0m\u001b[1;33m(\u001b[0m\u001b[0mdf\u001b[0m\u001b[1;33m[\u001b[0m\u001b[0mi\u001b[0m\u001b[1;33m]\u001b[0m\u001b[1;33m)\u001b[0m\u001b[1;33m\u001b[0m\u001b[1;33m\u001b[0m\u001b[0m\n\u001b[0m",
      "\u001b[1;32m~\\anaconda3\\lib\\site-packages\\pandas\\core\\frame.py\u001b[0m in \u001b[0;36m__getitem__\u001b[1;34m(self, key)\u001b[0m\n\u001b[0;32m   2900\u001b[0m             \u001b[1;32mif\u001b[0m \u001b[0mself\u001b[0m\u001b[1;33m.\u001b[0m\u001b[0mcolumns\u001b[0m\u001b[1;33m.\u001b[0m\u001b[0mnlevels\u001b[0m \u001b[1;33m>\u001b[0m \u001b[1;36m1\u001b[0m\u001b[1;33m:\u001b[0m\u001b[1;33m\u001b[0m\u001b[1;33m\u001b[0m\u001b[0m\n\u001b[0;32m   2901\u001b[0m                 \u001b[1;32mreturn\u001b[0m \u001b[0mself\u001b[0m\u001b[1;33m.\u001b[0m\u001b[0m_getitem_multilevel\u001b[0m\u001b[1;33m(\u001b[0m\u001b[0mkey\u001b[0m\u001b[1;33m)\u001b[0m\u001b[1;33m\u001b[0m\u001b[1;33m\u001b[0m\u001b[0m\n\u001b[1;32m-> 2902\u001b[1;33m             \u001b[0mindexer\u001b[0m \u001b[1;33m=\u001b[0m \u001b[0mself\u001b[0m\u001b[1;33m.\u001b[0m\u001b[0mcolumns\u001b[0m\u001b[1;33m.\u001b[0m\u001b[0mget_loc\u001b[0m\u001b[1;33m(\u001b[0m\u001b[0mkey\u001b[0m\u001b[1;33m)\u001b[0m\u001b[1;33m\u001b[0m\u001b[1;33m\u001b[0m\u001b[0m\n\u001b[0m\u001b[0;32m   2903\u001b[0m             \u001b[1;32mif\u001b[0m \u001b[0mis_integer\u001b[0m\u001b[1;33m(\u001b[0m\u001b[0mindexer\u001b[0m\u001b[1;33m)\u001b[0m\u001b[1;33m:\u001b[0m\u001b[1;33m\u001b[0m\u001b[1;33m\u001b[0m\u001b[0m\n\u001b[0;32m   2904\u001b[0m                 \u001b[0mindexer\u001b[0m \u001b[1;33m=\u001b[0m \u001b[1;33m[\u001b[0m\u001b[0mindexer\u001b[0m\u001b[1;33m]\u001b[0m\u001b[1;33m\u001b[0m\u001b[1;33m\u001b[0m\u001b[0m\n",
      "\u001b[1;32m~\\anaconda3\\lib\\site-packages\\pandas\\core\\indexes\\base.py\u001b[0m in \u001b[0;36mget_loc\u001b[1;34m(self, key, method, tolerance)\u001b[0m\n\u001b[0;32m   2895\u001b[0m                 \u001b[1;32mreturn\u001b[0m \u001b[0mself\u001b[0m\u001b[1;33m.\u001b[0m\u001b[0m_engine\u001b[0m\u001b[1;33m.\u001b[0m\u001b[0mget_loc\u001b[0m\u001b[1;33m(\u001b[0m\u001b[0mcasted_key\u001b[0m\u001b[1;33m)\u001b[0m\u001b[1;33m\u001b[0m\u001b[1;33m\u001b[0m\u001b[0m\n\u001b[0;32m   2896\u001b[0m             \u001b[1;32mexcept\u001b[0m \u001b[0mKeyError\u001b[0m \u001b[1;32mas\u001b[0m \u001b[0merr\u001b[0m\u001b[1;33m:\u001b[0m\u001b[1;33m\u001b[0m\u001b[1;33m\u001b[0m\u001b[0m\n\u001b[1;32m-> 2897\u001b[1;33m                 \u001b[1;32mraise\u001b[0m \u001b[0mKeyError\u001b[0m\u001b[1;33m(\u001b[0m\u001b[0mkey\u001b[0m\u001b[1;33m)\u001b[0m \u001b[1;32mfrom\u001b[0m \u001b[0merr\u001b[0m\u001b[1;33m\u001b[0m\u001b[1;33m\u001b[0m\u001b[0m\n\u001b[0m\u001b[0;32m   2898\u001b[0m \u001b[1;33m\u001b[0m\u001b[0m\n\u001b[0;32m   2899\u001b[0m         \u001b[1;32mif\u001b[0m \u001b[0mtolerance\u001b[0m \u001b[1;32mis\u001b[0m \u001b[1;32mnot\u001b[0m \u001b[1;32mNone\u001b[0m\u001b[1;33m:\u001b[0m\u001b[1;33m\u001b[0m\u001b[1;33m\u001b[0m\u001b[0m\n",
      "\u001b[1;31mKeyError\u001b[0m: 'Source'"
     ]
    }
   ],
   "source": [
    "for i in cat_features:\n",
    "    df[i]=scale.fit_transform(df[i])"
   ]
  },
  {
   "cell_type": "code",
   "execution_count": 62,
   "metadata": {
    "id": "3TbTpSL6Opip"
   },
   "outputs": [
    {
     "data": {
      "text/html": [
       "<div>\n",
       "<style scoped>\n",
       "    .dataframe tbody tr th:only-of-type {\n",
       "        vertical-align: middle;\n",
       "    }\n",
       "\n",
       "    .dataframe tbody tr th {\n",
       "        vertical-align: top;\n",
       "    }\n",
       "\n",
       "    .dataframe thead th {\n",
       "        text-align: right;\n",
       "    }\n",
       "</style>\n",
       "<table border=\"1\" class=\"dataframe\">\n",
       "  <thead>\n",
       "    <tr style=\"text-align: right;\">\n",
       "      <th></th>\n",
       "      <th>Reference area</th>\n",
       "      <th>Time</th>\n",
       "      <th>Value</th>\n",
       "    </tr>\n",
       "  </thead>\n",
       "  <tbody>\n",
       "    <tr>\n",
       "      <th>0</th>\n",
       "      <td>274</td>\n",
       "      <td>2020</td>\n",
       "      <td>8.9</td>\n",
       "    </tr>\n",
       "    <tr>\n",
       "      <th>1</th>\n",
       "      <td>274</td>\n",
       "      <td>2021</td>\n",
       "      <td>4.3</td>\n",
       "    </tr>\n",
       "    <tr>\n",
       "      <th>2</th>\n",
       "      <td>277</td>\n",
       "      <td>2020</td>\n",
       "      <td>6.7</td>\n",
       "    </tr>\n",
       "    <tr>\n",
       "      <th>3</th>\n",
       "      <td>277</td>\n",
       "      <td>2021</td>\n",
       "      <td>4.9</td>\n",
       "    </tr>\n",
       "    <tr>\n",
       "      <th>4</th>\n",
       "      <td>278</td>\n",
       "      <td>2020</td>\n",
       "      <td>11.8</td>\n",
       "    </tr>\n",
       "    <tr>\n",
       "      <th>...</th>\n",
       "      <td>...</td>\n",
       "      <td>...</td>\n",
       "      <td>...</td>\n",
       "    </tr>\n",
       "    <tr>\n",
       "      <th>561</th>\n",
       "      <td>280</td>\n",
       "      <td>2021</td>\n",
       "      <td>2.9</td>\n",
       "    </tr>\n",
       "    <tr>\n",
       "      <th>562</th>\n",
       "      <td>281</td>\n",
       "      <td>2020</td>\n",
       "      <td>3.4</td>\n",
       "    </tr>\n",
       "    <tr>\n",
       "      <th>563</th>\n",
       "      <td>281</td>\n",
       "      <td>2021</td>\n",
       "      <td>4.9</td>\n",
       "    </tr>\n",
       "    <tr>\n",
       "      <th>564</th>\n",
       "      <td>282</td>\n",
       "      <td>2020</td>\n",
       "      <td>9.2</td>\n",
       "    </tr>\n",
       "    <tr>\n",
       "      <th>565</th>\n",
       "      <td>282</td>\n",
       "      <td>2021</td>\n",
       "      <td>6.3</td>\n",
       "    </tr>\n",
       "  </tbody>\n",
       "</table>\n",
       "<p>566 rows × 3 columns</p>\n",
       "</div>"
      ],
      "text/plain": [
       "     Reference area  Time  Value\n",
       "0               274  2020    8.9\n",
       "1               274  2021    4.3\n",
       "2               277  2020    6.7\n",
       "3               277  2021    4.9\n",
       "4               278  2020   11.8\n",
       "..              ...   ...    ...\n",
       "561             280  2021    2.9\n",
       "562             281  2020    3.4\n",
       "563             281  2021    4.9\n",
       "564             282  2020    9.2\n",
       "565             282  2021    6.3\n",
       "\n",
       "[566 rows x 3 columns]"
      ]
     },
     "execution_count": 62,
     "metadata": {},
     "output_type": "execute_result"
    }
   ],
   "source": [
    "df"
   ]
  },
  {
   "cell_type": "code",
   "execution_count": 63,
   "metadata": {
    "id": "lX6cuPJEOtCY"
   },
   "outputs": [],
   "source": [
    "Value=df['Value']"
   ]
  },
  {
   "cell_type": "code",
   "execution_count": 64,
   "metadata": {
    "id": "m28b48i_PtPI"
   },
   "outputs": [
    {
     "data": {
      "text/plain": [
       "<AxesSubplot:xlabel='Value', ylabel='Density'>"
      ]
     },
     "execution_count": 64,
     "metadata": {},
     "output_type": "execute_result"
    },
    {
     "data": {
      "image/png": "[encoded data removed]",
      "text/plain": [
       "<Figure size 432x288 with 1 Axes>"
      ]
     },
     "metadata": {
      "needs_background": "light"
     },
     "output_type": "display_data"
    }
   ],
   "source": [
    "sns.distplot(df['Value']) #normalised values"
   ]
  },
  {
   "cell_type": "code",
   "execution_count": 65,
   "metadata": {},
   "outputs": [],
   "source": [
    "from sklearn.linear_model import LinearRegression\n",
    "from sklearn.svm import SVR\n",
    "from sklearn.model_selection import train_test_split"
   ]
  },
  {
   "cell_type": "code",
   "execution_count": 66,
   "metadata": {},
   "outputs": [
    {
     "data": {
      "text/html": [
       "<div>\n",
       "<style scoped>\n",
       "    .dataframe tbody tr th:only-of-type {\n",
       "        vertical-align: middle;\n",
       "    }\n",
       "\n",
       "    .dataframe tbody tr th {\n",
       "        vertical-align: top;\n",
       "    }\n",
       "\n",
       "    .dataframe thead th {\n",
       "        text-align: right;\n",
       "    }\n",
       "</style>\n",
       "<table border=\"1\" class=\"dataframe\">\n",
       "  <thead>\n",
       "    <tr style=\"text-align: right;\">\n",
       "      <th></th>\n",
       "      <th>Value</th>\n",
       "    </tr>\n",
       "  </thead>\n",
       "  <tbody>\n",
       "    <tr>\n",
       "      <th>0</th>\n",
       "      <td>8.9</td>\n",
       "    </tr>\n",
       "    <tr>\n",
       "      <th>1</th>\n",
       "      <td>4.3</td>\n",
       "    </tr>\n",
       "    <tr>\n",
       "      <th>2</th>\n",
       "      <td>6.7</td>\n",
       "    </tr>\n",
       "    <tr>\n",
       "      <th>3</th>\n",
       "      <td>4.9</td>\n",
       "    </tr>\n",
       "    <tr>\n",
       "      <th>4</th>\n",
       "      <td>11.8</td>\n",
       "    </tr>\n",
       "  </tbody>\n",
       "</table>\n",
       "</div>"
      ],
      "text/plain": [
       "   Value\n",
       "0    8.9\n",
       "1    4.3\n",
       "2    6.7\n",
       "3    4.9\n",
       "4   11.8"
      ]
     },
     "execution_count": 66,
     "metadata": {},
     "output_type": "execute_result"
    }
   ],
   "source": [
    "Value = df1[['Value']]\n",
    "Value.head()"
   ]
  },
  {
   "cell_type": "code",
   "execution_count": 67,
   "metadata": {},
   "outputs": [
    {
     "name": "stdout",
     "output_type": "stream",
     "text": [
      "     Value  Prediction\n",
      "561    2.9         NaN\n",
      "562    3.4         NaN\n",
      "563    4.9         NaN\n",
      "564    9.2         NaN\n",
      "565    6.3         NaN\n"
     ]
    }
   ],
   "source": [
    "forecast_out=30\n",
    "#Create another column (the target ) shifted 'n' units up\n",
    "Value['Prediction'] = Value[['Value']].shift(-forecast_out)\n",
    "#print the new data set\n",
    "print(Value.tail())"
   ]
  },
  {
   "cell_type": "code",
   "execution_count": 68,
   "metadata": {},
   "outputs": [
    {
     "name": "stdout",
     "output_type": "stream",
     "text": [
      "[[ 8.9]\n",
      " [ 4.3]\n",
      " [ 6.7]\n",
      " [ 4.9]\n",
      " [11.8]\n",
      " [ 6.8]\n",
      " [ 7.2]\n",
      " [ 2.2]\n",
      " [ 7.9]\n",
      " [ 3.9]\n",
      " [ 7.7]\n",
      " [ 5.2]\n",
      " [ 6.8]\n",
      " [ 5.1]\n",
      " [ 7.8]\n",
      " [ 5. ]\n",
      " [12.9]\n",
      " [ 9.3]\n",
      " [ 7.4]\n",
      " [ 7. ]\n",
      " [ 9.8]\n",
      " [ 6.2]\n",
      " [ 9.8]\n",
      " [ 6.1]\n",
      " [ 9.6]\n",
      " [ 7. ]\n",
      " [ 7.3]\n",
      " [ 5.1]\n",
      " [ 6.8]\n",
      " [ 5.1]\n",
      " [ 7.1]\n",
      " [ 4.6]\n",
      " [13.1]\n",
      " [ 9.5]\n",
      " [ 7.4]\n",
      " [ 7. ]\n",
      " [ 6.8]\n",
      " [ 4.5]\n",
      " [ 7.2]\n",
      " [ 5.1]\n",
      " [13.2]\n",
      " [ 9.6]\n",
      " [ 6.8]\n",
      " [ 4.6]\n",
      " [14.1]\n",
      " [ 5.5]\n",
      " [ 7.8]\n",
      " [ 6.3]\n",
      " [15. ]\n",
      " [ 2.9]\n",
      " [17.1]\n",
      " [ 6.3]\n",
      " [ 9.9]\n",
      " [ 4.7]\n",
      " [16.7]\n",
      " [ 6. ]\n",
      " [ 7.8]\n",
      " [ 6.3]\n",
      " [15. ]\n",
      " [ 2.9]\n",
      " [17.1]\n",
      " [ 6.3]\n",
      " [14.8]\n",
      " [ 5. ]\n",
      " [11.1]\n",
      " [ 6.4]\n",
      " [15.3]\n",
      " [ 5.2]\n",
      " [17.8]\n",
      " [ 6.3]\n",
      " [ 9.6]\n",
      " [ 4.6]\n",
      " [ 9.6]\n",
      " [ 4.6]\n",
      " [ 9. ]\n",
      " [ 6.2]\n",
      " [ 4.6]\n",
      " [ 4. ]\n",
      " [16. ]\n",
      " [11.9]\n",
      " [10.8]\n",
      " [ 7.7]\n",
      " [ 9.5]\n",
      " [ 6.1]\n",
      " [ 8.2]\n",
      " [ 4. ]\n",
      " [ 6.4]\n",
      " [ 4.8]\n",
      " [13. ]\n",
      " [ 7.4]\n",
      " [ 4.5]\n",
      " [ 1. ]\n",
      " [ 4.5]\n",
      " [ 4.1]\n",
      " [ 4.2]\n",
      " [ 0.2]\n",
      " [ 5.8]\n",
      " [ 5.4]\n",
      " [10.3]\n",
      " [15.7]\n",
      " [ 4.1]\n",
      " [-0.4]\n",
      " [ 4.6]\n",
      " [ 4.5]\n",
      " [ 7.7]\n",
      " [ 7. ]\n",
      " [ 9.7]\n",
      " [ 8.5]\n",
      " [ 6.5]\n",
      " [ 6.3]\n",
      " [ 3.8]\n",
      " [ 3.4]\n",
      " [ 7.9]\n",
      " [ 7.3]\n",
      " [ 3.6]\n",
      " [ 2.2]\n",
      " [13.3]\n",
      " [ 7.2]\n",
      " [ 7.4]\n",
      " [ 4. ]\n",
      " [13.6]\n",
      " [ 7.2]\n",
      " [ 5.3]\n",
      " [ 8.3]\n",
      " [ 8.1]\n",
      " [ 3.1]\n",
      " [ 4.3]\n",
      " [ 5.5]\n",
      " [ 8.7]\n",
      " [ 6.9]\n",
      " [ 8.6]\n",
      " [ 2.5]\n",
      " [ 7.8]\n",
      " [ 2.9]\n",
      " [ 8.4]\n",
      " [ 3.3]\n",
      " [ 6.8]\n",
      " [ 1.1]\n",
      " [ 8.5]\n",
      " [ 3.4]\n",
      " [ 8.9]\n",
      " [ 3.7]\n",
      " [11.3]\n",
      " [ 3.7]\n",
      " [ 6.1]\n",
      " [ 2.9]\n",
      " [ 5.8]\n",
      " [ 2. ]\n",
      " [ 8.5]\n",
      " [ 7.1]\n",
      " [ 5.8]\n",
      " [ 1.4]\n",
      " [ 4.5]\n",
      " [ 0.4]\n",
      " [11.6]\n",
      " [ 4.7]\n",
      " [ 4.3]\n",
      " [ 5.5]\n",
      " [ 8.9]\n",
      " [ 6.6]\n",
      " [13. ]\n",
      " [ 4.2]\n",
      " [ 8.2]\n",
      " [ 1.9]\n",
      " [ 8.7]\n",
      " [ 6. ]\n",
      " [13.5]\n",
      " [ 3.7]\n",
      " [ 7.9]\n",
      " [ 7.3]\n",
      " [ 8.6]\n",
      " [ 2.9]\n",
      " [ 7.9]\n",
      " [ 7.4]\n",
      " [ 3. ]\n",
      " [ 2.7]\n",
      " [ 8.7]\n",
      " [ 3.4]\n",
      " [ 9.1]\n",
      " [ 5.5]\n",
      " [ 8.4]\n",
      " [ 4.5]\n",
      " [ 8.6]\n",
      " [ 6.5]\n",
      " [ 9.3]\n",
      " [ 6.1]\n",
      " [11. ]\n",
      " [ 7.2]\n",
      " [ 7.4]\n",
      " [ 4. ]\n",
      " [ 9.1]\n",
      " [ 3.5]\n",
      " [ 9.7]\n",
      " [ 7.4]\n",
      " [ 8.7]\n",
      " [ 5.7]\n",
      " [21.9]\n",
      " [ 8.9]\n",
      " [14.9]\n",
      " [ 3.5]\n",
      " [ 4.6]\n",
      " [ 1.6]\n",
      " [12.3]\n",
      " [ 7.7]\n",
      " [12. ]\n",
      " [ 4.6]\n",
      " [15.6]\n",
      " [ 4.3]\n",
      " [ 8.9]\n",
      " [ 7.1]\n",
      " [11.9]\n",
      " [ 7.4]\n",
      " [10.4]\n",
      " [ 4.1]\n",
      " [ 2.5]\n",
      " [ 3.2]\n",
      " [ 7.6]\n",
      " [ 1.5]\n",
      " [10.6]\n",
      " [ 7.4]\n",
      " [ 3.9]\n",
      " [ 4.1]\n",
      " [11. ]\n",
      " [ 7.7]\n",
      " [14.2]\n",
      " [-0.9]\n",
      " [ 7.4]\n",
      " [ 3.3]\n",
      " [ 6.5]\n",
      " [ 7.3]\n",
      " [15.7]\n",
      " [ 5.6]\n",
      " [ 5. ]\n",
      " [ 3.1]\n",
      " [ 4.9]\n",
      " [ 0.2]\n",
      " [ 3.7]\n",
      " [ 1.4]\n",
      " [ 0.5]\n",
      " [ 0.8]\n",
      " [ 5.2]\n",
      " [ 8. ]\n",
      " [ 4.9]\n",
      " [ 3.3]\n",
      " [ 9.5]\n",
      " [ 1.7]\n",
      " [12.2]\n",
      " [ 7.9]\n",
      " [ 5. ]\n",
      " [ 0.8]\n",
      " [ 7.2]\n",
      " [ 2.5]\n",
      " [ 6.1]\n",
      " [ 2.8]\n",
      " [14.6]\n",
      " [ 5.2]\n",
      " [ 4.1]\n",
      " [-0.4]\n",
      " [19.2]\n",
      " [ 6. ]\n",
      " [ 7.2]\n",
      " [ 5.7]\n",
      " [ 8.9]\n",
      " [ 6.4]\n",
      " [ 6.5]\n",
      " [ 4.9]\n",
      " [18.7]\n",
      " [11.6]\n",
      " [ 6.1]\n",
      " [-0.1]\n",
      " [10.9]\n",
      " [ 5. ]\n",
      " [11.1]\n",
      " [ 1.1]\n",
      " [ 6.3]\n",
      " [ 1.7]\n",
      " [ 4.9]\n",
      " [ 1.7]\n",
      " [ 5.3]\n",
      " [ 0.5]\n",
      " [ 6.9]\n",
      " [ 6.3]\n",
      " [14.7]\n",
      " [ 7.8]\n",
      " [17.6]\n",
      " [ 4. ]\n",
      " [ 9.4]\n",
      " [ 5.9]\n",
      " [18.8]\n",
      " [ 4.1]\n",
      " [ 9. ]\n",
      " [ 4.5]\n",
      " [12.3]\n",
      " [ 8. ]\n",
      " [ 5.7]\n",
      " [ 7.1]\n",
      " [ 9.7]\n",
      " [ 7.7]\n",
      " [ 8.5]\n",
      " [ 5.6]\n",
      " [ 6.6]\n",
      " [ 7.7]\n",
      " [ 2.4]\n",
      " [ 0.7]\n",
      " [ 7.2]\n",
      " [ 0.7]\n",
      " [ 5.2]\n",
      " [ 5.2]\n",
      " [ 8.9]\n",
      " [ 7.5]\n",
      " [ 7.4]\n",
      " [ 4.1]\n",
      " [13.5]\n",
      " [ 2.5]\n",
      " [ 5.5]\n",
      " [ 4.6]\n",
      " [ 5.3]\n",
      " [ 4.7]\n",
      " [11.8]\n",
      " [ 8.2]\n",
      " [ 8.8]\n",
      " [ 3.2]\n",
      " [16. ]\n",
      " [ 6.8]\n",
      " [ 7.5]\n",
      " [ 7.4]\n",
      " [ 9. ]\n",
      " [ 4.6]\n",
      " [10.5]\n",
      " [ 7.5]\n",
      " [ 7.8]\n",
      " [ 6.3]\n",
      " [21.2]\n",
      " [ 8.1]\n",
      " [ 6.7]\n",
      " [ 8.2]\n",
      " [ 5.2]\n",
      " [ 0.8]\n",
      " [ 6.7]\n",
      " [ 9.4]\n",
      " [14.5]\n",
      " [ 7.2]\n",
      " [ 6.9]\n",
      " [ 7. ]\n",
      " [ 5.2]\n",
      " [ 8.3]\n",
      " [11.2]\n",
      " [ 7.1]\n",
      " [ 9.8]\n",
      " [ 6.7]\n",
      " [ 7.7]\n",
      " [ 2. ]\n",
      " [12.9]\n",
      " [ 4.6]\n",
      " [10.9]\n",
      " [ 8.3]\n",
      " [ 5.1]\n",
      " [ 5.3]\n",
      " [ 9.9]\n",
      " [ 6.9]\n",
      " [11.1]\n",
      " [ 4.5]\n",
      " [ 9.4]\n",
      " [ 6.3]\n",
      " [ 5.8]\n",
      " [ 5.4]\n",
      " [ 4.2]\n",
      " [ 2.4]\n",
      " [15.8]\n",
      " [ 8. ]\n",
      " [11.4]\n",
      " [ 7.6]\n",
      " [ 4.9]\n",
      " [ 6.7]\n",
      " [ 4.4]\n",
      " [ 2.1]\n",
      " [10.3]\n",
      " [10.6]\n",
      " [ 7.3]\n",
      " [ 7.1]\n",
      " [ 8.1]\n",
      " [ 5.7]\n",
      " [ 9.6]\n",
      " [ 7. ]\n",
      " [ 5.5]\n",
      " [ 0.6]\n",
      " [ 4.9]\n",
      " [ 3.4]\n",
      " [ 7.2]\n",
      " [ 2.4]\n",
      " [ 6.6]\n",
      " [ 6.7]\n",
      " [ 4.9]\n",
      " [ 5.8]\n",
      " [ 9.5]\n",
      " [ 6.3]\n",
      " [11.3]\n",
      " [ 7. ]\n",
      " [ 4.1]\n",
      " [ 3.8]\n",
      " [ 7.9]\n",
      " [ 4.4]\n",
      " [ 6. ]\n",
      " [ 5.4]\n",
      " [ 7.4]\n",
      " [ 7. ]\n",
      " [14.9]\n",
      " [ 4.7]\n",
      " [ 8.7]\n",
      " [ 6.8]\n",
      " [10.3]\n",
      " [15.7]\n",
      " [11.4]\n",
      " [ 6.1]\n",
      " [13.7]\n",
      " [ 7.5]\n",
      " [ 6. ]\n",
      " [ 6.6]\n",
      " [10.2]\n",
      " [14.5]\n",
      " [ 6.3]\n",
      " [ 6.5]\n",
      " [16.6]\n",
      " [ 7.1]\n",
      " [ 2.8]\n",
      " [ 0.7]\n",
      " [ 3.4]\n",
      " [ 2.8]\n",
      " [-1.1]\n",
      " [-1.4]\n",
      " [ 2.2]\n",
      " [ 0.8]\n",
      " [ 2.2]\n",
      " [ 2.4]\n",
      " [ 9. ]\n",
      " [ 5.5]\n",
      " [ 9.9]\n",
      " [ 1.3]\n",
      " [ 3.7]\n",
      " [-4.5]\n",
      " [16. ]\n",
      " [11.9]\n",
      " [13.1]\n",
      " [ 7.9]\n",
      " [ 9.4]\n",
      " [ 6.5]\n",
      " [21.7]\n",
      " [ 8.1]\n",
      " [ 3. ]\n",
      " [ 5.7]\n",
      " [18.3]\n",
      " [ 3.7]\n",
      " [29. ]\n",
      " [11.7]\n",
      " [15.5]\n",
      " [ 6.7]\n",
      " [ 2.1]\n",
      " [-2.4]\n",
      " [12. ]\n",
      " [ 4.4]\n",
      " [10.5]\n",
      " [ 4.9]\n",
      " [ 9.7]\n",
      " [ 7.1]\n",
      " [ 6.2]\n",
      " [ 2.7]\n",
      " [ 6. ]\n",
      " [ 1.4]\n",
      " [ 9.8]\n",
      " [ 7.1]\n",
      " [ 8.9]\n",
      " [ 6.5]\n",
      " [ 8.6]\n",
      " [ 5.1]\n",
      " [ 4.3]\n",
      " [ 4.2]\n",
      " [ 9. ]\n",
      " [ 4.9]\n",
      " [ 7.5]\n",
      " [ 4.6]\n",
      " [ 6.6]\n",
      " [ 3.5]\n",
      " [ 4.7]\n",
      " [-0.9]\n",
      " [ 4.1]\n",
      " [ 6.4]\n",
      " [ 4.8]\n",
      " [ 4.4]\n",
      " [10.9]\n",
      " [ 8.7]\n",
      " [ 6.4]\n",
      " [-0.7]\n",
      " [ 2.4]\n",
      " [ 2.3]\n",
      " [ 3.3]\n",
      " [ 2.5]\n",
      " [14.3]\n",
      " [10. ]\n",
      " [ 8.1]\n",
      " [ 4.9]\n",
      " [11.7]\n",
      " [ 3. ]\n",
      " [ 9.7]\n",
      " [ 8.8]\n",
      " [ 7.9]\n",
      " [ 3.1]\n",
      " [10.3]\n",
      " [ 8.8]\n",
      " [ 5.2]\n",
      " [ 1.6]\n",
      " [ 2.7]\n",
      " [ 1.8]\n",
      " [ 7.1]\n",
      " [ 5.3]\n",
      " [ 2.2]\n",
      " [ 3.6]\n",
      " [ 4.3]\n",
      " [ 5.5]\n",
      " [ 2.8]\n",
      " [ 0.8]\n",
      " [ 3.8]\n",
      " [ 4. ]\n",
      " [ 3.5]\n",
      " [ 7.8]\n",
      " [ 5.5]\n",
      " [ 5. ]\n",
      " [ 4.5]\n",
      " [ 6.7]\n",
      " [10.9]\n",
      " [ 5.7]\n",
      " [ 5.9]\n",
      " [ 8.2]\n",
      " [14.3]\n",
      " [ 3.9]\n",
      " [ 3.5]\n",
      " [ 7.8]]\n"
     ]
    }
   ],
   "source": [
    "### Create the independent data set (X)  #######\n",
    "# Convert the dataframe to a numpy array\n",
    "X1 = np.array(Value.drop(['Prediction'],1))\n",
    "\n",
    "#Remove the last '30' rows\n",
    "X1 = X1[:-forecast_out]\n",
    "print(X1)"
   ]
  },
  {
   "cell_type": "code",
   "execution_count": 69,
   "metadata": {},
   "outputs": [
    {
     "name": "stdout",
     "output_type": "stream",
     "text": [
      "[ 7.1  4.6 13.1  9.5  7.4  7.   6.8  4.5  7.2  5.1 13.2  9.6  6.8  4.6\n",
      " 14.1  5.5  7.8  6.3 15.   2.9 17.1  6.3  9.9  4.7 16.7  6.   7.8  6.3\n",
      " 15.   2.9 17.1  6.3 14.8  5.  11.1  6.4 15.3  5.2 17.8  6.3  9.6  4.6\n",
      "  9.6  4.6  9.   6.2  4.6  4.  16.  11.9 10.8  7.7  9.5  6.1  8.2  4.\n",
      "  6.4  4.8 13.   7.4  4.5  1.   4.5  4.1  4.2  0.2  5.8  5.4 10.3 15.7\n",
      "  4.1 -0.4  4.6  4.5  7.7  7.   9.7  8.5  6.5  6.3  3.8  3.4  7.9  7.3\n",
      "  3.6  2.2 13.3  7.2  7.4  4.  13.6  7.2  5.3  8.3  8.1  3.1  4.3  5.5\n",
      "  8.7  6.9  8.6  2.5  7.8  2.9  8.4  3.3  6.8  1.1  8.5  3.4  8.9  3.7\n",
      " 11.3  3.7  6.1  2.9  5.8  2.   8.5  7.1  5.8  1.4  4.5  0.4 11.6  4.7\n",
      "  4.3  5.5  8.9  6.6 13.   4.2  8.2  1.9  8.7  6.  13.5  3.7  7.9  7.3\n",
      "  8.6  2.9  7.9  7.4  3.   2.7  8.7  3.4  9.1  5.5  8.4  4.5  8.6  6.5\n",
      "  9.3  6.1 11.   7.2  7.4  4.   9.1  3.5  9.7  7.4  8.7  5.7 21.9  8.9\n",
      " 14.9  3.5  4.6  1.6 12.3  7.7 12.   4.6 15.6  4.3  8.9  7.1 11.9  7.4\n",
      " 10.4  4.1  2.5  3.2  7.6  1.5 10.6  7.4  3.9  4.1 11.   7.7 14.2 -0.9\n",
      "  7.4  3.3  6.5  7.3 15.7  5.6  5.   3.1  4.9  0.2  3.7  1.4  0.5  0.8\n",
      "  5.2  8.   4.9  3.3  9.5  1.7 12.2  7.9  5.   0.8  7.2  2.5  6.1  2.8\n",
      " 14.6  5.2  4.1 -0.4 19.2  6.   7.2  5.7  8.9  6.4  6.5  4.9 18.7 11.6\n",
      "  6.1 -0.1 10.9  5.  11.1  1.1  6.3  1.7  4.9  1.7  5.3  0.5  6.9  6.3\n",
      " 14.7  7.8 17.6  4.   9.4  5.9 18.8  4.1  9.   4.5 12.3  8.   5.7  7.1\n",
      "  9.7  7.7  8.5  5.6  6.6  7.7  2.4  0.7  7.2  0.7  5.2  5.2  8.9  7.5\n",
      "  7.4  4.1 13.5  2.5  5.5  4.6  5.3  4.7 11.8  8.2  8.8  3.2 16.   6.8\n",
      "  7.5  7.4  9.   4.6 10.5  7.5  7.8  6.3 21.2  8.1  6.7  8.2  5.2  0.8\n",
      "  6.7  9.4 14.5  7.2  6.9  7.   5.2  8.3 11.2  7.1  9.8  6.7  7.7  2.\n",
      " 12.9  4.6 10.9  8.3  5.1  5.3  9.9  6.9 11.1  4.5  9.4  6.3  5.8  5.4\n",
      "  4.2  2.4 15.8  8.  11.4  7.6  4.9  6.7  4.4  2.1 10.3 10.6  7.3  7.1\n",
      "  8.1  5.7  9.6  7.   5.5  0.6  4.9  3.4  7.2  2.4  6.6  6.7  4.9  5.8\n",
      "  9.5  6.3 11.3  7.   4.1  3.8  7.9  4.4  6.   5.4  7.4  7.  14.9  4.7\n",
      "  8.7  6.8 10.3 15.7 11.4  6.1 13.7  7.5  6.   6.6 10.2 14.5  6.3  6.5\n",
      " 16.6  7.1  2.8  0.7  3.4  2.8 -1.1 -1.4  2.2  0.8  2.2  2.4  9.   5.5\n",
      "  9.9  1.3  3.7 -4.5 16.  11.9 13.1  7.9  9.4  6.5 21.7  8.1  3.   5.7\n",
      " 18.3  3.7 29.  11.7 15.5  6.7  2.1 -2.4 12.   4.4 10.5  4.9  9.7  7.1\n",
      "  6.2  2.7  6.   1.4  9.8  7.1  8.9  6.5  8.6  5.1  4.3  4.2  9.   4.9\n",
      "  7.5  4.6  6.6  3.5  4.7 -0.9  4.1  6.4  4.8  4.4 10.9  8.7  6.4 -0.7\n",
      "  2.4  2.3  3.3  2.5 14.3 10.   8.1  4.9 11.7  3.   9.7  8.8  7.9  3.1\n",
      " 10.3  8.8  5.2  1.6  2.7  1.8  7.1  5.3  2.2  3.6  4.3  5.5  2.8  0.8\n",
      "  3.8  4.   3.5  7.8  5.5  5.   4.5  6.7 10.9  5.7  5.9  8.2 14.3  3.9\n",
      "  3.5  7.8 12.3  7.6  8.5  7.1  9.7  7.1 11.   5.   9.6  5.   4.6  4.1\n",
      " 11.6 -0.6  8.4  6.5  5.   1.2 12.8  8.4  6.4  7.4  8.   5.   2.5  2.9\n",
      "  3.4  4.9  9.2  6.3]\n"
     ]
    }
   ],
   "source": [
    "### Create the dependent data set (y)  #####\n",
    "# Convert the dataframe to a numpy array \n",
    "y1 = np.array(Value['Prediction'])\n",
    "# Get all of the y values except the last '30' rows\n",
    "y1 = y1[:-forecast_out]\n",
    "print(y1)"
   ]
  },
  {
   "cell_type": "code",
   "execution_count": 70,
   "metadata": {},
   "outputs": [],
   "source": [
    "# Split the data into 80% training and 20% testing\n",
    "x_train, x_test, y_train, y_test = train_test_split(X1, y1, test_size=0.2)"
   ]
  },
  {
   "cell_type": "code",
   "execution_count": 71,
   "metadata": {},
   "outputs": [
    {
     "data": {
      "text/plain": [
       "SVR(C=1000.0, gamma=0.1)"
      ]
     },
     "execution_count": 71,
     "metadata": {},
     "output_type": "execute_result"
    }
   ],
   "source": [
    "# Create and train the Support Vector Machine (Regressor) \n",
    "svr_rbf = SVR(kernel='rbf', C=1e3, gamma=0.1) \n",
    "svr_rbf.fit(x_train, y_train)"
   ]
  },
  {
   "cell_type": "code",
   "execution_count": 72,
   "metadata": {},
   "outputs": [
    {
     "name": "stdout",
     "output_type": "stream",
     "text": [
      "svm confidence:  -0.16174252557852498\n"
     ]
    }
   ],
   "source": [
    "# Testing Model: Score returns the coefficient of determination R^2 of the prediction. \n",
    "# The best possible score is 1.0\n",
    "svm_confidence = svr_rbf.score(x_test, y_test)\n",
    "print(\"svm confidence: \", svm_confidence)"
   ]
  },
  {
   "cell_type": "code",
   "execution_count": 73,
   "metadata": {
    "id": "Vs8OyjUuSEti"
   },
   "outputs": [
    {
     "data": {
      "text/plain": [
       "283"
      ]
     },
     "execution_count": 73,
     "metadata": {},
     "output_type": "execute_result"
    }
   ],
   "source": [
    "from sklearn.linear_model import LinearRegression\n",
    "y = df['Reference area'].unique()  # values converts it into a numpy array\n",
    "y=pd.DataFrame(y)\n",
    "y = y.iloc[:, 0].values.reshape(-1, 1)\n",
    "z=df.groupby('Reference area')['Value'].sum()\n",
    "z=pd.DataFrame(z)\n",
    "z\n",
    "X = z.iloc[:, 0].values.reshape(-1, 1)\n",
    "len(X)"
   ]
  },
  {
   "cell_type": "code",
   "execution_count": 74,
   "metadata": {
    "id": "g5b6m_3yTIE3"
   },
   "outputs": [],
   "source": [
    "linear_regressor = LinearRegression()  # create object for the class\n",
    "linear_regressor.fit(X, y)  # perform linear regression\n",
    "Y_pred = linear_regressor.predict(X)  # make predictions"
   ]
  },
  {
   "cell_type": "code",
   "execution_count": 75,
   "metadata": {
    "id": "TDCLalMbTeMS"
   },
   "outputs": [
    {
     "data": {
      "image/png": "[encoded data removed]",
      "text/plain": [
       "<Figure size 432x288 with 1 Axes>"
      ]
     },
     "metadata": {
      "needs_background": "light"
     },
     "output_type": "display_data"
    }
   ],
   "source": [
    "plt.scatter(X, y)\n",
    "plt.plot(X, Y_pred, color='red')\n",
    "plt.show()"
   ]
  },
  {
   "cell_type": "code",
   "execution_count": 76,
   "metadata": {
    "id": "y2eq4vSEYig-"
   },
   "outputs": [
    {
     "data": {
      "text/plain": [
       "8.881662791337952e-06"
      ]
     },
     "execution_count": 76,
     "metadata": {},
     "output_type": "execute_result"
    }
   ],
   "source": [
    "linear_regressor.score(X,y)"
   ]
  },
  {
   "cell_type": "code",
   "execution_count": 77,
   "metadata": {
    "id": "s-wLKD5uZ2kG"
   },
   "outputs": [
    {
     "data": {
      "text/plain": [
       "Pipeline(steps=[('polynomial', PolynomialFeatures()),\n",
       "                ('modal', LinearRegression())])"
      ]
     },
     "execution_count": 77,
     "metadata": {},
     "output_type": "execute_result"
    }
   ],
   "source": [
    "# importing libraries for polynomial transform\n",
    "from sklearn.preprocessing import PolynomialFeatures\n",
    "# for creating pipeline\n",
    "from sklearn.pipeline import Pipeline\n",
    "# creating pipeline and fitting it on data\n",
    "Input=[('polynomial',PolynomialFeatures(degree=2)),('modal',LinearRegression())]\n",
    "pipe=Pipeline(Input)\n",
    "pipe.fit(X.reshape(-1,1),y.reshape(-1,1))"
   ]
  },
  {
   "cell_type": "code",
   "execution_count": 78,
   "metadata": {
    "id": "TcmRHtcZcLWX"
   },
   "outputs": [
    {
     "data": {
      "image/png": "[encoded data removed]",
      "text/plain": [
       "<Figure size 720x432 with 1 Axes>"
      ]
     },
     "metadata": {
      "needs_background": "light"
     },
     "output_type": "display_data"
    }
   ],
   "source": [
    "poly_pred=pipe.predict(X.reshape(-1,1))\n",
    "#sorting predicted values with respect to predictor\n",
    "sorted_zip = sorted(zip(X,poly_pred))\n",
    "x_poly, poly_pred = zip(*sorted_zip)\n",
    "#plotting predictions\n",
    "plt.figure(figsize=(10,6))\n",
    "plt.scatter(X,y,s=15)\n",
    "plt.plot(X,Y_pred,color='r',label='Linear Regression')\n",
    "plt.plot(x_poly,poly_pred,color='g',label='Polynomial Regression')\n",
    "plt.xlabel('Predictor',fontsize=16)\n",
    "plt.ylabel('Target',fontsize=16)\n",
    "plt.legend()\n",
    "plt.show()"
   ]
  },
  {
   "cell_type": "code",
   "execution_count": null,
   "metadata": {
    "id": "vwFhGJZegZZe"
   },
   "outputs": [],
   "source": []
  },
  {
   "cell_type": "code",
   "execution_count": null,
   "metadata": {},
   "outputs": [],
   "source": []
  }
 ],
 "metadata": {
  "colab": {
   "collapsed_sections": [],
   "name": "working_hours_lost_covid.ipynb",
   "provenance": []
  },
  "kernelspec": {
   "display_name": "Python 3",
   "language": "python",
   "name": "python3"
  },
  "language_info": {
   "codemirror_mode": {
    "name": "ipython",
    "version": 3
   },
   "file_extension": ".py",
   "mimetype": "text/x-python",
   "name": "python",
   "nbconvert_exporter": "python",
   "pygments_lexer": "ipython3",
   "version": "3.8.5"
  }
 },
 "nbformat": 4,
 "nbformat_minor": 1
}
